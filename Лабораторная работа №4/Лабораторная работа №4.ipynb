{
 "cells": [
  {
   "cell_type": "markdown",
   "id": "883ff93f",
   "metadata": {},
   "source": [
    "# Лабораторная работа №4"
   ]
  },
  {
   "cell_type": "code",
   "execution_count": 9,
   "id": "87837ab7",
   "metadata": {
    "ExecuteTime": {
     "end_time": "2023-05-17T13:34:14.214154Z",
     "start_time": "2023-05-17T13:34:14.188447Z"
    }
   },
   "outputs": [],
   "source": [
    "# подключить модуль\n",
    "import math as m\n",
    "import cmath as cmath\n",
    "import matplotlib.pyplot as plt\n",
    "import numpy as np\n",
    "import sympy \n",
    "from pylab import *\n",
    "from scipy.optimize import minimize"
   ]
  },
  {
   "cell_type": "markdown",
   "id": "5610f3fe",
   "metadata": {},
   "source": [
    "## Решение задач на Python"
   ]
  },
  {
   "cell_type": "markdown",
   "id": "75ed1388",
   "metadata": {},
   "source": [
    "### Математический анализ, Производная"
   ]
  },
  {
   "cell_type": "markdown",
   "id": "35bf0934",
   "metadata": {
    "heading_collapsed": true
   },
   "source": [
    "### Пример 1:  Найти дифференциал функции $ y = \\mathrm{arctg}\\left(\\frac{1}{x}\\right)$"
   ]
  },
  {
   "cell_type": "markdown",
   "id": "0e665cfd",
   "metadata": {
    "hidden": true
   },
   "source": [
    "Решение. По определению: $ dy = y' · dx $"
   ]
  },
  {
   "cell_type": "markdown",
   "id": "d99df279",
   "metadata": {
    "ExecuteTime": {
     "end_time": "2023-05-16T22:12:40.017290Z",
     "start_time": "2023-05-16T22:12:39.982221Z"
    },
    "hidden": true
   },
   "source": [
    "Поэтому, чтобы найти дифференциал нужно найти производную и помножить на дифференциал аргумента.</br>\n",
    "\n",
    "$ d\\left( \\mathrm{arctg}\\left(\\frac{1}{x}\\right) \\right) = -\\frac{1}{x^{2}\\left(1 + \\frac{1}{x^{2}}\\right)}dx $"
   ]
  },
  {
   "cell_type": "code",
   "execution_count": 10,
   "id": "87ed4f27",
   "metadata": {
    "ExecuteTime": {
     "end_time": "2023-05-17T13:34:16.169280Z",
     "start_time": "2023-05-17T13:34:16.132235Z"
    },
    "hidden": true
   },
   "outputs": [
    {
     "name": "stdout",
     "output_type": "stream",
     "text": [
      "-dx/(х**2*(1 + х**(-2)))\n"
     ]
    }
   ],
   "source": [
    "x = sympy.Symbol('х')\n",
    "dx = sympy.Symbol('dx')\n",
    "a = sympy.diff(atan(1/x), x )\n",
    "print(dx*a)"
   ]
  },
  {
   "cell_type": "code",
   "execution_count": 17,
   "id": "ff992802",
   "metadata": {
    "ExecuteTime": {
     "end_time": "2023-05-17T13:36:18.034885Z",
     "start_time": "2023-05-17T13:36:17.995814Z"
    },
    "hidden": true
   },
   "outputs": [
    {
     "name": "stdout",
     "output_type": "stream",
     "text": [
      "dx*sin(x)*cos(x)/sqrt(sin(x)**2 + 1)\n"
     ]
    }
   ],
   "source": [
    "x = sympy.Symbol('x')\n",
    "dx = sympy.Symbol('dx')\n",
    "y = sympy.Symbol('y')\n",
    "xx = sympy.diff( sp.sqrt(1+(sp.sin(x))**2), x )\n",
    "y = print( xx*dx ) #Дифференциал y#"
   ]
  },
  {
   "cell_type": "markdown",
   "id": "a93c2e54",
   "metadata": {
    "ExecuteTime": {
     "end_time": "2023-05-16T22:18:22.373134Z",
     "start_time": "2023-05-16T22:18:22.338087Z"
    },
    "hidden": true
   },
   "source": [
    "Ответ: $ - \\frac{1}{x^{2}\\left( 1+\\frac{1}{x^{2}} \\right)} $"
   ]
  },
  {
   "cell_type": "markdown",
   "id": "d5154c40",
   "metadata": {
    "heading_collapsed": true
   },
   "source": [
    "### Пример 2: Найти неопределенный интеграл. $\\int 6x^{5}dx$"
   ]
  },
  {
   "cell_type": "code",
   "execution_count": 4,
   "id": "2ba6ae91",
   "metadata": {
    "ExecuteTime": {
     "end_time": "2023-05-16T22:22:59.234800Z",
     "start_time": "2023-05-16T22:22:58.655377Z"
    },
    "hidden": true
   },
   "outputs": [
    {
     "name": "stdout",
     "output_type": "stream",
     "text": [
      "x**6\n"
     ]
    }
   ],
   "source": [
    "x = sympy.symbols('x')\n",
    "y = sympy.integrate(6*x**5, x)\n",
    "print(y)"
   ]
  },
  {
   "cell_type": "markdown",
   "id": "a119a45a",
   "metadata": {
    "heading_collapsed": true
   },
   "source": [
    "### Пример 3: Найти неопределенный интеграл. $\\int \\frac{x}{x+2}dx$"
   ]
  },
  {
   "cell_type": "code",
   "execution_count": 6,
   "id": "67369da0",
   "metadata": {
    "ExecuteTime": {
     "end_time": "2023-05-16T22:27:33.422461Z",
     "start_time": "2023-05-16T22:27:33.158438Z"
    },
    "hidden": true
   },
   "outputs": [
    {
     "name": "stdout",
     "output_type": "stream",
     "text": [
      "x - 2*log(x + 2)\n"
     ]
    }
   ],
   "source": [
    "x = sympy.symbols('x')\n",
    "y = sympy.integrate(x/(x+2), x)\n",
    "print(y)"
   ]
  },
  {
   "cell_type": "markdown",
   "id": "8d5906bb",
   "metadata": {
    "heading_collapsed": true
   },
   "source": [
    "### Пример 4: Найти неопределенный интеграл. $\\int \\frac{1}{(x^{2}+1)^{2}}dx$"
   ]
  },
  {
   "cell_type": "code",
   "execution_count": 8,
   "id": "f400afa8",
   "metadata": {
    "ExecuteTime": {
     "end_time": "2023-05-16T22:43:57.782573Z",
     "start_time": "2023-05-16T22:43:57.265006Z"
    },
    "hidden": true
   },
   "outputs": [
    {
     "data": {
      "text/latex": [
       "$\\displaystyle \\frac{x}{2 x^{2} + 2} + \\frac{\\operatorname{atan}{\\left(x \\right)}}{2}$"
      ],
      "text/plain": [
       "x/(2*x**2 + 2) + atan(x)/2"
      ]
     },
     "execution_count": 8,
     "metadata": {},
     "output_type": "execute_result"
    }
   ],
   "source": [
    "x = sympy.symbols('x')\n",
    "sympy.integrate(1/(x**2+1)**2)"
   ]
  },
  {
   "cell_type": "markdown",
   "id": "a9702c18",
   "metadata": {
    "heading_collapsed": true
   },
   "source": [
    "### Пример 5: Найти неопределенный интеграл. $\\int xe^{2x} dx$"
   ]
  },
  {
   "cell_type": "code",
   "execution_count": 7,
   "id": "2d580c55",
   "metadata": {
    "ExecuteTime": {
     "end_time": "2023-05-16T22:43:52.905164Z",
     "start_time": "2023-05-16T22:43:52.581798Z"
    },
    "hidden": true
   },
   "outputs": [
    {
     "data": {
      "text/latex": [
       "$\\displaystyle \\frac{\\left(2 x - 1\\right) e^{2 x}}{4}$"
      ],
      "text/plain": [
       "(2*x - 1)*exp(2*x)/4"
      ]
     },
     "execution_count": 7,
     "metadata": {},
     "output_type": "execute_result"
    }
   ],
   "source": [
    "x = sympy.symbols('x')\n",
    "sympy.integrate(x*sympy.exp(2 *x),x)"
   ]
  },
  {
   "cell_type": "markdown",
   "id": "2f9d3958",
   "metadata": {
    "heading_collapsed": true
   },
   "source": [
    "### Пример 6: Найти определенный интеграл $\\int_{0}^{4}6x^{5}$"
   ]
  },
  {
   "cell_type": "code",
   "execution_count": 4,
   "id": "533c2a69",
   "metadata": {
    "ExecuteTime": {
     "end_time": "2023-05-16T22:39:53.949305Z",
     "start_time": "2023-05-16T22:39:53.300162Z"
    },
    "hidden": true
   },
   "outputs": [
    {
     "name": "stdout",
     "output_type": "stream",
     "text": [
      "4096\n"
     ]
    }
   ],
   "source": [
    "x = sympy.symbols('x')\n",
    "y = sympy.integrate(6*x**5, (x,0,4))\n",
    "print(y)"
   ]
  },
  {
   "cell_type": "markdown",
   "id": "57a4f65b",
   "metadata": {
    "heading_collapsed": true
   },
   "source": [
    "### Пример 7: Найти определенный интеграл $\\int_{1}^{3}\\frac{x}{x+2}dx$"
   ]
  },
  {
   "cell_type": "code",
   "execution_count": 6,
   "id": "833b53e5",
   "metadata": {
    "ExecuteTime": {
     "end_time": "2023-05-16T22:40:58.641039Z",
     "start_time": "2023-05-16T22:40:58.282587Z"
    },
    "hidden": true
   },
   "outputs": [
    {
     "name": "stdout",
     "output_type": "stream",
     "text": [
      "-2*log(5) + 2 + 2*log(3)\n"
     ]
    }
   ],
   "source": [
    "x = sympy.symbols('x')\n",
    "y = sympy.integrate(x/(x+2), (x,1,3))\n",
    "print(y)"
   ]
  },
  {
   "cell_type": "markdown",
   "id": "e5a7902e",
   "metadata": {
    "heading_collapsed": true
   },
   "source": [
    "### Пример 8: Найти определенный интеграл $\\int_{-1}^{1}\\frac{1}{(x^{2}+1)^{2}}dx$"
   ]
  },
  {
   "cell_type": "code",
   "execution_count": 13,
   "id": "d26a9642",
   "metadata": {
    "ExecuteTime": {
     "end_time": "2023-05-16T22:45:33.259015Z",
     "start_time": "2023-05-16T22:45:32.692320Z"
    },
    "hidden": true
   },
   "outputs": [
    {
     "data": {
      "text/latex": [
       "$\\displaystyle \\frac{1}{2} + \\frac{\\pi}{4}$"
      ],
      "text/plain": [
       "1/2 + pi/4"
      ]
     },
     "execution_count": 13,
     "metadata": {},
     "output_type": "execute_result"
    }
   ],
   "source": [
    "x = sympy.symbols('x')\n",
    "sympy.integrate(1/(x**2+1)**2, (x, -1, 1))"
   ]
  },
  {
   "cell_type": "markdown",
   "id": "23012e8c",
   "metadata": {
    "heading_collapsed": true
   },
   "source": [
    "### Пример 9: Найти определенный интеграл $\\int_{0}^{100}xe^{2x}dx$"
   ]
  },
  {
   "cell_type": "code",
   "execution_count": 12,
   "id": "521c378e",
   "metadata": {
    "ExecuteTime": {
     "end_time": "2023-05-16T22:45:28.084366Z",
     "start_time": "2023-05-16T22:45:27.735091Z"
    },
    "hidden": true
   },
   "outputs": [
    {
     "data": {
      "text/latex": [
       "$\\displaystyle \\frac{1}{4} + \\frac{199 e^{200}}{4}$"
      ],
      "text/plain": [
       "1/4 + 199*exp(200)/4"
      ]
     },
     "execution_count": 12,
     "metadata": {},
     "output_type": "execute_result"
    }
   ],
   "source": [
    "x = sympy.symbols('x')\n",
    "sympy.integrate(x*sympy.exp(2 *x), (x, 0, 100))"
   ]
  },
  {
   "cell_type": "markdown",
   "id": "71974fef",
   "metadata": {
    "heading_collapsed": true
   },
   "source": [
    "### Пример 10: Найти определенный интеграл $\\int_{-1}^{0}\\sqrt{x+4}dx$"
   ]
  },
  {
   "cell_type": "code",
   "execution_count": 18,
   "id": "06a3e7f7",
   "metadata": {
    "ExecuteTime": {
     "end_time": "2023-05-17T13:50:01.304782Z",
     "start_time": "2023-05-17T13:49:59.482580Z"
    },
    "hidden": true
   },
   "outputs": [
    {
     "data": {
      "text/latex": [
       "$\\displaystyle \\frac{16}{3} - 2 \\sqrt{3}$"
      ],
      "text/plain": [
       "16/3 - 2*sqrt(3)"
      ]
     },
     "execution_count": 18,
     "metadata": {},
     "output_type": "execute_result"
    }
   ],
   "source": [
    "x = sympy.symbols('x')\n",
    "sympy.integrate(sympy.sqrt(x+4), (x, -1, 0))"
   ]
  },
  {
   "cell_type": "markdown",
   "id": "1970aeb7",
   "metadata": {
    "heading_collapsed": true
   },
   "source": [
    "### Пример 11: Найти несобственный интеграл $\\int^{\\infty}_{1}x^{-4}dx$"
   ]
  },
  {
   "cell_type": "code",
   "execution_count": 19,
   "id": "7de4cdae",
   "metadata": {
    "ExecuteTime": {
     "end_time": "2023-05-17T13:50:02.759654Z",
     "start_time": "2023-05-17T13:50:01.325711Z"
    },
    "hidden": true
   },
   "outputs": [
    {
     "data": {
      "text/latex": [
       "$\\displaystyle \\frac{1}{3}$"
      ],
      "text/plain": [
       "1/3"
      ]
     },
     "execution_count": 19,
     "metadata": {},
     "output_type": "execute_result"
    }
   ],
   "source": [
    "x = sympy.symbols('x')\n",
    "sympy.integrate(x**(-4), (x, 1, sympy.oo))"
   ]
  },
  {
   "cell_type": "markdown",
   "id": "b5957b01",
   "metadata": {
    "heading_collapsed": true
   },
   "source": [
    "### Пример 12: Найти несобственный интеграл $\\int^{\\infty}_{-1}e^{-2x}dx$"
   ]
  },
  {
   "cell_type": "code",
   "execution_count": 20,
   "id": "d7a55cc8",
   "metadata": {
    "ExecuteTime": {
     "end_time": "2023-05-17T13:50:03.294610Z",
     "start_time": "2023-05-17T13:50:02.777518Z"
    },
    "hidden": true
   },
   "outputs": [
    {
     "data": {
      "text/latex": [
       "$\\displaystyle \\frac{e^{2}}{2}$"
      ],
      "text/plain": [
       "exp(2)/2"
      ]
     },
     "execution_count": 20,
     "metadata": {},
     "output_type": "execute_result"
    }
   ],
   "source": [
    "x = sympy.symbols('x')\n",
    "sympy.integrate(sympy.exp(-2*x), (x, -1, sympy.oo))"
   ]
  },
  {
   "cell_type": "markdown",
   "id": "bc60353a",
   "metadata": {
    "heading_collapsed": true
   },
   "source": [
    "### Пример 13: Найти несобственный интеграл $\\int^{1}_{0}\\ln xdx$"
   ]
  },
  {
   "cell_type": "code",
   "execution_count": 21,
   "id": "356c4208",
   "metadata": {
    "ExecuteTime": {
     "end_time": "2023-05-17T13:50:04.367233Z",
     "start_time": "2023-05-17T13:50:03.319011Z"
    },
    "hidden": true
   },
   "outputs": [
    {
     "data": {
      "text/latex": [
       "$\\displaystyle -1$"
      ],
      "text/plain": [
       "-1"
      ]
     },
     "execution_count": 21,
     "metadata": {},
     "output_type": "execute_result"
    }
   ],
   "source": [
    "x = sympy.symbols('x')\n",
    "sympy.integrate(sympy.log(x), (x, 0, 1))"
   ]
  },
  {
   "cell_type": "markdown",
   "id": "ef37a2b5",
   "metadata": {
    "heading_collapsed": true
   },
   "source": [
    "### Пример 14: Найти несобственный интеграл $\\int^{7}_{0}\\frac{1}{x^{\\frac{6}{7}}}dx$"
   ]
  },
  {
   "cell_type": "code",
   "execution_count": 11,
   "id": "dcbf9734",
   "metadata": {
    "ExecuteTime": {
     "end_time": "2023-05-16T22:53:42.423442Z",
     "start_time": "2023-05-16T22:53:42.303463Z"
    },
    "hidden": true
   },
   "outputs": [
    {
     "data": {
      "text/latex": [
       "$\\displaystyle 9.24328473429286$"
      ],
      "text/plain": [
       "9.24328473429286"
      ]
     },
     "execution_count": 11,
     "metadata": {},
     "output_type": "execute_result"
    }
   ],
   "source": [
    "x = sympy.symbols('x')\n",
    "sympy.integrate(1/x**(6/7), (x, 0, 7))"
   ]
  },
  {
   "cell_type": "markdown",
   "id": "511db2dd",
   "metadata": {
    "heading_collapsed": true
   },
   "source": [
    "### Пример 15: Найти $\\iint(y^{2}·x-2·x·y)dxdy$, где $x \\le y \\le 2$, $-1 \\le x \\le 2$"
   ]
  },
  {
   "cell_type": "markdown",
   "id": "651e1bb1",
   "metadata": {
    "hidden": true
   },
   "source": [
    "Решение. Сначала найдем интеграл по у от х до 2: integrate(f(x, у), (у, х, 2)), потом по $х$ от -1 до 2"
   ]
  },
  {
   "cell_type": "code",
   "execution_count": 22,
   "id": "ce5682a4",
   "metadata": {
    "ExecuteTime": {
     "end_time": "2023-05-17T13:50:07.456184Z",
     "start_time": "2023-05-17T13:50:07.304723Z"
    },
    "hidden": true
   },
   "outputs": [
    {
     "data": {
      "text/latex": [
       "$\\displaystyle - \\frac{x^{4}}{3} + x^{3} - \\frac{4 x}{3}$"
      ],
      "text/plain": [
       "-x**4/3 + x**3 - 4*x/3"
      ]
     },
     "execution_count": 22,
     "metadata": {},
     "output_type": "execute_result"
    }
   ],
   "source": [
    "x, y = sympy.symbols('x y')\n",
    "sympy.integrate(y**2*x-2*x*y,(y, x, 2))"
   ]
  },
  {
   "cell_type": "code",
   "execution_count": 23,
   "id": "d1b328e8",
   "metadata": {
    "ExecuteTime": {
     "end_time": "2023-05-17T13:50:07.647437Z",
     "start_time": "2023-05-17T13:50:07.478111Z"
    },
    "hidden": true
   },
   "outputs": [
    {
     "data": {
      "text/latex": [
       "$\\displaystyle - \\frac{9}{20}$"
      ],
      "text/plain": [
       "-9/20"
      ]
     },
     "execution_count": 23,
     "metadata": {},
     "output_type": "execute_result"
    }
   ],
   "source": [
    "x, y = sympy.symbols('x y')\n",
    "sympy.integrate(-x**4/3 + x**3 - 4*x/3,(x,-1, 2))"
   ]
  },
  {
   "cell_type": "markdown",
   "id": "bd514082",
   "metadata": {
    "heading_collapsed": true
   },
   "source": [
    "### Пример 16: Найти площадь фигуры, ограниченной линиями $y=2x$, $y=-x^{2}+7x-6$"
   ]
  },
  {
   "cell_type": "code",
   "execution_count": 24,
   "id": "9445a769",
   "metadata": {
    "ExecuteTime": {
     "end_time": "2023-05-17T13:50:07.985012Z",
     "start_time": "2023-05-17T13:50:07.660512Z"
    },
    "hidden": true
   },
   "outputs": [
    {
     "data": {
      "text/latex": [
       "$\\displaystyle \\frac{1}{6}$"
      ],
      "text/plain": [
       "1/6"
      ]
     },
     "execution_count": 24,
     "metadata": {},
     "output_type": "execute_result"
    }
   ],
   "source": [
    "x = sympy.symbols('x')\n",
    "sympy.integrate(-x**2+7*x-6-2*x, (x,2,3))"
   ]
  },
  {
   "cell_type": "markdown",
   "id": "b6de1590",
   "metadata": {
    "heading_collapsed": true
   },
   "source": [
    "### Пример 17: Найти площадь фигуры, ограниченной линиями $y=-2x$, $y=-x^{2}+5x-10$"
   ]
  },
  {
   "cell_type": "code",
   "execution_count": 25,
   "id": "e2aa94fc",
   "metadata": {
    "ExecuteTime": {
     "end_time": "2023-05-17T13:50:08.341629Z",
     "start_time": "2023-05-17T13:50:08.010118Z"
    },
    "hidden": true
   },
   "outputs": [
    {
     "data": {
      "text/latex": [
       "$\\displaystyle \\frac{9}{2}$"
      ],
      "text/plain": [
       "9/2"
      ]
     },
     "execution_count": 25,
     "metadata": {},
     "output_type": "execute_result"
    }
   ],
   "source": [
    "x = sympy.symbols('x')\n",
    "sympy.integrate(-x**2+5*x-10+2*x, (x,2,5))"
   ]
  },
  {
   "cell_type": "markdown",
   "id": "f422d036",
   "metadata": {},
   "source": [
    "### Пример 18: Найти площадь фигуры, ограниченной линиями $y=-2x$, $y=-x^{2}+3x-6$"
   ]
  },
  {
   "cell_type": "code",
   "execution_count": 41,
   "id": "2065e070",
   "metadata": {
    "ExecuteTime": {
     "end_time": "2023-05-17T14:10:10.256235Z",
     "start_time": "2023-05-17T14:10:09.948652Z"
    }
   },
   "outputs": [
    {
     "data": {
      "text/latex": [
       "$\\displaystyle \\frac{1}{6}$"
      ],
      "text/plain": [
       "1/6"
      ]
     },
     "execution_count": 41,
     "metadata": {},
     "output_type": "execute_result"
    }
   ],
   "source": [
    "x = sympy.symbols('x')\n",
    "sympy.integrate(-x**2+3*x-6+2*x, (x,2,3))"
   ]
  },
  {
   "cell_type": "code",
   "execution_count": 44,
   "id": "62e26fbe",
   "metadata": {
    "ExecuteTime": {
     "end_time": "2023-05-17T14:10:38.446663Z",
     "start_time": "2023-05-17T14:10:37.616991Z"
    }
   },
   "outputs": [
    {
     "data": {
      "text/latex": [
       "$\\displaystyle - \\frac{x^{4}}{3} + x^{3} - \\frac{4 x}{3}$"
      ],
      "text/plain": [
       "-x**4/3 + x**3 - 4*x/3"
      ]
     },
     "execution_count": 44,
     "metadata": {},
     "output_type": "execute_result"
    }
   ],
   "source": [
    "#### 1: Найти площадь фигуры, ограниченной линиями $y=2x$, $y=-x^{2}+7x-6$\n",
    "\n",
    "x = sympy.symbols('x')\n",
    "sympy.integrate(-x**2+7*x-6-2*x, (x,2,3))\n",
    "\n",
    "#### 2: Найти площадь фигуры, ограниченной линиями $y=-2x$, $y=-x^{2}+5x-10$\n",
    "\n",
    "x = sympy.symbols('x')\n",
    "sympy.integrate(-x**2+5*x-10+2*x, (x,2,5))\n",
    "\n",
    "#### 3: Найти площадь фигуры, ограниченной линиями $y=-2x$, $y=-x^{2}+3x-6$\n",
    "\n",
    "x = sympy.symbols('x')\n",
    "sympy.integrate(-x**2+3*x-6+2*x, (x,2,3))\n",
    "\n",
    "x, y = sympy.symbols('x y')\n",
    "sympy.integrate(y**2*x-2*x*y,(y, x, 2))"
   ]
  },
  {
   "cell_type": "code",
   "execution_count": 45,
   "id": "20602e7c",
   "metadata": {
    "ExecuteTime": {
     "end_time": "2023-05-17T14:10:40.881146Z",
     "start_time": "2023-05-17T14:10:40.734903Z"
    }
   },
   "outputs": [
    {
     "data": {
      "text/latex": [
       "$\\displaystyle - \\frac{9}{20}$"
      ],
      "text/plain": [
       "-9/20"
      ]
     },
     "execution_count": 45,
     "metadata": {},
     "output_type": "execute_result"
    }
   ],
   "source": [
    "x, y = sympy.symbols('x y')\n",
    "sympy.integrate(-x**4/3 + x**3 - 4*x/3,(x,-1, 2))"
   ]
  },
  {
   "cell_type": "markdown",
   "id": "5b11640e",
   "metadata": {
    "heading_collapsed": true
   },
   "source": [
    "### Пример 19: Вычислите объём тела, образованного вращением вокруг оси Ох области, ограниченной линиями: $y=x^{2}-x$ и $y=0$ при $x \\in [2,4]$."
   ]
  },
  {
   "cell_type": "code",
   "execution_count": null,
   "id": "6c75cde9",
   "metadata": {
    "ExecuteTime": {
     "end_time": "2023-05-17T13:50:08.727725Z",
     "start_time": "2023-05-17T13:50:08.727604Z"
    },
    "hidden": true
   },
   "outputs": [],
   "source": [
    "x = sympy.symbols('x')\n",
    "sympy.pi*sympy.integrate((x**2-x)**2, (x,2,4))"
   ]
  },
  {
   "cell_type": "markdown",
   "id": "ad744188",
   "metadata": {
    "heading_collapsed": true
   },
   "source": [
    "### Пример 20: Вычислите объём тела, образованного вращением вокруг оси Ох области, ограниченной линиями: $y=\\sqrt{3-x}$ и $y=-x-53$ при $x \\in [-61,-53]$."
   ]
  },
  {
   "cell_type": "code",
   "execution_count": 8,
   "id": "f4fcc9a7",
   "metadata": {
    "ExecuteTime": {
     "end_time": "2023-05-16T23:08:51.489235Z",
     "start_time": "2023-05-16T23:08:51.251078Z"
    },
    "hidden": true
   },
   "outputs": [
    {
     "data": {
      "text/latex": [
       "$\\displaystyle \\frac{928 \\pi}{3}$"
      ],
      "text/plain": [
       "928*pi/3"
      ]
     },
     "execution_count": 8,
     "metadata": {},
     "output_type": "execute_result"
    }
   ],
   "source": [
    "x = sympy.symbols('x')\n",
    "sympy.pi*sympy.integrate(((sympy.sqrt(3-x))**2-(-x-53)**2), (x,-61,-53))"
   ]
  },
  {
   "cell_type": "markdown",
   "id": "9d813d83",
   "metadata": {
    "heading_collapsed": true
   },
   "source": [
    "### Пример 21: Вычислить длину дуги параболы $у = х^{2}$ от точки $A(1, 1)$ до точки $B(2, 4)$\n"
   ]
  },
  {
   "cell_type": "markdown",
   "id": "7cdb1cee",
   "metadata": {
    "hidden": true
   },
   "source": [
    "Решение. Принимая во внимание первые, то есть «иксовые» координаты точек, определяем пределы интегрирования $a = 1$, $b = 2$ и\n",
    "используем формулу:</br>\n",
    "$L=\\int^{b}_{a}\\sqrt{1+(y')^{2}}dx$"
   ]
  },
  {
   "cell_type": "code",
   "execution_count": 28,
   "id": "2380e15c",
   "metadata": {
    "ExecuteTime": {
     "end_time": "2023-05-17T13:50:13.864667Z",
     "start_time": "2023-05-17T13:50:12.557521Z"
    },
    "hidden": true
   },
   "outputs": [
    {
     "data": {
      "text/latex": [
       "$\\displaystyle - \\frac{\\sqrt{5}}{2} - \\frac{\\operatorname{asinh}{\\left(2 \\right)}}{4} + \\frac{\\operatorname{asinh}{\\left(4 \\right)}}{4} + \\sqrt{17}$"
      ],
      "text/plain": [
       "-sqrt(5)/2 - asinh(2)/4 + asinh(4)/4 + sqrt(17)"
      ]
     },
     "execution_count": 28,
     "metadata": {},
     "output_type": "execute_result"
    }
   ],
   "source": [
    "x = sympy.symbols('x')\n",
    "sympy.integrate(sympy.sqrt(1+sympy.diff(x**2)**2), (x,1,2))"
   ]
  },
  {
   "cell_type": "markdown",
   "id": "4a483bc4",
   "metadata": {
    "heading_collapsed": true
   },
   "source": [
    "### Пример  22: Вычислить длину дуги параболы $у^{2} = х^{3}$ от точки $M(0, 0)$ до точки $N(1, 1)$"
   ]
  },
  {
   "cell_type": "markdown",
   "id": "8f3c6601",
   "metadata": {
    "hidden": true
   },
   "source": [
    "Решение. Принимая во внимание «иксовые» координаты точек, определяем пределы интегрирования $a = 0$, $b = 1$ и используем формулу:</br>\n",
    "$L=\\int^{b}_{a}\\sqrt{1+(y')^{2}}dx$"
   ]
  },
  {
   "cell_type": "code",
   "execution_count": 29,
   "id": "1b50637f",
   "metadata": {
    "ExecuteTime": {
     "end_time": "2023-05-17T13:50:14.175740Z",
     "start_time": "2023-05-17T13:50:13.883824Z"
    },
    "hidden": true
   },
   "outputs": [
    {
     "data": {
      "text/latex": [
       "$\\displaystyle 1.43970987337155$"
      ],
      "text/plain": [
       "1.43970987337155"
      ]
     },
     "execution_count": 29,
     "metadata": {},
     "output_type": "execute_result"
    }
   ],
   "source": [
    "x = sympy.symbols('x')\n",
    "sympy.integrate(sympy.sqrt(1+sympy.diff(pow(x,3/2))**2), (x,0,1))"
   ]
  },
  {
   "cell_type": "markdown",
   "id": "345d991b",
   "metadata": {
    "heading_collapsed": true
   },
   "source": [
    "### Пример 23: Найдите функцию дохода R(x), если предельный доход при реализации единиц продукции определяется по формуле $MR = 6x^{6}-230$"
   ]
  },
  {
   "cell_type": "code",
   "execution_count": 30,
   "id": "443f7536",
   "metadata": {
    "ExecuteTime": {
     "end_time": "2023-05-17T13:50:14.252253Z",
     "start_time": "2023-05-17T13:50:14.191103Z"
    },
    "hidden": true
   },
   "outputs": [
    {
     "name": "stdout",
     "output_type": "stream",
     "text": [
      "6*x**7/7 - 230*x\n"
     ]
    }
   ],
   "source": [
    "x = sympy.symbols('x')\n",
    "y = sympy.integrate(6*x**6-230,x)\n",
    "print(y)"
   ]
  },
  {
   "cell_type": "markdown",
   "id": "2dc3fc9b",
   "metadata": {
    "heading_collapsed": true
   },
   "source": [
    "### Пример 24: Найти функцию издержек $TC(q)$, если предельные издержки заданы функцией $МС=18g^{5} + 20q^{4} +16q^{3}$, а начальные фиксированные затраты равны 790."
   ]
  },
  {
   "cell_type": "code",
   "execution_count": 31,
   "id": "5091f43d",
   "metadata": {
    "ExecuteTime": {
     "end_time": "2023-05-17T13:50:14.349670Z",
     "start_time": "2023-05-17T13:50:14.278903Z"
    },
    "hidden": true
   },
   "outputs": [
    {
     "name": "stdout",
     "output_type": "stream",
     "text": [
      "3*x**6 + 4*x**5 + 17*x**4/4\n"
     ]
    }
   ],
   "source": [
    "x = sympy.symbols('x')\n",
    "y = sympy.integrate(18*x**5+20*x**4+17*x**3,x)\n",
    "print(y)"
   ]
  },
  {
   "cell_type": "markdown",
   "id": "75d9b42c",
   "metadata": {
    "heading_collapsed": true
   },
   "source": [
    "### Пример 25: Найти общую себестоимость выпуска $q$ единицпродукции  $TC(q)$, если предельная себестоимость производства $q$ единиц продукции задана функцией $ MC = e^{7,8q} $, а начальные фиксированные затраты равны 21."
   ]
  },
  {
   "cell_type": "markdown",
   "id": "66e045d7",
   "metadata": {
    "hidden": true
   },
   "source": [
    "Вычисляем:</br>\n",
    "$TC(q) = \\int MC(q) = \\int e^{7,8q}dq=\\left[d(7,8q)=7,8dq\\right]=\\frac{10}{78}\\int e^{7,8q}d(7,8q)=\\frac{5}{39}e^{7,8q}+C $"
   ]
  },
  {
   "cell_type": "code",
   "execution_count": 32,
   "id": "6a1c7aaa",
   "metadata": {
    "ExecuteTime": {
     "end_time": "2023-05-17T13:50:14.693290Z",
     "start_time": "2023-05-17T13:50:14.365818Z"
    },
    "hidden": true,
    "scrolled": true
   },
   "outputs": [
    {
     "name": "stdout",
     "output_type": "stream",
     "text": [
      "0.128205128205128*exp(7.8*x)\n"
     ]
    }
   ],
   "source": [
    "x = sympy.symbols('x')\n",
    "y = sympy.integrate(sympy.exp(7.8*x), x)\n",
    "print(y)"
   ]
  },
  {
   "cell_type": "markdown",
   "id": "3f3b04fb",
   "metadata": {
    "heading_collapsed": true
   },
   "source": [
    "### Пример 26:  Количество потребляемой предприятием электроэнергии меняется в течение суток в зависимости от времени $t$ со скоростью $v(t)=8+4\\sin\\left( \\frac{\\pi}{4} (t+7) \\right)$, где время $t$ измеряется в часах. Найти суммарный расход электроэнергии за сутки."
   ]
  },
  {
   "cell_type": "markdown",
   "id": "216123a5",
   "metadata": {
    "hidden": true
   },
   "source": [
    "Решение. Обозначим суммарный расход электроэнергии за сутки $V$. Тогда вычисляем:"
   ]
  },
  {
   "cell_type": "code",
   "execution_count": 33,
   "id": "3796fabd",
   "metadata": {
    "ExecuteTime": {
     "end_time": "2023-05-17T13:50:20.721097Z",
     "start_time": "2023-05-17T13:50:14.709295Z"
    },
    "hidden": true
   },
   "outputs": [
    {
     "name": "stdout",
     "output_type": "stream",
     "text": [
      "192\n"
     ]
    }
   ],
   "source": [
    "x = sympy.symbols('x')\n",
    "y = sympy.integrate(8+4*sympy.sin(sympy.pi/4*(x+7)), (x, 0, 24))\n",
    "print(y)"
   ]
  },
  {
   "cell_type": "markdown",
   "id": "36979aba",
   "metadata": {
    "heading_collapsed": true
   },
   "source": [
    "### Пример 27: Найти объем продукции, произведений за 6 лет, если функция Кобба-Дугласа имеет вид: $F(t) = (1+t)e^{2t}$"
   ]
  },
  {
   "cell_type": "markdown",
   "id": "bb0d56f6",
   "metadata": {
    "ExecuteTime": {
     "end_time": "2023-05-16T23:27:55.297417Z",
     "start_time": "2023-05-16T23:27:55.267370Z"
    },
    "hidden": true
   },
   "source": [
    "Решение. Объем K(t) произведенной продукции вычисляется по формуле:</br>\n",
    "$ V(t) = \\int^{6}_{0}(1+t)e^{2t}dt $"
   ]
  },
  {
   "cell_type": "code",
   "execution_count": 13,
   "id": "cb7ea1a7",
   "metadata": {
    "ExecuteTime": {
     "end_time": "2023-05-16T23:29:20.286114Z",
     "start_time": "2023-05-16T23:29:19.908689Z"
    },
    "hidden": true
   },
   "outputs": [
    {
     "name": "stdout",
     "output_type": "stream",
     "text": [
      "-1/4 + 13*exp(12)/4\n"
     ]
    }
   ],
   "source": [
    "x = sympy.symbols('x')\n",
    "y = sympy.integrate((1+x)*sympy.exp(2*x) , (x, 0, 6))\n",
    "print(y)"
   ]
  },
  {
   "cell_type": "markdown",
   "id": "81b4ac60",
   "metadata": {},
   "source": [
    "## Примеры решения задач"
   ]
  },
  {
   "cell_type": "markdown",
   "id": "9653db11",
   "metadata": {
    "heading_collapsed": true
   },
   "source": [
    "### 1: Найдите неопределенный интеграл: $ \\int\\frac{(x-4)^{2}}{x}dx $"
   ]
  },
  {
   "cell_type": "code",
   "execution_count": 7,
   "id": "3b9b9911",
   "metadata": {
    "ExecuteTime": {
     "end_time": "2023-05-16T23:37:37.319254Z",
     "start_time": "2023-05-16T23:37:36.714567Z"
    },
    "hidden": true
   },
   "outputs": [
    {
     "name": "stdout",
     "output_type": "stream",
     "text": [
      "x**2/2 - 8*x + 16*log(x)\n"
     ]
    }
   ],
   "source": [
    "x = sp.symbols('x')\n",
    "y = sp.integrate(((x-4)**2)/x, x)\n",
    "print(y)"
   ]
  },
  {
   "cell_type": "markdown",
   "id": "b5f2f084",
   "metadata": {
    "heading_collapsed": true
   },
   "source": [
    "### 6: Вычислите интеграл: $ \\int(4x+3)^{2}dx $"
   ]
  },
  {
   "cell_type": "code",
   "execution_count": 8,
   "id": "2a83fdb2",
   "metadata": {
    "ExecuteTime": {
     "end_time": "2023-05-16T23:38:42.169667Z",
     "start_time": "2023-05-16T23:38:42.093952Z"
    },
    "hidden": true
   },
   "outputs": [
    {
     "name": "stdout",
     "output_type": "stream",
     "text": [
      "16*x**3/3 + 12*x**2 + 9*x\n"
     ]
    }
   ],
   "source": [
    "x = sp.symbols('x')\n",
    "y = sp.integrate((4*x+3)**2, x)\n",
    "print(y)"
   ]
  },
  {
   "cell_type": "markdown",
   "id": "bce23d0e",
   "metadata": {
    "heading_collapsed": true
   },
   "source": [
    "### 8: Найдите неопределенный интеграл: $ \\int \\frac{dx}{7x-2} $"
   ]
  },
  {
   "cell_type": "code",
   "execution_count": 9,
   "id": "3a244eb8",
   "metadata": {
    "ExecuteTime": {
     "end_time": "2023-05-16T23:39:58.562192Z",
     "start_time": "2023-05-16T23:39:58.472574Z"
    },
    "hidden": true
   },
   "outputs": [
    {
     "name": "stdout",
     "output_type": "stream",
     "text": [
      "log(7*x - 2)/7\n"
     ]
    }
   ],
   "source": [
    "x = sp.symbols('x')\n",
    "y = sp.integrate(1/(7*x-2), x)\n",
    "print(y)"
   ]
  },
  {
   "cell_type": "markdown",
   "id": "6dab77cf",
   "metadata": {
    "heading_collapsed": true
   },
   "source": [
    "### 12: Найдите неопределенный интеграл: $ \\int \\frac{dx}{-x^{2}-8x-12} $"
   ]
  },
  {
   "cell_type": "code",
   "execution_count": 10,
   "id": "9bbb33f3",
   "metadata": {
    "ExecuteTime": {
     "end_time": "2023-05-16T23:41:04.216977Z",
     "start_time": "2023-05-16T23:41:03.731035Z"
    },
    "hidden": true
   },
   "outputs": [
    {
     "name": "stdout",
     "output_type": "stream",
     "text": [
      "-log(x + 2)/4 + log(x + 6)/4\n"
     ]
    }
   ],
   "source": [
    "x = sp.symbols('x')\n",
    "y = sp.integrate(1/(-x**2-8*x-12) , x)\n",
    "print(y)"
   ]
  },
  {
   "cell_type": "markdown",
   "id": "7991b6fd",
   "metadata": {
    "heading_collapsed": true
   },
   "source": [
    "### 14: Найдите неопределенный интеграл: $ \\int (6x-4)(3x^{2}-4x+2)^{4}dx $"
   ]
  },
  {
   "cell_type": "code",
   "execution_count": 11,
   "id": "23f48b5d",
   "metadata": {
    "ExecuteTime": {
     "end_time": "2023-05-16T23:42:22.345051Z",
     "start_time": "2023-05-16T23:42:22.036966Z"
    },
    "hidden": true
   },
   "outputs": [
    {
     "name": "stdout",
     "output_type": "stream",
     "text": [
      "243*x**10/5 - 324*x**9 + 1026*x**8 - 2016*x**7 + 2712*x**6 - 13024*x**5/5 + 1808*x**4 - 896*x**3 + 304*x**2 - 64*x\n"
     ]
    }
   ],
   "source": [
    "x = sp.symbols('x')\n",
    "y = sp.integrate((3*x**2-4*x+2)**4*(6*x-4) , x)\n",
    "print(y)"
   ]
  },
  {
   "cell_type": "markdown",
   "id": "b0fb60e4",
   "metadata": {
    "heading_collapsed": true
   },
   "source": [
    "### 20: Найдите определенный интеграл: $ \\int^{3}_{2} x(28-3x^{2})^{\\frac{1}{5}} dx $"
   ]
  },
  {
   "cell_type": "code",
   "execution_count": 13,
   "id": "585a10c3",
   "metadata": {
    "ExecuteTime": {
     "end_time": "2023-05-16T23:44:43.302407Z",
     "start_time": "2023-05-16T23:44:40.751223Z"
    },
    "hidden": true
   },
   "outputs": [
    {
     "name": "stdout",
     "output_type": "stream",
     "text": [
      "Integral(Piecewise((-0.999999999999999*x*(3*x**2 - 28)**0.2*exp(1.2*I*pi), 3*x**2/28 > 1), (0.999999999999999*x*(28 - 3*x**2)**0.2, True)), (x, 2, 3))\n"
     ]
    }
   ],
   "source": [
    "x = sp.symbols('x')\n",
    "y = sp.integrate(x*(28-3*x**2)**(1/5), (x, 2, 3))\n",
    "print(y)"
   ]
  },
  {
   "cell_type": "markdown",
   "id": "5df3f8f0",
   "metadata": {
    "heading_collapsed": true
   },
   "source": [
    "### 26: Найдите определенный интеграл: $ \\int^{4}_{2} \\frac{2^{2x}}{(2^{2x}+2)^{\\frac{1}{4}}} dx $"
   ]
  },
  {
   "cell_type": "code",
   "execution_count": 15,
   "id": "df673cc1",
   "metadata": {
    "ExecuteTime": {
     "end_time": "2023-05-16T23:47:29.767104Z",
     "start_time": "2023-05-16T23:47:20.158605Z"
    },
    "hidden": true
   },
   "outputs": [
    {
     "name": "stdout",
     "output_type": "stream",
     "text": [
      "37.0905220568076/log(2)\n"
     ]
    }
   ],
   "source": [
    "x = sp.symbols('x')\n",
    "y = sp.integrate(2**(2*x)/(2**(2*x)+2)**(1/4), (x, 2, 4))\n",
    "print(y)"
   ]
  },
  {
   "cell_type": "markdown",
   "id": "1a332743",
   "metadata": {
    "heading_collapsed": true
   },
   "source": [
    "### 34: Найдите определенный интеграл: $ \\int^{e^{5}}_{e^{2}} (2x^{2}+3)\\ln x dx $"
   ]
  },
  {
   "cell_type": "code",
   "execution_count": 17,
   "id": "3a7c1c0c",
   "metadata": {
    "ExecuteTime": {
     "end_time": "2023-05-16T23:49:25.123516Z",
     "start_time": "2023-05-16T23:49:24.314608Z"
    },
    "hidden": true
   },
   "outputs": [
    {
     "name": "stdout",
     "output_type": "stream",
     "text": [
      "-10*exp(6)/9 - 3*exp(2) + 12*exp(5) + 28*exp(15)/9\n"
     ]
    }
   ],
   "source": [
    "x = sp.symbols('x')\n",
    "y = sp.integrate((2*x**2+3)*sp.log(x) , (x, sp.exp(2), sp.exp(5)))\n",
    "print(y)"
   ]
  },
  {
   "cell_type": "markdown",
   "id": "f991007d",
   "metadata": {
    "heading_collapsed": true
   },
   "source": [
    "### 40: Найдите несобственный интеграл или установите его расходимость $\\int^{4}_{0}\\frac{dx}{x^{4}}$"
   ]
  },
  {
   "cell_type": "code",
   "execution_count": 19,
   "id": "d0546584",
   "metadata": {
    "ExecuteTime": {
     "end_time": "2023-05-16T23:51:09.261643Z",
     "start_time": "2023-05-16T23:51:09.101090Z"
    },
    "hidden": true
   },
   "outputs": [
    {
     "name": "stdout",
     "output_type": "stream",
     "text": [
      "oo\n"
     ]
    }
   ],
   "source": [
    "x = sp.symbols('x')\n",
    "y = sp.integrate(1/x**4, (x,0,4))\n",
    "print(y)"
   ]
  },
  {
   "cell_type": "markdown",
   "id": "e8c64bb1",
   "metadata": {
    "heading_collapsed": true
   },
   "source": [
    "### 46: Найдите несобственный интеграл или установите его расходимость $\\int^{\\sqrt{3}}_{-\\infty}\\frac{dx}{1+x^{2}}$"
   ]
  },
  {
   "cell_type": "code",
   "execution_count": 23,
   "id": "3545ef00",
   "metadata": {
    "ExecuteTime": {
     "end_time": "2023-05-16T23:54:06.135551Z",
     "start_time": "2023-05-16T23:54:02.876291Z"
    },
    "hidden": true
   },
   "outputs": [
    {
     "name": "stdout",
     "output_type": "stream",
     "text": [
      "5*pi/6\n"
     ]
    }
   ],
   "source": [
    "x = sp.symbols('x')\n",
    "y = sp.integrate(1/(1+x**2),(x,-sp.oo, sp.sqrt(3)) )\n",
    "print(y)"
   ]
  },
  {
   "cell_type": "markdown",
   "id": "32d50083",
   "metadata": {
    "heading_collapsed": true
   },
   "source": [
    "### 47: Найти площадь фигуры, ограниченной линиями: $y=5x$, $y=3x^{2}-9x+15$"
   ]
  },
  {
   "cell_type": "code",
   "execution_count": 25,
   "id": "e09db84d",
   "metadata": {
    "ExecuteTime": {
     "end_time": "2023-05-16T23:54:58.047233Z",
     "start_time": "2023-05-16T23:54:57.980582Z"
    },
    "hidden": true
   },
   "outputs": [
    {
     "data": {
      "text/plain": [
       "[5/3, 3]"
      ]
     },
     "execution_count": 25,
     "metadata": {},
     "output_type": "execute_result"
    }
   ],
   "source": [
    "sp.solve(5*x-(3*x**2-9*x+15),x)"
   ]
  },
  {
   "cell_type": "code",
   "execution_count": 26,
   "id": "17f1dc9c",
   "metadata": {
    "ExecuteTime": {
     "end_time": "2023-05-16T23:55:35.489836Z",
     "start_time": "2023-05-16T23:55:35.146514Z"
    },
    "hidden": true
   },
   "outputs": [
    {
     "data": {
      "text/latex": [
       "$\\displaystyle 1.18518518518518$"
      ],
      "text/plain": [
       "1.18518518518518"
      ]
     },
     "execution_count": 26,
     "metadata": {},
     "output_type": "execute_result"
    }
   ],
   "source": [
    "abs(sp.integrate(5*x-(3*x**2-9*x+15), (x, 5/3,3)))"
   ]
  },
  {
   "cell_type": "markdown",
   "id": "5fa41e36",
   "metadata": {
    "heading_collapsed": true
   },
   "source": [
    "### 50: Вычислить кратный интеграл  $\\iint(5x^{2}-xy+5y+5)dxdy$ по области $D = {(x, y)\\in\\mathbb{R} | -4 \\le y \\le 2}$"
   ]
  },
  {
   "cell_type": "code",
   "execution_count": 27,
   "id": "84b8fe35",
   "metadata": {
    "ExecuteTime": {
     "end_time": "2023-05-16T23:58:26.376291Z",
     "start_time": "2023-05-16T23:58:26.076473Z"
    },
    "hidden": true
   },
   "outputs": [
    {
     "name": "stdout",
     "output_type": "stream",
     "text": [
      "605\n"
     ]
    }
   ],
   "source": [
    "x, y = sp.symbols('x y')\n",
    "z = sp.integrate( (5*x ** 2-x*y+5*y+5), (y, -4, 2), (x, -4, 1) )\n",
    "print(z)"
   ]
  },
  {
   "cell_type": "markdown",
   "id": "c2a4ad1b",
   "metadata": {
    "heading_collapsed": true
   },
   "source": [
    "## Задачи для самостоятельного решения"
   ]
  },
  {
   "cell_type": "markdown",
   "id": "39439bd6",
   "metadata": {
    "heading_collapsed": true,
    "hidden": true
   },
   "source": [
    "### 1:  Вычислить интеграл $ \\int \\frac{6^{3}\\sqrt{x}-x^{2}\\sin x + 3x}{x^{2}}dx$"
   ]
  },
  {
   "cell_type": "code",
   "execution_count": 35,
   "id": "1418f283",
   "metadata": {
    "ExecuteTime": {
     "end_time": "2023-05-17T14:02:01.256704Z",
     "start_time": "2023-05-17T14:01:51.795846Z"
    },
    "hidden": true
   },
   "outputs": [
    {
     "name": "stdout",
     "output_type": "stream",
     "text": [
      "3*log(x) + cos(x) - 432/sqrt(x)\n"
     ]
    }
   ],
   "source": [
    "x = sp.symbols('x')\n",
    "y = sp.integrate( (6**3*sp.sqrt(x)-x**2*sp.sin(x)+3*x)/(x**2) , x)\n",
    "print(y)"
   ]
  },
  {
   "cell_type": "markdown",
   "id": "aaefa366",
   "metadata": {
    "hidden": true
   },
   "source": [
    "#### Ответ: "
   ]
  },
  {
   "cell_type": "markdown",
   "id": "bab45029",
   "metadata": {
    "hidden": true
   },
   "source": [
    "$ \\frac{-9}{^{3}\\sqrt{x^{2}}}+\\cos x + 3\\ln|x|+C $"
   ]
  },
  {
   "cell_type": "markdown",
   "id": "0b128627",
   "metadata": {
    "ExecuteTime": {
     "end_time": "2023-05-14T15:24:16.343544Z",
     "start_time": "2023-05-14T15:24:16.328049Z"
    },
    "heading_collapsed": true
   },
   "source": [
    "## Индивидуальное задание"
   ]
  },
  {
   "cell_type": "code",
   "execution_count": 39,
   "id": "6b1f87a1",
   "metadata": {
    "ExecuteTime": {
     "end_time": "2023-05-17T14:07:27.405919Z",
     "start_time": "2023-05-17T14:07:23.981647Z"
    },
    "hidden": true
   },
   "outputs": [
    {
     "name": "stdout",
     "output_type": "stream",
     "text": [
      "4.40000000000000\n",
      "[4.3999999999999995, 0.2666666666666666, 0.016666666666666607, 0.0010416666666666075, 6.510416666660745e-05, 4.069010416607455e-06, 2.5431315098245477e-07, 1.5894571880892272e-08, 9.934106870446158e-10, 6.208811242913725e-11]\n"
     ]
    },
    {
     "data": {
      "image/png": "[encoded data removed]",
      "text/plain": [
       "<Figure size 640x480 with 1 Axes>"
      ]
     },
     "metadata": {},
     "output_type": "display_data"
    }
   ],
   "source": [
    "# Методы интеграции\n",
    "from scipy.integrate import quad\n",
    "from pylab import loglog, show, xlabel, ylabel, legend\n",
    "from sympy import integrate, symbols\n",
    "from math import sin, cos\n",
    "from numpy import sum, linspace\n",
    "\n",
    "\n",
    "def trapezoid(a, b, N):\n",
    "    h = (b-a)/N\n",
    "    sum = 0.5*(f(a)+f(b))\n",
    "    x = a\n",
    "    for i in range(1, N):\n",
    "        x += h\n",
    "        sum += f(x)\n",
    "    return sum*h\n",
    "\n",
    "\n",
    "def simpson(a, b, f, N):\n",
    "    h = (b-a)/N\n",
    "    x = linspace(a, b, N+1)\n",
    "    y = f(x)\n",
    "    return h/3.*sum(y[0:-1:2] + 4*y[1::2] + y[2::2])\n",
    "\n",
    "\n",
    "def f(x):\n",
    "    return x**4 - 2*x + 1\n",
    "\n",
    "\n",
    "a = 0.\n",
    "b = 2.\n",
    "x = symbols('x')\n",
    "\n",
    "TrapezoidResiduals = []\n",
    "SimpsonResiduals = []\n",
    "Nsteps = []\n",
    "\n",
    "IntAnalytic = integrate(x**4 - 2*x + 1, (x, a, b))\n",
    "integr = integrate(x**4 - 2*x + 1)\n",
    "print(integr.subs(x, b))\n",
    "\n",
    "IntScipy = quad(f, a, b)[0]\n",
    "for i in range(10):\n",
    "    N = 2**i\n",
    "    Nsteps.append(N)\n",
    "    TrapezoidResiduals.append(abs(trapezoid(a, b, N)-IntScipy))\n",
    "    SimpsonResiduals.append(abs(simpson(a, b, f, N)-IntScipy))\n",
    "\n",
    "print(SimpsonResiduals)\n",
    "\n",
    "loglog(Nsteps, TrapezoidResiduals, '-r', label='трапециевидный')\n",
    "loglog(Nsteps, SimpsonResiduals, '-b', label='симпсон')\n",
    "xlabel('N')\n",
    "ylabel('ошибка')\n",
    "legend()\n",
    "show()"
   ]
  }
 ],
 "metadata": {
  "hide_input": false,
  "kernelspec": {
   "display_name": "Python 3 (ipykernel)",
   "language": "python",
   "name": "python3"
  },
  "language_info": {
   "codemirror_mode": {
    "name": "ipython",
    "version": 3
   },
   "file_extension": ".py",
   "mimetype": "text/x-python",
   "name": "python",
   "nbconvert_exporter": "python",
   "pygments_lexer": "ipython3",
   "version": "3.10.6"
  },
  "nbTranslate": {
   "displayLangs": [
    "*"
   ],
   "hotkey": "alt-t",
   "langInMainMenu": true,
   "sourceLang": "en",
   "targetLang": "fr",
   "useGoogleTranslate": true
  },
  "toc": {
   "base_numbering": 1,
   "nav_menu": {},
   "number_sections": true,
   "sideBar": true,
   "skip_h1_title": false,
   "title_cell": "Table of Contents",
   "title_sidebar": "Contents",
   "toc_cell": false,
   "toc_position": {},
   "toc_section_display": true,
   "toc_window_display": false
  },
  "varInspector": {
   "cols": {
    "lenName": 16,
    "lenType": 16,
    "lenVar": 40
   },
   "kernels_config": {
    "python": {
     "delete_cmd_postfix": "",
     "delete_cmd_prefix": "del ",
     "library": "var_list.py",
     "varRefreshCmd": "print(var_dic_list())"
    },
    "r": {
     "delete_cmd_postfix": ") ",
     "delete_cmd_prefix": "rm(",
     "library": "var_list.r",
     "varRefreshCmd": "cat(var_dic_list()) "
    }
   },
   "types_to_exclude": [
    "module",
    "function",
    "builtin_function_or_method",
    "instance",
    "_Feature"
   ],
   "window_display": false
  }
 },
 "nbformat": 4,
 "nbformat_minor": 5
}
