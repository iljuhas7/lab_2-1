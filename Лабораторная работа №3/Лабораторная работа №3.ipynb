{
 "cells": [
  {
   "cell_type": "markdown",
   "id": "883ff93f",
   "metadata": {},
   "source": [
    "# Лабораторная работа №3"
   ]
  },
  {
   "cell_type": "code",
   "execution_count": 14,
   "id": "87837ab7",
   "metadata": {
    "ExecuteTime": {
     "end_time": "2023-05-17T09:05:19.340670Z",
     "start_time": "2023-05-17T09:05:19.317523Z"
    }
   },
   "outputs": [],
   "source": [
    "# подключить модуль\n",
    "import math as m\n",
    "import cmath as cmath\n",
    "import matplotlib.pyplot as plt\n",
    "import sympy as sp\n",
    "import numpy as np\n",
    "from pylab import *"
   ]
  },
  {
   "cell_type": "markdown",
   "id": "688dd952",
   "metadata": {},
   "source": [
    "### Функции для раздела «Производная»"
   ]
  },
  {
   "cell_type": "markdown",
   "id": "d5bb4268",
   "metadata": {
    "heading_collapsed": true
   },
   "source": [
    "#### Функция tangent()"
   ]
  },
  {
   "cell_type": "code",
   "execution_count": 3,
   "id": "170dc9b7",
   "metadata": {
    "ExecuteTime": {
     "end_time": "2023-05-17T08:36:21.387653Z",
     "start_time": "2023-05-17T08:36:21.357788Z"
    },
    "hidden": true
   },
   "outputs": [],
   "source": [
    "def tangent(y, x0):\n",
    "    '''' Строит уравнение касательной\n",
    "        к графику функции у(х) в точке\n",
    "        с абсциссой х0 '''\n",
    "    ''' (х0;у0) - точка касания '''\n",
    "    y0 = y.subs(x, x0)\n",
    "\n",
    "    ''' Касательная с уравнением у = kx+b\n",
    "        проходит через точку М(х0;у0), а также\n",
    "        через точку N(x0+l;y0+k) (к -\n",
    "        угловой коэффициент)'''\n",
    "    x1 = x0 + 1\n",
    "    \n",
    "    ''' Производная функции у при х=х0 '''\n",
    "    k = diff(y,x).subs(x,x0)\n",
    "    y1 = y0 + k\n",
    "\n",
    "    ''' Касательная - это прямая, проходящая\n",
    "    через точки М и N'''\n",
    "    return Line((x0,y0), (x1,y1))"
   ]
  },
  {
   "cell_type": "markdown",
   "id": "34037305",
   "metadata": {},
   "source": [
    "#### Функция critical_points_conditional()"
   ]
  },
  {
   "cell_type": "code",
   "execution_count": 43,
   "id": "fe86e00f",
   "metadata": {
    "ExecuteTime": {
     "end_time": "2023-05-17T09:33:26.167221Z",
     "start_time": "2023-05-17T09:33:26.128369Z"
    }
   },
   "outputs": [],
   "source": [
    "def critical_points_conditional(f, g):\n",
    "    ''' Нахождение критических точек\n",
    "    функции Лагранжа L\n",
    "    и определителя Delta\n",
    "    f - целевая функция, g - условие '''\n",
    "    \n",
    "    ''' Функция Лагранжа '''\n",
    "    lam = symbols('lam')\n",
    "    L = f + lam*g\n",
    "    \n",
    "    ''' Производные 1-го порядка '''\n",
    "    gradL = [diff(L,c) for c in [x,y]]\n",
    "    \n",
    "    ''' Производная no lam совпадает eg '''\n",
    "    ''' Набор производных '''\n",
    "    eqs = gradL + [g]\n",
    "    \n",
    "    ''' Ищем критические точки, приравнивая производные к нулю '''\n",
    "    cr_point = solve(eqs, [x, y, lam], dict=True)\n",
    "    \n",
    "    ''' Производные функции g '''\n",
    "    g_x = diff(g,x)\n",
    "    g_y = diff(g,y)\n",
    "    \n",
    "    ''' Производные 2-го порядка '''\n",
    "    L_xx = diff(L,x,2)\n",
    "    L_xy = diff(L,x,y)\n",
    "    L_yy = diff(L,y,2)\n",
    "    \n",
    "    ''' Определитель D '''\n",
    "    M = Matrix([[0,g_x,g_y], [g_x,L_xx, L_xy], [g_y,L_xy,L_yy]])\n",
    "    D = -det(M)\n",
    "    \n",
    "    return cr_point, D"
   ]
  },
  {
   "cell_type": "markdown",
   "id": "48001001",
   "metadata": {},
   "source": [
    "#### Функция critical_points()"
   ]
  },
  {
   "cell_type": "code",
   "execution_count": 34,
   "id": "e66e32ce",
   "metadata": {
    "ExecuteTime": {
     "end_time": "2023-05-17T09:27:02.455106Z",
     "start_time": "2023-05-17T09:27:02.425118Z"
    }
   },
   "outputs": [],
   "source": [
    "def critical_points(z):\n",
    "    ''' Нахождение критических точек\n",
    "    функции двух переменных z\n",
    "    и величин А и Delta '''\n",
    "    ''' Производные 1-го порядка '''\n",
    "    z_x = diff(z,x)\n",
    "    z_y = diff(z,y)\n",
    "    \n",
    "    ''' Ищем критические точки,\n",
    "    приравнивая производные к нулю '''\n",
    "    cr_point = solve([z_x, z_y], [x, y], dict=True)\n",
    "    \n",
    "    ''' Производные 2-го порядка '''\n",
    "    A = diff(z,x,2)\n",
    "    B = diff(z,x,y)\n",
    "    C = diff(z,y,2)\n",
    "    \n",
    "    ''' Delta '''\n",
    "    D = A*C - B**2\n",
    "    \n",
    "    return cr_point, A, D"
   ]
  },
  {
   "cell_type": "markdown",
   "id": "79603a93",
   "metadata": {
    "heading_collapsed": true
   },
   "source": [
    "#### Функция suff_indic()"
   ]
  },
  {
   "cell_type": "code",
   "execution_count": 6,
   "id": "f08387fc",
   "metadata": {
    "ExecuteTime": {
     "end_time": "2023-05-17T08:36:25.560712Z",
     "start_time": "2023-05-17T08:36:25.540282Z"
    },
    "hidden": true
   },
   "outputs": [],
   "source": [
    "def suff_indic(A, D, cr_point):\n",
    "    ''' А и D - функции двух переменных, cr_point - словарь '''\n",
    "    A0 = A.subs(cr_point)\n",
    "    D0 = D.subs(cr_point)\n",
    "    return D0, A0"
   ]
  },
  {
   "cell_type": "markdown",
   "id": "aa6c9bb1",
   "metadata": {
    "heading_collapsed": true
   },
   "source": [
    "## Решение задач на Python"
   ]
  },
  {
   "cell_type": "markdown",
   "id": "75ed1388",
   "metadata": {
    "hidden": true
   },
   "source": [
    "### Математический анализ, Производная"
   ]
  },
  {
   "cell_type": "markdown",
   "id": "67fab496",
   "metadata": {
    "heading_collapsed": true,
    "hidden": true
   },
   "source": [
    "### Пример 1: Производная функции у = xcosx: $ y' = (x\\cos x)' = \\cos x - x\\sin x $"
   ]
  },
  {
   "cell_type": "code",
   "execution_count": 30,
   "id": "130c77bb",
   "metadata": {
    "ExecuteTime": {
     "end_time": "2023-05-16T11:37:18.321481Z",
     "start_time": "2023-05-16T11:37:18.240827Z"
    },
    "hidden": true
   },
   "outputs": [
    {
     "data": {
      "text/latex": [
       "$\\displaystyle - x \\sin{\\left(x \\right)} + \\cos{\\left(x \\right)}$"
      ],
      "text/plain": [
       "-x*sin(x) + cos(x)"
      ]
     },
     "execution_count": 30,
     "metadata": {},
     "output_type": "execute_result"
    }
   ],
   "source": [
    "''' Объявление символьной переменной '''\n",
    "x = symbols('x')\n",
    "            \n",
    "''' Функция у(х) '''\n",
    "y = x * cos(x)\n",
    "            \n",
    "''' Вычисление производной '''\n",
    "diff(x * cos(x), x)"
   ]
  },
  {
   "cell_type": "markdown",
   "id": "732df2ad",
   "metadata": {
    "heading_collapsed": true,
    "hidden": true
   },
   "source": [
    "### Пример 2: Производная 3-го порядка функции $y=\\ln x$ </br>\n",
    "&nbsp;&nbsp;&nbsp;&nbsp; $ (\\ln x)^{(3)}=\\frac{2}{x^{3}}.$"
   ]
  },
  {
   "cell_type": "code",
   "execution_count": 16,
   "id": "3f1dcff8",
   "metadata": {
    "ExecuteTime": {
     "end_time": "2023-05-15T18:24:07.582144Z",
     "start_time": "2023-05-15T18:24:07.538120Z"
    },
    "hidden": true
   },
   "outputs": [
    {
     "data": {
      "text/latex": [
       "$\\displaystyle \\frac{2}{x^{3}}$"
      ],
      "text/plain": [
       "2/x**3"
      ]
     },
     "execution_count": 16,
     "metadata": {},
     "output_type": "execute_result"
    }
   ],
   "source": [
    "x = symbols('x')\n",
    "y = x * cos(x)\n",
    "\n",
    "diff(log(x), x, 3) # либо diff(log(x), x, x, x)"
   ]
  },
  {
   "cell_type": "markdown",
   "id": "b5393aed",
   "metadata": {
    "heading_collapsed": true,
    "hidden": true
   },
   "source": [
    "### Пример  3: Найти значение $y''(10)$ для функции $t = \\lg^{3}(x^{3})$."
   ]
  },
  {
   "cell_type": "code",
   "execution_count": 17,
   "id": "a49acb1d",
   "metadata": {
    "ExecuteTime": {
     "end_time": "2023-05-15T18:24:08.721423Z",
     "start_time": "2023-05-15T18:24:08.666251Z"
    },
    "hidden": true
   },
   "outputs": [
    {
     "data": {
      "text/latex": [
       "$\\displaystyle - \\frac{9 \\left(-6 + \\log{\\left(1000 \\right)}\\right) \\log{\\left(1000 \\right)}}{100 \\log{\\left(10 \\right)}^{3}}$"
      ],
      "text/plain": [
       "-9*(-6 + log(1000))*log(1000)/(100*log(10)**3)"
      ]
     },
     "execution_count": 17,
     "metadata": {},
     "output_type": "execute_result"
    }
   ],
   "source": [
    "x = symbols('x')\n",
    "y = log(x**3,10)**3\n",
    "\n",
    "diff(y,x,2).subs(x,10)"
   ]
  },
  {
   "cell_type": "markdown",
   "id": "18c744e2",
   "metadata": {
    "hidden": true
   },
   "source": [
    "В некоторых случаях более простое выражение для ответа можно получить, применяя метод simplify ()."
   ]
  },
  {
   "cell_type": "code",
   "execution_count": 20,
   "id": "ac29274f",
   "metadata": {
    "ExecuteTime": {
     "end_time": "2023-05-15T18:24:32.027493Z",
     "start_time": "2023-05-15T18:24:31.905073Z"
    },
    "hidden": true
   },
   "outputs": [
    {
     "data": {
      "text/latex": [
       "$\\displaystyle \\frac{81 \\left(2 - \\log{\\left(10 \\right)}\\right)}{100 \\log{\\left(10 \\right)}^{2}}$"
      ],
      "text/plain": [
       "81*(2 - log(10))/(100*log(10)**2)"
      ]
     },
     "execution_count": 20,
     "metadata": {},
     "output_type": "execute_result"
    }
   ],
   "source": [
    "x = symbols('x')\n",
    "y = log(x**3, 10)**3\n",
    "\n",
    "diff(y,x,2).subs(x,10).simplify()"
   ]
  },
  {
   "cell_type": "markdown",
   "id": "c9ffd814",
   "metadata": {
    "heading_collapsed": true,
    "hidden": true
   },
   "source": [
    "### Пример  4: Решить уравнение $y'= 0$, где $y(x) = \\frac{x^{2}+x-6}{x^{2}-10x+25}$"
   ]
  },
  {
   "cell_type": "code",
   "execution_count": 24,
   "id": "ab1e5eaf",
   "metadata": {
    "ExecuteTime": {
     "end_time": "2023-05-15T18:28:36.239466Z",
     "start_time": "2023-05-15T18:28:36.176066Z"
    },
    "hidden": true
   },
   "outputs": [
    {
     "data": {
      "text/latex": [
       "$\\displaystyle \\frac{\\left(10 - 2 x\\right) \\left(x^{2} + x - 6\\right)}{\\left(x^{2} - 10 x + 25\\right)^{2}} + \\frac{2 x + 1}{x^{2} - 10 x + 25}$"
      ],
      "text/plain": [
       "(10 - 2*x)*(x**2 + x - 6)/(x**2 - 10*x + 25)**2 + (2*x + 1)/(x**2 - 10*x + 25)"
      ]
     },
     "execution_count": 24,
     "metadata": {},
     "output_type": "execute_result"
    }
   ],
   "source": [
    "x = symbols('x')\n",
    "\n",
    "''' Производная: '''\n",
    "y = (x**2+x-6)/(x**2-10*x+25)\n",
    "z = diff(y,x)\n",
    "z"
   ]
  },
  {
   "cell_type": "code",
   "execution_count": 26,
   "id": "8d39900a",
   "metadata": {
    "ExecuteTime": {
     "end_time": "2023-05-15T18:28:46.059607Z",
     "start_time": "2023-05-15T18:28:45.976075Z"
    },
    "hidden": true
   },
   "outputs": [
    {
     "data": {
      "text/plain": [
       "[7/11]"
      ]
     },
     "execution_count": 26,
     "metadata": {},
     "output_type": "execute_result"
    }
   ],
   "source": [
    "''' Решение уравнения '''\n",
    "solve(z, x)"
   ]
  },
  {
   "cell_type": "markdown",
   "id": "cbf32639",
   "metadata": {
    "heading_collapsed": true,
    "hidden": true
   },
   "source": [
    "### Пример  5: Наити первую производную $\\frac{dy}{dx}$ и вторую производную для функции, заданной неявно в виде уравнения: $x^{2}+y^{2}=4$."
   ]
  },
  {
   "cell_type": "markdown",
   "id": "bedd76ca",
   "metadata": {
    "hidden": true
   },
   "source": [
    "Решение. Имеем: $F(x, y)=x^{2}+y^{2}-4; y'=\\frac{F'x}{F'y}=-\\frac{2x}{2y}=-\\frac{x}{y}$"
   ]
  },
  {
   "cell_type": "code",
   "execution_count": 43,
   "id": "3dc655a2",
   "metadata": {
    "ExecuteTime": {
     "end_time": "2023-05-15T21:16:09.397771Z",
     "start_time": "2023-05-15T21:16:09.296039Z"
    },
    "hidden": true
   },
   "outputs": [
    {
     "data": {
      "text/latex": [
       "$\\displaystyle - \\frac{x}{y}$"
      ],
      "text/plain": [
       "-x/y"
      ]
     },
     "execution_count": 43,
     "metadata": {},
     "output_type": "execute_result"
    }
   ],
   "source": [
    "x, y = symbols('x y')\n",
    "f = x**2 + y**2 - 4\n",
    "idiff(f, y, x)"
   ]
  },
  {
   "cell_type": "markdown",
   "id": "74a8d929",
   "metadata": {
    "hidden": true
   },
   "source": [
    "Вторая производная."
   ]
  },
  {
   "cell_type": "code",
   "execution_count": 44,
   "id": "90f7e477",
   "metadata": {
    "ExecuteTime": {
     "end_time": "2023-05-15T21:16:28.976972Z",
     "start_time": "2023-05-15T21:16:28.728490Z"
    },
    "hidden": true
   },
   "outputs": [
    {
     "data": {
      "text/latex": [
       "$\\displaystyle \\frac{- \\frac{x^{2}}{y} - y}{y^{2}}$"
      ],
      "text/plain": [
       "(-x**2/y - y)/y**2"
      ]
     },
     "execution_count": 44,
     "metadata": {},
     "output_type": "execute_result"
    }
   ],
   "source": [
    "x, y = symbols('x y')\n",
    "f = x**2 + y**2 - 4\n",
    "idiff(f, y, x, 2)"
   ]
  },
  {
   "cell_type": "markdown",
   "id": "ec662b85",
   "metadata": {
    "heading_collapsed": true,
    "hidden": true
   },
   "source": [
    "### Пример  6: Найти $y'_{x}$ и $y''_{xx}$ для функции, заданной в параметрической форме:</br></br>\n",
    "$\n",
    "\\left\\{\\begin{matrix}\n",
    "x = t - \\sin t, \\\\\n",
    "y = 1 - \\cos t.\n",
    "\\end{matrix}\\right.\n",
    "$\n",
    "\n",
    "Для решения используем формулы, выражающие производную функции по переменной $х$ через обычные производные по переменной $t$:</br></br>\n",
    "\n",
    "<div style=\"text-align: center;\"> <font size=5>$ y'_{x} = \\frac{y'_{t}}{y'_{t}}=\\frac{\\sin t}{1-\\cos t}; y''=\\frac{(y'_{x})'_{t}}{x'_{t}}=\\frac{1}{1-\\cos t} $</font></div>"
   ]
  },
  {
   "cell_type": "code",
   "execution_count": 50,
   "id": "5f98805d",
   "metadata": {
    "ExecuteTime": {
     "end_time": "2023-05-15T21:29:17.261921Z",
     "start_time": "2023-05-15T21:29:17.241178Z"
    },
    "hidden": true
   },
   "outputs": [],
   "source": [
    "t = symbols('t')\n",
    "\n",
    "x = t - sin(t)\n",
    "y = 1 - cos(t)"
   ]
  },
  {
   "cell_type": "code",
   "execution_count": null,
   "id": "81600ac1",
   "metadata": {
    "ExecuteTime": {
     "end_time": "2023-05-15T21:29:17.832592Z",
     "start_time": "2023-05-15T21:29:17.832452Z"
    },
    "hidden": true
   },
   "outputs": [],
   "source": [
    "''' Первая производная '''\n",
    "y_diff = diff(y,t)/diff(x,t)\n",
    "y_diff"
   ]
  },
  {
   "cell_type": "code",
   "execution_count": null,
   "id": "f6ef1be0",
   "metadata": {
    "ExecuteTime": {
     "end_time": "2023-05-15T21:29:17.991272Z",
     "start_time": "2023-05-15T21:29:17.991131Z"
    },
    "hidden": true
   },
   "outputs": [],
   "source": [
    "''' Вторая производная '''\n",
    "y_2diff = diff(y_diff, t)/diff(x, t)\n",
    "y_2diff.simplify()"
   ]
  },
  {
   "cell_type": "markdown",
   "id": "ac69eba2",
   "metadata": {
    "heading_collapsed": true,
    "hidden": true
   },
   "source": [
    "### Пример  7:  Найти левую и правую производные функции $f(x)$ в точке ее разрыва, если</br></br>\n",
    "$\n",
    "f(x) = \n",
    "\\left\\{\\begin{matrix}\n",
    "\\mathrm{arctg}\\left(\\frac{1}{x}\\right), & x \\neq0 \\\\\n",
    "-\\frac{\\pi}{2}, & x = 0. \n",
    "\\end{matrix}\\right.\n",
    "$</br>\n",
    "</br>\n",
    "Решение. Точкой разрыва является значение $х = 0$. График функции:"
   ]
  },
  {
   "cell_type": "code",
   "execution_count": 55,
   "id": "998dbdd9",
   "metadata": {
    "ExecuteTime": {
     "end_time": "2023-05-15T21:41:02.871500Z",
     "start_time": "2023-05-15T21:41:01.927664Z"
    },
    "hidden": true
   },
   "outputs": [
    {
     "data": {
      "image/png": "[encoded data removed]",
      "text/plain": [
       "<Figure size 640x480 with 1 Axes>"
      ]
     },
     "metadata": {},
     "output_type": "display_data"
    }
   ],
   "source": [
    "''' Построим график с учетом того, что функция не существует в точке x=0 '''\n",
    "import numpy as np\n",
    "import matplotlib.pyplot as plt\n",
    "\n",
    "%matplotlib inline\n",
    "x = np.linspace(-2,2,500)\n",
    "\n",
    "''' В узкий интервал около нуля записываем значения NaN '''\n",
    "x[(x>-0.01) & (x < 0.01)] = np.nan\n",
    "y = np.arctan(1/x)\n",
    "\n",
    "plt.plot(x,y)\n",
    "plt.vlines(0, -1.6, 1.6, color='g', linestyles='dashed')\n",
    "plt.show()"
   ]
  },
  {
   "cell_type": "markdown",
   "id": "2bdfc58b",
   "metadata": {
    "hidden": true
   },
   "source": [
    "Найдем выражение для производной, а затем для полученного выражения вычислим пределы слева и справа при $x \\to 0$"
   ]
  },
  {
   "cell_type": "code",
   "execution_count": 59,
   "id": "e0927daf",
   "metadata": {
    "ExecuteTime": {
     "end_time": "2023-05-15T21:42:16.595516Z",
     "start_time": "2023-05-15T21:42:16.568085Z"
    },
    "hidden": true
   },
   "outputs": [],
   "source": [
    "''' Производная '''\n",
    "x = symbols('x')\n",
    "y = atan(1 / x)\n",
    "z = diff(y, x)"
   ]
  },
  {
   "cell_type": "code",
   "execution_count": 62,
   "id": "2153d266",
   "metadata": {
    "ExecuteTime": {
     "end_time": "2023-05-15T21:42:32.446553Z",
     "start_time": "2023-05-15T21:42:32.409640Z"
    },
    "hidden": true
   },
   "outputs": [
    {
     "data": {
      "text/latex": [
       "$\\displaystyle -1$"
      ],
      "text/plain": [
       "-1"
      ]
     },
     "execution_count": 62,
     "metadata": {},
     "output_type": "execute_result"
    }
   ],
   "source": [
    "''' Значение производной в точке х = 0 слева '''\n",
    "limit(z, x, 0, dir='+')"
   ]
  },
  {
   "cell_type": "code",
   "execution_count": 61,
   "id": "94e6c89d",
   "metadata": {
    "ExecuteTime": {
     "end_time": "2023-05-15T21:42:28.724353Z",
     "start_time": "2023-05-15T21:42:28.690027Z"
    },
    "hidden": true
   },
   "outputs": [
    {
     "data": {
      "text/latex": [
       "$\\displaystyle -1$"
      ],
      "text/plain": [
       "-1"
      ]
     },
     "execution_count": 61,
     "metadata": {},
     "output_type": "execute_result"
    }
   ],
   "source": [
    "''' Значение производной справа '''\n",
    "limit(z, x, 0, dir=\"+\")"
   ]
  },
  {
   "cell_type": "markdown",
   "id": "56f6f05f",
   "metadata": {
    "heading_collapsed": true,
    "hidden": true
   },
   "source": [
    "### Пример 8:  Найти наибольшее и наименьшее значения функции $f(х)$ на отрезке\n",
    "$f(x)=^{3}\\sqrt{2(x+1)^{2}(5-x)}-2; x \\in [-3;3]$"
   ]
  },
  {
   "cell_type": "code",
   "execution_count": 160,
   "id": "8b1e2c60",
   "metadata": {
    "ExecuteTime": {
     "end_time": "2023-05-16T12:44:17.028271Z",
     "start_time": "2023-05-16T12:44:16.054411Z"
    },
    "hidden": true
   },
   "outputs": [
    {
     "data": {
      "image/png": "[encoded data removed]",
      "text/plain": [
       "<Figure size 640x480 with 1 Axes>"
      ]
     },
     "metadata": {},
     "output_type": "display_data"
    }
   ],
   "source": [
    "''' График функции на заданном отрезке '''\n",
    "fun = lambda x: np.cbrt(2*(x+1)**2*(5-x)) - 2\n",
    "х = np.linspace(-3, 3, 100)\n",
    "plt.xlabel('X')\n",
    "plt.ylabel('Y')\n",
    "plt.plot(x, fun(x), 'r')\n",
    "plt.grid(True, linestyle='-', color='0.4')\n",
    "plt.show()"
   ]
  },
  {
   "cell_type": "markdown",
   "id": "43918193",
   "metadata": {
    "hidden": true
   },
   "source": [
    "Внутри отрезка $[-3;3]$ единственный экстремум (минимум). Находим его"
   ]
  },
  {
   "cell_type": "code",
   "execution_count": 163,
   "id": "fbff2a09",
   "metadata": {
    "ExecuteTime": {
     "end_time": "2023-05-16T12:44:49.808465Z",
     "start_time": "2023-05-16T12:44:49.701210Z"
    },
    "hidden": true
   },
   "outputs": [
    {
     "name": "stdout",
     "output_type": "stream",
     "text": [
      "x_min: -0.490\n"
     ]
    }
   ],
   "source": [
    "# 1.\n",
    "res = minimize(fun, -1.5)\n",
    "print('x_min: %.3f' % res.x)"
   ]
  },
  {
   "cell_type": "markdown",
   "id": "dc371ff2",
   "metadata": {
    "hidden": true
   },
   "source": [
    "Это явно неверное решение. В точке $x = - 1$ функция имеет бесконечную производную и сходимость решений очень медленная. \n",
    "Возьмем начальное значение, близкое к предполагаемому значению"
   ]
  },
  {
   "cell_type": "code",
   "execution_count": 165,
   "id": "3835eb89",
   "metadata": {
    "ExecuteTime": {
     "end_time": "2023-05-16T12:45:52.889729Z",
     "start_time": "2023-05-16T12:45:52.783116Z"
    },
    "hidden": true
   },
   "outputs": [
    {
     "name": "stdout",
     "output_type": "stream",
     "text": [
      "xmin: -1.001\n"
     ]
    }
   ],
   "source": [
    "res = minimize(fun, -1.001)\n",
    "print('xmin: %.3f' % res.x)"
   ]
  },
  {
   "cell_type": "markdown",
   "id": "ec818fc0",
   "metadata": {
    "hidden": true
   },
   "source": [
    "Предполагая, что точное решение: $х = -1$, возьмем его в качестве начального значения."
   ]
  },
  {
   "cell_type": "code",
   "execution_count": 168,
   "id": "29e7a628",
   "metadata": {
    "ExecuteTime": {
     "end_time": "2023-05-16T12:47:02.504163Z",
     "start_time": "2023-05-16T12:47:02.366406Z"
    },
    "hidden": true
   },
   "outputs": [
    {
     "name": "stdout",
     "output_type": "stream",
     "text": [
      "x_min: -1.000\n"
     ]
    }
   ],
   "source": [
    "res = minimize(fun, -1.0)\n",
    "print('x_min: %.3f' % res.x)"
   ]
  },
  {
   "cell_type": "code",
   "execution_count": 172,
   "id": "0eb767db",
   "metadata": {
    "ExecuteTime": {
     "end_time": "2023-05-16T12:47:41.857256Z",
     "start_time": "2023-05-16T12:47:41.824507Z"
    },
    "hidden": true
   },
   "outputs": [
    {
     "data": {
      "text/plain": [
       "array([-2.])"
      ]
     },
     "execution_count": 172,
     "metadata": {},
     "output_type": "execute_result"
    }
   ],
   "source": [
    "''' 1. Значение функции в точке минимума: '''\n",
    "fun(res.x)"
   ]
  },
  {
   "cell_type": "code",
   "execution_count": 173,
   "id": "b3ce1a88",
   "metadata": {
    "ExecuteTime": {
     "end_time": "2023-05-16T12:47:49.300584Z",
     "start_time": "2023-05-16T12:47:49.276449Z"
    },
    "hidden": true
   },
   "outputs": [
    {
     "name": "stdout",
     "output_type": "stream",
     "text": [
      "у(-З): 2.000 у(3): 2.000\n"
     ]
    }
   ],
   "source": [
    "''' 2. Значения функции на концах отрезка : '''\n",
    "print('у(-З): %.3f у(3): %.3f' % (fun(-3), fun(3)))"
   ]
  },
  {
   "cell_type": "markdown",
   "id": "ae2d10c6",
   "metadata": {
    "hidden": true
   },
   "source": [
    "Ответ:</br> \n",
    "наименьшее значение:$-2$, </br> \n",
    "наибольшее значение: $2$."
   ]
  },
  {
   "cell_type": "markdown",
   "id": "a19fd797",
   "metadata": {
    "heading_collapsed": true,
    "hidden": true
   },
   "source": [
    "### Пример  9:  Найти точки перегиба и исследовать характер выпуклости кривой $y = x^{4}(12\\ln x - 7)$"
   ]
  },
  {
   "cell_type": "code",
   "execution_count": 175,
   "id": "f4edc30c",
   "metadata": {
    "ExecuteTime": {
     "end_time": "2023-05-16T12:53:12.642727Z",
     "start_time": "2023-05-16T12:53:11.598276Z"
    },
    "hidden": true
   },
   "outputs": [
    {
     "data": {
      "image/png": "[encoded data removed]",
      "text/plain": [
       "<Figure size 640x480 with 1 Axes>"
      ]
     },
     "metadata": {},
     "output_type": "display_data"
    }
   ],
   "source": [
    "f = lambda х: х**4 * (12*np.log(x) - 7)\n",
    "x = np.linspace(0.001,2,50)\n",
    "plt.plot(x, f(x), 'r')\n",
    "plt.xlabel('X')\n",
    "plt.ylabel('Y')\n",
    "plt.grid(True, linestyle='-', color='0.4')\n",
    "plt.show()"
   ]
  },
  {
   "cell_type": "code",
   "execution_count": 178,
   "id": "7ca523ca",
   "metadata": {
    "ExecuteTime": {
     "end_time": "2023-05-16T12:53:37.386240Z",
     "start_time": "2023-05-16T12:53:37.324114Z"
    },
    "hidden": true
   },
   "outputs": [
    {
     "data": {
      "text/latex": [
       "$\\displaystyle 144 x^{2} \\log{\\left(x \\right)}$"
      ],
      "text/plain": [
       "144*x**2*log(x)"
      ]
     },
     "execution_count": 178,
     "metadata": {},
     "output_type": "execute_result"
    }
   ],
   "source": [
    "x = symbols('x')\n",
    "y = x**4 * (12*log(x) - 7)\n",
    "\n",
    "''' Вычисляем вторую производную '''\n",
    "y_2deriv = diff(y,x,2)\n",
    "y_2deriv"
   ]
  },
  {
   "cell_type": "code",
   "execution_count": 180,
   "id": "bc865a9b",
   "metadata": {
    "ExecuteTime": {
     "end_time": "2023-05-16T12:54:02.949266Z",
     "start_time": "2023-05-16T12:54:02.590906Z"
    },
    "hidden": true
   },
   "outputs": [
    {
     "data": {
      "text/plain": [
       "[0, 1]"
      ]
     },
     "execution_count": 180,
     "metadata": {},
     "output_type": "execute_result"
    }
   ],
   "source": [
    "''' Находим корни второй производной '''\n",
    "x_inflex = solve(y_2deriv, x)\n",
    "x_inflex"
   ]
  },
  {
   "cell_type": "markdown",
   "id": "cea1bcf2",
   "metadata": {
    "hidden": true
   },
   "source": [
    "$x = 0$ находится на границе области определения функции. </br>\n",
    "Точка перегиба: $х = 1.$ Это можно заключить и из графика. Но можно и\n",
    "проверить, что третья производная отлична от нуля."
   ]
  },
  {
   "cell_type": "code",
   "execution_count": 182,
   "id": "2bb01873",
   "metadata": {
    "ExecuteTime": {
     "end_time": "2023-05-16T12:54:53.360528Z",
     "start_time": "2023-05-16T12:54:53.303910Z"
    },
    "hidden": true
   },
   "outputs": [
    {
     "data": {
      "text/latex": [
       "$\\displaystyle 144$"
      ],
      "text/plain": [
       "144"
      ]
     },
     "execution_count": 182,
     "metadata": {},
     "output_type": "execute_result"
    }
   ],
   "source": [
    "diff(y,x,3).subs(x, 1)"
   ]
  },
  {
   "cell_type": "markdown",
   "id": "395a9793",
   "metadata": {
    "hidden": true
   },
   "source": [
    "Характер выпуклости определяем по графику, или используем признак: если вторая производная отрицательна во всех точках интервала, то в этом интервале функция выпукла вверх; если положительна - выпукла вниз."
   ]
  },
  {
   "cell_type": "code",
   "execution_count": 184,
   "id": "040ffcbf",
   "metadata": {
    "ExecuteTime": {
     "end_time": "2023-05-16T12:55:13.279577Z",
     "start_time": "2023-05-16T12:55:13.253815Z"
    },
    "hidden": true
   },
   "outputs": [
    {
     "name": "stdout",
     "output_type": "stream",
     "text": [
      "слева: -12.3 справа: 16.6\n"
     ]
    }
   ],
   "source": [
    "print('слева: %.1f справа: %.1f' % (y_2deriv.subs(x,0.9), y_2deriv.subs(x,1.1)))"
   ]
  },
  {
   "cell_type": "markdown",
   "id": "acf41533",
   "metadata": {
    "hidden": true
   },
   "source": [
    "На интервале $(0;1) $ - выпукла вверх, на интервале $(1;\\infty)$ - выпукла вниз"
   ]
  },
  {
   "cell_type": "markdown",
   "id": "66db562f",
   "metadata": {
    "heading_collapsed": true,
    "hidden": true
   },
   "source": [
    "### Пример 10: Вычислить градиент функции $ z = 5\\ln(x^{2}+y^{2})$ в точке $М(1;2)$."
   ]
  },
  {
   "cell_type": "code",
   "execution_count": 11,
   "id": "16b93252",
   "metadata": {
    "ExecuteTime": {
     "end_time": "2023-05-16T18:24:44.262217Z",
     "start_time": "2023-05-16T18:24:44.220640Z"
    },
    "hidden": true
   },
   "outputs": [
    {
     "data": {
      "text/plain": [
       "(2, 4)"
      ]
     },
     "execution_count": 11,
     "metadata": {},
     "output_type": "execute_result"
    }
   ],
   "source": [
    "x,y = symbols('x y')\n",
    "z = 5*log(x**2 + y**2)\n",
    "z_x = diff(z,x).subs({x:1, y:2})\n",
    "z_y = diff(z,y).subs({x:1, y:2})\n",
    "grad_f = (z_x, z_y)\n",
    "grad_f"
   ]
  },
  {
   "cell_type": "markdown",
   "id": "4f699474",
   "metadata": {
    "heading_collapsed": true,
    "hidden": true
   },
   "source": [
    "### Пример  11: Определить направление I быстрейшего возрастания функции $z = x^2 + xy + 7$ в точке $М(1; —1)$."
   ]
  },
  {
   "cell_type": "markdown",
   "id": "73f403d5",
   "metadata": {
    "hidden": true
   },
   "source": [
    "Решение. Направление быстрейшего возрастания функции в точке М определяется градиентом функции, вычисленным в этой точке."
   ]
  },
  {
   "cell_type": "code",
   "execution_count": 17,
   "id": "f7064e62",
   "metadata": {
    "ExecuteTime": {
     "end_time": "2023-05-16T18:27:14.455497Z",
     "start_time": "2023-05-16T18:27:14.412797Z"
    },
    "hidden": true
   },
   "outputs": [
    {
     "data": {
      "text/plain": [
       "(1, 1)"
      ]
     },
     "execution_count": 17,
     "metadata": {},
     "output_type": "execute_result"
    }
   ],
   "source": [
    "x, y = symbols('x y')\n",
    "z = x**2 + x*y +7\n",
    "z_x = diff(z,x).subs({x:1, y:-1})\n",
    "z_y = diff(z,y).subs({x:1, y:-1})\n",
    "grad_f = (z_x, z_y)\n",
    "grad_f"
   ]
  },
  {
   "cell_type": "markdown",
   "id": "6c78d3e5",
   "metadata": {
    "hidden": true
   },
   "source": [
    "Градиентом является вектор $i + j$, следовательно, искомое направление $l$ составляет угол $45^{о}$ с осью $Ox$."
   ]
  },
  {
   "cell_type": "markdown",
   "id": "46fe8d87",
   "metadata": {
    "heading_collapsed": true,
    "hidden": true
   },
   "source": [
    "### Пример 12:  Провести касательную плоскость и нормаль к сфере $x^{2}+y^{2}+z^{2} = 3$ в точке $М(1;1;1)$.\n"
   ]
  },
  {
   "cell_type": "code",
   "execution_count": 35,
   "id": "60b5dcce",
   "metadata": {
    "ExecuteTime": {
     "end_time": "2023-05-16T19:20:32.096993Z",
     "start_time": "2023-05-16T19:20:32.058786Z"
    },
    "hidden": true
   },
   "outputs": [],
   "source": [
    "# Функции для раздела «Производная»: tangent_plane()\n",
    "def tangent_plane(F,M):\n",
    "    ''' Находит уравнение касательной плоскости\n",
    "    и нормали к поверхности F(x,y,z) в точке M '''\n",
    "    \n",
    "    ''' Частные производные в точке М '''\n",
    "    F_diff_x = diff(F,x).subs({x:M.x, y:M.y, z:M.z})\n",
    "    F_diff_y = diff(F,y).subs({x:M.x, y:M.y, z:M.z})\n",
    "    F_diff_z = diff(F,z).subs({x:M.x, y:M.y, z:M.z})\n",
    "    \n",
    "    ''' Нормальный вектор плоскости '''\n",
    "    n = Point(F_diff_x, F_diff_y, F_diff_z)\n",
    "    \n",
    "    ''' Касательная плоскость проходит через точку M с нормальным вектором n '''\n",
    "    p = Plane(M, normal_vector=n).equation()\n",
    "    \n",
    "    ''' Нормаль проходит через точку M и точку K = M + n '''\n",
    "    K = Point(M.x+n.x, M.y+n.y, M.z+n.z)\n",
    "    l_n = Line(M, K).arbitrary_point()\n",
    "    \n",
    "    return p, l_n"
   ]
  },
  {
   "cell_type": "code",
   "execution_count": null,
   "id": "c15cfbf5",
   "metadata": {
    "ExecuteTime": {
     "end_time": "2023-05-16T19:45:53.481727Z",
     "start_time": "2023-05-16T19:45:53.481459Z"
    },
    "hidden": true
   },
   "outputs": [],
   "source": [
    "x, y, z = symbols('x у z')\n",
    "\n",
    "''' Уравнение сферы '''\n",
    "F = x**2 + y**2 + z**2 - 9\n",
    "M = Point(1,1,1)\n",
    "\n",
    "p, l_n = tangent_plane(F,M)"
   ]
  },
  {
   "cell_type": "code",
   "execution_count": 91,
   "id": "bb0bc539",
   "metadata": {
    "ExecuteTime": {
     "end_time": "2023-05-16T19:45:53.551312Z",
     "start_time": "2023-05-16T19:45:53.509735Z"
    },
    "hidden": true
   },
   "outputs": [
    {
     "data": {
      "text/latex": [
       "$\\displaystyle 2 x + 2 y + 2 z - 6$"
      ],
      "text/plain": [
       "2*x + 2*y + 2*z - 6"
      ]
     },
     "execution_count": 91,
     "metadata": {},
     "output_type": "execute_result"
    }
   ],
   "source": [
    "''' Касательная плоскость '''\n",
    "p"
   ]
  },
  {
   "cell_type": "code",
   "execution_count": 88,
   "id": "db389763",
   "metadata": {
    "ExecuteTime": {
     "end_time": "2023-05-16T19:45:42.887542Z",
     "start_time": "2023-05-16T19:45:42.840418Z"
    },
    "hidden": true
   },
   "outputs": [
    {
     "data": {
      "text/latex": [
       "$\\displaystyle Point3D\\left(2 t + 1, 2 t + 1, 2 t + 1\\right)$"
      ],
      "text/plain": [
       "Point3D(2*t + 1, 2*t + 1, 2*t + 1)"
      ]
     },
     "execution_count": 88,
     "metadata": {},
     "output_type": "execute_result"
    }
   ],
   "source": [
    "''' Нормаль '''\n",
    "l_n"
   ]
  },
  {
   "cell_type": "markdown",
   "id": "bcfff721",
   "metadata": {
    "heading_collapsed": true,
    "hidden": true
   },
   "source": [
    "### Пример 13:   Определить коэффициенты эластичности производственной функции Кобба-Дугласа $z = 4.5x^{0.33}y^{0.66}$"
   ]
  },
  {
   "cell_type": "code",
   "execution_count": 21,
   "id": "c63aa7cf",
   "metadata": {
    "ExecuteTime": {
     "end_time": "2023-05-16T21:19:02.680633Z",
     "start_time": "2023-05-16T21:19:02.503156Z"
    },
    "hidden": true
   },
   "outputs": [
    {
     "name": "stdout",
     "output_type": "stream",
     "text": [
      "E_x: 0.33 E_y: 0.66\n"
     ]
    }
   ],
   "source": [
    "x,y = symbols('x y')\n",
    "\n",
    "''' Частные производные: '''\n",
    "z = 4.5*x**(0.33) * y**(0.66)\n",
    "z_x = diff(z, x)\n",
    "z_y = diff(z, y)\n",
    "\n",
    "''' Коэффициенты эластичности '''\n",
    "E_x = (x/z)*z_x\n",
    "E_y = (y/z)*z_y\n",
    "\n",
    "print('E_x: %.2f E_y: %.2f' % (E_x, E_y))"
   ]
  },
  {
   "cell_type": "markdown",
   "id": "399b5a0d",
   "metadata": {
    "heading_collapsed": true,
    "hidden": true
   },
   "source": [
    "### Пример  14:  Зависимость объема выпуска продукции $V$ от капитальных затрат К определяется функцией $V = V_{0}\\ln(5 + К^{2})$. Найти интервал изменения $К$, на котором увеличение капитальных затрат неэффективно."
   ]
  },
  {
   "cell_type": "markdown",
   "id": "b4297deb",
   "metadata": {
    "hidden": true
   },
   "source": [
    "Решение. </br>\n",
    "Найдем точку перегиба функции $V(K)$. Достаточный признак точки перегиба: вторая производная функции в этой точке обращается в ноль, а третья производная отлична от нуля."
   ]
  },
  {
   "cell_type": "code",
   "execution_count": 24,
   "id": "1fdc3519",
   "metadata": {
    "ExecuteTime": {
     "end_time": "2023-05-16T21:20:31.958691Z",
     "start_time": "2023-05-16T21:20:31.806353Z"
    },
    "hidden": true
   },
   "outputs": [
    {
     "data": {
      "text/plain": [
       "[-sqrt(5), sqrt(5)]"
      ]
     },
     "execution_count": 24,
     "metadata": {},
     "output_type": "execute_result"
    }
   ],
   "source": [
    "from sympy import *\n",
    "\n",
    "K,V0 = symbols('K V0')\n",
    "V = V0*log(5+K**2)\n",
    "\n",
    "''' Вторая производная '''\n",
    "Vprim2 = diff(V,K,2)\n",
    "\n",
    "''' Третья производная '''\n",
    "Vprim3 = diff(V,K,3)\n",
    "\n",
    "''' Корни второй производной  '''\n",
    "s = solve(Vprim2,K)\n",
    "s"
   ]
  },
  {
   "cell_type": "markdown",
   "id": "9e7ad46d",
   "metadata": {
    "hidden": true
   },
   "source": [
    "Подходит положительный корень $K_{0} = s[1] = \\sqrt{5}$.</br>\n",
    "Значение третьей производной в этой точке:"
   ]
  },
  {
   "cell_type": "code",
   "execution_count": 27,
   "id": "21559509",
   "metadata": {
    "ExecuteTime": {
     "end_time": "2023-05-16T21:22:09.878479Z",
     "start_time": "2023-05-16T21:22:09.844746Z"
    },
    "hidden": true
   },
   "outputs": [
    {
     "data": {
      "text/latex": [
       "$\\displaystyle - \\frac{\\sqrt{5} V_{0}}{25}$"
      ],
      "text/plain": [
       "-sqrt(5)*V0/25"
      ]
     },
     "execution_count": 27,
     "metadata": {},
     "output_type": "execute_result"
    }
   ],
   "source": [
    "Vprim3.subs(K,s[1])"
   ]
  },
  {
   "cell_type": "markdown",
   "id": "d3f02503",
   "metadata": {
    "hidden": true
   },
   "source": [
    "Ответ: Увеличение капитальных затрат неэффективно при значениях $ K > \\sqrt{5}$"
   ]
  },
  {
   "cell_type": "markdown",
   "id": "6e72b82e",
   "metadata": {},
   "source": [
    "## Примеры решения задач"
   ]
  },
  {
   "cell_type": "markdown",
   "id": "9653db11",
   "metadata": {
    "heading_collapsed": true
   },
   "source": [
    "### Пример  1: Вычислить $y'$ для функции $x\\cos(\\ln(x))+\\sin(\\ln(x)))$"
   ]
  },
  {
   "cell_type": "code",
   "execution_count": 15,
   "id": "ce0fc347",
   "metadata": {
    "ExecuteTime": {
     "end_time": "2023-05-17T09:05:23.249518Z",
     "start_time": "2023-05-17T09:05:21.694099Z"
    },
    "hidden": true,
    "scrolled": true
   },
   "outputs": [
    {
     "data": {
      "text/latex": [
       "$\\displaystyle х \\left(- \\frac{\\sin{\\left(\\log{\\left(х \\right)} \\right)}}{х} + \\frac{\\cos{\\left(\\log{\\left(х \\right)} \\right)}}{х}\\right) + \\sin{\\left(\\log{\\left(х \\right)} \\right)} + \\cos{\\left(\\log{\\left(х \\right)} \\right)}$"
      ],
      "text/plain": [
       "х*(-sin(log(х))/х + cos(log(х))/х) + sin(log(х)) + cos(log(х))"
      ]
     },
     "execution_count": 15,
     "metadata": {},
     "output_type": "execute_result"
    }
   ],
   "source": [
    "x = sp.symbols('х')\n",
    "y = x*(sp.cos(sp.log(x))+sp.sin(sp.log(x)))\n",
    "sp.diff(y,x)"
   ]
  },
  {
   "cell_type": "code",
   "execution_count": 79,
   "id": "b7b79776",
   "metadata": {
    "hidden": true,
    "scrolled": false
   },
   "outputs": [
    {
     "data": {
      "text/latex": [
       "$\\displaystyle 2 \\cos{\\left(\\log{\\left(х \\right)} \\right)}$"
      ],
      "text/plain": [
       "2*cos(log(х))"
      ]
     },
     "execution_count": 79,
     "metadata": {},
     "output_type": "execute_result"
    }
   ],
   "source": [
    "diff(y,x).simplify()"
   ]
  },
  {
   "cell_type": "markdown",
   "id": "803ba210",
   "metadata": {
    "heading_collapsed": true
   },
   "source": [
    "### Пример  5: Решить уравнение $y'(x) = 0$, где $y(x) = max\\{x^2-2x+3; 2x^2-5x-1\\}$"
   ]
  },
  {
   "cell_type": "code",
   "execution_count": 10,
   "id": "28db44e8",
   "metadata": {
    "ExecuteTime": {
     "end_time": "2023-05-16T21:31:55.158037Z",
     "start_time": "2023-05-16T21:31:54.191214Z"
    },
    "hidden": true,
    "scrolled": false
   },
   "outputs": [
    {
     "data": {
      "image/png": "[encoded data removed]",
      "text/plain": [
       "<Figure size 640x480 with 1 Axes>"
      ]
     },
     "metadata": {},
     "output_type": "display_data"
    }
   ],
   "source": [
    "f1 = lambda х: х**2-2*х+3\n",
    "f2 = lambda х: 2*х**2-5*х-1\n",
    "x = np.linspace(-3, 5.5, 50)\n",
    "y1 = f1(x)\n",
    "plt.plot(x,y1, label = \"f1\")\n",
    "y2 = f2(x)\n",
    "plt.plot(x,y2, label = \"f2\")\n",
    "plt.legend()\n",
    "plt.show()"
   ]
  },
  {
   "cell_type": "code",
   "execution_count": 81,
   "id": "de3eaa2a",
   "metadata": {
    "hidden": true
   },
   "outputs": [
    {
     "data": {
      "text/plain": [
       "True"
      ]
     },
     "execution_count": 81,
     "metadata": {},
     "output_type": "execute_result"
    }
   ],
   "source": [
    "f1(-1) == f2(-1)"
   ]
  },
  {
   "cell_type": "code",
   "execution_count": 7,
   "id": "ffa68f0f",
   "metadata": {
    "ExecuteTime": {
     "end_time": "2023-05-16T21:30:30.149945Z",
     "start_time": "2023-05-16T21:30:30.118697Z"
    },
    "hidden": true
   },
   "outputs": [
    {
     "data": {
      "text/plain": [
       "True"
      ]
     },
     "execution_count": 7,
     "metadata": {},
     "output_type": "execute_result"
    }
   ],
   "source": [
    "f1(-1) == f2(-1)"
   ]
  },
  {
   "cell_type": "code",
   "execution_count": 8,
   "id": "ff960100",
   "metadata": {
    "ExecuteTime": {
     "end_time": "2023-05-16T21:30:34.940708Z",
     "start_time": "2023-05-16T21:30:34.846449Z"
    },
    "hidden": true
   },
   "outputs": [
    {
     "data": {
      "text/latex": [
       "$\\displaystyle 4 x - 5$"
      ],
      "text/plain": [
       "4*x - 5"
      ]
     },
     "execution_count": 8,
     "metadata": {},
     "output_type": "execute_result"
    }
   ],
   "source": [
    "x = symbols('x')\n",
    "f1 = x**2-2*x+3\n",
    "f2 = 2*x**2-5*x-1\n",
    "\n",
    "y_diff1 = diff(f2,x)\n",
    "y_diff1"
   ]
  },
  {
   "cell_type": "code",
   "execution_count": null,
   "id": "0a09e8ca",
   "metadata": {
    "hidden": true
   },
   "outputs": [],
   "source": [
    "y_diff2 = diff(f1,x)\n",
    "y_diff2"
   ]
  },
  {
   "cell_type": "markdown",
   "id": "dbda5ab9",
   "metadata": {
    "heading_collapsed": true
   },
   "source": [
    "### Пример  7: Показать, что функция $y = xsinx$ удовлетворяет уравнению $\\frac{y'}{cosx} - x = tgx$"
   ]
  },
  {
   "cell_type": "code",
   "execution_count": 12,
   "id": "be13698c",
   "metadata": {
    "ExecuteTime": {
     "end_time": "2023-05-16T21:32:22.908545Z",
     "start_time": "2023-05-16T21:32:22.766744Z"
    },
    "hidden": true
   },
   "outputs": [
    {
     "data": {
      "text/latex": [
       "$\\displaystyle \\tan{\\left(х \\right)}$"
      ],
      "text/plain": [
       "tan(х)"
      ]
     },
     "execution_count": 12,
     "metadata": {},
     "output_type": "execute_result"
    }
   ],
   "source": [
    "x, y = symbols('х у')\n",
    "y = x*sin(x)\n",
    "yprim = diff(y, x)\n",
    "f = yprim/cos(x) - x\n",
    "f.simplify()"
   ]
  },
  {
   "cell_type": "markdown",
   "id": "b9c2d9bf",
   "metadata": {
    "hidden": true
   },
   "source": [
    "Оно совпадает с функцией $ tg x$."
   ]
  },
  {
   "cell_type": "markdown",
   "id": "0be97192",
   "metadata": {
    "heading_collapsed": true
   },
   "source": [
    "### Пример  13: Написать уравнения касательных к графику функции $y=(x^2+1)(x-2)$ в точках её пересечения с осями координат."
   ]
  },
  {
   "cell_type": "markdown",
   "id": "fd7fa379",
   "metadata": {
    "hidden": true
   },
   "source": [
    "Решение. В данной задаче для поиска точек пересечения с осями координат придется решать уравнение у = 0. При этом, среди корней, возвращаемых функцией solve(), могут быть комплексные. Для нашей задачи такие корни являются посторонними. Чтобы функция не выдавала комплексные корни, объявим символьную переменную действительного типа (параметр: real = True)."
   ]
  },
  {
   "cell_type": "code",
   "execution_count": 14,
   "id": "1e9e0e71",
   "metadata": {
    "ExecuteTime": {
     "end_time": "2023-05-16T21:34:28.479565Z",
     "start_time": "2023-05-16T21:34:28.457889Z"
    },
    "hidden": true
   },
   "outputs": [],
   "source": [
    "x = symbols('x', real=True)\n",
    "y = (x**2 + 1)*(x - 2)"
   ]
  },
  {
   "cell_type": "code",
   "execution_count": 19,
   "id": "bfd5944e",
   "metadata": {
    "ExecuteTime": {
     "end_time": "2023-05-16T21:36:52.712277Z",
     "start_time": "2023-05-16T21:36:52.669122Z"
    },
    "hidden": true
   },
   "outputs": [
    {
     "data": {
      "text/latex": [
       "$\\displaystyle - x + y + 2$"
      ],
      "text/plain": [
       "-x + y + 2"
      ]
     },
     "execution_count": 19,
     "metadata": {},
     "output_type": "execute_result"
    }
   ],
   "source": [
    "''' 1. Точка пересечения с осью ординат (х = 0) '''\n",
    "tangent(y, 0).equation()"
   ]
  },
  {
   "cell_type": "code",
   "execution_count": 21,
   "id": "28f4c607",
   "metadata": {
    "ExecuteTime": {
     "end_time": "2023-05-16T21:37:17.227265Z",
     "start_time": "2023-05-16T21:37:17.152282Z"
    },
    "hidden": true
   },
   "outputs": [
    {
     "data": {
      "text/latex": [
       "$\\displaystyle - 5 x + y + 10$"
      ],
      "text/plain": [
       "-5*x + y + 10"
      ]
     },
     "execution_count": 21,
     "metadata": {},
     "output_type": "execute_result"
    }
   ],
   "source": [
    "''' 2. Точка пересечения с осью абсцисс, решаем уравнение: у - 0 '''\n",
    "хр = solve(y, x)\n",
    "tangent(y, хр[0]).equation()"
   ]
  },
  {
   "cell_type": "code",
   "execution_count": 22,
   "id": "ba1f5ab7",
   "metadata": {
    "ExecuteTime": {
     "end_time": "2023-05-16T21:37:38.159574Z",
     "start_time": "2023-05-16T21:37:37.246081Z"
    },
    "hidden": true,
    "scrolled": true
   },
   "outputs": [
    {
     "data": {
      "image/png": "[encoded data removed]",
      "text/plain": [
       "<Figure size 640x480 with 1 Axes>"
      ]
     },
     "metadata": {},
     "output_type": "display_data"
    }
   ],
   "source": [
    "x = np.linspace(-1.5,3.5,100)\n",
    "y = (x**2 + 1)*(x - 2)\n",
    "plt.plot(x, y, lw=2, color='red')\n",
    "x = np.linspace(-1.5,3.3,100)\n",
    "y1 = x - 2\n",
    "plt.plot(x, y1, lw=2, color='green')\n",
    "\n",
    "x = np.linspace(-0.3,3.5,100)\n",
    "y2 = 5*x - 10\n",
    "plt.plot(x, y2, lw=2, color='blue')\n",
    "plt.plot([0], [-2], 'o', color='0.4')\n",
    "plt.plot([2], [0], 'o', color='y')\n",
    "plt.grid(True)\n",
    "plt.show()"
   ]
  },
  {
   "cell_type": "markdown",
   "id": "a4c959f2",
   "metadata": {
    "heading_collapsed": true
   },
   "source": [
    "### Пример  15: Составить уравнение касательной и нормали к кривой в точке. $M(1;-1)$. $x^{2}+2xy^{2}+3y^{4}=6$"
   ]
  },
  {
   "cell_type": "code",
   "execution_count": 56,
   "id": "2c2d3fe8",
   "metadata": {
    "ExecuteTime": {
     "end_time": "2023-05-16T21:55:42.136762Z",
     "start_time": "2023-05-16T21:55:41.846599Z"
    },
    "hidden": true
   },
   "outputs": [
    {
     "data": {
      "text/latex": [
       "$\\displaystyle - \\frac{x}{4} + y + \\frac{5}{4}$"
      ],
      "text/plain": [
       "-x/4 + y + 5/4"
      ]
     },
     "execution_count": 56,
     "metadata": {},
     "output_type": "execute_result"
    }
   ],
   "source": [
    "x, y = symbols('x y')\n",
    "f = x**2 +2*x*y**2 + 3*y**4 - 6\n",
    "\n",
    "''' Точка касания '''\n",
    "x0, y0 = 1, -1\n",
    "\n",
    "''' Производная неявной функции в точке (х0;у0)'''\n",
    "k = idiff(f,y,x).subs([(x,1),(y,-1)])\n",
    "x1 = x0 + 1\n",
    "y1 = y0 + k\n",
    "\n",
    "''' Касательная '''\n",
    "l = Line((x0,y0), (x1,y1))\n",
    "l.equation()"
   ]
  },
  {
   "cell_type": "code",
   "execution_count": 58,
   "id": "2b35d2b1",
   "metadata": {
    "ExecuteTime": {
     "end_time": "2023-05-16T21:56:18.989534Z",
     "start_time": "2023-05-16T21:56:18.948709Z"
    },
    "hidden": true
   },
   "outputs": [
    {
     "data": {
      "text/latex": [
       "$\\displaystyle - x - \\frac{y}{4} + \\frac{3}{4}$"
      ],
      "text/plain": [
       "-x - y/4 + 3/4"
      ]
     },
     "execution_count": 58,
     "metadata": {},
     "output_type": "execute_result"
    }
   ],
   "source": [
    "''' Нормаль '''\n",
    "p = Point(x0,y0)\n",
    "l.perpendicular_line(p).equation()"
   ]
  },
  {
   "cell_type": "code",
   "execution_count": 62,
   "id": "ee909486",
   "metadata": {
    "ExecuteTime": {
     "end_time": "2023-05-16T21:58:38.461765Z",
     "start_time": "2023-05-16T21:58:37.323989Z"
    },
    "hidden": true
   },
   "outputs": [
    {
     "data": {
      "image/png": "[encoded data removed]",
      "text/plain": [
       "<Figure size 640x480 with 1 Axes>"
      ]
     },
     "metadata": {},
     "output_type": "display_data"
    }
   ],
   "source": [
    "x = np.linspace(-4, 4, 50)\n",
    "y = np.linspace(-2, 2, 50)\n",
    "\n",
    "x, y = np.meshgrid(x, y)\n",
    "f = x**2 + 2*x*y**2 + 3*y**4 - 6\n",
    "plt.contour(x, y, f, 0, colors='r')\n",
    "x = np.linspace(-3,3,50)\n",
    "y2 = x/4 - 5/4\n",
    "\n",
    "plt.plot(x,y2,'--',c='b')\n",
    "x = np.linspace(0.1,1.3,50)\n",
    "y3 = 3 - 4*x\n",
    "\n",
    "plt.plot(x, y3, c='g')\n",
    "plt.xlabel('x'); plt.ylabel('y')\n",
    "plt.grid(True, linestyle='-', color='0.4')"
   ]
  },
  {
   "cell_type": "markdown",
   "id": "0c53a06e",
   "metadata": {
    "heading_collapsed": true
   },
   "source": [
    "### Пример  21: При каком значении параметра $a$ парабола $y = ax^2$ касается кривой $y = lnx$?"
   ]
  },
  {
   "cell_type": "code",
   "execution_count": 24,
   "id": "39bbdb3d",
   "metadata": {
    "ExecuteTime": {
     "end_time": "2023-05-16T21:39:58.961738Z",
     "start_time": "2023-05-16T21:39:58.528587Z"
    },
    "hidden": true
   },
   "outputs": [
    {
     "data": {
      "text/plain": [
       "[(exp(1/2), exp(-1)/2)]"
      ]
     },
     "execution_count": 24,
     "metadata": {},
     "output_type": "execute_result"
    }
   ],
   "source": [
    "x, a, x0 = symbols('x а х0')\n",
    "\n",
    "y1 = a*x**2\n",
    "y2 = log(x)\n",
    "\n",
    "y1_diff = diff(y1,x).subs(x,x0)\n",
    "y2_diff = diff(y2,x).subs(x,x0)\n",
    "\n",
    "y1_0 = y1.subs(x,x0)\n",
    "y2_0 = y2.subs(x,x0)\n",
    "\n",
    "solve([y1_0-y2_0, y1_diff-y2_diff], [x0, a])"
   ]
  },
  {
   "cell_type": "code",
   "execution_count": 26,
   "id": "a856c9db",
   "metadata": {
    "ExecuteTime": {
     "end_time": "2023-05-16T21:40:29.497330Z",
     "start_time": "2023-05-16T21:40:28.617040Z"
    },
    "hidden": true
   },
   "outputs": [
    {
     "data": {
      "image/png": "[encoded data removed]",
      "text/plain": [
       "<Figure size 640x480 with 1 Axes>"
      ]
     },
     "metadata": {},
     "output_type": "display_data"
    }
   ],
   "source": [
    "x = np.linspace(-4, 6, 500)\n",
    "y = x**2/(2*np.exp(1))\n",
    "plt.plot(x, y, lw=2, c='r')\n",
    "x = np.linspace(0.03, 6, 100)\n",
    "y = np.log(x)\n",
    "plt.plot(x, y, lw=2, c='b')\n",
    "plt.grid(True, linestyle='-', color='0.4')\n",
    "plt.show()"
   ]
  },
  {
   "cell_type": "markdown",
   "id": "ea861346",
   "metadata": {
    "hidden": true
   },
   "source": [
    "Ответ: $a = \\frac{1}{2e}$"
   ]
  },
  {
   "cell_type": "markdown",
   "id": "173b5bf7",
   "metadata": {
    "heading_collapsed": true
   },
   "source": [
    "### Пример  23: Исследовать на экстремум функцию $y = \\sqrt[3]{x} \\times lnx$."
   ]
  },
  {
   "cell_type": "code",
   "execution_count": 28,
   "id": "41229c6a",
   "metadata": {
    "ExecuteTime": {
     "end_time": "2023-05-16T21:42:13.661543Z",
     "start_time": "2023-05-16T21:42:12.829301Z"
    },
    "hidden": true
   },
   "outputs": [
    {
     "data": {
      "image/png": "[encoded data removed]",
      "text/plain": [
       "<Figure size 640x480 with 1 Axes>"
      ]
     },
     "metadata": {},
     "output_type": "display_data"
    }
   ],
   "source": [
    "f = lambda x: (x**(1/3))*np.log(x)\n",
    "\n",
    "x = np.linspace(0.0001,1,100)\n",
    "y = f(x)\n",
    "plt.plot(x, y)\n",
    "plt.show()"
   ]
  },
  {
   "cell_type": "code",
   "execution_count": 33,
   "id": "fbbd25ae",
   "metadata": {
    "ExecuteTime": {
     "end_time": "2023-05-16T21:43:10.964043Z",
     "start_time": "2023-05-16T21:43:10.918079Z"
    },
    "hidden": true
   },
   "outputs": [
    {
     "name": "stdout",
     "output_type": "stream",
     "text": [
      "xmin: 0.0498 y(x_min): -1.104\n"
     ]
    }
   ],
   "source": [
    "res = minimize(f, 0.01)\n",
    "print('xmin: %.4f y(x_min): %.3f' % (res.x, f(res.x)))"
   ]
  },
  {
   "cell_type": "code",
   "execution_count": 34,
   "id": "7fda7b6c",
   "metadata": {
    "ExecuteTime": {
     "end_time": "2023-05-16T21:43:12.165982Z",
     "start_time": "2023-05-16T21:43:12.116863Z"
    },
    "hidden": true
   },
   "outputs": [
    {
     "name": "stdout",
     "output_type": "stream",
     "text": [
      "xmin: 0.0498 y(x_min): -1.104\n"
     ]
    }
   ],
   "source": [
    "res = minimize(f, 0.01)\n",
    "print('xmin: %.4f y(x_min): %.3f' % (res.x, f(res.x)))"
   ]
  },
  {
   "cell_type": "markdown",
   "id": "c0768310",
   "metadata": {
    "heading_collapsed": true
   },
   "source": [
    "### Пример  31: Найти производную функции $w = \\frac{x^2}{2} + \\frac{y^2}{9} - z^2$ в точке $A(1;2)$ по направлению радиус-вектора этой точки."
   ]
  },
  {
   "cell_type": "code",
   "execution_count": 35,
   "id": "2020941b",
   "metadata": {
    "ExecuteTime": {
     "end_time": "2023-05-16T21:44:22.160696Z",
     "start_time": "2023-05-16T21:44:21.990483Z"
    },
    "hidden": true
   },
   "outputs": [
    {
     "data": {
      "text/latex": [
       "$\\displaystyle \\frac{2 \\sqrt{14}}{7}$"
      ],
      "text/plain": [
       "2*sqrt(14)/7"
      ]
     },
     "execution_count": 35,
     "metadata": {},
     "output_type": "execute_result"
    }
   ],
   "source": [
    "l = Point(2,3,1)\n",
    "\n",
    "l_n = l.distance(Point(0,0,0))\n",
    "\n",
    "cos_a = l.x/l_n\n",
    "cos_b = l.y/l_n\n",
    "cos_c = l.z/l_n\n",
    "\n",
    "x,y,z = symbols('x у z')\n",
    "w = x**2/2 + y**2/9 - z**2\n",
    "\n",
    "w_x = diff(w,x).subs({x:2, y:3, z:1})\n",
    "w_y = diff(w,y).subs({x:2, y:3, z:1})\n",
    "w_z = diff(w,z).subs({x:2, y:3, z:1})\n",
    "\n",
    "w_x = diff(w,x).subs([(x,2),(y,3),(z,1)])\n",
    "w_y = diff(w,y).subs([(x,2),(y,3),(z,1)])\n",
    "w_z = diff(w,z).subs([(x,2),(y,3),(z,1)])\n",
    "\n",
    "w_l = w_x*cos_a + w_y*cos_b + w_z*cos_c\n",
    "w_l"
   ]
  },
  {
   "cell_type": "markdown",
   "id": "ef81d94a",
   "metadata": {
    "heading_collapsed": true
   },
   "source": [
    "### Пример  40: Найти экстремумы функции $z = x^2 -4xy - 2y^2 + 8x$."
   ]
  },
  {
   "cell_type": "code",
   "execution_count": 47,
   "id": "ec004325",
   "metadata": {
    "ExecuteTime": {
     "end_time": "2023-05-16T21:49:44.829299Z",
     "start_time": "2023-05-16T21:49:44.645853Z"
    },
    "hidden": true
   },
   "outputs": [
    {
     "data": {
      "text/plain": [
       "[{x: -4/3, y: 4/3}]"
      ]
     },
     "execution_count": 47,
     "metadata": {},
     "output_type": "execute_result"
    }
   ],
   "source": [
    "x, y = symbols('x y')\n",
    "z = x**2 - 4*x*y - 2*y**2 + 8*x\n",
    "cr_point, A, D = critical_points(z)\n",
    "cr_point"
   ]
  },
  {
   "cell_type": "markdown",
   "id": "5864fbfe",
   "metadata": {
    "hidden": true
   },
   "source": [
    "Одна критическая точка"
   ]
  },
  {
   "cell_type": "code",
   "execution_count": 48,
   "id": "3a007abd",
   "metadata": {
    "ExecuteTime": {
     "end_time": "2023-05-16T21:49:46.295458Z",
     "start_time": "2023-05-16T21:49:46.259878Z"
    },
    "hidden": true
   },
   "outputs": [
    {
     "data": {
      "text/plain": [
       "(-24, 2)"
      ]
     },
     "execution_count": 48,
     "metadata": {},
     "output_type": "execute_result"
    }
   ],
   "source": [
    "D0, A0 = suff_indic(A, D, cr_point[0])\n",
    "D0, A0"
   ]
  },
  {
   "cell_type": "markdown",
   "id": "b5db999c",
   "metadata": {
    "hidden": true
   },
   "source": [
    "$\\Delta = -24 < 0$ - экстремума нет"
   ]
  },
  {
   "cell_type": "markdown",
   "id": "aa34e7a5",
   "metadata": {
    "heading_collapsed": true
   },
   "source": [
    "### Пример  47: Функция спроса $D$ и предложения $S$ от цены $p$ имеют вид: $D(p) = 40 - 1,3p$, $S(p) = 20 + 1,2p$. Найти эластичность спроса в точке равновенсой цены."
   ]
  },
  {
   "cell_type": "code",
   "execution_count": 50,
   "id": "db6bd556",
   "metadata": {
    "ExecuteTime": {
     "end_time": "2023-05-16T21:50:51.023365Z",
     "start_time": "2023-05-16T21:50:50.957053Z"
    },
    "hidden": true
   },
   "outputs": [
    {
     "data": {
      "text/latex": [
       "$\\displaystyle 8.0$"
      ],
      "text/plain": [
       "8.0"
      ]
     },
     "execution_count": 50,
     "metadata": {},
     "output_type": "execute_result"
    }
   ],
   "source": [
    "p = symbols('р')\n",
    "D = 40 - 1.3*p\n",
    "S = 20 + 1.2*p\n",
    "p0 = solve(D-S,p)\n",
    "p0[0].n(2)"
   ]
  },
  {
   "cell_type": "code",
   "execution_count": null,
   "id": "9dfbeeb8",
   "metadata": {
    "ExecuteTime": {
     "end_time": "2023-05-17T08:43:30.222417Z",
     "start_time": "2023-05-17T08:43:30.222295Z"
    },
    "hidden": true
   },
   "outputs": [],
   "source": [
    "Dprim = diff(D,p)\n",
    "E = (p*Dprim/D).subs(p,p0[0])\n",
    "E.n(3)"
   ]
  },
  {
   "cell_type": "markdown",
   "id": "f59f4f6f",
   "metadata": {},
   "source": [
    "## Задачи для самостоятельного решения"
   ]
  },
  {
   "attachments": {},
   "cell_type": "markdown",
   "id": "39439bd6",
   "metadata": {
    "heading_collapsed": true
   },
   "source": [
    "### 1: Найти $ y' $ для функции $y = \\frac{x^{2}-1}{x^{2}+1}$"
   ]
  },
  {
   "cell_type": "code",
   "execution_count": 20,
   "id": "51c79c48",
   "metadata": {
    "ExecuteTime": {
     "end_time": "2023-05-17T09:15:18.745646Z",
     "start_time": "2023-05-17T09:15:18.687939Z"
    },
    "hidden": true
   },
   "outputs": [
    {
     "data": {
      "text/latex": [
       "$\\displaystyle - \\frac{2 х \\left(х^{2} - 1\\right)}{\\left(х^{2} + 1\\right)^{2}} + \\frac{2 х}{х^{2} + 1}$"
      ],
      "text/plain": [
       "-2*х*(х**2 - 1)/(х**2 + 1)**2 + 2*х/(х**2 + 1)"
      ]
     },
     "execution_count": 20,
     "metadata": {},
     "output_type": "execute_result"
    }
   ],
   "source": [
    "x = sp.symbols('х')\n",
    "y = (x**2-1)/(x**2+1)\n",
    "sp.diff(y,x)"
   ]
  },
  {
   "cell_type": "code",
   "execution_count": 19,
   "id": "dc5f5380",
   "metadata": {
    "ExecuteTime": {
     "end_time": "2023-05-17T09:07:35.436058Z",
     "start_time": "2023-05-17T09:07:35.139682Z"
    },
    "hidden": true
   },
   "outputs": [
    {
     "data": {
      "text/latex": [
       "$\\displaystyle \\frac{4 х}{\\left(х^{2} + 1\\right)^{2}}$"
      ],
      "text/plain": [
       "4*х/(х**2 + 1)**2"
      ]
     },
     "execution_count": 19,
     "metadata": {},
     "output_type": "execute_result"
    }
   ],
   "source": [
    "sp.diff(y,x).simplify()"
   ]
  },
  {
   "cell_type": "markdown",
   "id": "aaefa366",
   "metadata": {
    "hidden": true
   },
   "source": [
    "#### Ответ: "
   ]
  },
  {
   "cell_type": "markdown",
   "id": "bab45029",
   "metadata": {
    "hidden": true
   },
   "source": [
    "$ - \\frac{2x(x^{2}-1)}{(x^{2}+1)^{2}} + \\frac{2x}{x^{2}+1}$"
   ]
  },
  {
   "attachments": {},
   "cell_type": "markdown",
   "id": "3ec4951b",
   "metadata": {
    "heading_collapsed": true
   },
   "source": [
    "### 2: Найти вторую производную функции  $ y = xe^{x^{2}} $"
   ]
  },
  {
   "cell_type": "code",
   "execution_count": 30,
   "id": "9a9b9317",
   "metadata": {
    "ExecuteTime": {
     "end_time": "2023-05-17T09:23:31.231140Z",
     "start_time": "2023-05-17T09:23:31.186387Z"
    },
    "hidden": true
   },
   "outputs": [
    {
     "data": {
      "text/latex": [
       "$\\displaystyle 2 х^{2} e^{х^{2}} + e^{х^{2}}$"
      ],
      "text/plain": [
       "2*х**2*exp(х**2) + exp(х**2)"
      ]
     },
     "execution_count": 30,
     "metadata": {},
     "output_type": "execute_result"
    }
   ],
   "source": [
    "x = sp.symbols('х')\n",
    "y = x * sp.exp(x**2)\n",
    "sp.diff(y,x)"
   ]
  },
  {
   "cell_type": "markdown",
   "id": "de9a501c",
   "metadata": {
    "hidden": true
   },
   "source": [
    "#### Ответ: "
   ]
  },
  {
   "cell_type": "markdown",
   "id": "0f27f38c",
   "metadata": {
    "hidden": true
   },
   "source": [
    "$ 2x^{2}e^{x^{2}+e^{x^{2}}} $"
   ]
  },
  {
   "attachments": {},
   "cell_type": "markdown",
   "id": "4b54e7d9",
   "metadata": {
    "heading_collapsed": true
   },
   "source": [
    "### 3: Найти $ y' $ для функции $ y = \\frac{x^{2}}{1-x} $"
   ]
  },
  {
   "cell_type": "code",
   "execution_count": 26,
   "id": "4de928a5",
   "metadata": {
    "ExecuteTime": {
     "end_time": "2023-05-17T09:21:08.745714Z",
     "start_time": "2023-05-17T09:21:08.701941Z"
    },
    "hidden": true
   },
   "outputs": [
    {
     "data": {
      "text/latex": [
       "$\\displaystyle \\frac{х^{2}}{\\left(1 - х\\right)^{2}} + \\frac{2 х}{1 - х}$"
      ],
      "text/plain": [
       "х**2/(1 - х)**2 + 2*х/(1 - х)"
      ]
     },
     "execution_count": 26,
     "metadata": {},
     "output_type": "execute_result"
    }
   ],
   "source": [
    "x = sp.symbols('х')\n",
    "y = (x**2)/(1-x)\n",
    "sp.diff(y,x)"
   ]
  },
  {
   "cell_type": "markdown",
   "id": "8c4618c8",
   "metadata": {
    "hidden": true
   },
   "source": [
    "#### Ответ: "
   ]
  },
  {
   "cell_type": "markdown",
   "id": "ef92ffe2",
   "metadata": {
    "hidden": true
   },
   "source": [
    "$ \\frac{x^{2}}{(1-x)^{2}}+\\frac{2x}{1-x} $"
   ]
  },
  {
   "attachments": {},
   "cell_type": "markdown",
   "id": "70b6e51f",
   "metadata": {
    "heading_collapsed": true
   },
   "source": [
    "### 4: Найти экстремумы функции $ z = x + y $ при ограничении: $ x^{2} + y^{2} = 9 $"
   ]
  },
  {
   "cell_type": "code",
   "execution_count": 47,
   "id": "8403c440",
   "metadata": {
    "ExecuteTime": {
     "end_time": "2023-05-17T09:34:18.292888Z",
     "start_time": "2023-05-17T09:34:18.014616Z"
    },
    "hidden": true
   },
   "outputs": [
    {
     "data": {
      "text/plain": [
       "[{x: 3*sqrt(2)/2, y: 3*sqrt(2)/2, lam: -sqrt(2)/6},\n",
       " {x: -3*sqrt(2)/2, y: -3*sqrt(2)/2, lam: sqrt(2)/6}]"
      ]
     },
     "execution_count": 47,
     "metadata": {},
     "output_type": "execute_result"
    }
   ],
   "source": [
    "from sympy import *\n",
    "x, y, lam = symbols('x y lam')\n",
    "\n",
    "f = x + y\n",
    "g = x**2 + y**2 - 9\n",
    "\n",
    "cr_point, D = critical_points_conditional(f, g)\n",
    "cr_point"
   ]
  },
  {
   "cell_type": "code",
   "execution_count": 51,
   "id": "0758a512",
   "metadata": {
    "ExecuteTime": {
     "end_time": "2023-05-17T09:34:45.749887Z",
     "start_time": "2023-05-17T09:34:45.712183Z"
    },
    "hidden": true
   },
   "outputs": [
    {
     "data": {
      "text/plain": [
       "[-12*sqrt(2), 12*sqrt(2)]"
      ]
     },
     "execution_count": 51,
     "metadata": {},
     "output_type": "execute_result"
    }
   ],
   "source": [
    "[D.subs(p) for p in cr_point]"
   ]
  },
  {
   "cell_type": "code",
   "execution_count": 53,
   "id": "a229dc9e",
   "metadata": {
    "ExecuteTime": {
     "end_time": "2023-05-17T09:35:10.453256Z",
     "start_time": "2023-05-17T09:35:10.410153Z"
    },
    "hidden": true
   },
   "outputs": [
    {
     "data": {
      "text/plain": [
       "[3*sqrt(2), -3*sqrt(2)]"
      ]
     },
     "execution_count": 53,
     "metadata": {},
     "output_type": "execute_result"
    }
   ],
   "source": [
    "[f.subs(p) for p in cr_point]"
   ]
  },
  {
   "cell_type": "markdown",
   "id": "4c72d197",
   "metadata": {
    "hidden": true
   },
   "source": [
    "#### Ответ: "
   ]
  },
  {
   "cell_type": "markdown",
   "id": "4147f7fa",
   "metadata": {
    "hidden": true
   },
   "source": [
    "$ z_{min} = z(-1,342; 2,683) = -10,416 $ </br>\n",
    "$ z_{max} = z(1,342; -2,683) = 16,416 $"
   ]
  },
  {
   "cell_type": "markdown",
   "id": "0edeba6d",
   "metadata": {
    "ExecuteTime": {
     "end_time": "2023-05-14T15:24:16.343544Z",
     "start_time": "2023-05-14T15:24:16.328049Z"
    }
   },
   "source": [
    "## Индивидуальное задание"
   ]
  },
  {
   "cell_type": "markdown",
   "id": "602f658d",
   "metadata": {
    "ExecuteTime": {
     "end_time": "2023-05-17T09:36:40.602473Z",
     "start_time": "2023-05-17T09:36:40.572903Z"
    }
   },
   "source": [
    "### Численное решение обыкновенных дифференциальных уравнений"
   ]
  },
  {
   "cell_type": "markdown",
   "id": "c37560af",
   "metadata": {},
   "source": [
    "Уравнения Лотки-Вольтерры"
   ]
  },
  {
   "cell_type": "code",
   "execution_count": 67,
   "id": "b8055d1c",
   "metadata": {
    "ExecuteTime": {
     "end_time": "2023-05-17T09:41:16.509411Z",
     "start_time": "2023-05-17T09:41:16.489889Z"
    }
   },
   "outputs": [],
   "source": [
    "from numpy import linspace, array\n",
    "from pylab import plot, xlabel, ylabel, legend, show"
   ]
  },
  {
   "cell_type": "markdown",
   "id": "afb67bb0",
   "metadata": {
    "ExecuteTime": {
     "end_time": "2023-05-17T09:37:33.708352Z",
     "start_time": "2023-05-17T09:37:33.676670Z"
    },
    "code_folding": []
   },
   "source": [
    "Определим функцию-вектор правых частей системы диф. уравнений, на вход она получает вектор неизвестных, время и управляющие параметры (константы). Нулевой элемент вектора является численностью жертв, а первый элемент - число хищников."
   ]
  },
  {
   "cell_type": "code",
   "execution_count": 71,
   "id": "3664efbe",
   "metadata": {
    "ExecuteTime": {
     "end_time": "2023-05-17T09:41:36.872304Z",
     "start_time": "2023-05-17T09:41:36.849282Z"
    }
   },
   "outputs": [],
   "source": [
    "def f(r, t, alpha, beta, gamma, delta):\n",
    "    x = r[0]\n",
    "    y = r[1]\n",
    "    fx = alpha*x - beta*x*y\n",
    "    fy = gamma*x*y - delta*y\n",
    "    return array([fx, fy], float)"
   ]
  },
  {
   "cell_type": "markdown",
   "id": "d61baaa9",
   "metadata": {},
   "source": [
    "Задаем эмпирические константы, шаг по времени, начальные условия $x_{0}$ и $y_{0}$. Определяем вектор неизвестных $r$."
   ]
  },
  {
   "cell_type": "code",
   "execution_count": 72,
   "id": "976bfd60",
   "metadata": {
    "ExecuteTime": {
     "end_time": "2023-05-17T09:41:39.162997Z",
     "start_time": "2023-05-17T09:41:39.133040Z"
    }
   },
   "outputs": [],
   "source": [
    "a = 0.\n",
    "b = 40.\n",
    "N = 1000\n",
    "h = (b-a)/N\n",
    "alpha = 1.\n",
    "beta = 0.5\n",
    "gamma = 0.5\n",
    "delta = 2.\n",
    "x0 = 2.\n",
    "y0 = 2.\n",
    "time = linspace(a,b,N+1)\n",
    "xpoints = []\n",
    "ypoints = []\n",
    "r = array([x0,y0], float)"
   ]
  },
  {
   "cell_type": "markdown",
   "id": "2ede72b6",
   "metadata": {
    "ExecuteTime": {
     "end_time": "2023-05-17T09:39:33.080397Z",
     "start_time": "2023-05-17T09:39:33.049125Z"
    }
   },
   "source": [
    "Основной цикл по времени позволяет вычислить численность популяций в последовательные моменты времени согласно методу Рунге-Кутты 4-го порядка точности."
   ]
  },
  {
   "cell_type": "code",
   "execution_count": 73,
   "id": "cfbbfedf",
   "metadata": {
    "ExecuteTime": {
     "end_time": "2023-05-17T09:41:41.125250Z",
     "start_time": "2023-05-17T09:41:40.852349Z"
    }
   },
   "outputs": [],
   "source": [
    "for t in time:\n",
    "    xpoints.append(r[0])\n",
    "    ypoints.append(r[1])\n",
    "    k1 = h*f(r, t, alpha, beta, gamma, delta)\n",
    "    k2 = h*f(r+0.5*k1, t+0.5*k1, alpha, beta, gamma, delta)\n",
    "    k3 = h*f(r+0.5*k2, t+0.5*k2, alpha, beta, gamma, delta)\n",
    "    k4 = h*f(r+k3, t+h, alpha, beta, gamma, delta)\n",
    "    r += (k1+2.*k2+2.*k3+k4)/6."
   ]
  },
  {
   "cell_type": "markdown",
   "id": "b4e2a38a",
   "metadata": {},
   "source": [
    "Для построения графика функции численности хищников и жертв от времени в окне браузера требуется вызвать \"магическую команду\" %matplotlib inline."
   ]
  },
  {
   "cell_type": "code",
   "execution_count": 75,
   "id": "21f76124",
   "metadata": {
    "ExecuteTime": {
     "end_time": "2023-05-17T09:43:10.862293Z",
     "start_time": "2023-05-17T09:43:09.647457Z"
    }
   },
   "outputs": [
    {
     "data": {
      "image/png": "[encoded data removed]",
      "text/plain": [
       "<Figure size 640x480 with 1 Axes>"
      ]
     },
     "metadata": {},
     "output_type": "display_data"
    }
   ],
   "source": [
    "%matplotlib inline\n",
    "\n",
    "plot(time, xpoints, 'b', label = 'x')\n",
    "plot(time, ypoints, 'r', label = 'y')\n",
    "xlabel('time')\n",
    "ylabel('x, y')\n",
    "legend()\n",
    "show()"
   ]
  }
 ],
 "metadata": {
  "hide_input": false,
  "kernelspec": {
   "display_name": "Python 3 (ipykernel)",
   "language": "python",
   "name": "python3"
  },
  "language_info": {
   "codemirror_mode": {
    "name": "ipython",
    "version": 3
   },
   "file_extension": ".py",
   "mimetype": "text/x-python",
   "name": "python",
   "nbconvert_exporter": "python",
   "pygments_lexer": "ipython3",
   "version": "3.10.6"
  },
  "nbTranslate": {
   "displayLangs": [
    "*"
   ],
   "hotkey": "alt-t",
   "langInMainMenu": true,
   "sourceLang": "en",
   "targetLang": "fr",
   "useGoogleTranslate": true
  },
  "toc": {
   "base_numbering": 1,
   "nav_menu": {},
   "number_sections": true,
   "sideBar": true,
   "skip_h1_title": false,
   "title_cell": "Table of Contents",
   "title_sidebar": "Contents",
   "toc_cell": false,
   "toc_position": {},
   "toc_section_display": true,
   "toc_window_display": false
  },
  "varInspector": {
   "cols": {
    "lenName": 16,
    "lenType": 16,
    "lenVar": 40
   },
   "kernels_config": {
    "python": {
     "delete_cmd_postfix": "",
     "delete_cmd_prefix": "del ",
     "library": "var_list.py",
     "varRefreshCmd": "print(var_dic_list())"
    },
    "r": {
     "delete_cmd_postfix": ") ",
     "delete_cmd_prefix": "rm(",
     "library": "var_list.r",
     "varRefreshCmd": "cat(var_dic_list()) "
    }
   },
   "types_to_exclude": [
    "module",
    "function",
    "builtin_function_or_method",
    "instance",
    "_Feature"
   ],
   "window_display": false
  }
 },
 "nbformat": 4,
 "nbformat_minor": 5
}
