{
 "cells": [
  {
   "cell_type": "markdown",
   "id": "883ff93f",
   "metadata": {},
   "source": [
    "# Лабораторная работа №2"
   ]
  },
  {
   "cell_type": "code",
   "execution_count": null,
   "id": "87837ab7",
   "metadata": {
    "ExecuteTime": {
     "end_time": "2023-05-17T07:02:07.374846Z",
     "start_time": "2023-05-17T07:02:07.374713Z"
    }
   },
   "outputs": [],
   "source": [
    "# подключить модуль\n",
    "import math as m\n",
    "import cmath as cmath\n",
    "import matplotlib.pyplot as plt\n",
    "from sympy import *\n",
    "from numpy import *\n",
    "from pylab import *"
   ]
  },
  {
   "cell_type": "markdown",
   "id": "8e4aec8d",
   "metadata": {
    "heading_collapsed": true
   },
   "source": [
    "## Решение задач на Python"
   ]
  },
  {
   "cell_type": "markdown",
   "id": "75ed1388",
   "metadata": {
    "heading_collapsed": true,
    "hidden": true
   },
   "source": [
    "### Математический анализ, Предел, непрерывность, Ряд"
   ]
  },
  {
   "cell_type": "markdown",
   "id": "df5cb13a",
   "metadata": {
    "ExecuteTime": {
     "end_time": "2023-05-14T12:08:52.671024Z",
     "start_time": "2023-05-14T12:08:52.654275Z"
    },
    "heading_collapsed": true,
    "hidden": true
   },
   "source": [
    "### Пример 1: Найти предел \n",
    "&nbsp;&nbsp;&nbsp;&nbsp; $ \\displaystyle \\lim_{ x \\to 0}\\frac{6x^{2} + 3x}{3x^{2}} $"
   ]
  },
  {
   "cell_type": "code",
   "execution_count": 9,
   "id": "30977848",
   "metadata": {
    "ExecuteTime": {
     "end_time": "2023-05-17T07:02:37.223405Z",
     "start_time": "2023-05-17T07:02:36.527735Z"
    },
    "hidden": true
   },
   "outputs": [
    {
     "data": {
      "text/latex": [
       "$\\displaystyle 2$"
      ],
      "text/plain": [
       "2"
      ]
     },
     "execution_count": 9,
     "metadata": {},
     "output_type": "execute_result"
    }
   ],
   "source": [
    "from sympy import *\n",
    "\n",
    "x=Symbol (\"x\")\n",
    "limit((6*x**2+3 *x)/(3 *x**2),x,oo)"
   ]
  },
  {
   "cell_type": "markdown",
   "id": "d63bb143",
   "metadata": {
    "ExecuteTime": {
     "end_time": "2023-05-14T12:06:28.419230Z",
     "start_time": "2023-05-14T12:06:28.402190Z"
    },
    "heading_collapsed": true,
    "hidden": true
   },
   "source": [
    "### Пример 2: Вычислить пределы:\n",
    "&nbsp;&nbsp;&nbsp;&nbsp; $ \\displaystyle \\lim_{ x \\to 0}\\frac{\\sin x}{x} =  \\mathrm{lim} _{x \\to 0} \\frac{x}{\\sin x} = 1  $"
   ]
  },
  {
   "cell_type": "code",
   "execution_count": 10,
   "id": "f978088d",
   "metadata": {
    "ExecuteTime": {
     "end_time": "2023-05-17T07:02:38.797981Z",
     "start_time": "2023-05-17T07:02:38.748797Z"
    },
    "hidden": true
   },
   "outputs": [
    {
     "data": {
      "text/latex": [
       "$\\displaystyle 1$"
      ],
      "text/plain": [
       "1"
      ]
     },
     "execution_count": 10,
     "metadata": {},
     "output_type": "execute_result"
    }
   ],
   "source": [
    "limit(sin(x)/x,x,0)"
   ]
  },
  {
   "cell_type": "code",
   "execution_count": 11,
   "id": "adb1be8b",
   "metadata": {
    "ExecuteTime": {
     "end_time": "2023-05-17T07:02:39.550764Z",
     "start_time": "2023-05-17T07:02:39.456434Z"
    },
    "hidden": true
   },
   "outputs": [
    {
     "data": {
      "text/latex": [
       "$\\displaystyle e$"
      ],
      "text/plain": [
       "E"
      ]
     },
     "execution_count": 11,
     "metadata": {},
     "output_type": "execute_result"
    }
   ],
   "source": [
    "limit((1+x)**(1/x),x,0)"
   ]
  },
  {
   "cell_type": "code",
   "execution_count": 12,
   "id": "5e86870c",
   "metadata": {
    "ExecuteTime": {
     "end_time": "2023-05-17T07:02:40.122592Z",
     "start_time": "2023-05-17T07:02:40.082908Z"
    },
    "hidden": true
   },
   "outputs": [
    {
     "data": {
      "text/latex": [
       "$\\displaystyle e$"
      ],
      "text/plain": [
       "E"
      ]
     },
     "execution_count": 12,
     "metadata": {},
     "output_type": "execute_result"
    }
   ],
   "source": [
    "limit((1+1/x)**x,x,oo)"
   ]
  },
  {
   "cell_type": "markdown",
   "id": "abe3eb24",
   "metadata": {
    "ExecuteTime": {
     "end_time": "2023-05-14T12:06:28.419230Z",
     "start_time": "2023-05-14T12:06:28.402190Z"
    },
    "heading_collapsed": true,
    "hidden": true
   },
   "source": [
    "### Пример 3: Найдем левосторонний предел Заметим, что вместо dir = '-' можно поставить просто '-'"
   ]
  },
  {
   "cell_type": "code",
   "execution_count": 13,
   "id": "4b8b2fd1",
   "metadata": {
    "ExecuteTime": {
     "end_time": "2023-05-17T07:02:41.621079Z",
     "start_time": "2023-05-17T07:02:41.587723Z"
    },
    "hidden": true,
    "scrolled": true
   },
   "outputs": [
    {
     "data": {
      "text/latex": [
       "$\\displaystyle -\\infty$"
      ],
      "text/plain": [
       "-oo"
      ]
     },
     "execution_count": 13,
     "metadata": {},
     "output_type": "execute_result"
    }
   ],
   "source": [
    "limit(1/x, x, 0, '-')"
   ]
  },
  {
   "cell_type": "markdown",
   "id": "6c62eacc",
   "metadata": {
    "ExecuteTime": {
     "end_time": "2023-05-14T12:06:28.419230Z",
     "start_time": "2023-05-14T12:06:28.402190Z"
    },
    "heading_collapsed": true,
    "hidden": true
   },
   "source": [
    "### Пример 4: Найти левосторонний и правосторонний пределы функции\n",
    "&nbsp;&nbsp;&nbsp;&nbsp; <font size=4> $ \\frac{2^{2} - 1}{x^{2} - 3x} $ </font> при $x \\to 3$"
   ]
  },
  {
   "cell_type": "code",
   "execution_count": 14,
   "id": "d87f3462",
   "metadata": {
    "ExecuteTime": {
     "end_time": "2023-05-17T07:02:43.310683Z",
     "start_time": "2023-05-17T07:02:42.916870Z"
    },
    "hidden": true
   },
   "outputs": [
    {
     "data": {
      "text/latex": [
       "$\\displaystyle \\infty$"
      ],
      "text/plain": [
       "oo"
      ]
     },
     "execution_count": 14,
     "metadata": {},
     "output_type": "execute_result"
    }
   ],
   "source": [
    "limit((2**x-1)/(x**2-3*x), x, 3, '+')"
   ]
  },
  {
   "cell_type": "code",
   "execution_count": 15,
   "id": "104c04df",
   "metadata": {
    "ExecuteTime": {
     "end_time": "2023-05-17T07:02:44.248331Z",
     "start_time": "2023-05-17T07:02:44.095622Z"
    },
    "hidden": true
   },
   "outputs": [
    {
     "data": {
      "text/latex": [
       "$\\displaystyle -\\infty$"
      ],
      "text/plain": [
       "-oo"
      ]
     },
     "execution_count": 15,
     "metadata": {},
     "output_type": "execute_result"
    }
   ],
   "source": [
    "limit((2**x-1)/(x**2-3*x), x, 3, '-')"
   ]
  },
  {
   "cell_type": "markdown",
   "id": "e33b4474",
   "metadata": {
    "ExecuteTime": {
     "end_time": "2023-05-14T12:06:28.419230Z",
     "start_time": "2023-05-14T12:06:28.402190Z"
    },
    "heading_collapsed": true,
    "hidden": true
   },
   "source": [
    "### Пример 5: Отметим, что односторонние пределы используются при решении задач на исследование типов точек разрыва функции"
   ]
  },
  {
   "cell_type": "code",
   "execution_count": 16,
   "id": "f0d02672",
   "metadata": {
    "ExecuteTime": {
     "end_time": "2023-05-17T07:02:49.040796Z",
     "start_time": "2023-05-17T07:02:47.025292Z"
    },
    "hidden": true
   },
   "outputs": [
    {
     "data": {
      "text/latex": [
       "$\\displaystyle \\frac{5}{3}$"
      ],
      "text/plain": [
       "5/3"
      ]
     },
     "execution_count": 16,
     "metadata": {},
     "output_type": "execute_result"
    }
   ],
   "source": [
    "from sympy import *\n",
    "\n",
    "х=Symbol( \"х\")\n",
    "limit((5**x-5*7**x)/(4*5**x-3*7**x), x, oo)"
   ]
  },
  {
   "cell_type": "code",
   "execution_count": 17,
   "id": "5c49f61c",
   "metadata": {
    "ExecuteTime": {
     "end_time": "2023-05-17T07:02:51.953329Z",
     "start_time": "2023-05-17T07:02:49.817845Z"
    },
    "hidden": true
   },
   "outputs": [
    {
     "data": {
      "text/latex": [
       "$\\displaystyle - \\frac{1}{3}$"
      ],
      "text/plain": [
       "-1/3"
      ]
     },
     "execution_count": 17,
     "metadata": {},
     "output_type": "execute_result"
    }
   ],
   "source": [
    "from sympy import *\n",
    "\n",
    "x=Symbol(\"x\")\n",
    "limit((7*8**x+2*9**x)/(6*8**x-6*9**x), x, -oo)"
   ]
  },
  {
   "cell_type": "code",
   "execution_count": 18,
   "id": "18e3e2ca",
   "metadata": {
    "ExecuteTime": {
     "end_time": "2023-05-17T07:02:56.384233Z",
     "start_time": "2023-05-17T07:02:52.719677Z"
    },
    "hidden": true
   },
   "outputs": [
    {
     "data": {
      "text/latex": [
       "$\\displaystyle - \\frac{3}{2}$"
      ],
      "text/plain": [
       "-3/2"
      ]
     },
     "execution_count": 18,
     "metadata": {},
     "output_type": "execute_result"
    }
   ],
   "source": [
    "limit(sqrt (x* (x+3) )-sqrt(x**2+9) , x, -oo)"
   ]
  },
  {
   "cell_type": "markdown",
   "id": "18d81d46",
   "metadata": {
    "ExecuteTime": {
     "end_time": "2023-05-14T12:06:28.419230Z",
     "start_time": "2023-05-14T12:06:28.402190Z"
    },
    "heading_collapsed": true,
    "hidden": true
   },
   "source": [
    "### Пример 6: Найти точки разрыва функции и определить их типы:\n",
    "&nbsp;&nbsp;&nbsp;&nbsp; <font size=4> $ f(x) = \\frac{\\left| x - 2 \\right|\\left( x - 7 \\right)}{x^{3} - 9x^{2} + 14x} $ </font>"
   ]
  },
  {
   "cell_type": "code",
   "execution_count": 19,
   "id": "61b2ee26",
   "metadata": {
    "ExecuteTime": {
     "end_time": "2023-05-17T07:02:58.194085Z",
     "start_time": "2023-05-17T07:02:58.043180Z"
    },
    "hidden": true
   },
   "outputs": [
    {
     "name": "stdout",
     "output_type": "stream",
     "text": [
      "[0, 2, 7]\n"
     ]
    }
   ],
   "source": [
    "# Найдем нули знаменателя и пределы в этих точках.\n",
    "# Чтобы найти нули /(%) используем функцию solve (/(%)).\n",
    "\n",
    "from sympy import *\n",
    "x=Symbol(\"x\")\n",
    "print(solve(x**3-9*x**2+14*x))"
   ]
  },
  {
   "cell_type": "code",
   "execution_count": 20,
   "id": "838ac6d7",
   "metadata": {
    "ExecuteTime": {
     "end_time": "2023-05-17T07:02:59.252546Z",
     "start_time": "2023-05-17T07:02:59.026250Z"
    },
    "hidden": true
   },
   "outputs": [
    {
     "data": {
      "text/latex": [
       "$\\displaystyle \\infty$"
      ],
      "text/plain": [
       "oo"
      ]
     },
     "execution_count": 20,
     "metadata": {},
     "output_type": "execute_result"
    }
   ],
   "source": [
    "limit(abs((x-2)*(x-7)/(x**3-9*x**2+14*x)), x, 0, '-')"
   ]
  },
  {
   "cell_type": "code",
   "execution_count": 21,
   "id": "5b41603e",
   "metadata": {
    "ExecuteTime": {
     "end_time": "2023-05-17T07:03:04.831402Z",
     "start_time": "2023-05-17T07:03:04.767221Z"
    },
    "hidden": true
   },
   "outputs": [
    {
     "data": {
      "text/latex": [
       "$\\displaystyle \\infty$"
      ],
      "text/plain": [
       "oo"
      ]
     },
     "execution_count": 21,
     "metadata": {},
     "output_type": "execute_result"
    }
   ],
   "source": [
    "limit(abs((x-2)*(x-7)/(x**3-9*x**2+14*x)), x, 0, '+')"
   ]
  },
  {
   "cell_type": "code",
   "execution_count": 22,
   "id": "7609ae3d",
   "metadata": {
    "ExecuteTime": {
     "end_time": "2023-05-17T07:03:06.009358Z",
     "start_time": "2023-05-17T07:03:05.615939Z"
    },
    "hidden": true
   },
   "outputs": [
    {
     "data": {
      "text/latex": [
       "$\\displaystyle \\frac{1}{2}$"
      ],
      "text/plain": [
       "1/2"
      ]
     },
     "execution_count": 22,
     "metadata": {},
     "output_type": "execute_result"
    }
   ],
   "source": [
    "limit(abs((x-2)*(x-7)/(x**3-9*x**2+14*x)), x, 2, '-')"
   ]
  },
  {
   "cell_type": "code",
   "execution_count": 23,
   "id": "524b4eb7",
   "metadata": {
    "ExecuteTime": {
     "end_time": "2023-05-17T07:03:06.891942Z",
     "start_time": "2023-05-17T07:03:06.635916Z"
    },
    "hidden": true
   },
   "outputs": [
    {
     "data": {
      "text/latex": [
       "$\\displaystyle \\frac{1}{2}$"
      ],
      "text/plain": [
       "1/2"
      ]
     },
     "execution_count": 23,
     "metadata": {},
     "output_type": "execute_result"
    }
   ],
   "source": [
    "limit(abs((x-2)*(x-7)/(x**3-9*x**2+14*x)), x, 2, '+')"
   ]
  },
  {
   "cell_type": "code",
   "execution_count": 24,
   "id": "f780247b",
   "metadata": {
    "ExecuteTime": {
     "end_time": "2023-05-17T07:03:07.824713Z",
     "start_time": "2023-05-17T07:03:07.448723Z"
    },
    "hidden": true
   },
   "outputs": [
    {
     "data": {
      "text/latex": [
       "$\\displaystyle \\frac{1}{7}$"
      ],
      "text/plain": [
       "1/7"
      ]
     },
     "execution_count": 24,
     "metadata": {},
     "output_type": "execute_result"
    }
   ],
   "source": [
    "limit(abs((x-2)*(x-7)/(x**3-9*x**2+14*x)), x, 7, '-')"
   ]
  },
  {
   "cell_type": "code",
   "execution_count": 25,
   "id": "249407d5",
   "metadata": {
    "ExecuteTime": {
     "end_time": "2023-05-17T07:03:08.816402Z",
     "start_time": "2023-05-17T07:03:08.577520Z"
    },
    "hidden": true
   },
   "outputs": [
    {
     "data": {
      "text/latex": [
       "$\\displaystyle \\frac{1}{7}$"
      ],
      "text/plain": [
       "1/7"
      ]
     },
     "execution_count": 25,
     "metadata": {},
     "output_type": "execute_result"
    }
   ],
   "source": [
    "limit(abs((x-2)*(x-7)/(x**3-9*x**2+14*x)), x, 7, '+')"
   ]
  },
  {
   "cell_type": "markdown",
   "id": "5ca81fdb",
   "metadata": {
    "hidden": true
   },
   "source": [
    "Ответ:</br>\n",
    "&nbsp;&nbsp;&nbsp;&nbsp; 0 - точка разрыва II рода,</br>\n",
    "&nbsp;&nbsp;&nbsp;&nbsp; 7 - I рода, устранимый разрыв,</br>\n",
    "&nbsp;&nbsp;&nbsp;&nbsp; 2 - I рода,</br>\n",
    "&nbsp;&nbsp;&nbsp;&nbsp; неустранимый разрыв (с легкостью можно сделать вывод итогов автоматически)."
   ]
  },
  {
   "cell_type": "markdown",
   "id": "cb395dbf",
   "metadata": {
    "ExecuteTime": {
     "end_time": "2023-05-14T12:06:28.419230Z",
     "start_time": "2023-05-14T12:06:28.402190Z"
    },
    "heading_collapsed": true,
    "hidden": true
   },
   "source": [
    "### Пример 7: Найти асимптоты графика функции:\n",
    "&nbsp;&nbsp;&nbsp;&nbsp; <font size=4> $ y = \\frac{1 + 5x }{ 3 + x } $ </font>"
   ]
  },
  {
   "cell_type": "code",
   "execution_count": 26,
   "id": "06301994",
   "metadata": {
    "ExecuteTime": {
     "end_time": "2023-05-17T07:03:11.677050Z",
     "start_time": "2023-05-17T07:03:11.555208Z"
    },
    "hidden": true
   },
   "outputs": [
    {
     "name": "stdout",
     "output_type": "stream",
     "text": [
      "0\n"
     ]
    }
   ],
   "source": [
    "# Сначала найдем наклонные асимптоты у = кх + Ь.\n",
    "k = limit((1+5*x)/(3+x)/x, x, oo)\n",
    "print(k)"
   ]
  },
  {
   "cell_type": "code",
   "execution_count": 27,
   "id": "9432ff7e",
   "metadata": {
    "ExecuteTime": {
     "end_time": "2023-05-17T07:03:12.688425Z",
     "start_time": "2023-05-17T07:03:12.643327Z"
    },
    "hidden": true
   },
   "outputs": [
    {
     "name": "stdout",
     "output_type": "stream",
     "text": [
      "5\n"
     ]
    }
   ],
   "source": [
    "b = limit((1+5*x)/(3+x)-k*x, x, oo)\n",
    "print(b)"
   ]
  },
  {
   "cell_type": "code",
   "execution_count": 28,
   "id": "31cacd9f",
   "metadata": {
    "ExecuteTime": {
     "end_time": "2023-05-17T07:03:13.639094Z",
     "start_time": "2023-05-17T07:03:13.597116Z"
    },
    "hidden": true
   },
   "outputs": [
    {
     "data": {
      "text/plain": [
       "[-3]"
      ]
     },
     "execution_count": 28,
     "metadata": {},
     "output_type": "execute_result"
    }
   ],
   "source": [
    "# Затем вертикальные. Для этого решим уравнение, приравняв\n",
    "# знаменатель дроби к нулю: 3 -I- х = 0, и найдем левосторонний и \n",
    "# правосторонний пределы функции, при переменной, стремящейся к нулю\n",
    "# знаменателя.\n",
    "\n",
    "solve(3+x)"
   ]
  },
  {
   "cell_type": "code",
   "execution_count": 29,
   "id": "bf13c9aa",
   "metadata": {
    "ExecuteTime": {
     "end_time": "2023-05-17T07:03:14.719984Z",
     "start_time": "2023-05-17T07:03:14.657747Z"
    },
    "hidden": true
   },
   "outputs": [
    {
     "data": {
      "text/latex": [
       "$\\displaystyle \\infty$"
      ],
      "text/plain": [
       "oo"
      ]
     },
     "execution_count": 29,
     "metadata": {},
     "output_type": "execute_result"
    }
   ],
   "source": [
    "limit((1+5*x)/(3+x), x, -3, '-')"
   ]
  },
  {
   "cell_type": "code",
   "execution_count": 30,
   "id": "8378cadf",
   "metadata": {
    "ExecuteTime": {
     "end_time": "2023-05-17T07:03:15.682154Z",
     "start_time": "2023-05-17T07:03:15.625345Z"
    },
    "hidden": true
   },
   "outputs": [
    {
     "data": {
      "text/latex": [
       "$\\displaystyle -\\infty$"
      ],
      "text/plain": [
       "-oo"
      ]
     },
     "execution_count": 30,
     "metadata": {},
     "output_type": "execute_result"
    }
   ],
   "source": [
    "limit((1+5*x)/(3+x), x, -3, '+')"
   ]
  },
  {
   "cell_type": "markdown",
   "id": "237e5c54",
   "metadata": {
    "hidden": true
   },
   "source": [
    "Ответ: </br>\n",
    "&nbsp;&nbsp;&nbsp;&nbsp; у = 5 - горизонтальная асимптота, </br>\n",
    "&nbsp;&nbsp;&nbsp;&nbsp; х = -3 - вертикальная асимптота."
   ]
  },
  {
   "cell_type": "markdown",
   "id": "96beaf86",
   "metadata": {
    "ExecuteTime": {
     "end_time": "2023-05-14T12:08:52.671024Z",
     "start_time": "2023-05-14T12:08:52.654275Z"
    },
    "heading_collapsed": true,
    "hidden": true
   },
   "source": [
    "### Пример 8: Найдем радиус и интервал сходимости степенного ряда \n",
    "\n",
    "&nbsp;&nbsp;&nbsp;&nbsp; $ \\sum_{n=1}^{\\infty}\\frac{n^{n}}{n!}x^{n} $</br>\n",
    "</br>\n",
    "Решение.</br>\n",
    "Радиус сходимости найдем, используя признак Даламбера:</br>\n",
    "&nbsp;&nbsp;&nbsp;&nbsp; $ R=\\lim_{n\\to\\infty}\\frac{n^{n}·(n+1)!}{n!·(n+1)}=\\lim_{n\\to\\infty}\\frac{n+1}{\\left( 1+\\frac{1}{n} \\right)^{n}·(n+1)} = \\frac{1}{e} $</br>"
   ]
  },
  {
   "cell_type": "code",
   "execution_count": 31,
   "id": "27571b63",
   "metadata": {
    "ExecuteTime": {
     "end_time": "2023-05-17T07:07:11.151232Z",
     "start_time": "2023-05-17T07:06:47.528667Z"
    },
    "hidden": true
   },
   "outputs": [
    {
     "data": {
      "text/latex": [
       "$\\displaystyle e^{-1}$"
      ],
      "text/plain": [
       "exp(-1)"
      ]
     },
     "execution_count": 31,
     "metadata": {},
     "output_type": "execute_result"
    }
   ],
   "source": [
    "import math\n",
    "from sympy import*\n",
    "\n",
    "x = Symbol('x')\n",
    "limit( x**x / factorial(x) / ( (x+1)**(x+1) / factorial(x+1) ), x, oo)"
   ]
  },
  {
   "cell_type": "markdown",
   "id": "39ba015f",
   "metadata": {
    "hidden": true
   },
   "source": [
    "Ряд сходится на интервале $-\\frac{1}{e}<x<\\frac{1}{e}$.Ответ на вопрос о сходимое е сти ряда на концах интервала остается открытым."
   ]
  },
  {
   "cell_type": "markdown",
   "id": "e7113e36",
   "metadata": {
    "ExecuteTime": {
     "end_time": "2023-05-14T12:08:52.671024Z",
     "start_time": "2023-05-14T12:08:52.654275Z"
    },
    "heading_collapsed": true,
    "hidden": true
   },
   "source": [
    "### Пример 9: Разложим в ряд Мак Лорена функции\n",
    "\n",
    "&nbsp;&nbsp;&nbsp;&nbsp; $ f(x) = \\sin x, f(x) = \\cos x, f(x) = e^{x}, f(x) = \\arcsin x $</br>\n",
    "</br>\n",
    "Решение.</br>\n",
    "Это можно сделать с помощью функции fimc.series(x,x0,m),</br>\n",
    "где: </br>\n",
    "х - переменная, по степеням которой раскладывается ряд,</br>\n",
    "х0 - точка, в которой осуществляется разложение, m порядок остатка."
   ]
  },
  {
   "cell_type": "code",
   "execution_count": 32,
   "id": "2878e808",
   "metadata": {
    "ExecuteTime": {
     "end_time": "2023-05-17T07:07:22.861468Z",
     "start_time": "2023-05-17T07:07:22.544039Z"
    },
    "hidden": true
   },
   "outputs": [
    {
     "name": "stdout",
     "output_type": "stream",
     "text": [
      "x - x**3/6 + x**5/120 - x**7/5040 + x**9/362880 + O(x**10)\n"
     ]
    }
   ],
   "source": [
    "import sympy\n",
    "\n",
    "х = sympy.symbols('х')\n",
    "\n",
    "func = sin(x)\n",
    "x0 = 0\n",
    "\n",
    "print((func).series(x, x0, 10))"
   ]
  },
  {
   "cell_type": "code",
   "execution_count": 33,
   "id": "4008413d",
   "metadata": {
    "ExecuteTime": {
     "end_time": "2023-05-17T07:07:24.151255Z",
     "start_time": "2023-05-17T07:07:23.858647Z"
    },
    "hidden": true
   },
   "outputs": [
    {
     "name": "stdout",
     "output_type": "stream",
     "text": [
      "1 - x**2/2 + x**4/24 - x**6/720 + x**8/40320 + O(x**10)\n"
     ]
    }
   ],
   "source": [
    "import sympy\n",
    "\n",
    "х = sympy.symbols('х')\n",
    "\n",
    "func = cos(x)\n",
    "x0 = 0\n",
    "\n",
    "print((func).series(x, x0, 10))"
   ]
  },
  {
   "cell_type": "code",
   "execution_count": 34,
   "id": "72c8ec91",
   "metadata": {
    "ExecuteTime": {
     "end_time": "2023-05-17T07:07:25.533674Z",
     "start_time": "2023-05-17T07:07:24.735460Z"
    },
    "hidden": true
   },
   "outputs": [
    {
     "name": "stdout",
     "output_type": "stream",
     "text": [
      "1 + x + x**2/2 + x**3/6 + x**4/24 + x**5/120 + x**6/720 + x**7/5040 + x**8/40320 + x**9/362880 + O(x**10)\n"
     ]
    }
   ],
   "source": [
    "import sympy\n",
    "\n",
    "х = sympy.symbols('х')\n",
    "\n",
    "func = exp(x)\n",
    "x0 = 0\n",
    "\n",
    "print((func).series(x, x0, 10))"
   ]
  },
  {
   "cell_type": "code",
   "execution_count": 35,
   "id": "0951dd8a",
   "metadata": {
    "ExecuteTime": {
     "end_time": "2023-05-17T07:07:27.245086Z",
     "start_time": "2023-05-17T07:07:26.463480Z"
    },
    "hidden": true
   },
   "outputs": [
    {
     "name": "stdout",
     "output_type": "stream",
     "text": [
      "1 + x + x**2/2 + x**3/6 + x**4/24 + x**5/120 + x**6/720 + x**7/5040 + x**8/40320 + x**9/362880 + O(x**10)\n"
     ]
    }
   ],
   "source": [
    "import sympy\n",
    "\n",
    "х = sympy.symbols('х')\n",
    "\n",
    "func = exp(x)\n",
    "x0 = 0\n",
    "\n",
    "print((func).series(x, x0, 10))"
   ]
  },
  {
   "cell_type": "code",
   "execution_count": 36,
   "id": "6db44927",
   "metadata": {
    "ExecuteTime": {
     "end_time": "2023-05-17T07:07:28.043893Z",
     "start_time": "2023-05-17T07:07:27.819688Z"
    },
    "hidden": true
   },
   "outputs": [
    {
     "name": "stdout",
     "output_type": "stream",
     "text": [
      "1 - x**2/2 + x**4/24 - x**6/720 + x**8/40320 + O(x**10)\n"
     ]
    }
   ],
   "source": [
    "import sympy\n",
    "\n",
    "х = sympy.symbols('х')\n",
    "\n",
    "func = cos(x)\n",
    "x0 = 0\n",
    "\n",
    "print((func).series(x, x0, 10))"
   ]
  },
  {
   "cell_type": "markdown",
   "id": "f39cfebf",
   "metadata": {},
   "source": [
    "## Примеры решения задач"
   ]
  },
  {
   "cell_type": "markdown",
   "id": "9653db11",
   "metadata": {
    "heading_collapsed": true
   },
   "source": [
    "### Пример 1: Вычислите предел последовательности\n",
    "&nbsp;&nbsp;&nbsp;&nbsp; $ \\lim_{n\\to\\infty} \\left( \\frac{6n^{2}+1}{7n^{2}-3n+9} \\right) $ </br>"
   ]
  },
  {
   "cell_type": "code",
   "execution_count": 7,
   "id": "d3f7e56c",
   "metadata": {
    "ExecuteTime": {
     "end_time": "2023-05-15T15:16:49.617477Z",
     "start_time": "2023-05-15T15:16:49.363430Z"
    },
    "hidden": true
   },
   "outputs": [
    {
     "data": {
      "text/latex": [
       "$\\displaystyle \\frac{6}{7}$"
      ],
      "text/plain": [
       "6/7"
      ]
     },
     "execution_count": 7,
     "metadata": {},
     "output_type": "execute_result"
    }
   ],
   "source": [
    "from sympy import *\n",
    "\n",
    "n = symbols('n')\n",
    "\n",
    "limit((6*n**2+1)/(7*n**2-3*n+9), n, oo)"
   ]
  },
  {
   "cell_type": "markdown",
   "id": "4f342c25",
   "metadata": {
    "heading_collapsed": true
   },
   "source": [
    "### Пример 5: Вычислите предел последовательности\n",
    "&nbsp;&nbsp;&nbsp;&nbsp; $ \\lim_{n\\to\\infty} \\frac{4n^{4}-6}{-2n^{4}+8n^{2}+9n-5} $ </br>"
   ]
  },
  {
   "cell_type": "code",
   "execution_count": 8,
   "id": "490206ac",
   "metadata": {
    "ExecuteTime": {
     "end_time": "2023-05-15T15:20:40.740521Z",
     "start_time": "2023-05-15T15:20:40.513507Z"
    },
    "hidden": true
   },
   "outputs": [
    {
     "data": {
      "text/latex": [
       "$\\displaystyle -2$"
      ],
      "text/plain": [
       "-2"
      ]
     },
     "execution_count": 8,
     "metadata": {},
     "output_type": "execute_result"
    }
   ],
   "source": [
    "from sympy import *\n",
    "\n",
    "n = symbols('n')\n",
    "\n",
    "limit((4*n**4-6)/(-2*n**4+8*n**2+9*n-5), n, oo)"
   ]
  },
  {
   "cell_type": "markdown",
   "id": "9014641e",
   "metadata": {
    "heading_collapsed": true
   },
   "source": [
    "### Пример 6: Вычислите предел последовательности\n",
    "&nbsp;&nbsp;&nbsp;&nbsp; $ \\lim_{n\\to\\infty} \\frac{-9n^{5}+9n^{4}+n^{3}-8n+9}{7} $ </br>"
   ]
  },
  {
   "cell_type": "code",
   "execution_count": 12,
   "id": "85c0878d",
   "metadata": {
    "ExecuteTime": {
     "end_time": "2023-05-15T15:25:58.779838Z",
     "start_time": "2023-05-15T15:25:58.733007Z"
    },
    "hidden": true
   },
   "outputs": [
    {
     "data": {
      "text/latex": [
       "$\\displaystyle -\\infty$"
      ],
      "text/plain": [
       "-oo"
      ]
     },
     "execution_count": 12,
     "metadata": {},
     "output_type": "execute_result"
    }
   ],
   "source": [
    "from sympy import *\n",
    "\n",
    "n = symbols('n')\n",
    "\n",
    "limit((-9*n**5+9*n**4+n**3-8*n)/(7), n, oo)"
   ]
  },
  {
   "cell_type": "markdown",
   "id": "b67e16cf",
   "metadata": {
    "heading_collapsed": true
   },
   "source": [
    "### Пример 8: Вычислите предел последовательности\n",
    "&nbsp;&nbsp;&nbsp;&nbsp; $ \\lim_{n\\to\\infty} \\frac{8+5n+\\cos6n}{3n-8\\sin5n-8} $ </br>"
   ]
  },
  {
   "cell_type": "code",
   "execution_count": 11,
   "id": "3940ea5e",
   "metadata": {
    "ExecuteTime": {
     "end_time": "2023-05-15T15:22:50.270689Z",
     "start_time": "2023-05-15T15:22:49.988190Z"
    },
    "hidden": true
   },
   "outputs": [
    {
     "data": {
      "text/latex": [
       "$\\displaystyle \\frac{5}{3}$"
      ],
      "text/plain": [
       "5/3"
      ]
     },
     "execution_count": 11,
     "metadata": {},
     "output_type": "execute_result"
    }
   ],
   "source": [
    "from sympy import *\n",
    "\n",
    "n = symbols('n')\n",
    "\n",
    "limit((8+5*n+cos(6*n))/(3*n-8*sin(5*n)-8), n, oo)"
   ]
  },
  {
   "cell_type": "markdown",
   "id": "f7d15f3c",
   "metadata": {
    "heading_collapsed": true
   },
   "source": [
    "### Пример 20: Вычислите предел последовательности\n",
    "&nbsp;&nbsp;&nbsp;&nbsp; $ \\lim_{n\\to\\infty} (2n-\\sqrt{4n^{2}-5n+3}) $ </br>"
   ]
  },
  {
   "cell_type": "code",
   "execution_count": 18,
   "id": "83361d87",
   "metadata": {
    "ExecuteTime": {
     "end_time": "2023-05-15T15:29:39.624932Z",
     "start_time": "2023-05-15T15:29:39.564417Z"
    },
    "hidden": true
   },
   "outputs": [
    {
     "data": {
      "text/latex": [
       "$\\displaystyle \\frac{5}{4}$"
      ],
      "text/plain": [
       "5/4"
      ]
     },
     "execution_count": 18,
     "metadata": {},
     "output_type": "execute_result"
    }
   ],
   "source": [
    "from sympy import *\n",
    "\n",
    "n = symbols('n')\n",
    "\n",
    "limit(2*n-sqrt(4*n**2-5*n+3), n, oo)"
   ]
  },
  {
   "cell_type": "markdown",
   "id": "64c17806",
   "metadata": {
    "heading_collapsed": true
   },
   "source": [
    "### Пример 23: Вычислите предел последовательности\n",
    "&nbsp;&nbsp;&nbsp;&nbsp; $ \\lim_{n\\to\\infty} (\\sqrt{5n^{2}+1} - \\sqrt{5n^{2}-4}) $ </br>"
   ]
  },
  {
   "cell_type": "code",
   "execution_count": 21,
   "id": "596cdd3a",
   "metadata": {
    "ExecuteTime": {
     "end_time": "2023-05-15T15:30:01.430326Z",
     "start_time": "2023-05-15T15:30:01.370142Z"
    },
    "hidden": true
   },
   "outputs": [
    {
     "data": {
      "text/latex": [
       "$\\displaystyle 0$"
      ],
      "text/plain": [
       "0"
      ]
     },
     "execution_count": 21,
     "metadata": {},
     "output_type": "execute_result"
    }
   ],
   "source": [
    "from sympy import *\n",
    "\n",
    "n = symbols('n')\n",
    "\n",
    "limit(sqrt(5*n**2)-sqrt(5*n**2-4), n, oo)"
   ]
  },
  {
   "cell_type": "markdown",
   "id": "d629ed5b",
   "metadata": {
    "heading_collapsed": true
   },
   "source": [
    "### Пример 24: Вычислите предел последовательности\n",
    "&nbsp;&nbsp;&nbsp;&nbsp; $ \\lim_{n\\to\\infty} \\left ( 1 - \\frac{3}{n} \\right)^{-8n} $</br>"
   ]
  },
  {
   "cell_type": "code",
   "execution_count": 25,
   "id": "792c2b4f",
   "metadata": {
    "ExecuteTime": {
     "end_time": "2023-05-15T15:31:55.172561Z",
     "start_time": "2023-05-15T15:31:55.130176Z"
    },
    "hidden": true
   },
   "outputs": [
    {
     "data": {
      "text/latex": [
       "$\\displaystyle e^{24}$"
      ],
      "text/plain": [
       "exp(24)"
      ]
     },
     "execution_count": 25,
     "metadata": {},
     "output_type": "execute_result"
    }
   ],
   "source": [
    "from sympy import *\n",
    "\n",
    "n = symbols('n')\n",
    "\n",
    "limit((1-3/n)**(-8*n), n, oo)"
   ]
  },
  {
   "cell_type": "markdown",
   "id": "bd7c36f1",
   "metadata": {
    "heading_collapsed": true
   },
   "source": [
    "### Пример 30: Вычислите предел\n",
    "&nbsp;&nbsp;&nbsp;&nbsp; $ \\lim_{n\\to\\infty} \\frac{-5x^{2}-8x-4}{2x^{2}-x-2} $</br>"
   ]
  },
  {
   "cell_type": "code",
   "execution_count": 24,
   "id": "d31677c8",
   "metadata": {
    "ExecuteTime": {
     "end_time": "2023-05-15T15:31:42.041747Z",
     "start_time": "2023-05-15T15:31:41.816879Z"
    },
    "hidden": true
   },
   "outputs": [
    {
     "data": {
      "text/latex": [
       "$\\displaystyle \\frac{1}{2}$"
      ],
      "text/plain": [
       "1/2"
      ]
     },
     "execution_count": 24,
     "metadata": {},
     "output_type": "execute_result"
    }
   ],
   "source": [
    "from sympy import *\n",
    "\n",
    "x = symbols('x')\n",
    "\n",
    "limit((3*x+9)/(2*cos(2*x)+6*x-3), x, oo)"
   ]
  },
  {
   "cell_type": "markdown",
   "id": "0c4eada3",
   "metadata": {
    "heading_collapsed": true
   },
   "source": [
    "### Пример 37: Вычислите предел\n",
    "&nbsp;&nbsp;&nbsp;&nbsp; $ \\lim_{n\\to-3} \\frac{x^{2}+4x+3}{x^{2}+8x+15} $</br>"
   ]
  },
  {
   "cell_type": "code",
   "execution_count": 30,
   "id": "75dbb316",
   "metadata": {
    "ExecuteTime": {
     "end_time": "2023-05-15T15:36:30.114610Z",
     "start_time": "2023-05-15T15:36:30.073183Z"
    },
    "hidden": true
   },
   "outputs": [
    {
     "data": {
      "text/latex": [
       "$\\displaystyle -1$"
      ],
      "text/plain": [
       "-1"
      ]
     },
     "execution_count": 30,
     "metadata": {},
     "output_type": "execute_result"
    }
   ],
   "source": [
    "from sympy import *\n",
    "\n",
    "x = symbols('x')\n",
    "\n",
    "limit((x**2+4*x+3)/(x**2+8*x+15), x, -3)"
   ]
  },
  {
   "cell_type": "markdown",
   "id": "84b3fdc0",
   "metadata": {
    "heading_collapsed": true
   },
   "source": [
    "### Пример 41: Вычислите предел\n",
    "&nbsp;&nbsp;&nbsp;&nbsp; $ \\lim_{n\\to0} \\frac{7xsin2x}{\\sin4x+\\arcsin7x} $</br>"
   ]
  },
  {
   "cell_type": "code",
   "execution_count": 31,
   "id": "3098bef5",
   "metadata": {
    "ExecuteTime": {
     "end_time": "2023-05-15T15:36:36.984247Z",
     "start_time": "2023-05-15T15:36:36.937905Z"
    },
    "hidden": true
   },
   "outputs": [
    {
     "data": {
      "text/latex": [
       "$\\displaystyle \\frac{9}{11}$"
      ],
      "text/plain": [
       "9/11"
      ]
     },
     "execution_count": 31,
     "metadata": {},
     "output_type": "execute_result"
    }
   ],
   "source": [
    "from sympy import *\n",
    "\n",
    "x = symbols('x')\n",
    "\n",
    "limit((7*x+sin(2*x))/(sin(4*x)+asin(7*x)), x, 0)"
   ]
  },
  {
   "cell_type": "markdown",
   "id": "25a402e1",
   "metadata": {
    "heading_collapsed": true
   },
   "source": [
    "### Пример 43: Вычислите предел\n",
    "&nbsp;&nbsp;&nbsp;&nbsp; $ \\lim_{n\\to\\infty} \\frac{1-\\cos\\frac{7}{x}}{\\ln\\left( 1 + \\frac{6}{x}\\right) · \\left(e^{\\frac{4}{x}}-1\\right)} $</br>"
   ]
  },
  {
   "cell_type": "code",
   "execution_count": 38,
   "id": "9bbdfcfd",
   "metadata": {
    "ExecuteTime": {
     "end_time": "2023-05-17T07:20:06.592001Z",
     "start_time": "2023-05-17T07:20:06.544792Z"
    },
    "hidden": true
   },
   "outputs": [
    {
     "data": {
      "text/latex": [
       "$\\displaystyle \\frac{49}{48}$"
      ],
      "text/plain": [
       "49/48"
      ]
     },
     "execution_count": 38,
     "metadata": {},
     "output_type": "execute_result"
    }
   ],
   "source": [
    "from sympy import *\n",
    "\n",
    "x = symbols('x')\n",
    "\n",
    "limit((1-cos(7/x))/(ln(1+6/x)*(exp(4/x)-1)), x, oo)"
   ]
  },
  {
   "cell_type": "markdown",
   "id": "0c3a26eb",
   "metadata": {
    "heading_collapsed": true
   },
   "source": [
    "### Пример 49: Вычислите предел\n",
    "&nbsp;&nbsp;&nbsp;&nbsp; $ \\lim_{x\\to0}\\left(\\frac{\\sin5x}{\\tan4x}\\right) $</br>"
   ]
  },
  {
   "cell_type": "code",
   "execution_count": 35,
   "id": "0d2d8bc7",
   "metadata": {
    "ExecuteTime": {
     "end_time": "2023-05-15T15:42:39.325097Z",
     "start_time": "2023-05-15T15:42:39.254081Z"
    },
    "hidden": true
   },
   "outputs": [
    {
     "data": {
      "text/latex": [
       "$\\displaystyle \\frac{5}{4}$"
      ],
      "text/plain": [
       "5/4"
      ]
     },
     "execution_count": 35,
     "metadata": {},
     "output_type": "execute_result"
    }
   ],
   "source": [
    "from sympy import *\n",
    "\n",
    "x = symbols('x')\n",
    "\n",
    "limit(sin(5*x)/tan(4*x), x, 0)"
   ]
  },
  {
   "cell_type": "markdown",
   "id": "5d112bd7",
   "metadata": {
    "heading_collapsed": true
   },
   "source": [
    "### Пример 50: Вычислите предел\n",
    "&nbsp;&nbsp;&nbsp;&nbsp; $ \\lim_{x\\to1}\\left(\\frac{9\\left(1-^{\\frac{1}{7}}\\right)}{8^{\\frac{1}{8}}-1}\\right) $</br>"
   ]
  },
  {
   "cell_type": "code",
   "execution_count": 38,
   "id": "760deba1",
   "metadata": {
    "ExecuteTime": {
     "end_time": "2023-05-15T15:45:36.988547Z",
     "start_time": "2023-05-15T15:45:36.942587Z"
    },
    "hidden": true
   },
   "outputs": [
    {
     "data": {
      "text/latex": [
       "$\\displaystyle -10.2857142857143$"
      ],
      "text/plain": [
       "-10.2857142857143"
      ]
     },
     "execution_count": 38,
     "metadata": {},
     "output_type": "execute_result"
    }
   ],
   "source": [
    "from sympy import *\n",
    "\n",
    "x = symbols('x')\n",
    "\n",
    "limit(9*(1-x**(1/7))/(x**(1/8)-1), x, 1)"
   ]
  },
  {
   "cell_type": "markdown",
   "id": "5c84ac78",
   "metadata": {},
   "source": [
    "## Задачи для самостоятельного решения"
   ]
  },
  {
   "attachments": {},
   "cell_type": "markdown",
   "id": "39439bd6",
   "metadata": {
    "heading_collapsed": true
   },
   "source": [
    "### Вычислить предел $ \\lim_{n\\to\\infty}\\frac{4n^{6}+8n^{5}-6n^{3}+5n-1}{-8n^{6}+6n^{5}-5n^{2}+n} $"
   ]
  },
  {
   "cell_type": "code",
   "execution_count": 40,
   "id": "aa1c2451",
   "metadata": {
    "ExecuteTime": {
     "end_time": "2023-05-17T07:22:31.621629Z",
     "start_time": "2023-05-17T07:22:31.344598Z"
    },
    "hidden": true
   },
   "outputs": [
    {
     "data": {
      "text/latex": [
       "$\\displaystyle - \\frac{1}{2}$"
      ],
      "text/plain": [
       "-1/2"
      ]
     },
     "execution_count": 40,
     "metadata": {},
     "output_type": "execute_result"
    }
   ],
   "source": [
    "from sympy import *\n",
    "\n",
    "n = symbols('n')\n",
    "\n",
    "limit((4*n**6+8*n**5-6*n**3+5*n-1)/(-8*n**6+6*n**5-5*n**2+n), n, oo)"
   ]
  },
  {
   "cell_type": "markdown",
   "id": "aaefa366",
   "metadata": {},
   "source": [
    "### Ответ: "
   ]
  },
  {
   "cell_type": "markdown",
   "id": "bab45029",
   "metadata": {},
   "source": [
    "$ - \\frac{1}{2}$"
   ]
  },
  {
   "cell_type": "markdown",
   "id": "c678111e",
   "metadata": {
    "ExecuteTime": {
     "end_time": "2023-05-14T15:24:16.343544Z",
     "start_time": "2023-05-14T15:24:16.328049Z"
    }
   },
   "source": [
    "## Индивидуальное задание"
   ]
  },
  {
   "cell_type": "markdown",
   "id": "10b746dd",
   "metadata": {},
   "source": [
    "### Решение систем линейных уравнений"
   ]
  },
  {
   "cell_type": "markdown",
   "id": "b3f7c7f1",
   "metadata": {},
   "source": [
    "Библиотека numpy содержит метод solve для решения систем линейных уравнений. С его помощью можно решить систему линейных алгебраических уравнений вида $Ax = b$, где $A$ - матрица постоянных коэффициентов, $b$ - вектор правых частей уравнений, $x$- вектор неизвестных.\n",
    "\n",
    " Для использования функции solve требуется передать в качестве аргументов и $A$ и $B$, результате функция возвращает $x$"
   ]
  },
  {
   "cell_type": "markdown",
   "id": "bf8e4699",
   "metadata": {},
   "source": [
    "Решение"
   ]
  },
  {
   "cell_type": "code",
   "execution_count": 43,
   "id": "4eccd323",
   "metadata": {
    "ExecuteTime": {
     "end_time": "2023-05-17T07:33:16.361510Z",
     "start_time": "2023-05-17T07:33:16.330868Z"
    }
   },
   "outputs": [
    {
     "name": "stdout",
     "output_type": "stream",
     "text": [
      "Ax = b:  [ 0.21276596 -0.40425532  1.53191489]\n"
     ]
    }
   ],
   "source": [
    "from numpy.linalg import solve\n",
    "import numpy as np\n",
    "\n",
    "A = np.array([[1,2,3],[2,5,3],[6,2,1]],float)\n",
    "b = np.array([4,3,2],float)\n",
    "x = solve (A,b)\n",
    "\n",
    "print('Ax = b: ',x)"
   ]
  },
  {
   "cell_type": "markdown",
   "id": "ddfc9fa8",
   "metadata": {
    "ExecuteTime": {
     "end_time": "2023-05-17T07:34:06.738786Z",
     "start_time": "2023-05-17T07:34:06.721725Z"
    }
   },
   "source": [
    "#### Поиск опорного элемента (pivoting)"
   ]
  },
  {
   "cell_type": "markdown",
   "id": "cd8a9681",
   "metadata": {},
   "source": [
    "Реализовать выше схема неполна. Она работает только в том случае, если на каждом $i$ шаге элемент $a_{ii}$ отличен от нуля — иначе мы просто не сможем добиться обнуления остальных коэффициентов в текущем столбце путём прибавления к ним $i$-ой строки."
   ]
  },
  {
   "cell_type": "code",
   "execution_count": 49,
   "id": "af25b686",
   "metadata": {
    "ExecuteTime": {
     "end_time": "2023-05-17T07:37:51.641840Z",
     "start_time": "2023-05-17T07:37:51.601810Z"
    }
   },
   "outputs": [
    {
     "name": "stdout",
     "output_type": "stream",
     "text": [
      "Ax = b:  [ 0.2173913  -0.47826087  1.65217391]\n",
      "Ax = b, Gauss method:  [ 0.2173913  -0.47826087  1.65217391]\n"
     ]
    }
   ],
   "source": [
    "A = np.array([[0,2,3],[2,5,3],[6,2,1]],float)\n",
    "b = np.array([4,3,2],float)\n",
    "x = solve (A,b)\n",
    "print('Ax = b: ',x)\n",
    "\n",
    "xGauss = gauss(A,b)\n",
    "print('Ax = b, Gauss method: ',xGauss)"
   ]
  },
  {
   "cell_type": "code",
   "execution_count": 51,
   "id": "6ff5713c",
   "metadata": {
    "ExecuteTime": {
     "end_time": "2023-05-17T07:39:46.063443Z",
     "start_time": "2023-05-17T07:39:46.007201Z"
    }
   },
   "outputs": [
    {
     "name": "stdout",
     "output_type": "stream",
     "text": [
      "[ 2. -1. -2.  1.]\n",
      "[ 2. -1. -2.  1.]\n"
     ]
    }
   ],
   "source": [
    "from numpy import array,empty\n",
    "from numpy.linalg import solve\n",
    "\n",
    "A = array([[ 2,  1,  4,  1 ],\n",
    "           [ 3,  4, -1, -1 ],\n",
    "           [ 1, -4,  1,  5 ],\n",
    "           [ 2, -2,  1,  3 ]], float)\n",
    "v = array([ -4, 3, 9, 7 ],float)\n",
    "N = len(v)\n",
    "\n",
    "x = solve (A,v)\n",
    "print(x)\n",
    "\n",
    "# Исключение по Гауссу\n",
    "for m in range(N):\n",
    "\n",
    "    # Разделить на диагональный элемент\n",
    "    div = A[m,m]\n",
    "    A[m,:] /= div\n",
    "    v[m] /= div\n",
    "\n",
    "    # Вычтите из нижних строк\n",
    "    for i in range(m+1,N):\n",
    "        mult = A[i,m]\n",
    "        A[i,:] -= mult*A[m,:]\n",
    "        v[i] -= mult*v[m]\n",
    "\n",
    "# Обратная (замена)\n",
    "x = empty(N,float)\n",
    "for m in range(N-1,-1,-1):\n",
    "    x[m] = v[m]\n",
    "    for i in range(m+1,N):\n",
    "        x[m] -= A[m,i]*x[i]\n",
    "\n",
    "print(x)"
   ]
  },
  {
   "cell_type": "code",
   "execution_count": 52,
   "id": "c5633ae0",
   "metadata": {
    "ExecuteTime": {
     "end_time": "2023-05-17T07:40:11.021804Z",
     "start_time": "2023-05-17T07:40:09.910437Z"
    }
   },
   "outputs": [
    {
     "data": {
      "image/png": "[encoded data removed]",
      "text/plain": [
       "<Figure size 640x480 with 1 Axes>"
      ]
     },
     "metadata": {},
     "output_type": "display_data"
    }
   ],
   "source": [
    "from numpy import zeros,empty\n",
    "from pylab import plot,show\n",
    "\n",
    "# Constants\n",
    "N = 26\n",
    "C = 1.0\n",
    "m = 1.0\n",
    "k = 6.0\n",
    "omega = 2.0\n",
    "alpha = 2*k-m*omega*omega\n",
    "\n",
    "A = zeros([N,N],float)\n",
    "for i in range(N-1):\n",
    "    A[i,i] = alpha\n",
    "    A[i,i+1] = -k\n",
    "    A[i+1,i] = -k\n",
    "A[0,0] = alpha - k\n",
    "A[N-1,N-1] = alpha - k\n",
    "\n",
    "v = zeros(N,float)\n",
    "v[0] = C\n",
    "\n",
    "for i in range(N-1):\n",
    "    A[i,i+1] /= A[i,i]\n",
    "    v[i] /= A[i,i]\n",
    "\n",
    "    A[i+1,i+1] -= A[i+1,i]*A[i,i+1]\n",
    "    v[i+1] -= A[i+1,i]*v[i]\n",
    "\n",
    "\n",
    "v[N-1] /= A[N-1,N-1]\n",
    "\n",
    "x = empty(N,float)\n",
    "x[N-1] = v[N-1]\n",
    "for i in range(N-2,-1,-1):\n",
    "    x[i] = v[i] - A[i,i+1]*x[i+1]\n",
    "\n",
    "plot(x)\n",
    "plot(x,\"ko\")\n",
    "show()"
   ]
  }
 ],
 "metadata": {
  "hide_input": false,
  "kernelspec": {
   "display_name": "Python 3 (ipykernel)",
   "language": "python",
   "name": "python3"
  },
  "language_info": {
   "codemirror_mode": {
    "name": "ipython",
    "version": 3
   },
   "file_extension": ".py",
   "mimetype": "text/x-python",
   "name": "python",
   "nbconvert_exporter": "python",
   "pygments_lexer": "ipython3",
   "version": "3.10.6"
  },
  "nbTranslate": {
   "displayLangs": [
    "*"
   ],
   "hotkey": "alt-t",
   "langInMainMenu": true,
   "sourceLang": "en",
   "targetLang": "fr",
   "useGoogleTranslate": true
  },
  "toc": {
   "base_numbering": 1,
   "nav_menu": {},
   "number_sections": true,
   "sideBar": true,
   "skip_h1_title": false,
   "title_cell": "Table of Contents",
   "title_sidebar": "Contents",
   "toc_cell": false,
   "toc_position": {},
   "toc_section_display": true,
   "toc_window_display": false
  },
  "varInspector": {
   "cols": {
    "lenName": 16,
    "lenType": 16,
    "lenVar": 40
   },
   "kernels_config": {
    "python": {
     "delete_cmd_postfix": "",
     "delete_cmd_prefix": "del ",
     "library": "var_list.py",
     "varRefreshCmd": "print(var_dic_list())"
    },
    "r": {
     "delete_cmd_postfix": ") ",
     "delete_cmd_prefix": "rm(",
     "library": "var_list.r",
     "varRefreshCmd": "cat(var_dic_list()) "
    }
   },
   "types_to_exclude": [
    "module",
    "function",
    "builtin_function_or_method",
    "instance",
    "_Feature"
   ],
   "window_display": false
  }
 },
 "nbformat": 4,
 "nbformat_minor": 5
}
