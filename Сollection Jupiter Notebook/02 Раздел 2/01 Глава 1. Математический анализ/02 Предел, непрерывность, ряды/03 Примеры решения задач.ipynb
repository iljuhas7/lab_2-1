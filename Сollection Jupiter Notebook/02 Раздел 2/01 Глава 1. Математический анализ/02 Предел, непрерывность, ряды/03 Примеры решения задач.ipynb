{
 "cells": [
  {
   "cell_type": "markdown",
   "id": "8e2edf52",
   "metadata": {},
   "source": [
    "# Математический анализ: примеры решения задач"
   ]
  },
  {
   "cell_type": "markdown",
   "id": "9653db11",
   "metadata": {},
   "source": [
    "### 1: Вычислите предел последовательности\n",
    "&nbsp;&nbsp;&nbsp;&nbsp; $ \\lim_{n\\to\\infty} \\left( \\frac{6n^{2}+1}{7n^{2}-3n+9} \\right) $ </br>"
   ]
  },
  {
   "cell_type": "code",
   "execution_count": 7,
   "id": "d3f7e56c",
   "metadata": {
    "ExecuteTime": {
     "end_time": "2023-05-15T15:16:49.617477Z",
     "start_time": "2023-05-15T15:16:49.363430Z"
    }
   },
   "outputs": [
    {
     "data": {
      "text/latex": [
       "$\\displaystyle \\frac{6}{7}$"
      ],
      "text/plain": [
       "6/7"
      ]
     },
     "execution_count": 7,
     "metadata": {},
     "output_type": "execute_result"
    }
   ],
   "source": [
    "from sympy import *\n",
    "\n",
    "n = symbols('n')\n",
    "\n",
    "limit((6*n**2+1)/(7*n**2-3*n+9), n, oo)"
   ]
  },
  {
   "cell_type": "markdown",
   "id": "4f342c25",
   "metadata": {
    "heading_collapsed": true
   },
   "source": [
    "### 5: Вычислите предел последовательности\n",
    "&nbsp;&nbsp;&nbsp;&nbsp; $ \\lim_{n\\to\\infty} \\frac{4n^{4}-6}{-2n^{4}+8n^{2}+9n-5} $ </br>"
   ]
  },
  {
   "cell_type": "code",
   "execution_count": 8,
   "id": "490206ac",
   "metadata": {
    "ExecuteTime": {
     "end_time": "2023-05-15T15:20:40.740521Z",
     "start_time": "2023-05-15T15:20:40.513507Z"
    },
    "hidden": true
   },
   "outputs": [
    {
     "data": {
      "text/latex": [
       "$\\displaystyle -2$"
      ],
      "text/plain": [
       "-2"
      ]
     },
     "execution_count": 8,
     "metadata": {},
     "output_type": "execute_result"
    }
   ],
   "source": [
    "from sympy import *\n",
    "\n",
    "n = symbols('n')\n",
    "\n",
    "limit((4*n**4-6)/(-2*n**4+8*n**2+9*n-5), n, oo)"
   ]
  },
  {
   "cell_type": "markdown",
   "id": "9014641e",
   "metadata": {
    "heading_collapsed": true
   },
   "source": [
    "### 6: Вычислите предел последовательности\n",
    "&nbsp;&nbsp;&nbsp;&nbsp; $ \\lim_{n\\to\\infty} \\frac{-9n^{5}+9n^{4}+n^{3}-8n+9}{7} $ </br>"
   ]
  },
  {
   "cell_type": "code",
   "execution_count": 12,
   "id": "85c0878d",
   "metadata": {
    "ExecuteTime": {
     "end_time": "2023-05-15T15:25:58.779838Z",
     "start_time": "2023-05-15T15:25:58.733007Z"
    },
    "hidden": true
   },
   "outputs": [
    {
     "data": {
      "text/latex": [
       "$\\displaystyle -\\infty$"
      ],
      "text/plain": [
       "-oo"
      ]
     },
     "execution_count": 12,
     "metadata": {},
     "output_type": "execute_result"
    }
   ],
   "source": [
    "from sympy import *\n",
    "\n",
    "n = symbols('n')\n",
    "\n",
    "limit((-9*n**5+9*n**4+n**3-8*n)/(7), n, oo)"
   ]
  },
  {
   "cell_type": "markdown",
   "id": "b67e16cf",
   "metadata": {
    "heading_collapsed": true
   },
   "source": [
    "### 8: Вычислите предел последовательности\n",
    "&nbsp;&nbsp;&nbsp;&nbsp; $ \\lim_{n\\to\\infty} \\frac{8+5n+\\cos6n}{3n-8\\sin5n-8} $ </br>"
   ]
  },
  {
   "cell_type": "code",
   "execution_count": 11,
   "id": "3940ea5e",
   "metadata": {
    "ExecuteTime": {
     "end_time": "2023-05-15T15:22:50.270689Z",
     "start_time": "2023-05-15T15:22:49.988190Z"
    },
    "hidden": true
   },
   "outputs": [
    {
     "data": {
      "text/latex": [
       "$\\displaystyle \\frac{5}{3}$"
      ],
      "text/plain": [
       "5/3"
      ]
     },
     "execution_count": 11,
     "metadata": {},
     "output_type": "execute_result"
    }
   ],
   "source": [
    "from sympy import *\n",
    "\n",
    "n = symbols('n')\n",
    "\n",
    "limit((8+5*n+cos(6*n))/(3*n-8*sin(5*n)-8), n, oo)"
   ]
  },
  {
   "cell_type": "markdown",
   "id": "f7d15f3c",
   "metadata": {
    "heading_collapsed": true
   },
   "source": [
    "### 20: Вычислите предел последовательности\n",
    "&nbsp;&nbsp;&nbsp;&nbsp; $ \\lim_{n\\to\\infty} (2n-\\sqrt{4n^{2}-5n+3}) $ </br>"
   ]
  },
  {
   "cell_type": "code",
   "execution_count": 18,
   "id": "83361d87",
   "metadata": {
    "ExecuteTime": {
     "end_time": "2023-05-15T15:29:39.624932Z",
     "start_time": "2023-05-15T15:29:39.564417Z"
    },
    "hidden": true
   },
   "outputs": [
    {
     "data": {
      "text/latex": [
       "$\\displaystyle \\frac{5}{4}$"
      ],
      "text/plain": [
       "5/4"
      ]
     },
     "execution_count": 18,
     "metadata": {},
     "output_type": "execute_result"
    }
   ],
   "source": [
    "from sympy import *\n",
    "\n",
    "n = symbols('n')\n",
    "\n",
    "limit(2*n-sqrt(4*n**2-5*n+3), n, oo)"
   ]
  },
  {
   "cell_type": "markdown",
   "id": "64c17806",
   "metadata": {
    "heading_collapsed": true
   },
   "source": [
    "### 23: Вычислите предел последовательности\n",
    "&nbsp;&nbsp;&nbsp;&nbsp; $ \\lim_{n\\to\\infty} (\\sqrt{5n^{2}+1} - \\sqrt{5n^{2}-4}) $ </br>"
   ]
  },
  {
   "cell_type": "code",
   "execution_count": 21,
   "id": "596cdd3a",
   "metadata": {
    "ExecuteTime": {
     "end_time": "2023-05-15T15:30:01.430326Z",
     "start_time": "2023-05-15T15:30:01.370142Z"
    },
    "hidden": true
   },
   "outputs": [
    {
     "data": {
      "text/latex": [
       "$\\displaystyle 0$"
      ],
      "text/plain": [
       "0"
      ]
     },
     "execution_count": 21,
     "metadata": {},
     "output_type": "execute_result"
    }
   ],
   "source": [
    "from sympy import *\n",
    "\n",
    "n = symbols('n')\n",
    "\n",
    "limit(sqrt(5*n**2)-sqrt(5*n**2-4), n, oo)"
   ]
  },
  {
   "cell_type": "markdown",
   "id": "d629ed5b",
   "metadata": {
    "heading_collapsed": true
   },
   "source": [
    "### 24: Вычислите предел последовательности\n",
    "&nbsp;&nbsp;&nbsp;&nbsp; $ \\lim_{n\\to\\infty} \\left ( 1 - \\frac{3}{n} \\right)^{-8n} $</br>"
   ]
  },
  {
   "cell_type": "code",
   "execution_count": 25,
   "id": "792c2b4f",
   "metadata": {
    "ExecuteTime": {
     "end_time": "2023-05-15T15:31:55.172561Z",
     "start_time": "2023-05-15T15:31:55.130176Z"
    },
    "hidden": true
   },
   "outputs": [
    {
     "data": {
      "text/latex": [
       "$\\displaystyle e^{24}$"
      ],
      "text/plain": [
       "exp(24)"
      ]
     },
     "execution_count": 25,
     "metadata": {},
     "output_type": "execute_result"
    }
   ],
   "source": [
    "from sympy import *\n",
    "\n",
    "n = symbols('n')\n",
    "\n",
    "limit((1-3/n)**(-8*n), n, oo)"
   ]
  },
  {
   "cell_type": "markdown",
   "id": "bd7c36f1",
   "metadata": {
    "heading_collapsed": true
   },
   "source": [
    "### 30: Вычислите предел\n",
    "&nbsp;&nbsp;&nbsp;&nbsp; $ \\lim_{n\\to\\infty} \\frac{-5x^{2}-8x-4}{2x^{2}-x-2} $</br>"
   ]
  },
  {
   "cell_type": "code",
   "execution_count": 24,
   "id": "d31677c8",
   "metadata": {
    "ExecuteTime": {
     "end_time": "2023-05-15T15:31:42.041747Z",
     "start_time": "2023-05-15T15:31:41.816879Z"
    },
    "hidden": true
   },
   "outputs": [
    {
     "data": {
      "text/latex": [
       "$\\displaystyle \\frac{1}{2}$"
      ],
      "text/plain": [
       "1/2"
      ]
     },
     "execution_count": 24,
     "metadata": {},
     "output_type": "execute_result"
    }
   ],
   "source": [
    "from sympy import *\n",
    "\n",
    "x = symbols('x')\n",
    "\n",
    "limit((3*x+9)/(2*cos(2*x)+6*x-3), x, oo)"
   ]
  },
  {
   "cell_type": "markdown",
   "id": "0c4eada3",
   "metadata": {
    "heading_collapsed": true
   },
   "source": [
    "### 37: Вычислите предел\n",
    "&nbsp;&nbsp;&nbsp;&nbsp; $ \\lim_{n\\to-3} \\frac{x^{2}+4x+3}{x^{2}+8x+15} $</br>"
   ]
  },
  {
   "cell_type": "code",
   "execution_count": 30,
   "id": "75dbb316",
   "metadata": {
    "ExecuteTime": {
     "end_time": "2023-05-15T15:36:30.114610Z",
     "start_time": "2023-05-15T15:36:30.073183Z"
    },
    "hidden": true
   },
   "outputs": [
    {
     "data": {
      "text/latex": [
       "$\\displaystyle -1$"
      ],
      "text/plain": [
       "-1"
      ]
     },
     "execution_count": 30,
     "metadata": {},
     "output_type": "execute_result"
    }
   ],
   "source": [
    "from sympy import *\n",
    "\n",
    "x = symbols('x')\n",
    "\n",
    "limit((x**2+4*x+3)/(x**2+8*x+15), x, -3)"
   ]
  },
  {
   "cell_type": "markdown",
   "id": "84b3fdc0",
   "metadata": {
    "heading_collapsed": true
   },
   "source": [
    "### 41: Вычислите предел\n",
    "&nbsp;&nbsp;&nbsp;&nbsp; $ \\lim_{n\\to0} \\frac{7xsin2x}{\\sin4x+\\arcsin7x} $</br>"
   ]
  },
  {
   "cell_type": "code",
   "execution_count": 31,
   "id": "3098bef5",
   "metadata": {
    "ExecuteTime": {
     "end_time": "2023-05-15T15:36:36.984247Z",
     "start_time": "2023-05-15T15:36:36.937905Z"
    },
    "hidden": true
   },
   "outputs": [
    {
     "data": {
      "text/latex": [
       "$\\displaystyle \\frac{9}{11}$"
      ],
      "text/plain": [
       "9/11"
      ]
     },
     "execution_count": 31,
     "metadata": {},
     "output_type": "execute_result"
    }
   ],
   "source": [
    "from sympy import *\n",
    "\n",
    "x = symbols('x')\n",
    "\n",
    "limit((7*x+sin(2*x))/(sin(4*x)+asin(7*x)), x, 0)"
   ]
  },
  {
   "cell_type": "markdown",
   "id": "25a402e1",
   "metadata": {
    "heading_collapsed": true
   },
   "source": [
    "### 43: Вычислите предел\n",
    "&nbsp;&nbsp;&nbsp;&nbsp; $ \\lim_{n\\to\\infty} \\frac{1-\\cos\\frac{7}{x}}{\\ln\\left( 1 + \\frac{6}{x}\\right) · \\left(e^{\\frac{4}{x}}-1\\right)} $</br>"
   ]
  },
  {
   "cell_type": "code",
   "execution_count": 34,
   "id": "9bbdfcfd",
   "metadata": {
    "ExecuteTime": {
     "end_time": "2023-05-15T15:39:51.652983Z",
     "start_time": "2023-05-15T15:39:50.999779Z"
    },
    "hidden": true
   },
   "outputs": [
    {
     "data": {
      "text/latex": [
       "$\\displaystyle \\frac{49}{48}$"
      ],
      "text/plain": [
       "49/48"
      ]
     },
     "execution_count": 34,
     "metadata": {},
     "output_type": "execute_result"
    }
   ],
   "source": [
    "from sympy import *\n",
    "\n",
    "x = symbols('x')\n",
    "\n",
    "limit((1-cos(7/x))/(ln(1+6/x)*(exp(4/x)-1)), x, oo)"
   ]
  },
  {
   "cell_type": "markdown",
   "id": "0c3a26eb",
   "metadata": {
    "heading_collapsed": true
   },
   "source": [
    "### 49: Вычислите предел\n",
    "&nbsp;&nbsp;&nbsp;&nbsp; $ \\lim_{x\\to0}\\left(\\frac{\\sin5x}{\\tan4x}\\right) $</br>"
   ]
  },
  {
   "cell_type": "code",
   "execution_count": 35,
   "id": "0d2d8bc7",
   "metadata": {
    "ExecuteTime": {
     "end_time": "2023-05-15T15:42:39.325097Z",
     "start_time": "2023-05-15T15:42:39.254081Z"
    },
    "hidden": true
   },
   "outputs": [
    {
     "data": {
      "text/latex": [
       "$\\displaystyle \\frac{5}{4}$"
      ],
      "text/plain": [
       "5/4"
      ]
     },
     "execution_count": 35,
     "metadata": {},
     "output_type": "execute_result"
    }
   ],
   "source": [
    "from sympy import *\n",
    "\n",
    "x = symbols('x')\n",
    "\n",
    "limit(sin(5*x)/tan(4*x), x, 0)"
   ]
  },
  {
   "cell_type": "markdown",
   "id": "5d112bd7",
   "metadata": {
    "heading_collapsed": true
   },
   "source": [
    "### 50: Вычислите предел\n",
    "&nbsp;&nbsp;&nbsp;&nbsp; $ \\lim_{x\\to1}\\left(\\frac{9\\left(1-^{\\frac{1}{7}}\\right)}{8^{\\frac{1}{8}}-1}\\right) $</br>"
   ]
  },
  {
   "cell_type": "code",
   "execution_count": 38,
   "id": "760deba1",
   "metadata": {
    "ExecuteTime": {
     "end_time": "2023-05-15T15:45:36.988547Z",
     "start_time": "2023-05-15T15:45:36.942587Z"
    },
    "hidden": true
   },
   "outputs": [
    {
     "data": {
      "text/latex": [
       "$\\displaystyle -10.2857142857143$"
      ],
      "text/plain": [
       "-10.2857142857143"
      ]
     },
     "execution_count": 38,
     "metadata": {},
     "output_type": "execute_result"
    }
   ],
   "source": [
    "from sympy import *\n",
    "\n",
    "x = symbols('x')\n",
    "\n",
    "limit(9*(1-x**(1/7))/(x**(1/8)-1), x, 1)"
   ]
  }
 ],
 "metadata": {
  "hide_input": false,
  "kernelspec": {
   "display_name": "Python 3 (ipykernel)",
   "language": "python",
   "name": "python3"
  },
  "language_info": {
   "codemirror_mode": {
    "name": "ipython",
    "version": 3
   },
   "file_extension": ".py",
   "mimetype": "text/x-python",
   "name": "python",
   "nbconvert_exporter": "python",
   "pygments_lexer": "ipython3",
   "version": "3.10.6"
  },
  "nbTranslate": {
   "displayLangs": [
    "*"
   ],
   "hotkey": "alt-t",
   "langInMainMenu": true,
   "sourceLang": "en",
   "targetLang": "fr",
   "useGoogleTranslate": true
  },
  "toc": {
   "base_numbering": 1,
   "nav_menu": {},
   "number_sections": true,
   "sideBar": true,
   "skip_h1_title": false,
   "title_cell": "Table of Contents",
   "title_sidebar": "Contents",
   "toc_cell": false,
   "toc_position": {},
   "toc_section_display": true,
   "toc_window_display": false
  },
  "varInspector": {
   "cols": {
    "lenName": 16,
    "lenType": 16,
    "lenVar": 40
   },
   "kernels_config": {
    "python": {
     "delete_cmd_postfix": "",
     "delete_cmd_prefix": "del ",
     "library": "var_list.py",
     "varRefreshCmd": "print(var_dic_list())"
    },
    "r": {
     "delete_cmd_postfix": ") ",
     "delete_cmd_prefix": "rm(",
     "library": "var_list.r",
     "varRefreshCmd": "cat(var_dic_list()) "
    }
   },
   "types_to_exclude": [
    "module",
    "function",
    "builtin_function_or_method",
    "instance",
    "_Feature"
   ],
   "window_display": false
  }
 },
 "nbformat": 4,
 "nbformat_minor": 5
}
