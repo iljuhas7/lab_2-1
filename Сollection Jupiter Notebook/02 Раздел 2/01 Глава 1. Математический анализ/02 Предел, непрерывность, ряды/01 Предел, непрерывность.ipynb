{
 "cells": [
  {
   "cell_type": "markdown",
   "id": "24b07ffa",
   "metadata": {},
   "source": [
    "# Предел, непрерывность"
   ]
  },
  {
   "cell_type": "markdown",
   "id": "28503503",
   "metadata": {
    "ExecuteTime": {
     "end_time": "2023-05-14T12:06:28.419230Z",
     "start_time": "2023-05-14T12:06:28.402190Z"
    }
   },
   "source": [
    "### Предел, непрерывность.\n"
   ]
  },
  {
   "cell_type": "markdown",
   "id": "652c7252",
   "metadata": {
    "ExecuteTime": {
     "end_time": "2023-05-14T17:38:06.819449Z",
     "start_time": "2023-05-14T17:38:06.776095Z"
    }
   },
   "source": [
    "Для вычисления пределов используется функция limit() библиотеки sympy. Синтаксис: sympy.limit (функция, предел которой вычисляется, переменная, предельное значение переменной, правосторонний, левосторонний или обычный предел).</br></br>\n",
    "<div style=\"text-align: center;\"> <font size=5> sympy.limit(е, z, zO, dir='+') </font></div>\n",
    "\n",
    "> Параметры: вычисляется предел функции е от переменной z при стремлении к числу zo, zo может быть принимать бесконечные значения, оо и -оо; если dir=\"+-\" или эта позиция отсутствует, вычисляется обычный двусторонний предел, если dir=\"+\" - правосторонний, если dir=\"-\" - левосторонний пределы. Отметим, что символ бесконечности в языке Python - это две буквы о (оо)."
   ]
  },
  {
   "cell_type": "markdown",
   "id": "a3866306",
   "metadata": {},
   "source": [
    "#### Пример"
   ]
  },
  {
   "cell_type": "markdown",
   "id": "df5cb13a",
   "metadata": {
    "ExecuteTime": {
     "end_time": "2023-05-14T12:08:52.671024Z",
     "start_time": "2023-05-14T12:08:52.654275Z"
    },
    "heading_collapsed": true
   },
   "source": [
    "##### 1: Найти предел \n",
    "&nbsp;&nbsp;&nbsp;&nbsp; $ \\displaystyle \\lim_{ x \\to 0}\\frac{6x^{2} + 3x}{3x^{2}} $"
   ]
  },
  {
   "cell_type": "code",
   "execution_count": 3,
   "id": "30977848",
   "metadata": {
    "ExecuteTime": {
     "end_time": "2023-05-14T17:41:30.960721Z",
     "start_time": "2023-05-14T17:41:30.919362Z"
    },
    "hidden": true
   },
   "outputs": [
    {
     "data": {
      "text/latex": [
       "$\\displaystyle 2$"
      ],
      "text/plain": [
       "2"
      ]
     },
     "execution_count": 3,
     "metadata": {},
     "output_type": "execute_result"
    }
   ],
   "source": [
    "from sympy import *\n",
    "\n",
    "x=Symbol (\"x\")\n",
    "limit((6*x**2+3 *x)/(3 *x**2),x,oo)"
   ]
  },
  {
   "cell_type": "markdown",
   "id": "d63bb143",
   "metadata": {
    "ExecuteTime": {
     "end_time": "2023-05-14T12:06:28.419230Z",
     "start_time": "2023-05-14T12:06:28.402190Z"
    },
    "heading_collapsed": true
   },
   "source": [
    "##### 2: Вычислить пределы:\n",
    "&nbsp;&nbsp;&nbsp;&nbsp; $ \\displaystyle \\lim_{ x \\to 0}\\frac{\\sin x}{x} =  \\mathrm{lim} _{x \\to 0} \\frac{x}{\\sin x} = 1  $"
   ]
  },
  {
   "cell_type": "code",
   "execution_count": 5,
   "id": "f978088d",
   "metadata": {
    "ExecuteTime": {
     "end_time": "2023-05-14T17:47:55.151607Z",
     "start_time": "2023-05-14T17:47:55.118061Z"
    },
    "hidden": true
   },
   "outputs": [
    {
     "data": {
      "text/latex": [
       "$\\displaystyle 1$"
      ],
      "text/plain": [
       "1"
      ]
     },
     "execution_count": 5,
     "metadata": {},
     "output_type": "execute_result"
    }
   ],
   "source": [
    "limit(sin(x)/x,x,0)"
   ]
  },
  {
   "cell_type": "code",
   "execution_count": 11,
   "id": "adb1be8b",
   "metadata": {
    "ExecuteTime": {
     "end_time": "2023-05-14T17:48:34.411135Z",
     "start_time": "2023-05-14T17:48:34.328070Z"
    },
    "hidden": true
   },
   "outputs": [
    {
     "data": {
      "text/latex": [
       "$\\displaystyle e$"
      ],
      "text/plain": [
       "E"
      ]
     },
     "execution_count": 11,
     "metadata": {},
     "output_type": "execute_result"
    }
   ],
   "source": [
    "limit((1+x)**(1/x),x,0)"
   ]
  },
  {
   "cell_type": "code",
   "execution_count": 13,
   "id": "5e86870c",
   "metadata": {
    "ExecuteTime": {
     "end_time": "2023-05-14T17:48:41.587330Z",
     "start_time": "2023-05-14T17:48:41.547864Z"
    },
    "hidden": true
   },
   "outputs": [
    {
     "data": {
      "text/latex": [
       "$\\displaystyle e$"
      ],
      "text/plain": [
       "E"
      ]
     },
     "execution_count": 13,
     "metadata": {},
     "output_type": "execute_result"
    }
   ],
   "source": [
    "limit((1+1/x)**x,x,oo)"
   ]
  },
  {
   "cell_type": "markdown",
   "id": "2d2753ca",
   "metadata": {
    "ExecuteTime": {
     "end_time": "2023-05-14T12:06:28.419230Z",
     "start_time": "2023-05-14T12:06:28.402190Z"
    }
   },
   "source": [
    "### Односторонние пределы\n"
   ]
  },
  {
   "cell_type": "markdown",
   "id": "4e453295",
   "metadata": {},
   "source": [
    "#### Пример"
   ]
  },
  {
   "cell_type": "markdown",
   "id": "abe3eb24",
   "metadata": {
    "ExecuteTime": {
     "end_time": "2023-05-14T12:06:28.419230Z",
     "start_time": "2023-05-14T12:06:28.402190Z"
    },
    "heading_collapsed": true
   },
   "source": [
    "##### 3: Найдем левосторонний предел Заметим, что вместо dir = '-' можно поставить просто '-'"
   ]
  },
  {
   "cell_type": "code",
   "execution_count": 15,
   "id": "4b8b2fd1",
   "metadata": {
    "ExecuteTime": {
     "end_time": "2023-05-14T17:50:29.443134Z",
     "start_time": "2023-05-14T17:50:29.407978Z"
    },
    "hidden": true
   },
   "outputs": [
    {
     "data": {
      "text/latex": [
       "$\\displaystyle -\\infty$"
      ],
      "text/plain": [
       "-oo"
      ]
     },
     "execution_count": 15,
     "metadata": {},
     "output_type": "execute_result"
    }
   ],
   "source": [
    "limit(1/x, x, 0, '-')"
   ]
  },
  {
   "cell_type": "markdown",
   "id": "6c62eacc",
   "metadata": {
    "ExecuteTime": {
     "end_time": "2023-05-14T12:06:28.419230Z",
     "start_time": "2023-05-14T12:06:28.402190Z"
    },
    "heading_collapsed": true
   },
   "source": [
    "##### 4: Найти левосторонний и правосторонний пределы функции\n",
    "&nbsp;&nbsp;&nbsp;&nbsp; <font size=4> $ \\frac{2^{2} - 1}{x^{2} - 3x} $ </font> при $x \\to 3$"
   ]
  },
  {
   "cell_type": "code",
   "execution_count": 18,
   "id": "d87f3462",
   "metadata": {
    "ExecuteTime": {
     "end_time": "2023-05-14T17:55:07.669637Z",
     "start_time": "2023-05-14T17:55:07.294199Z"
    },
    "hidden": true
   },
   "outputs": [
    {
     "data": {
      "text/latex": [
       "$\\displaystyle \\infty$"
      ],
      "text/plain": [
       "oo"
      ]
     },
     "execution_count": 18,
     "metadata": {},
     "output_type": "execute_result"
    }
   ],
   "source": [
    "limit((2**x-1)/(x**2-3*x), x, 3, '+')"
   ]
  },
  {
   "cell_type": "code",
   "execution_count": 19,
   "id": "104c04df",
   "metadata": {
    "ExecuteTime": {
     "end_time": "2023-05-14T17:55:08.929131Z",
     "start_time": "2023-05-14T17:55:08.780291Z"
    },
    "hidden": true
   },
   "outputs": [
    {
     "data": {
      "text/latex": [
       "$\\displaystyle -\\infty$"
      ],
      "text/plain": [
       "-oo"
      ]
     },
     "execution_count": 19,
     "metadata": {},
     "output_type": "execute_result"
    }
   ],
   "source": [
    "limit((2**x-1)/(x**2-3*x), x, 3, '-')"
   ]
  },
  {
   "cell_type": "markdown",
   "id": "e33b4474",
   "metadata": {
    "ExecuteTime": {
     "end_time": "2023-05-14T12:06:28.419230Z",
     "start_time": "2023-05-14T12:06:28.402190Z"
    },
    "heading_collapsed": true
   },
   "source": [
    "##### 5: Отметим, что односторонние пределы используются при решении задач на исследование типов точек разрыва функции"
   ]
  },
  {
   "cell_type": "code",
   "execution_count": 36,
   "id": "f0d02672",
   "metadata": {
    "ExecuteTime": {
     "end_time": "2023-05-14T18:03:08.798606Z",
     "start_time": "2023-05-14T18:03:08.731253Z"
    },
    "hidden": true
   },
   "outputs": [
    {
     "data": {
      "text/latex": [
       "$\\displaystyle \\frac{5}{3}$"
      ],
      "text/plain": [
       "5/3"
      ]
     },
     "execution_count": 36,
     "metadata": {},
     "output_type": "execute_result"
    }
   ],
   "source": [
    "from sympy import *\n",
    "\n",
    "х=Symbol( \"х\")\n",
    "limit((5**x-5*7**x)/(4*5**x-3*7**x), x, oo)"
   ]
  },
  {
   "cell_type": "code",
   "execution_count": 37,
   "id": "5c49f61c",
   "metadata": {
    "ExecuteTime": {
     "end_time": "2023-05-14T18:03:09.797012Z",
     "start_time": "2023-05-14T18:03:09.743429Z"
    },
    "hidden": true
   },
   "outputs": [
    {
     "data": {
      "text/latex": [
       "$\\displaystyle - \\frac{1}{3}$"
      ],
      "text/plain": [
       "-1/3"
      ]
     },
     "execution_count": 37,
     "metadata": {},
     "output_type": "execute_result"
    }
   ],
   "source": [
    "from sympy import *\n",
    "\n",
    "x=Symbol(\"x\")\n",
    "limit((7*8**x+2*9**x)/(6*8**x-6*9**x), x, -oo)"
   ]
  },
  {
   "cell_type": "code",
   "execution_count": 38,
   "id": "18e3e2ca",
   "metadata": {
    "ExecuteTime": {
     "end_time": "2023-05-14T18:03:11.860146Z",
     "start_time": "2023-05-14T18:03:11.488196Z"
    },
    "hidden": true
   },
   "outputs": [
    {
     "data": {
      "text/latex": [
       "$\\displaystyle - \\frac{3}{2}$"
      ],
      "text/plain": [
       "-3/2"
      ]
     },
     "execution_count": 38,
     "metadata": {},
     "output_type": "execute_result"
    }
   ],
   "source": [
    "limit(sqrt (x* (x+3) )-sqrt(x**2+9) , x, -oo)"
   ]
  },
  {
   "cell_type": "markdown",
   "id": "18d81d46",
   "metadata": {
    "ExecuteTime": {
     "end_time": "2023-05-14T12:06:28.419230Z",
     "start_time": "2023-05-14T12:06:28.402190Z"
    },
    "heading_collapsed": true
   },
   "source": [
    "##### 6: Найти точки разрыва функции и определить их типы:\n",
    "&nbsp;&nbsp;&nbsp;&nbsp; <font size=4> $ f(x) = \\frac{\\left| x - 2 \\right|\\left( x - 7 \\right)}{x^{3} - 9x^{2} + 14x} $ </font>"
   ]
  },
  {
   "cell_type": "code",
   "execution_count": 40,
   "id": "61b2ee26",
   "metadata": {
    "ExecuteTime": {
     "end_time": "2023-05-14T18:06:02.227391Z",
     "start_time": "2023-05-14T18:06:02.167483Z"
    },
    "hidden": true
   },
   "outputs": [
    {
     "name": "stdout",
     "output_type": "stream",
     "text": [
      "[0, 2, 7]\n"
     ]
    }
   ],
   "source": [
    "# Найдем нули знаменателя и пределы в этих точках.\n",
    "# Чтобы найти нули /(%) используем функцию solve (/(%)).\n",
    "\n",
    "from sympy import *\n",
    "x=Symbol(\"x\")\n",
    "print(solve(x**3-9*x**2+14*x))"
   ]
  },
  {
   "cell_type": "code",
   "execution_count": 65,
   "id": "838ac6d7",
   "metadata": {
    "ExecuteTime": {
     "end_time": "2023-05-14T18:09:55.754310Z",
     "start_time": "2023-05-14T18:09:55.708331Z"
    },
    "hidden": true
   },
   "outputs": [
    {
     "data": {
      "text/latex": [
       "$\\displaystyle \\infty$"
      ],
      "text/plain": [
       "oo"
      ]
     },
     "execution_count": 65,
     "metadata": {},
     "output_type": "execute_result"
    }
   ],
   "source": [
    "limit(abs((x-2)*(x-7)/(x**3-9*x**2+14*x)), x, 0, '-')"
   ]
  },
  {
   "cell_type": "code",
   "execution_count": 69,
   "id": "5b41603e",
   "metadata": {
    "ExecuteTime": {
     "end_time": "2023-05-14T18:10:02.977547Z",
     "start_time": "2023-05-14T18:10:02.931746Z"
    },
    "hidden": true
   },
   "outputs": [
    {
     "data": {
      "text/latex": [
       "$\\displaystyle \\infty$"
      ],
      "text/plain": [
       "oo"
      ]
     },
     "execution_count": 69,
     "metadata": {},
     "output_type": "execute_result"
    }
   ],
   "source": [
    "limit(abs((x-2)*(x-7)/(x**3-9*x**2+14*x)), x, 0, '+')"
   ]
  },
  {
   "cell_type": "code",
   "execution_count": 66,
   "id": "7609ae3d",
   "metadata": {
    "ExecuteTime": {
     "end_time": "2023-05-14T18:09:56.595824Z",
     "start_time": "2023-05-14T18:09:56.554343Z"
    },
    "hidden": true
   },
   "outputs": [
    {
     "data": {
      "text/latex": [
       "$\\displaystyle \\frac{1}{2}$"
      ],
      "text/plain": [
       "1/2"
      ]
     },
     "execution_count": 66,
     "metadata": {},
     "output_type": "execute_result"
    }
   ],
   "source": [
    "limit(abs((x-2)*(x-7)/(x**3-9*x**2+14*x)), x, 2, '-')"
   ]
  },
  {
   "cell_type": "code",
   "execution_count": 67,
   "id": "524b4eb7",
   "metadata": {
    "ExecuteTime": {
     "end_time": "2023-05-14T18:09:57.088163Z",
     "start_time": "2023-05-14T18:09:57.044827Z"
    },
    "hidden": true
   },
   "outputs": [
    {
     "data": {
      "text/latex": [
       "$\\displaystyle \\frac{1}{2}$"
      ],
      "text/plain": [
       "1/2"
      ]
     },
     "execution_count": 67,
     "metadata": {},
     "output_type": "execute_result"
    }
   ],
   "source": [
    "limit(abs((x-2)*(x-7)/(x**3-9*x**2+14*x)), x, 2, '+')"
   ]
  },
  {
   "cell_type": "code",
   "execution_count": 68,
   "id": "f780247b",
   "metadata": {
    "ExecuteTime": {
     "end_time": "2023-05-14T18:09:57.818894Z",
     "start_time": "2023-05-14T18:09:57.776949Z"
    },
    "hidden": true
   },
   "outputs": [
    {
     "data": {
      "text/latex": [
       "$\\displaystyle \\frac{1}{7}$"
      ],
      "text/plain": [
       "1/7"
      ]
     },
     "execution_count": 68,
     "metadata": {},
     "output_type": "execute_result"
    }
   ],
   "source": [
    "limit(abs((x-2)*(x-7)/(x**3-9*x**2+14*x)), x, 7, '-')"
   ]
  },
  {
   "cell_type": "code",
   "execution_count": 87,
   "id": "249407d5",
   "metadata": {
    "ExecuteTime": {
     "end_time": "2023-05-14T18:16:29.157468Z",
     "start_time": "2023-05-14T18:16:29.116593Z"
    },
    "hidden": true
   },
   "outputs": [
    {
     "data": {
      "text/latex": [
       "$\\displaystyle \\frac{1}{7}$"
      ],
      "text/plain": [
       "1/7"
      ]
     },
     "execution_count": 87,
     "metadata": {},
     "output_type": "execute_result"
    }
   ],
   "source": [
    "limit(abs((x-2)*(x-7)/(x**3-9*x**2+14*x)), x, 7, '+')"
   ]
  },
  {
   "cell_type": "markdown",
   "id": "5ca81fdb",
   "metadata": {
    "hidden": true
   },
   "source": [
    "Ответ:</br>\n",
    "&nbsp;&nbsp;&nbsp;&nbsp; 0 - точка разрыва II рода,</br>\n",
    "&nbsp;&nbsp;&nbsp;&nbsp; 7 - I рода, устранимый разрыв,</br>\n",
    "&nbsp;&nbsp;&nbsp;&nbsp; 2 - I рода,</br>\n",
    "&nbsp;&nbsp;&nbsp;&nbsp; неустранимый разрыв (с легкостью можно сделать вывод итогов автоматически)."
   ]
  },
  {
   "cell_type": "markdown",
   "id": "cb395dbf",
   "metadata": {
    "ExecuteTime": {
     "end_time": "2023-05-14T12:06:28.419230Z",
     "start_time": "2023-05-14T12:06:28.402190Z"
    },
    "heading_collapsed": true
   },
   "source": [
    "##### 7: Найти асимптоты графика функции:\n",
    "&nbsp;&nbsp;&nbsp;&nbsp; <font size=4> $ y = \\frac{1 + 5x }{ 3 + x } $ </font>"
   ]
  },
  {
   "cell_type": "code",
   "execution_count": 76,
   "id": "06301994",
   "metadata": {
    "ExecuteTime": {
     "end_time": "2023-05-14T18:12:40.607902Z",
     "start_time": "2023-05-14T18:12:40.496442Z"
    },
    "hidden": true
   },
   "outputs": [
    {
     "name": "stdout",
     "output_type": "stream",
     "text": [
      "0\n"
     ]
    }
   ],
   "source": [
    "# Сначала найдем наклонные асимптоты у = кх + Ь.\n",
    "k = limit((1+5*x)/(3+x)/x, x, oo)\n",
    "print(k)"
   ]
  },
  {
   "cell_type": "code",
   "execution_count": 78,
   "id": "9432ff7e",
   "metadata": {
    "ExecuteTime": {
     "end_time": "2023-05-14T18:12:49.932892Z",
     "start_time": "2023-05-14T18:12:49.906096Z"
    },
    "hidden": true
   },
   "outputs": [
    {
     "name": "stdout",
     "output_type": "stream",
     "text": [
      "5\n"
     ]
    }
   ],
   "source": [
    "b = limit((1+5*x)/(3+x)-k*x, x, oo)\n",
    "print(b)"
   ]
  },
  {
   "cell_type": "code",
   "execution_count": 80,
   "id": "31cacd9f",
   "metadata": {
    "ExecuteTime": {
     "end_time": "2023-05-14T18:13:12.027947Z",
     "start_time": "2023-05-14T18:13:11.992335Z"
    },
    "hidden": true
   },
   "outputs": [
    {
     "data": {
      "text/plain": [
       "[-3]"
      ]
     },
     "execution_count": 80,
     "metadata": {},
     "output_type": "execute_result"
    }
   ],
   "source": [
    "# Затем вертикальные. Для этого решим уравнение, приравняв\n",
    "# знаменатель дроби к нулю: 3 -I- х = 0, и найдем левосторонний и \n",
    "# правосторонний пределы функции, при переменной, стремящейся к нулю\n",
    "# знаменателя.\n",
    "\n",
    "solve(3+x)"
   ]
  },
  {
   "cell_type": "code",
   "execution_count": 83,
   "id": "bf13c9aa",
   "metadata": {
    "ExecuteTime": {
     "end_time": "2023-05-14T18:13:56.840387Z",
     "start_time": "2023-05-14T18:13:56.801952Z"
    },
    "hidden": true
   },
   "outputs": [
    {
     "data": {
      "text/latex": [
       "$\\displaystyle \\infty$"
      ],
      "text/plain": [
       "oo"
      ]
     },
     "execution_count": 83,
     "metadata": {},
     "output_type": "execute_result"
    }
   ],
   "source": [
    "limit((1+5*x)/(3+x), x, -3, '-')"
   ]
  },
  {
   "cell_type": "code",
   "execution_count": 86,
   "id": "8378cadf",
   "metadata": {
    "ExecuteTime": {
     "end_time": "2023-05-14T18:14:15.345138Z",
     "start_time": "2023-05-14T18:14:15.308359Z"
    },
    "hidden": true
   },
   "outputs": [
    {
     "data": {
      "text/latex": [
       "$\\displaystyle -\\infty$"
      ],
      "text/plain": [
       "-oo"
      ]
     },
     "execution_count": 86,
     "metadata": {},
     "output_type": "execute_result"
    }
   ],
   "source": [
    "limit((1+5*x)/(3+x), x, -3, '+')"
   ]
  },
  {
   "cell_type": "markdown",
   "id": "237e5c54",
   "metadata": {
    "hidden": true
   },
   "source": [
    "Ответ: </br>\n",
    "&nbsp;&nbsp;&nbsp;&nbsp; у = 5 - горизонтальная асимптота, </br>\n",
    "&nbsp;&nbsp;&nbsp;&nbsp; х = -3 - вертикальная асимптота."
   ]
  }
 ],
 "metadata": {
  "hide_input": false,
  "kernelspec": {
   "display_name": "Python 3 (ipykernel)",
   "language": "python",
   "name": "python3"
  },
  "language_info": {
   "codemirror_mode": {
    "name": "ipython",
    "version": 3
   },
   "file_extension": ".py",
   "mimetype": "text/x-python",
   "name": "python",
   "nbconvert_exporter": "python",
   "pygments_lexer": "ipython3",
   "version": "3.10.6"
  },
  "nbTranslate": {
   "displayLangs": [
    "*"
   ],
   "hotkey": "alt-t",
   "langInMainMenu": true,
   "sourceLang": "en",
   "targetLang": "fr",
   "useGoogleTranslate": true
  },
  "toc": {
   "base_numbering": 1,
   "nav_menu": {},
   "number_sections": true,
   "sideBar": true,
   "skip_h1_title": false,
   "title_cell": "Table of Contents",
   "title_sidebar": "Contents",
   "toc_cell": false,
   "toc_position": {},
   "toc_section_display": true,
   "toc_window_display": false
  },
  "varInspector": {
   "cols": {
    "lenName": 16,
    "lenType": 16,
    "lenVar": 40
   },
   "kernels_config": {
    "python": {
     "delete_cmd_postfix": "",
     "delete_cmd_prefix": "del ",
     "library": "var_list.py",
     "varRefreshCmd": "print(var_dic_list())"
    },
    "r": {
     "delete_cmd_postfix": ") ",
     "delete_cmd_prefix": "rm(",
     "library": "var_list.r",
     "varRefreshCmd": "cat(var_dic_list()) "
    }
   },
   "types_to_exclude": [
    "module",
    "function",
    "builtin_function_or_method",
    "instance",
    "_Feature"
   ],
   "window_display": false
  }
 },
 "nbformat": 4,
 "nbformat_minor": 5
}
