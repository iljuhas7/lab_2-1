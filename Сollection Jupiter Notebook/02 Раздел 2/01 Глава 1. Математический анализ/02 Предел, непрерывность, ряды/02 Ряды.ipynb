{
 "cells": [
  {
   "cell_type": "markdown",
   "id": "24b07ffa",
   "metadata": {},
   "source": [
    "# Ряды"
   ]
  },
  {
   "cell_type": "markdown",
   "id": "28503503",
   "metadata": {
    "ExecuteTime": {
     "end_time": "2023-05-14T12:06:28.419230Z",
     "start_time": "2023-05-14T12:06:28.402190Z"
    },
    "heading_collapsed": true
   },
   "source": [
    "### Ряды\n"
   ]
  },
  {
   "cell_type": "markdown",
   "id": "eaed5055",
   "metadata": {
    "hidden": true
   },
   "source": [
    "Пределы можно использовать для решения задач с числовыми и функциональными рядами. Напомним, что числовые и функциональные ряды являются мощным инструментом теории приближений."
   ]
  },
  {
   "cell_type": "markdown",
   "id": "8eb7664d",
   "metadata": {
    "hidden": true
   },
   "source": [
    "**Определение. Бесконечная сумма** </br></br>\n",
    "&nbsp;&nbsp;&nbsp;&nbsp; $ \\sum_{n=1}^{+\\infty}a_{n} = a_{1} + a_{2} + ... + a_{n} + ... $ </br></br>\n",
    "называется числовым рядом или просто рядом, $a_{n}$ — члены ряда. </br>\n",
    "Обозначим $S_{1} = a_{1}$, $ S_{2} = a_{1} + a_{2}, ..., S_{n} = a_{1} + a_{2} + ... + a_{n} $."
   ]
  },
  {
   "cell_type": "markdown",
   "id": "e43ac963",
   "metadata": {
    "hidden": true
   },
   "source": [
    "---"
   ]
  },
  {
   "cell_type": "markdown",
   "id": "2030b877",
   "metadata": {
    "ExecuteTime": {
     "end_time": "2023-05-14T20:41:30.735743Z",
     "start_time": "2023-05-14T20:41:30.703907Z"
    },
    "hidden": true
   },
   "source": [
    "**Определение**. Если существует предел $ S = \\lim_{n\\to+\\infty}S_{n} $, то ряд $ \\sum_{i=1}^{+\\infty}a_{i} $ называется сходящимся, если не существует этого предела, то ряд называется расходящимся.</br>\n",
    "&nbsp;&nbsp;&nbsp;&nbsp; Если все члены ряда</br>\n",
    "<div style=\"text-align: center;\">$ \\sum^{+\\infty}_{n-1}a_{n} = a_{1} + a_{2} + ... + a_{n} + ... $</div></br>\n",
    "неотрицательные числа, то ряд называется положительным."
   ]
  },
  {
   "cell_type": "markdown",
   "id": "e638a27a",
   "metadata": {
    "heading_collapsed": true,
    "hidden": true
   },
   "source": [
    "#### Теорема"
   ]
  },
  {
   "cell_type": "markdown",
   "id": "72675de4",
   "metadata": {
    "ExecuteTime": {
     "end_time": "2023-05-15T00:34:47.217576Z",
     "start_time": "2023-05-15T00:34:47.186929Z"
    },
    "hidden": true
   },
   "source": [
    "Для того чтобы положительный ряд сходился, необходимо и достаточно, чтобы последовательность частичных сумм этого mряда была ограничена сверху.\n",
    "Далее сформулируем достаточные признаки сходимости положительных рядов."
   ]
  },
  {
   "cell_type": "markdown",
   "id": "089916e6",
   "metadata": {
    "heading_collapsed": true,
    "hidden": true
   },
   "source": [
    "#### Признак сравнения рядов."
   ]
  },
  {
   "cell_type": "markdown",
   "id": "918cde42",
   "metadata": {
    "hidden": true
   },
   "source": [
    "Пусть даны два положительных ряда</br></br>\n",
    "<div style=\"text-align: center;\">$(B) = \\sum_{n=1}^{\\infty}b_{n}, (C) = \\sum_{n=1}^{\\infty}c_{n}$</div></br>\n",
    "Если члены ряда ($В$) не превосходят соответствующих членов ряда ($ С $), т.е. $ b_{n} \\le c_{n} $ ($ n = 1,2,3,... $), то из сходимости ряда ($С$) следует сходимость ряда ($В$), а из расходимости ряда ($В$) следует расходимость ряда ($C$).\n"
   ]
  },
  {
   "cell_type": "markdown",
   "id": "8ddb6a15",
   "metadata": {
    "heading_collapsed": true,
    "hidden": true
   },
   "source": [
    "#### Признак Даламбера"
   ]
  },
  {
   "cell_type": "markdown",
   "id": "b7843628",
   "metadata": {
    "hidden": true
   },
   "source": [
    "Если члены положительного ряда таковы, что существует предел $ \\lim_{x \\to \\infty}\\frac{a_{n+1}}{a_{n}}=l $ , то при $ l < 1 $ ряд сходится, а при $ l > 1 $ ряд расходится. При $ l = 1 $ для выяснения вопроса о сходимости ряда нужно применять другой признак"
   ]
  },
  {
   "cell_type": "markdown",
   "id": "447ca4a9",
   "metadata": {
    "heading_collapsed": true,
    "hidden": true
   },
   "source": [
    "#### Интегральный признак Коши. "
   ]
  },
  {
   "cell_type": "markdown",
   "id": "9a20274f",
   "metadata": {
    "hidden": true
   },
   "source": [
    "Пусть члены положительного ряда таковы, что $ a_{1} = f(2), .., a_{n} = f(n), ... $, где функция f(x) при $ x \\ge 1 $ непрерывна, положительна и убывает. Тогда ряд и несобственный интеграл $ \\int_{1}^{+\\infty}(x)d'x $ сходятся и расходятся одновременно.</br>\n",
    "</br>\n",
    "Знакочередующимся рядом называется ряд вида </br></br>\n",
    "<div style=\"text-align: center;\">$ \\sum_{n=1}^{+\\infty}(-1)^{i-1}-a_{i} = a_{1} - a_{2} + ... + (-1)^{n-1}a_{n} + ... $</div></br>\n",
    "где $ a_{n} > 0 (n = 1,2,...) $.</br>\n",
    "Необходимый признак сходимости знакочередующихся рядов."
   ]
  },
  {
   "cell_type": "markdown",
   "id": "476ebcb5",
   "metadata": {
    "hidden": true
   },
   "source": [
    "#### Теорема (Лейбница)"
   ]
  },
  {
   "cell_type": "markdown",
   "id": "cea4f021",
   "metadata": {
    "hidden": true
   },
   "source": [
    "Теорема (Лейбница). Если члены знакочередующегося ряда по абсолютной величине монотонно убывают, то есть $a_{n+1} < a_{n} (n=1,2,...)$, и общий член стремится к нулю, то есть $ \\lim_{n \\to \\infty} = 0$, то ряд сходится.</br>\n",
    "\n",
    "Кроме того, остаток $r_{n}$ знакочередующегося ряда, удовлетворяющего условиям теоремы Лейбница, имеет знак своего первого члена и меньше его по абсолютной величине. Это позволяет вычислять приближенное значение суммы ряда с любой заданной точностью.</br>\n",
    "\n",
    "С каждым рядом $ \\sum^{+\\infty}_{n=1}a_{n} $ связан ряд, составленный из модулей (абсолютных величин) членов данного ряда, т.е. ряд $ \\sum^{+\\infty}_{n=1}\\left| a_{n} \\right| $\n",
    "\n",
    "Если сходится ряд $ \\sum^{+\\infty}_{n=1}\\left| a_{n} \\right| $, то сходится и ряд $ \\sum^{+\\infty}_{n=1}a_{n} $ </br>\n",
    "</br>\n",
    "Обратное не всегда верно </br>\n",
    "Если сходится знакочередующийся ряд $ \\sum^{+\\infty}_{n=1}a_{n} $, а ряд $ \\sum^{+\\infty}_{n=1}\\left| a_{n} \\right| $ расходится, то знакочередующийся ряд называется условно сходящимся.</br>\n",
    "</br>\n",
    "Если же ряд $ \\sum^{+\\infty}_{n=1}\\left| a_{n} \\right| $ сходится, то знакочередующийся ряд называется абсолютно сходящимся."
   ]
  },
  {
   "cell_type": "markdown",
   "id": "84bbca0c",
   "metadata": {
    "heading_collapsed": true,
    "hidden": true
   },
   "source": [
    "#### Алгоритм проверки ряда на сходимость"
   ]
  },
  {
   "cell_type": "markdown",
   "id": "874a633c",
   "metadata": {
    "hidden": true
   },
   "source": [
    "1. Проверим необходимое условие сходимости — выполнение теоремы Лейбница. Если она не выполняется, то ряд расходится.\n",
    "2. Если выполняется, то рассмотрим ряд из модулей. Применим к этому ряду один из достаточных признаков сходимости рядов с положительными членами.\n",
    "3. Если ряд из модулей сходится, то искомый ряд сходится абсолютно, в противном случае искомый ряд сходится условно.\n"
   ]
  },
  {
   "cell_type": "markdown",
   "id": "30f6c835",
   "metadata": {
    "ExecuteTime": {
     "end_time": "2023-05-14T12:06:28.419230Z",
     "start_time": "2023-05-14T12:06:28.402190Z"
    },
    "heading_collapsed": true
   },
   "source": [
    "### Ряд с комплексными членами\n"
   ]
  },
  {
   "cell_type": "markdown",
   "id": "0b086d63",
   "metadata": {
    "hidden": true
   },
   "source": [
    "<div style=\"text-align: center;\">$ \\sum^{+\\infty}_{n=1}(a_{n}+ib_{n}) $</div></br>"
   ]
  },
  {
   "cell_type": "markdown",
   "id": "86eaf22f",
   "metadata": {
    "hidden": true
   },
   "source": [
    "Задача о сходимости таких рядов сводится к изучению сходимости рядов составленных из действительных $ \\sum^{\\infty}_{n=1}a_{n} $  и мнимых $ \\sum^{\\infty}_{n=1}b_{n} $ частей. Ряд сходится тогда и только тогда, когда сходятся оба этих ряда.</br>\n",
    "</br>\n",
    "Если сходится ряд из модулей $ \\sum^{\\infty}_{n=1}\\left| a_{n} + ib_{n} \\right| $ то ряд $ \\sum^{\\infty}_{n=1}\\left( a_{n} + ib_{n} \\right) $ сходися абсолютно"
   ]
  },
  {
   "cell_type": "markdown",
   "id": "203124fc",
   "metadata": {
    "ExecuteTime": {
     "end_time": "2023-05-14T12:06:28.419230Z",
     "start_time": "2023-05-14T12:06:28.402190Z"
    },
    "heading_collapsed": true
   },
   "source": [
    "### Функциональные ряды\n"
   ]
  },
  {
   "cell_type": "markdown",
   "id": "262d51f0",
   "metadata": {
    "hidden": true
   },
   "source": [
    "<div style=\"text-align: center;\">$ u_{1}(x) + u_{2}(x) + ... + u_{n}(x) + ... $</div></br>"
   ]
  },
  {
   "cell_type": "markdown",
   "id": "3b3ceb67",
   "metadata": {
    "hidden": true
   },
   "source": [
    "Пример функционального ряда: $ 1+x+x^{2}+x^{3}+...+x^{n}+...$</br>\n",
    "</br>\n",
    "**Определение**. Если этот числовой ряд сходится, то точку $x_{0}$ называет точкой сходимости функционального ряда. Если этот ряд расходиться, то точку х0 называет точкой расходимости функционального ряда. Совокупность всех точек сходимости функционального ряда.}</br>\n",
    "</br>\n",
    "Сумма первых $n$ членов функционального ряда, то есть его частичная сумма, является также функцией, зависящей от $x$. Для любой\n",
    "точки из области сходимости функционального ряда существует предел $S_{n}(x)$ при $n \\to \\infty$. В остальных точках частичная сумма не имеет\n",
    "предела.</br>\n",
    "</br>\n",
    "Рассмотрим функциональный ряд вида </br>\n",
    "<div style=\"text-align: center;\">$ a_{0} + a_{1}x + a_{2}x^{2} + ... + a_{n}x^{n} + ... $</div></br>\n",
    "</br>\n",
    "Это степенной ряд, числа $a_{0}, a_{1}, ..., a_{n}, ...$ - коэффициенты степенного ряда.</br>"
   ]
  },
  {
   "cell_type": "markdown",
   "id": "9c65be0a",
   "metadata": {
    "heading_collapsed": true,
    "hidden": true
   },
   "source": [
    "#### Теорема (Абель)."
   ]
  },
  {
   "cell_type": "markdown",
   "id": "d2281c9c",
   "metadata": {
    "hidden": true
   },
   "source": [
    "Если степенной ряд сходится при $x = _{0} \\neq 0$, то он абсолютно сходится для любого х, удовлетворяющего условию $ |x|<|x_{0}|$; </br>\n",
    "eсли при $ x =x_{0}\\neq 0|$ степенной ряд расходится, то он расходится для любого $x$, удовлетворяющего условию $ |x|>|x_{0}|$.</br>\n",
    "</br>\n",
    "Важным следствие теоремы Абеля является наличие радиуса сходимости степенного ряда. Более точно, для каждого степенного ряда существует число $R > 0$, называемое радиусом сходимости этого ряда, такое что при $|х| < R$ степенной ряд сходится абсолютно, а при $|х| > R$ ряд расходится. Промежуток $(-R, R)$ называют интервалом сходимости степенного ряда. Областью сходимости степенного ряда называют интервал сходимости, к которому могут добавляться один или оба конца интервала. Если для степенного ряда существует и отличен от нуля предел:</br>\n",
    "</br>\n",
    "<div style=\"text-align: center;\"><font size=4>$ \\lim_{n\\to\\infty}\\left|\\frac{a_{n+1}}{a_{n}} \\right| = L $</font></div></br>\n",
    "то радиус сходимости степенного ряда можно вычислить по формуле $ R = \\frac{1}{L}$.</br>\n",
    "</br>\n",
    "Ряд по степеням разности х-а также называют степенным рядом:</br>\n",
    "<div style=\"text-align: center;\"><font size=4>$ a_{0}+a_{1}(x-a)+a_{2}(x-a)^{2}+...+a_{n}(x-a)^n+... $</font></div></br>\n",
    "</br>\n",
    "Если функция $f(х)$ есть сумма ряда такого вида, то говорят, что функция разлагается в степенной ряд. Это означает, что функцию можно приближенно заменить суммой нескольких членов степенного ряда и это разложение единственно.</br>\n",
    "\n",
    "Радиус сходимости может быть вычислен по формулам</br>\n",
    "<div style=\"text-align: center;\"><font size=4>$ R = \\lim_{n\\to\\infty}\\left| \\frac{a_{n}}{a_{n+1}} \\right| $ или $ R = \\lim_{n\\to\\infty}\\left| \\frac{a_{n}}{^n\\sqrt{\\left| a_{n} \\right|}} \\right| $ </font></div></br>\n",
    "</br>\n",
    "Рядом Тейлора функции f(х) называется степенной ряд</br>\n",
    "<div style=\"text-align: center;\"><font size=4>$ f(x) = f(x_{0}) + \\frac{f'(x_{0})}{1!} (x - x_{0}) + \\frac{f''(x_{0})}{2\n",
    "!} (x - x_{0})^{2} + ... + \\frac{f''(x_{0})}{n!} (x - x_{0})^{n} + ... $</font></div></br>\n",
    "</br>\n",
    "Здесь числа</br>\n",
    "<div style=\"text-align: center;\"><font size=4>$ a_{0} = f(x_{0}), a_{1} = \\frac{f'(x_{0})}{1!}, a_{2} = \\frac{f''(x_{0})}{2!}, ..., a_{n} = \\frac{f^{n}(x_{0})}{n!}$</font></div></br>\n",
    "</br>\n",
    "называют коэффициентами Тейлора функции $f(х)$ в точке $x_{0}$.</br>\n",
    "</br>\n",
    "При $ x_{0} = 0 $ имеем ряд Мак Лорена:</br>\n",
    "<div style=\"text-align: center;\"><font size=4>$ f(x) = f(x_{0})+\\frac{f'(x_{0})}{1!} + f(x_{0})+\\frac{f''(x_{0})}{2!} + ... + a_{n} = f(x_{0})+\\frac{f^{n}(x_{0})}{n!} + ... $</font></div></br>\n",
    "</br>\n",
    "Отметим, что если заранее не предполагать, что функция $f(х)$ может быть разложена в степенной ряд, то возникает вопрос, будет ли составленный ряд Тейлора сходиться и в действительности ли его сумма равна $f(х)$."
   ]
  },
  {
   "cell_type": "markdown",
   "id": "3fe975ed",
   "metadata": {
    "heading_collapsed": true,
    "hidden": true
   },
   "source": [
    "#### Формула Тейлора:"
   ]
  },
  {
   "cell_type": "markdown",
   "id": "a4d5d418",
   "metadata": {
    "hidden": true
   },
   "source": [
    "<div style=\"text-align: center;\"><font size=4>$ f(x) = f(x_{0})+\\frac{f'(x_{0})}{1!}(x-x_{0})+\\frac{f''(x_{0})}{2!}(x-x_{0})^{2} + ... + \\frac{f^{n}(x_{0})}{n!}(x-x_{0})^{n} + r_{n}(x)$, </font></div></br>\n",
    "<div style=\"text-align: center;\"><font size=4>$  r_{n}(x) = \\frac{f^{n+1}(x_{0}+o(x-x_{0}))}{(n+1)!}(x-x_{0})^{n+1} $ </font></div></br>"
   ]
  },
  {
   "cell_type": "markdown",
   "id": "664b2d7b",
   "metadata": {
    "hidden": true
   },
   "source": [
    "Для того чтобы ряд Тейлора сходился к функции $f(x)$, необходимо и достаточно, чтобы остаточный член $r_{n}(x)$ в формуле Тейлора в\n",
    "каждой точке интервала сходимости стремился к нулю при $n\\to\\infty$"
   ]
  },
  {
   "cell_type": "markdown",
   "id": "a3866306",
   "metadata": {
    "heading_collapsed": true,
    "hidden": true
   },
   "source": [
    "#### Пример"
   ]
  },
  {
   "cell_type": "markdown",
   "id": "df5cb13a",
   "metadata": {
    "ExecuteTime": {
     "end_time": "2023-05-14T12:08:52.671024Z",
     "start_time": "2023-05-14T12:08:52.654275Z"
    },
    "heading_collapsed": true,
    "hidden": true
   },
   "source": [
    "##### 1: Найдем радиус и интервал сходимости степенного ряда \n",
    "\n",
    "&nbsp;&nbsp;&nbsp;&nbsp; $ \\sum_{n=1}^{\\infty}\\frac{n^{n}}{n!}x^{n} $</br>\n",
    "</br>\n",
    "Решение.</br>\n",
    "Радиус сходимости найдем, используя признак Даламбера:</br>\n",
    "&nbsp;&nbsp;&nbsp;&nbsp; $ R=\\lim_{n\\to\\infty}\\frac{n^{n}·(n+1)!}{n!·(n+1)}=\\lim_{n\\to\\infty}\\frac{n+1}{\\left( 1+\\frac{1}{n} \\right)^{n}·(n+1)} = \\frac{1}{e} $</br>"
   ]
  },
  {
   "cell_type": "code",
   "execution_count": 9,
   "id": "27571b63",
   "metadata": {
    "ExecuteTime": {
     "end_time": "2023-05-15T14:23:03.752372Z",
     "start_time": "2023-05-15T14:23:03.537804Z"
    },
    "hidden": true
   },
   "outputs": [
    {
     "data": {
      "text/latex": [
       "$\\displaystyle e^{-1}$"
      ],
      "text/plain": [
       "exp(-1)"
      ]
     },
     "execution_count": 9,
     "metadata": {},
     "output_type": "execute_result"
    }
   ],
   "source": [
    "import math\n",
    "from sympy import*\n",
    "\n",
    "x = Symbol('x')\n",
    "limit( x**x / factorial(x) / ( (x+1)**(x+1) / factorial(x+1) ), x, oo)"
   ]
  },
  {
   "cell_type": "markdown",
   "id": "39ba015f",
   "metadata": {
    "hidden": true
   },
   "source": [
    "Ряд сходится на интервале $-\\frac{1}{e}<x<\\frac{1}{e}$.Ответ на вопрос о сходимое е сти ряда на концах интервала остается открытым."
   ]
  },
  {
   "cell_type": "markdown",
   "id": "e7113e36",
   "metadata": {
    "ExecuteTime": {
     "end_time": "2023-05-14T12:08:52.671024Z",
     "start_time": "2023-05-14T12:08:52.654275Z"
    },
    "heading_collapsed": true,
    "hidden": true
   },
   "source": [
    "##### 2: Разложим в ряд Мак Лорена функции\n",
    "\n",
    "&nbsp;&nbsp;&nbsp;&nbsp; $ f(x) = \\sin x, f(x) = \\cos x, f(x) = e^{x}, f(x) = \\arcsin x $</br>\n",
    "</br>\n",
    "Решение.</br>\n",
    "Это можно сделать с помощью функции fimc.series(x,x0,m),</br>\n",
    "где: </br>\n",
    "х - переменная, по степеням которой раскладывается ряд,</br>\n",
    "х0 - точка, в которой осуществляется разложение, m порядок остатка."
   ]
  },
  {
   "cell_type": "code",
   "execution_count": 13,
   "id": "2878e808",
   "metadata": {
    "ExecuteTime": {
     "end_time": "2023-05-15T14:27:45.042503Z",
     "start_time": "2023-05-15T14:27:44.832294Z"
    },
    "hidden": true
   },
   "outputs": [
    {
     "name": "stdout",
     "output_type": "stream",
     "text": [
      "x - x**3/6 + x**5/120 - x**7/5040 + x**9/362880 + O(x**10)\n"
     ]
    }
   ],
   "source": [
    "import sympy\n",
    "\n",
    "х = sympy.symbols('х')\n",
    "\n",
    "func = sin(x)\n",
    "x0 = 0\n",
    "\n",
    "print((func).series(x, x0, 10))"
   ]
  },
  {
   "cell_type": "code",
   "execution_count": 15,
   "id": "4008413d",
   "metadata": {
    "ExecuteTime": {
     "end_time": "2023-05-15T14:28:11.346912Z",
     "start_time": "2023-05-15T14:28:11.135586Z"
    },
    "hidden": true
   },
   "outputs": [
    {
     "name": "stdout",
     "output_type": "stream",
     "text": [
      "1 - x**2/2 + x**4/24 - x**6/720 + x**8/40320 + O(x**10)\n"
     ]
    }
   ],
   "source": [
    "import sympy\n",
    "\n",
    "х = sympy.symbols('х')\n",
    "\n",
    "func = cos(x)\n",
    "x0 = 0\n",
    "\n",
    "print((func).series(x, x0, 10))"
   ]
  },
  {
   "cell_type": "code",
   "execution_count": 17,
   "id": "72c8ec91",
   "metadata": {
    "ExecuteTime": {
     "end_time": "2023-05-15T14:28:19.554202Z",
     "start_time": "2023-05-15T14:28:18.798703Z"
    },
    "hidden": true
   },
   "outputs": [
    {
     "name": "stdout",
     "output_type": "stream",
     "text": [
      "1 + x + x**2/2 + x**3/6 + x**4/24 + x**5/120 + x**6/720 + x**7/5040 + x**8/40320 + x**9/362880 + O(x**10)\n"
     ]
    }
   ],
   "source": [
    "import sympy\n",
    "\n",
    "х = sympy.symbols('х')\n",
    "\n",
    "func = exp(x)\n",
    "x0 = 0\n",
    "\n",
    "print((func).series(x, x0, 10))"
   ]
  },
  {
   "cell_type": "code",
   "execution_count": 18,
   "id": "09025383",
   "metadata": {
    "ExecuteTime": {
     "end_time": "2023-05-15T14:28:38.128997Z",
     "start_time": "2023-05-15T14:28:36.480372Z"
    },
    "hidden": true
   },
   "outputs": [
    {
     "data": {
      "text/latex": [
       "$\\displaystyle x + \\frac{x^{3}}{6} + \\frac{3 x^{5}}{40} + \\frac{5 x^{7}}{112} + \\frac{35 x^{9}}{1152} + O\\left(x^{10}\\right)$"
      ],
      "text/plain": [
       "x + x**3/6 + 3*x**5/40 + 5*x**7/112 + 35*x**9/1152 + O(x**10)"
      ]
     },
     "execution_count": 18,
     "metadata": {},
     "output_type": "execute_result"
    }
   ],
   "source": [
    "func=asin(x)\n",
    "\n",
    "x0=0\n",
    "\n",
    "func.series(x,x0,10)"
   ]
  },
  {
   "cell_type": "markdown",
   "id": "d493123c",
   "metadata": {},
   "source": [
    "#\n"
   ]
  }
 ],
 "metadata": {
  "hide_input": false,
  "kernelspec": {
   "display_name": "Python 3 (ipykernel)",
   "language": "python",
   "name": "python3"
  },
  "language_info": {
   "codemirror_mode": {
    "name": "ipython",
    "version": 3
   },
   "file_extension": ".py",
   "mimetype": "text/x-python",
   "name": "python",
   "nbconvert_exporter": "python",
   "pygments_lexer": "ipython3",
   "version": "3.10.6"
  },
  "nbTranslate": {
   "displayLangs": [
    "*"
   ],
   "hotkey": "alt-t",
   "langInMainMenu": true,
   "sourceLang": "en",
   "targetLang": "fr",
   "useGoogleTranslate": true
  },
  "toc": {
   "base_numbering": 1,
   "nav_menu": {},
   "number_sections": true,
   "sideBar": true,
   "skip_h1_title": false,
   "title_cell": "Table of Contents",
   "title_sidebar": "Contents",
   "toc_cell": false,
   "toc_position": {},
   "toc_section_display": true,
   "toc_window_display": false
  },
  "varInspector": {
   "cols": {
    "lenName": 16,
    "lenType": 16,
    "lenVar": 40
   },
   "kernels_config": {
    "python": {
     "delete_cmd_postfix": "",
     "delete_cmd_prefix": "del ",
     "library": "var_list.py",
     "varRefreshCmd": "print(var_dic_list())"
    },
    "r": {
     "delete_cmd_postfix": ") ",
     "delete_cmd_prefix": "rm(",
     "library": "var_list.r",
     "varRefreshCmd": "cat(var_dic_list()) "
    }
   },
   "types_to_exclude": [
    "module",
    "function",
    "builtin_function_or_method",
    "instance",
    "_Feature"
   ],
   "window_display": false
  }
 },
 "nbformat": 4,
 "nbformat_minor": 5
}
