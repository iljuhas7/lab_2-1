{
 "cells": [
  {
   "cell_type": "markdown",
   "id": "24b07ffa",
   "metadata": {},
   "source": [
    "# Несобственный интеграл"
   ]
  },
  {
   "cell_type": "markdown",
   "id": "860783b3",
   "metadata": {},
   "source": [
    "Отметим, что если границы интегрирования числа, и подынтегральная функция на отрезке интегрирования непрерывна, то интеграл называется собственным; в противном случае - несобственным. Определенный интеграл расходится, если он не существует или равен бесконечности. Геометрически это означает, что площадь криволинейной трапеции не ограничена."
   ]
  },
  {
   "cell_type": "code",
   "execution_count": null,
   "id": "e359889e",
   "metadata": {
    "ExecuteTime": {
     "end_time": "2023-05-16T22:47:06.873804Z",
     "start_time": "2023-05-16T22:47:06.873663Z"
    }
   },
   "outputs": [],
   "source": [
    "import sympy\n",
    "import matplotlib.pyplot as plt\n",
    "from scipy.optimize import minimize"
   ]
  },
  {
   "cell_type": "markdown",
   "id": "a3866306",
   "metadata": {},
   "source": [
    "### Пример"
   ]
  },
  {
   "cell_type": "markdown",
   "id": "1970aeb7",
   "metadata": {
    "heading_collapsed": true
   },
   "source": [
    "#### 1: Найти несобственный интеграл $\\int^{\\infty}_{1}x^{-4}dx$"
   ]
  },
  {
   "cell_type": "code",
   "execution_count": 6,
   "id": "7de4cdae",
   "metadata": {
    "ExecuteTime": {
     "end_time": "2023-05-16T22:52:28.290335Z",
     "start_time": "2023-05-16T22:52:26.532088Z"
    },
    "hidden": true
   },
   "outputs": [
    {
     "data": {
      "text/latex": [
       "$\\displaystyle \\frac{1}{3}$"
      ],
      "text/plain": [
       "1/3"
      ]
     },
     "execution_count": 6,
     "metadata": {},
     "output_type": "execute_result"
    }
   ],
   "source": [
    "x = sympy.symbols('x')\n",
    "sympy.integrate(x**(-4), (x, 1, sympy.oo))"
   ]
  },
  {
   "cell_type": "markdown",
   "id": "b5957b01",
   "metadata": {
    "heading_collapsed": true
   },
   "source": [
    "#### 2: Найти несобственный интеграл $\\int^{\\infty}_{-1}e^{-2x}dx$"
   ]
  },
  {
   "cell_type": "code",
   "execution_count": 8,
   "id": "d7a55cc8",
   "metadata": {
    "ExecuteTime": {
     "end_time": "2023-05-16T22:52:59.159767Z",
     "start_time": "2023-05-16T22:52:57.286932Z"
    },
    "hidden": true
   },
   "outputs": [
    {
     "data": {
      "text/latex": [
       "$\\displaystyle \\frac{e^{2}}{2}$"
      ],
      "text/plain": [
       "exp(2)/2"
      ]
     },
     "execution_count": 8,
     "metadata": {},
     "output_type": "execute_result"
    }
   ],
   "source": [
    "x = sympy.symbols('x')\n",
    "sympy.integrate(sympy.exp(-2*x), (x, -1, sympy.oo))"
   ]
  },
  {
   "cell_type": "markdown",
   "id": "bc60353a",
   "metadata": {
    "heading_collapsed": true
   },
   "source": [
    "#### 3: Найти несобственный интеграл $\\int^{1}_{0}\\ln xdx$"
   ]
  },
  {
   "cell_type": "code",
   "execution_count": 10,
   "id": "356c4208",
   "metadata": {
    "ExecuteTime": {
     "end_time": "2023-05-16T22:53:23.681539Z",
     "start_time": "2023-05-16T22:53:22.572755Z"
    },
    "hidden": true
   },
   "outputs": [
    {
     "data": {
      "text/latex": [
       "$\\displaystyle -1$"
      ],
      "text/plain": [
       "-1"
      ]
     },
     "execution_count": 10,
     "metadata": {},
     "output_type": "execute_result"
    }
   ],
   "source": [
    "x = sympy.symbols('x')\n",
    "sympy.integrate(sympy.log(x), (x, 0, 1))"
   ]
  },
  {
   "cell_type": "markdown",
   "id": "ef37a2b5",
   "metadata": {
    "heading_collapsed": true
   },
   "source": [
    "#### 4: Найти несобственный интеграл $\\int^{7}_{0}\\frac{1}{x^{\\frac{6}{7}}}dx$"
   ]
  },
  {
   "cell_type": "code",
   "execution_count": 11,
   "id": "dcbf9734",
   "metadata": {
    "ExecuteTime": {
     "end_time": "2023-05-16T22:53:42.423442Z",
     "start_time": "2023-05-16T22:53:42.303463Z"
    },
    "hidden": true
   },
   "outputs": [
    {
     "data": {
      "text/latex": [
       "$\\displaystyle 9.24328473429286$"
      ],
      "text/plain": [
       "9.24328473429286"
      ]
     },
     "execution_count": 11,
     "metadata": {},
     "output_type": "execute_result"
    }
   ],
   "source": [
    "x = sympy.symbols('x')\n",
    "sympy.integrate(1/x**(6/7), (x, 0, 7))"
   ]
  }
 ],
 "metadata": {
  "hide_input": false,
  "kernelspec": {
   "display_name": "Python 3 (ipykernel)",
   "language": "python",
   "name": "python3"
  },
  "language_info": {
   "codemirror_mode": {
    "name": "ipython",
    "version": 3
   },
   "file_extension": ".py",
   "mimetype": "text/x-python",
   "name": "python",
   "nbconvert_exporter": "python",
   "pygments_lexer": "ipython3",
   "version": "3.10.6"
  },
  "nbTranslate": {
   "displayLangs": [
    "*"
   ],
   "hotkey": "alt-t",
   "langInMainMenu": true,
   "sourceLang": "en",
   "targetLang": "fr",
   "useGoogleTranslate": true
  },
  "toc": {
   "base_numbering": 1,
   "nav_menu": {},
   "number_sections": true,
   "sideBar": true,
   "skip_h1_title": false,
   "title_cell": "Table of Contents",
   "title_sidebar": "Contents",
   "toc_cell": false,
   "toc_position": {},
   "toc_section_display": true,
   "toc_window_display": false
  },
  "varInspector": {
   "cols": {
    "lenName": 16,
    "lenType": 16,
    "lenVar": 40
   },
   "kernels_config": {
    "python": {
     "delete_cmd_postfix": "",
     "delete_cmd_prefix": "del ",
     "library": "var_list.py",
     "varRefreshCmd": "print(var_dic_list())"
    },
    "r": {
     "delete_cmd_postfix": ") ",
     "delete_cmd_prefix": "rm(",
     "library": "var_list.r",
     "varRefreshCmd": "cat(var_dic_list()) "
    }
   },
   "types_to_exclude": [
    "module",
    "function",
    "builtin_function_or_method",
    "instance",
    "_Feature"
   ],
   "window_display": false
  }
 },
 "nbformat": 4,
 "nbformat_minor": 5
}
