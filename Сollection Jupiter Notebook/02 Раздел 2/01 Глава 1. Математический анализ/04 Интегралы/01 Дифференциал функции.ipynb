{
 "cells": [
  {
   "cell_type": "markdown",
   "id": "24b07ffa",
   "metadata": {},
   "source": [
    "# Дифференциал функции"
   ]
  },
  {
   "cell_type": "code",
   "execution_count": 6,
   "id": "f3c46b68",
   "metadata": {
    "ExecuteTime": {
     "end_time": "2023-05-16T22:16:37.906963Z",
     "start_time": "2023-05-16T22:16:37.888461Z"
    }
   },
   "outputs": [],
   "source": [
    "import sympy\n",
    "import matplotlib.pyplot as plt\n",
    "from scipy.optimize import minimize"
   ]
  },
  {
   "cell_type": "markdown",
   "id": "a3866306",
   "metadata": {},
   "source": [
    "### Пример"
   ]
  },
  {
   "cell_type": "markdown",
   "id": "35bf0934",
   "metadata": {
    "heading_collapsed": true
   },
   "source": [
    "#### 1: Найти дифференциал функции $ y = \\mathrm{arctg}\\left(\\frac{1}{x}\\right)$"
   ]
  },
  {
   "cell_type": "markdown",
   "id": "0e665cfd",
   "metadata": {
    "hidden": true
   },
   "source": [
    "Решение. По определению: $ dy = y' · dx $"
   ]
  },
  {
   "cell_type": "markdown",
   "id": "d99df279",
   "metadata": {
    "ExecuteTime": {
     "end_time": "2023-05-16T22:12:40.017290Z",
     "start_time": "2023-05-16T22:12:39.982221Z"
    },
    "hidden": true
   },
   "source": [
    "Поэтому, чтобы найти дифференциал нужно найти производную и помножить на дифференциал аргумента.</br>\n",
    "\n",
    "$ d\\left( \\mathrm{arctg}\\left(\\frac{1}{x}\\right) \\right) = -\\frac{1}{x^{2}\\left(1 + \\frac{1}{x^{2}}\\right)}dx $"
   ]
  },
  {
   "cell_type": "code",
   "execution_count": 7,
   "id": "87ed4f27",
   "metadata": {
    "ExecuteTime": {
     "end_time": "2023-05-16T22:16:38.982645Z",
     "start_time": "2023-05-16T22:16:38.542184Z"
    },
    "hidden": true
   },
   "outputs": [
    {
     "name": "stdout",
     "output_type": "stream",
     "text": [
      "-dx/(х**2*(1 + х**(-2)))\n"
     ]
    }
   ],
   "source": [
    "x = sympy.Symbol('х')\n",
    "dx = sympy.Symbol('dx')\n",
    "a = sympy.diff(atan(1/x), x )\n",
    "print(dx*a)"
   ]
  },
  {
   "cell_type": "code",
   "execution_count": 10,
   "id": "ff992802",
   "metadata": {
    "ExecuteTime": {
     "end_time": "2023-05-16T22:17:24.829117Z",
     "start_time": "2023-05-16T22:17:24.792597Z"
    },
    "hidden": true
   },
   "outputs": [
    {
     "name": "stdout",
     "output_type": "stream",
     "text": [
      "dx*sin(x)*cos(x)/sqrt(sin(x)**2 + 1)\n"
     ]
    }
   ],
   "source": [
    "x = sympy.Symbol('x')\n",
    "dx = sympy.Symbol('dx')\n",
    "y = sympy.Symbol('y')\n",
    "xx = sympy.diff( sqrt(1+(sin(x))**2), x )\n",
    "y = print( xx*dx ) #Дифференциал y#"
   ]
  },
  {
   "cell_type": "markdown",
   "id": "a93c2e54",
   "metadata": {
    "ExecuteTime": {
     "end_time": "2023-05-16T22:18:22.373134Z",
     "start_time": "2023-05-16T22:18:22.338087Z"
    },
    "hidden": true
   },
   "source": [
    "Ответ: $ - \\frac{1}{x^{2}\\left( 1+\\frac{1}{x^{2}} \\right)} $"
   ]
  }
 ],
 "metadata": {
  "hide_input": false,
  "kernelspec": {
   "display_name": "Python 3 (ipykernel)",
   "language": "python",
   "name": "python3"
  },
  "language_info": {
   "codemirror_mode": {
    "name": "ipython",
    "version": 3
   },
   "file_extension": ".py",
   "mimetype": "text/x-python",
   "name": "python",
   "nbconvert_exporter": "python",
   "pygments_lexer": "ipython3",
   "version": "3.10.6"
  },
  "nbTranslate": {
   "displayLangs": [
    "*"
   ],
   "hotkey": "alt-t",
   "langInMainMenu": true,
   "sourceLang": "en",
   "targetLang": "fr",
   "useGoogleTranslate": true
  },
  "toc": {
   "base_numbering": 1,
   "nav_menu": {},
   "number_sections": true,
   "sideBar": true,
   "skip_h1_title": false,
   "title_cell": "Table of Contents",
   "title_sidebar": "Contents",
   "toc_cell": false,
   "toc_position": {},
   "toc_section_display": true,
   "toc_window_display": false
  },
  "varInspector": {
   "cols": {
    "lenName": 16,
    "lenType": 16,
    "lenVar": 40
   },
   "kernels_config": {
    "python": {
     "delete_cmd_postfix": "",
     "delete_cmd_prefix": "del ",
     "library": "var_list.py",
     "varRefreshCmd": "print(var_dic_list())"
    },
    "r": {
     "delete_cmd_postfix": ") ",
     "delete_cmd_prefix": "rm(",
     "library": "var_list.r",
     "varRefreshCmd": "cat(var_dic_list()) "
    }
   },
   "types_to_exclude": [
    "module",
    "function",
    "builtin_function_or_method",
    "instance",
    "_Feature"
   ],
   "window_display": false
  }
 },
 "nbformat": 4,
 "nbformat_minor": 5
}
