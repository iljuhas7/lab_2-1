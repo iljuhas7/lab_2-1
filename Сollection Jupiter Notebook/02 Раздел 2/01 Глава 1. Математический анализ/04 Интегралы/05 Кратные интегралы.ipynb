{
 "cells": [
  {
   "cell_type": "markdown",
   "id": "24b07ffa",
   "metadata": {},
   "source": [
    "# Кратные интегралы"
   ]
  },
  {
   "cell_type": "markdown",
   "id": "25fb4f64",
   "metadata": {},
   "source": [
    "Для вычисления кратных интегралов по области используют ту же функцию integrate, но несколько раз."
   ]
  },
  {
   "cell_type": "code",
   "execution_count": 2,
   "id": "dde70ee2",
   "metadata": {
    "ExecuteTime": {
     "end_time": "2023-05-16T22:55:50.022714Z",
     "start_time": "2023-05-16T22:55:50.003535Z"
    }
   },
   "outputs": [],
   "source": [
    "import sympy\n",
    "import matplotlib.pyplot as plt\n",
    "from scipy.optimize import minimize"
   ]
  },
  {
   "cell_type": "markdown",
   "id": "a3866306",
   "metadata": {},
   "source": [
    "### Пример"
   ]
  },
  {
   "cell_type": "markdown",
   "id": "511db2dd",
   "metadata": {},
   "source": [
    "#### 1: Найти $\\iint(y^{2}·x-2·x·y)dxdy$, где $x \\le y \\le 2$, $-1 \\le x \\le 2$"
   ]
  },
  {
   "cell_type": "markdown",
   "id": "651e1bb1",
   "metadata": {},
   "source": [
    "Решение. Сначала найдем интеграл по у от х до 2: integrate(f(x, у), (у, х, 2)), потом по $х$ от -1 до 2"
   ]
  },
  {
   "cell_type": "code",
   "execution_count": 7,
   "id": "ce5682a4",
   "metadata": {
    "ExecuteTime": {
     "end_time": "2023-05-16T22:59:34.529355Z",
     "start_time": "2023-05-16T22:59:32.994831Z"
    }
   },
   "outputs": [
    {
     "data": {
      "text/latex": [
       "$\\displaystyle - \\frac{x^{4}}{3} + x^{3} - \\frac{4 x}{3}$"
      ],
      "text/plain": [
       "-x**4/3 + x**3 - 4*x/3"
      ]
     },
     "execution_count": 7,
     "metadata": {},
     "output_type": "execute_result"
    }
   ],
   "source": [
    "x, y = sympy.symbols('x y')\n",
    "sympy.integrate(y**2*x-2*x*y,(y, x, 2))"
   ]
  },
  {
   "cell_type": "code",
   "execution_count": 9,
   "id": "d1b328e8",
   "metadata": {
    "ExecuteTime": {
     "end_time": "2023-05-16T22:59:54.306080Z",
     "start_time": "2023-05-16T22:59:54.110684Z"
    }
   },
   "outputs": [
    {
     "data": {
      "text/latex": [
       "$\\displaystyle - \\frac{9}{20}$"
      ],
      "text/plain": [
       "-9/20"
      ]
     },
     "execution_count": 9,
     "metadata": {},
     "output_type": "execute_result"
    }
   ],
   "source": [
    "x, y = sympy.symbols('x y')\n",
    "sympy.integrate(-x**4/3 + x**3 - 4*x/3,(x,-1, 2))"
   ]
  }
 ],
 "metadata": {
  "hide_input": false,
  "kernelspec": {
   "display_name": "Python 3 (ipykernel)",
   "language": "python",
   "name": "python3"
  },
  "language_info": {
   "codemirror_mode": {
    "name": "ipython",
    "version": 3
   },
   "file_extension": ".py",
   "mimetype": "text/x-python",
   "name": "python",
   "nbconvert_exporter": "python",
   "pygments_lexer": "ipython3",
   "version": "3.10.6"
  },
  "nbTranslate": {
   "displayLangs": [
    "*"
   ],
   "hotkey": "alt-t",
   "langInMainMenu": true,
   "sourceLang": "en",
   "targetLang": "fr",
   "useGoogleTranslate": true
  },
  "toc": {
   "base_numbering": 1,
   "nav_menu": {},
   "number_sections": true,
   "sideBar": true,
   "skip_h1_title": false,
   "title_cell": "Table of Contents",
   "title_sidebar": "Contents",
   "toc_cell": false,
   "toc_position": {},
   "toc_section_display": true,
   "toc_window_display": false
  },
  "varInspector": {
   "cols": {
    "lenName": 16,
    "lenType": 16,
    "lenVar": 40
   },
   "kernels_config": {
    "python": {
     "delete_cmd_postfix": "",
     "delete_cmd_prefix": "del ",
     "library": "var_list.py",
     "varRefreshCmd": "print(var_dic_list())"
    },
    "r": {
     "delete_cmd_postfix": ") ",
     "delete_cmd_prefix": "rm(",
     "library": "var_list.r",
     "varRefreshCmd": "cat(var_dic_list()) "
    }
   },
   "types_to_exclude": [
    "module",
    "function",
    "builtin_function_or_method",
    "instance",
    "_Feature"
   ],
   "window_display": false
  }
 },
 "nbformat": 4,
 "nbformat_minor": 5
}
