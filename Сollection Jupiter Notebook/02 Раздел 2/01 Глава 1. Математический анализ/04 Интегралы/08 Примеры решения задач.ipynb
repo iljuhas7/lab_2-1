{
 "cells": [
  {
   "cell_type": "markdown",
   "id": "8e2edf52",
   "metadata": {},
   "source": [
    "# Математический анализ: примеры решения задач"
   ]
  },
  {
   "cell_type": "code",
   "execution_count": 4,
   "id": "e359889e",
   "metadata": {
    "ExecuteTime": {
     "end_time": "2023-05-16T23:36:46.613777Z",
     "start_time": "2023-05-16T23:36:46.592894Z"
    }
   },
   "outputs": [],
   "source": [
    "import sympy as sp\n",
    "import math as m\n",
    "import matplotlib.pyplot as plt\n",
    "from scipy.optimize import minimize"
   ]
  },
  {
   "cell_type": "markdown",
   "id": "9653db11",
   "metadata": {
    "heading_collapsed": true
   },
   "source": [
    "### 1: Найдите неопределенный интеграл: $ \\int\\frac{(x-4)^{2}}{x}dx $"
   ]
  },
  {
   "cell_type": "code",
   "execution_count": 7,
   "id": "3b9b9911",
   "metadata": {
    "ExecuteTime": {
     "end_time": "2023-05-16T23:37:37.319254Z",
     "start_time": "2023-05-16T23:37:36.714567Z"
    },
    "hidden": true
   },
   "outputs": [
    {
     "name": "stdout",
     "output_type": "stream",
     "text": [
      "x**2/2 - 8*x + 16*log(x)\n"
     ]
    }
   ],
   "source": [
    "x = sp.symbols('x')\n",
    "y = sp.integrate(((x-4)**2)/x, x)\n",
    "print(y)"
   ]
  },
  {
   "cell_type": "markdown",
   "id": "b5f2f084",
   "metadata": {
    "heading_collapsed": true
   },
   "source": [
    "### 6: Вычислите интеграл: $ \\int(4x+3)^{2}dx $"
   ]
  },
  {
   "cell_type": "code",
   "execution_count": 8,
   "id": "2a83fdb2",
   "metadata": {
    "ExecuteTime": {
     "end_time": "2023-05-16T23:38:42.169667Z",
     "start_time": "2023-05-16T23:38:42.093952Z"
    },
    "hidden": true
   },
   "outputs": [
    {
     "name": "stdout",
     "output_type": "stream",
     "text": [
      "16*x**3/3 + 12*x**2 + 9*x\n"
     ]
    }
   ],
   "source": [
    "x = sp.symbols('x')\n",
    "y = sp.integrate((4*x+3)**2, x)\n",
    "print(y)"
   ]
  },
  {
   "cell_type": "markdown",
   "id": "bce23d0e",
   "metadata": {
    "heading_collapsed": true
   },
   "source": [
    "### 8: Найдите неопределенный интеграл: $ \\int \\frac{dx}{7x-2} $"
   ]
  },
  {
   "cell_type": "code",
   "execution_count": 9,
   "id": "3a244eb8",
   "metadata": {
    "ExecuteTime": {
     "end_time": "2023-05-16T23:39:58.562192Z",
     "start_time": "2023-05-16T23:39:58.472574Z"
    },
    "hidden": true
   },
   "outputs": [
    {
     "name": "stdout",
     "output_type": "stream",
     "text": [
      "log(7*x - 2)/7\n"
     ]
    }
   ],
   "source": [
    "x = sp.symbols('x')\n",
    "y = sp.integrate(1/(7*x-2), x)\n",
    "print(y)"
   ]
  },
  {
   "cell_type": "markdown",
   "id": "6dab77cf",
   "metadata": {
    "heading_collapsed": true
   },
   "source": [
    "### 12: Найдите неопределенный интеграл: $ \\int \\frac{dx}{-x^{2}-8x-12} $"
   ]
  },
  {
   "cell_type": "code",
   "execution_count": 10,
   "id": "9bbb33f3",
   "metadata": {
    "ExecuteTime": {
     "end_time": "2023-05-16T23:41:04.216977Z",
     "start_time": "2023-05-16T23:41:03.731035Z"
    },
    "hidden": true
   },
   "outputs": [
    {
     "name": "stdout",
     "output_type": "stream",
     "text": [
      "-log(x + 2)/4 + log(x + 6)/4\n"
     ]
    }
   ],
   "source": [
    "x = sp.symbols('x')\n",
    "y = sp.integrate(1/(-x**2-8*x-12) , x)\n",
    "print(y)"
   ]
  },
  {
   "cell_type": "markdown",
   "id": "7991b6fd",
   "metadata": {
    "heading_collapsed": true
   },
   "source": [
    "### 14: Найдите неопределенный интеграл: $ \\int (6x-4)(3x^{2}-4x+2)^{4}dx $"
   ]
  },
  {
   "cell_type": "code",
   "execution_count": 11,
   "id": "23f48b5d",
   "metadata": {
    "ExecuteTime": {
     "end_time": "2023-05-16T23:42:22.345051Z",
     "start_time": "2023-05-16T23:42:22.036966Z"
    },
    "hidden": true
   },
   "outputs": [
    {
     "name": "stdout",
     "output_type": "stream",
     "text": [
      "243*x**10/5 - 324*x**9 + 1026*x**8 - 2016*x**7 + 2712*x**6 - 13024*x**5/5 + 1808*x**4 - 896*x**3 + 304*x**2 - 64*x\n"
     ]
    }
   ],
   "source": [
    "x = sp.symbols('x')\n",
    "y = sp.integrate((3*x**2-4*x+2)**4*(6*x-4) , x)\n",
    "print(y)"
   ]
  },
  {
   "cell_type": "markdown",
   "id": "b0fb60e4",
   "metadata": {
    "heading_collapsed": true
   },
   "source": [
    "### 20: Найдите определенный интеграл: $ \\int^{3}_{2} x(28-3x^{2})^{\\frac{1}{5}} dx $"
   ]
  },
  {
   "cell_type": "code",
   "execution_count": 13,
   "id": "585a10c3",
   "metadata": {
    "ExecuteTime": {
     "end_time": "2023-05-16T23:44:43.302407Z",
     "start_time": "2023-05-16T23:44:40.751223Z"
    },
    "hidden": true
   },
   "outputs": [
    {
     "name": "stdout",
     "output_type": "stream",
     "text": [
      "Integral(Piecewise((-0.999999999999999*x*(3*x**2 - 28)**0.2*exp(1.2*I*pi), 3*x**2/28 > 1), (0.999999999999999*x*(28 - 3*x**2)**0.2, True)), (x, 2, 3))\n"
     ]
    }
   ],
   "source": [
    "x = sp.symbols('x')\n",
    "y = sp.integrate(x*(28-3*x**2)**(1/5), (x, 2, 3))\n",
    "print(y)"
   ]
  },
  {
   "cell_type": "markdown",
   "id": "5df3f8f0",
   "metadata": {
    "heading_collapsed": true
   },
   "source": [
    "### 26: Найдите определенный интеграл: $ \\int^{4}_{2} \\frac{2^{2x}}{(2^{2x}+2)^{\\frac{1}{4}}} dx $"
   ]
  },
  {
   "cell_type": "code",
   "execution_count": 15,
   "id": "df673cc1",
   "metadata": {
    "ExecuteTime": {
     "end_time": "2023-05-16T23:47:29.767104Z",
     "start_time": "2023-05-16T23:47:20.158605Z"
    },
    "hidden": true
   },
   "outputs": [
    {
     "name": "stdout",
     "output_type": "stream",
     "text": [
      "37.0905220568076/log(2)\n"
     ]
    }
   ],
   "source": [
    "x = sp.symbols('x')\n",
    "y = sp.integrate(2**(2*x)/(2**(2*x)+2)**(1/4), (x, 2, 4))\n",
    "print(y)"
   ]
  },
  {
   "cell_type": "markdown",
   "id": "1a332743",
   "metadata": {
    "heading_collapsed": true
   },
   "source": [
    "### 34: Найдите определенный интеграл: $ \\int^{e^{5}}_{e^{2}} (2x^{2}+3)\\ln x dx $"
   ]
  },
  {
   "cell_type": "code",
   "execution_count": 17,
   "id": "3a7c1c0c",
   "metadata": {
    "ExecuteTime": {
     "end_time": "2023-05-16T23:49:25.123516Z",
     "start_time": "2023-05-16T23:49:24.314608Z"
    },
    "hidden": true
   },
   "outputs": [
    {
     "name": "stdout",
     "output_type": "stream",
     "text": [
      "-10*exp(6)/9 - 3*exp(2) + 12*exp(5) + 28*exp(15)/9\n"
     ]
    }
   ],
   "source": [
    "x = sp.symbols('x')\n",
    "y = sp.integrate((2*x**2+3)*sp.log(x) , (x, sp.exp(2), sp.exp(5)))\n",
    "print(y)"
   ]
  },
  {
   "cell_type": "markdown",
   "id": "f991007d",
   "metadata": {
    "heading_collapsed": true
   },
   "source": [
    "### 40: Найдите несобственный интеграл или установите его расходимость $\\int^{4}_{0}\\frac{dx}{x^{4}}$"
   ]
  },
  {
   "cell_type": "code",
   "execution_count": 19,
   "id": "d0546584",
   "metadata": {
    "ExecuteTime": {
     "end_time": "2023-05-16T23:51:09.261643Z",
     "start_time": "2023-05-16T23:51:09.101090Z"
    },
    "hidden": true
   },
   "outputs": [
    {
     "name": "stdout",
     "output_type": "stream",
     "text": [
      "oo\n"
     ]
    }
   ],
   "source": [
    "x = sp.symbols('x')\n",
    "y = sp.integrate(1/x**4, (x,0,4))\n",
    "print(y)"
   ]
  },
  {
   "cell_type": "markdown",
   "id": "e8c64bb1",
   "metadata": {
    "heading_collapsed": true
   },
   "source": [
    "### 46: Найдите несобственный интеграл или установите его расходимость $\\int^{\\sqrt{3}}_{-\\infty}\\frac{dx}{1+x^{2}}$"
   ]
  },
  {
   "cell_type": "code",
   "execution_count": 23,
   "id": "3545ef00",
   "metadata": {
    "ExecuteTime": {
     "end_time": "2023-05-16T23:54:06.135551Z",
     "start_time": "2023-05-16T23:54:02.876291Z"
    },
    "hidden": true
   },
   "outputs": [
    {
     "name": "stdout",
     "output_type": "stream",
     "text": [
      "5*pi/6\n"
     ]
    }
   ],
   "source": [
    "x = sp.symbols('x')\n",
    "y = sp.integrate(1/(1+x**2),(x,-sp.oo, sp.sqrt(3)) )\n",
    "print(y)"
   ]
  },
  {
   "cell_type": "markdown",
   "id": "32d50083",
   "metadata": {
    "heading_collapsed": true
   },
   "source": [
    "### 47: Найти площадь фигуры, ограниченной линиями: $y=5x$, $y=3x^{2}-9x+15$"
   ]
  },
  {
   "cell_type": "code",
   "execution_count": 25,
   "id": "e09db84d",
   "metadata": {
    "ExecuteTime": {
     "end_time": "2023-05-16T23:54:58.047233Z",
     "start_time": "2023-05-16T23:54:57.980582Z"
    },
    "hidden": true
   },
   "outputs": [
    {
     "data": {
      "text/plain": [
       "[5/3, 3]"
      ]
     },
     "execution_count": 25,
     "metadata": {},
     "output_type": "execute_result"
    }
   ],
   "source": [
    "sp.solve(5*x-(3*x**2-9*x+15),x)"
   ]
  },
  {
   "cell_type": "code",
   "execution_count": 26,
   "id": "17f1dc9c",
   "metadata": {
    "ExecuteTime": {
     "end_time": "2023-05-16T23:55:35.489836Z",
     "start_time": "2023-05-16T23:55:35.146514Z"
    },
    "hidden": true
   },
   "outputs": [
    {
     "data": {
      "text/latex": [
       "$\\displaystyle 1.18518518518518$"
      ],
      "text/plain": [
       "1.18518518518518"
      ]
     },
     "execution_count": 26,
     "metadata": {},
     "output_type": "execute_result"
    }
   ],
   "source": [
    "abs(sp.integrate(5*x-(3*x**2-9*x+15), (x, 5/3,3)))"
   ]
  },
  {
   "cell_type": "markdown",
   "id": "5fa41e36",
   "metadata": {
    "heading_collapsed": true
   },
   "source": [
    "### 50: Вычислить кратный интеграл  $\\iint(5x^{2}-xy+5y+5)dxdy$ по области $D = {(x, y)\\in\\mathbb{R} | -4 \\le y \\le 2}$"
   ]
  },
  {
   "cell_type": "code",
   "execution_count": 27,
   "id": "84b8fe35",
   "metadata": {
    "ExecuteTime": {
     "end_time": "2023-05-16T23:58:26.376291Z",
     "start_time": "2023-05-16T23:58:26.076473Z"
    },
    "hidden": true
   },
   "outputs": [
    {
     "name": "stdout",
     "output_type": "stream",
     "text": [
      "605\n"
     ]
    }
   ],
   "source": [
    "x, y = sp.symbols('x y')\n",
    "z = sp.integrate( (5*x ** 2-x*y+5*y+5), (y, -4, 2), (x, -4, 1) )\n",
    "print(z)"
   ]
  }
 ],
 "metadata": {
  "hide_input": false,
  "kernelspec": {
   "display_name": "Python 3 (ipykernel)",
   "language": "python",
   "name": "python3"
  },
  "language_info": {
   "codemirror_mode": {
    "name": "ipython",
    "version": 3
   },
   "file_extension": ".py",
   "mimetype": "text/x-python",
   "name": "python",
   "nbconvert_exporter": "python",
   "pygments_lexer": "ipython3",
   "version": "3.10.6"
  },
  "nbTranslate": {
   "displayLangs": [
    "*"
   ],
   "hotkey": "alt-t",
   "langInMainMenu": true,
   "sourceLang": "en",
   "targetLang": "fr",
   "useGoogleTranslate": true
  },
  "toc": {
   "base_numbering": 1,
   "nav_menu": {},
   "number_sections": true,
   "sideBar": true,
   "skip_h1_title": false,
   "title_cell": "Table of Contents",
   "title_sidebar": "Contents",
   "toc_cell": false,
   "toc_position": {},
   "toc_section_display": true,
   "toc_window_display": false
  },
  "varInspector": {
   "cols": {
    "lenName": 16,
    "lenType": 16,
    "lenVar": 40
   },
   "kernels_config": {
    "python": {
     "delete_cmd_postfix": "",
     "delete_cmd_prefix": "del ",
     "library": "var_list.py",
     "varRefreshCmd": "print(var_dic_list())"
    },
    "r": {
     "delete_cmd_postfix": ") ",
     "delete_cmd_prefix": "rm(",
     "library": "var_list.r",
     "varRefreshCmd": "cat(var_dic_list()) "
    }
   },
   "types_to_exclude": [
    "module",
    "function",
    "builtin_function_or_method",
    "instance",
    "_Feature"
   ],
   "window_display": false
  }
 },
 "nbformat": 4,
 "nbformat_minor": 5
}
