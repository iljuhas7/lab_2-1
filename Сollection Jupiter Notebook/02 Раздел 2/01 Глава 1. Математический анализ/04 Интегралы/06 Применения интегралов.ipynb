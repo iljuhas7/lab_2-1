{
 "cells": [
  {
   "cell_type": "markdown",
   "id": "24b07ffa",
   "metadata": {},
   "source": [
    "# Применения интегралов"
   ]
  },
  {
   "cell_type": "code",
   "execution_count": null,
   "id": "1b223e24",
   "metadata": {
    "ExecuteTime": {
     "end_time": "2023-05-16T23:03:16.060457Z",
     "start_time": "2023-05-16T23:03:16.060334Z"
    }
   },
   "outputs": [],
   "source": [
    "import sympy\n",
    "import matplotlib.pyplot as plt\n",
    "from scipy.optimize import minimize"
   ]
  },
  {
   "cell_type": "markdown",
   "id": "4580b0b2",
   "metadata": {
    "heading_collapsed": true
   },
   "source": [
    "## Площади фигур"
   ]
  },
  {
   "cell_type": "markdown",
   "id": "a3866306",
   "metadata": {
    "heading_collapsed": true,
    "hidden": true
   },
   "source": [
    "### Пример"
   ]
  },
  {
   "cell_type": "markdown",
   "id": "bd514082",
   "metadata": {
    "heading_collapsed": true,
    "hidden": true
   },
   "source": [
    "#### 1: Найти площадь фигуры, ограниченной линиями $y=2x$, $y=-x^{2}+7x-6$"
   ]
  },
  {
   "cell_type": "code",
   "execution_count": 2,
   "id": "9445a769",
   "metadata": {
    "ExecuteTime": {
     "end_time": "2023-05-16T23:03:37.837537Z",
     "start_time": "2023-05-16T23:03:36.350421Z"
    },
    "hidden": true
   },
   "outputs": [
    {
     "data": {
      "text/latex": [
       "$\\displaystyle \\frac{1}{6}$"
      ],
      "text/plain": [
       "1/6"
      ]
     },
     "execution_count": 2,
     "metadata": {},
     "output_type": "execute_result"
    }
   ],
   "source": [
    "x = sympy.symbols('x')\n",
    "sympy.integrate(-x**2+7*x-6-2*x, (x,2,3))"
   ]
  },
  {
   "cell_type": "markdown",
   "id": "b6de1590",
   "metadata": {
    "heading_collapsed": true,
    "hidden": true
   },
   "source": [
    "#### 2: Найти площадь фигуры, ограниченной линиями $y=-2x$, $y=-x^{2}+5x-10$"
   ]
  },
  {
   "cell_type": "code",
   "execution_count": 3,
   "id": "e2aa94fc",
   "metadata": {
    "ExecuteTime": {
     "end_time": "2023-05-16T23:04:43.997237Z",
     "start_time": "2023-05-16T23:04:43.683317Z"
    },
    "hidden": true
   },
   "outputs": [
    {
     "data": {
      "text/latex": [
       "$\\displaystyle \\frac{9}{2}$"
      ],
      "text/plain": [
       "9/2"
      ]
     },
     "execution_count": 3,
     "metadata": {},
     "output_type": "execute_result"
    }
   ],
   "source": [
    "x = sympy.symbols('x')\n",
    "sympy.integrate(-x**2+5*x-10+2*x, (x,2,5))"
   ]
  },
  {
   "cell_type": "markdown",
   "id": "f422d036",
   "metadata": {
    "heading_collapsed": true,
    "hidden": true
   },
   "source": [
    "#### 3: Найти площадь фигуры, ограниченной линиями $y=-2x$, $y=-x^{2}+3x-6$"
   ]
  },
  {
   "cell_type": "code",
   "execution_count": 4,
   "id": "2065e070",
   "metadata": {
    "ExecuteTime": {
     "end_time": "2023-05-16T23:05:37.101347Z",
     "start_time": "2023-05-16T23:05:36.839936Z"
    },
    "hidden": true
   },
   "outputs": [
    {
     "data": {
      "text/latex": [
       "$\\displaystyle \\frac{1}{6}$"
      ],
      "text/plain": [
       "1/6"
      ]
     },
     "execution_count": 4,
     "metadata": {},
     "output_type": "execute_result"
    }
   ],
   "source": [
    "x = sympy.symbols('x')\n",
    "sympy.integrate(-x**2+3*x-6+2*x, (x,2,3))"
   ]
  },
  {
   "cell_type": "markdown",
   "id": "53b4f30b",
   "metadata": {
    "heading_collapsed": true
   },
   "source": [
    "## Объемы тел вращения"
   ]
  },
  {
   "cell_type": "markdown",
   "id": "7e133db5",
   "metadata": {
    "heading_collapsed": true,
    "hidden": true
   },
   "source": [
    "### Пример"
   ]
  },
  {
   "cell_type": "markdown",
   "id": "5b11640e",
   "metadata": {
    "heading_collapsed": true,
    "hidden": true
   },
   "source": [
    "#### 1: Вычислите объём тела, образованного вращением вокруг оси Ох области, ограниченной линиями: $y=x^{2}-x$ и $y=0$ при $x \\in [2,4]$."
   ]
  },
  {
   "cell_type": "code",
   "execution_count": 5,
   "id": "6c75cde9",
   "metadata": {
    "ExecuteTime": {
     "end_time": "2023-05-16T23:07:13.877836Z",
     "start_time": "2023-05-16T23:07:12.256676Z"
    },
    "hidden": true
   },
   "outputs": [
    {
     "data": {
      "text/latex": [
       "$\\displaystyle \\frac{1456 \\pi}{15}$"
      ],
      "text/plain": [
       "1456*pi/15"
      ]
     },
     "execution_count": 5,
     "metadata": {},
     "output_type": "execute_result"
    }
   ],
   "source": [
    "x = sympy.symbols('x')\n",
    "sympy.pi*sympy.integrate((x**2-x)**2, (x,2,4))"
   ]
  },
  {
   "cell_type": "markdown",
   "id": "ad744188",
   "metadata": {
    "heading_collapsed": true,
    "hidden": true
   },
   "source": [
    "#### 2: Вычислите объём тела, образованного вращением вокруг оси Ох области, ограниченной линиями: $y=\\sqrt{3-x}$ и $y=-x-53$ при $x \\in [-61,-53]$."
   ]
  },
  {
   "cell_type": "code",
   "execution_count": 8,
   "id": "f4fcc9a7",
   "metadata": {
    "ExecuteTime": {
     "end_time": "2023-05-16T23:08:51.489235Z",
     "start_time": "2023-05-16T23:08:51.251078Z"
    },
    "hidden": true
   },
   "outputs": [
    {
     "data": {
      "text/latex": [
       "$\\displaystyle \\frac{928 \\pi}{3}$"
      ],
      "text/plain": [
       "928*pi/3"
      ]
     },
     "execution_count": 8,
     "metadata": {},
     "output_type": "execute_result"
    }
   ],
   "source": [
    "x = sympy.symbols('x')\n",
    "sympy.pi*sympy.integrate(((sympy.sqrt(3-x))**2-(-x-53)**2), (x,-61,-53))"
   ]
  },
  {
   "cell_type": "markdown",
   "id": "2e9e8de7",
   "metadata": {
    "heading_collapsed": true
   },
   "source": [
    "## Длина дуги"
   ]
  },
  {
   "cell_type": "markdown",
   "id": "6718df08",
   "metadata": {
    "heading_collapsed": true,
    "hidden": true
   },
   "source": [
    "### Пример"
   ]
  },
  {
   "cell_type": "markdown",
   "id": "9d813d83",
   "metadata": {
    "heading_collapsed": true,
    "hidden": true
   },
   "source": [
    "#### 1: Вычислить длину дуги параболы $у = х^{2}$ от точки $A(1, 1)$ до точки $B(2, 4)$\n"
   ]
  },
  {
   "cell_type": "markdown",
   "id": "7cdb1cee",
   "metadata": {
    "hidden": true
   },
   "source": [
    "Решение. Принимая во внимание первые, то есть «иксовые» координаты точек, определяем пределы интегрирования $a = 1$, $b = 2$ и\n",
    "используем формулу:</br>\n",
    "$L=\\int^{b}_{a}\\sqrt{1+(y')^{2}}dx$"
   ]
  },
  {
   "cell_type": "code",
   "execution_count": 12,
   "id": "2380e15c",
   "metadata": {
    "ExecuteTime": {
     "end_time": "2023-05-16T23:12:00.031138Z",
     "start_time": "2023-05-16T23:11:59.474734Z"
    },
    "hidden": true
   },
   "outputs": [
    {
     "data": {
      "text/latex": [
       "$\\displaystyle - \\frac{\\sqrt{5}}{2} - \\frac{\\operatorname{asinh}{\\left(2 \\right)}}{4} + \\frac{\\operatorname{asinh}{\\left(4 \\right)}}{4} + \\sqrt{17}$"
      ],
      "text/plain": [
       "-sqrt(5)/2 - asinh(2)/4 + asinh(4)/4 + sqrt(17)"
      ]
     },
     "execution_count": 12,
     "metadata": {},
     "output_type": "execute_result"
    }
   ],
   "source": [
    "x = sympy.symbols('x')\n",
    "sympy.integrate(sympy.sqrt(1+sympy.diff(x**2)**2), (x,1,2))"
   ]
  },
  {
   "cell_type": "markdown",
   "id": "4a483bc4",
   "metadata": {
    "heading_collapsed": true,
    "hidden": true
   },
   "source": [
    "#### 2: Вычислить длину дуги параболы $у^{2} = х^{3}$ от точки $M(0, 0)$ до точки $N(1, 1)$"
   ]
  },
  {
   "cell_type": "markdown",
   "id": "8f3c6601",
   "metadata": {
    "hidden": true
   },
   "source": [
    "Решение. Принимая во внимание «иксовые» координаты точек, определяем пределы интегрирования $a = 0$, $b = 1$ и используем формулу:</br>\n",
    "$L=\\int^{b}_{a}\\sqrt{1+(y')^{2}}dx$"
   ]
  },
  {
   "cell_type": "code",
   "execution_count": 13,
   "id": "1b50637f",
   "metadata": {
    "ExecuteTime": {
     "end_time": "2023-05-16T23:13:51.273796Z",
     "start_time": "2023-05-16T23:13:50.994350Z"
    },
    "hidden": true
   },
   "outputs": [
    {
     "data": {
      "text/latex": [
       "$\\displaystyle 1.43970987337155$"
      ],
      "text/plain": [
       "1.43970987337155"
      ]
     },
     "execution_count": 13,
     "metadata": {},
     "output_type": "execute_result"
    }
   ],
   "source": [
    "x = sympy.symbols('x')\n",
    "sympy.integrate(sympy.sqrt(1+sympy.diff(pow(x,3/2))**2), (x,0,1))"
   ]
  }
 ],
 "metadata": {
  "hide_input": false,
  "kernelspec": {
   "display_name": "Python 3 (ipykernel)",
   "language": "python",
   "name": "python3"
  },
  "language_info": {
   "codemirror_mode": {
    "name": "ipython",
    "version": 3
   },
   "file_extension": ".py",
   "mimetype": "text/x-python",
   "name": "python",
   "nbconvert_exporter": "python",
   "pygments_lexer": "ipython3",
   "version": "3.10.6"
  },
  "nbTranslate": {
   "displayLangs": [
    "*"
   ],
   "hotkey": "alt-t",
   "langInMainMenu": true,
   "sourceLang": "en",
   "targetLang": "fr",
   "useGoogleTranslate": true
  },
  "toc": {
   "base_numbering": 1,
   "nav_menu": {},
   "number_sections": true,
   "sideBar": true,
   "skip_h1_title": false,
   "title_cell": "Table of Contents",
   "title_sidebar": "Contents",
   "toc_cell": false,
   "toc_position": {},
   "toc_section_display": true,
   "toc_window_display": false
  },
  "varInspector": {
   "cols": {
    "lenName": 16,
    "lenType": 16,
    "lenVar": 40
   },
   "kernels_config": {
    "python": {
     "delete_cmd_postfix": "",
     "delete_cmd_prefix": "del ",
     "library": "var_list.py",
     "varRefreshCmd": "print(var_dic_list())"
    },
    "r": {
     "delete_cmd_postfix": ") ",
     "delete_cmd_prefix": "rm(",
     "library": "var_list.r",
     "varRefreshCmd": "cat(var_dic_list()) "
    }
   },
   "types_to_exclude": [
    "module",
    "function",
    "builtin_function_or_method",
    "instance",
    "_Feature"
   ],
   "window_display": false
  }
 },
 "nbformat": 4,
 "nbformat_minor": 5
}
