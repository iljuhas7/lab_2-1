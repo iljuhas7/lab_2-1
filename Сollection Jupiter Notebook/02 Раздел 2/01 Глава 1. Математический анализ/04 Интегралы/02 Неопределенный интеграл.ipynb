{
 "cells": [
  {
   "cell_type": "markdown",
   "id": "24b07ffa",
   "metadata": {},
   "source": [
    "# Неопределенный интеграл"
   ]
  },
  {
   "cell_type": "markdown",
   "id": "e1df2dff",
   "metadata": {
    "ExecuteTime": {
     "end_time": "2023-05-16T22:19:21.912601Z",
     "start_time": "2023-05-16T22:19:21.879926Z"
    }
   },
   "source": [
    "Неопределенные интегралы $\\int f(x)dx$ dxнаходятся с помощью функции integrate(f(x), x), где $f(x)$ - подынтегральная функция, $х$ - переменная интегрирования."
   ]
  },
  {
   "cell_type": "code",
   "execution_count": null,
   "id": "1ec9608e",
   "metadata": {
    "ExecuteTime": {
     "end_time": "2023-05-16T22:43:26.813805Z",
     "start_time": "2023-05-16T22:43:26.813656Z"
    }
   },
   "outputs": [],
   "source": [
    "import sympy\n",
    "import matplotlib.pyplot as plt\n",
    "from scipy.optimize import minimize"
   ]
  },
  {
   "cell_type": "markdown",
   "id": "a3866306",
   "metadata": {},
   "source": [
    "### Пример"
   ]
  },
  {
   "cell_type": "markdown",
   "id": "d5154c40",
   "metadata": {
    "heading_collapsed": true
   },
   "source": [
    "#### 1: Найти неопределенный интеграл. $\\int 6x^{5}dx$"
   ]
  },
  {
   "cell_type": "code",
   "execution_count": 4,
   "id": "2ba6ae91",
   "metadata": {
    "ExecuteTime": {
     "end_time": "2023-05-16T22:22:59.234800Z",
     "start_time": "2023-05-16T22:22:58.655377Z"
    },
    "hidden": true
   },
   "outputs": [
    {
     "name": "stdout",
     "output_type": "stream",
     "text": [
      "x**6\n"
     ]
    }
   ],
   "source": [
    "x = sympy.symbols('x')\n",
    "y = sympy.integrate(6*x**5, x)\n",
    "print(y)"
   ]
  },
  {
   "cell_type": "markdown",
   "id": "a119a45a",
   "metadata": {
    "heading_collapsed": true
   },
   "source": [
    "#### 2: Найти неопределенный интеграл. $\\int \\frac{x}{x+2}dx$"
   ]
  },
  {
   "cell_type": "code",
   "execution_count": 6,
   "id": "67369da0",
   "metadata": {
    "ExecuteTime": {
     "end_time": "2023-05-16T22:27:33.422461Z",
     "start_time": "2023-05-16T22:27:33.158438Z"
    },
    "hidden": true
   },
   "outputs": [
    {
     "name": "stdout",
     "output_type": "stream",
     "text": [
      "x - 2*log(x + 2)\n"
     ]
    }
   ],
   "source": [
    "x = sympy.symbols('x')\n",
    "y = sympy.integrate(x/(x+2), x)\n",
    "print(y)"
   ]
  },
  {
   "cell_type": "markdown",
   "id": "8d5906bb",
   "metadata": {
    "heading_collapsed": true
   },
   "source": [
    "#### 3: Найти неопределенный интеграл. $\\int \\frac{1}{(x^{2}+1)^{2}}dx$"
   ]
  },
  {
   "cell_type": "code",
   "execution_count": 8,
   "id": "f400afa8",
   "metadata": {
    "ExecuteTime": {
     "end_time": "2023-05-16T22:43:57.782573Z",
     "start_time": "2023-05-16T22:43:57.265006Z"
    },
    "hidden": true
   },
   "outputs": [
    {
     "data": {
      "text/latex": [
       "$\\displaystyle \\frac{x}{2 x^{2} + 2} + \\frac{\\operatorname{atan}{\\left(x \\right)}}{2}$"
      ],
      "text/plain": [
       "x/(2*x**2 + 2) + atan(x)/2"
      ]
     },
     "execution_count": 8,
     "metadata": {},
     "output_type": "execute_result"
    }
   ],
   "source": [
    "x = sympy.symbols('x')\n",
    "sympy.integrate(1/(x**2+1)**2)"
   ]
  },
  {
   "cell_type": "markdown",
   "id": "a9702c18",
   "metadata": {
    "heading_collapsed": true
   },
   "source": [
    "#### 4: Найти неопределенный интеграл. $\\int xe^{2x} dx$"
   ]
  },
  {
   "cell_type": "code",
   "execution_count": 7,
   "id": "2d580c55",
   "metadata": {
    "ExecuteTime": {
     "end_time": "2023-05-16T22:43:52.905164Z",
     "start_time": "2023-05-16T22:43:52.581798Z"
    },
    "hidden": true
   },
   "outputs": [
    {
     "data": {
      "text/latex": [
       "$\\displaystyle \\frac{\\left(2 x - 1\\right) e^{2 x}}{4}$"
      ],
      "text/plain": [
       "(2*x - 1)*exp(2*x)/4"
      ]
     },
     "execution_count": 7,
     "metadata": {},
     "output_type": "execute_result"
    }
   ],
   "source": [
    "x = sympy.symbols('x')\n",
    "sympy.integrate(x*sympy.exp(2 *x),x)"
   ]
  },
  {
   "cell_type": "markdown",
   "id": "06799bc1",
   "metadata": {
    "heading_collapsed": true
   },
   "source": [
    "#### 5: Найти неопределенный интеграл. $\\int \\frac{\\sqrt{x+4}}{x} dx$"
   ]
  },
  {
   "cell_type": "code",
   "execution_count": 10,
   "id": "2cb915a0",
   "metadata": {
    "ExecuteTime": {
     "end_time": "2023-05-16T22:44:43.864826Z",
     "start_time": "2023-05-16T22:44:40.437324Z"
    },
    "hidden": true
   },
   "outputs": [
    {
     "data": {
      "text/latex": [
       "$\\displaystyle \\begin{cases} 2 \\sqrt{x + 4} - 4 \\operatorname{acoth}{\\left(\\frac{\\sqrt{x + 4}}{2} \\right)} & \\text{for}\\: \\frac{\\left|{x + 4}\\right|}{4} > 1 \\\\2 \\sqrt{x + 4} - 4 \\operatorname{atanh}{\\left(\\frac{\\sqrt{x + 4}}{2} \\right)} & \\text{otherwise} \\end{cases}$"
      ],
      "text/plain": [
       "Piecewise((2*sqrt(x + 4) - 4*acoth(sqrt(x + 4)/2), Abs(x + 4)/4 > 1), (2*sqrt(x + 4) - 4*atanh(sqrt(x + 4)/2), True))"
      ]
     },
     "execution_count": 10,
     "metadata": {},
     "output_type": "execute_result"
    }
   ],
   "source": [
    "x = sympy.symbols('x')\n",
    "sympy.integrate(sympy.sqrt(x+4)/x)"
   ]
  }
 ],
 "metadata": {
  "hide_input": false,
  "kernelspec": {
   "display_name": "Python 3 (ipykernel)",
   "language": "python",
   "name": "python3"
  },
  "language_info": {
   "codemirror_mode": {
    "name": "ipython",
    "version": 3
   },
   "file_extension": ".py",
   "mimetype": "text/x-python",
   "name": "python",
   "nbconvert_exporter": "python",
   "pygments_lexer": "ipython3",
   "version": "3.10.6"
  },
  "nbTranslate": {
   "displayLangs": [
    "*"
   ],
   "hotkey": "alt-t",
   "langInMainMenu": true,
   "sourceLang": "en",
   "targetLang": "fr",
   "useGoogleTranslate": true
  },
  "toc": {
   "base_numbering": 1,
   "nav_menu": {},
   "number_sections": true,
   "sideBar": true,
   "skip_h1_title": false,
   "title_cell": "Table of Contents",
   "title_sidebar": "Contents",
   "toc_cell": false,
   "toc_position": {},
   "toc_section_display": true,
   "toc_window_display": false
  },
  "varInspector": {
   "cols": {
    "lenName": 16,
    "lenType": 16,
    "lenVar": 40
   },
   "kernels_config": {
    "python": {
     "delete_cmd_postfix": "",
     "delete_cmd_prefix": "del ",
     "library": "var_list.py",
     "varRefreshCmd": "print(var_dic_list())"
    },
    "r": {
     "delete_cmd_postfix": ") ",
     "delete_cmd_prefix": "rm(",
     "library": "var_list.r",
     "varRefreshCmd": "cat(var_dic_list()) "
    }
   },
   "types_to_exclude": [
    "module",
    "function",
    "builtin_function_or_method",
    "instance",
    "_Feature"
   ],
   "window_display": false
  }
 },
 "nbformat": 4,
 "nbformat_minor": 5
}
