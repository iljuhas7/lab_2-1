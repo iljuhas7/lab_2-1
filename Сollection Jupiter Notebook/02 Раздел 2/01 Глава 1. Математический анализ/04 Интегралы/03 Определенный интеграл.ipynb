{
 "cells": [
  {
   "cell_type": "markdown",
   "id": "24b07ffa",
   "metadata": {},
   "source": [
    "# Определенный интеграл"
   ]
  },
  {
   "cell_type": "markdown",
   "id": "354a8d28",
   "metadata": {},
   "source": [
    "Существуют различные численные методы вычисления определенного интеграла: метод трапеций, метод Гаусса, Симпсона и так далее. Основная идея всех этих методов основана на известном интегрировании многочленов."
   ]
  },
  {
   "cell_type": "markdown",
   "id": "bdc73a56",
   "metadata": {},
   "source": [
    "Синтаксис функции для нахождения определенного интеграла $ \\int_{0}^{4}6x^{5}dx $, integrate(f(x), (x, a, b)), где a, b нижняя и верхняя границы интегрирования."
   ]
  },
  {
   "cell_type": "code",
   "execution_count": null,
   "id": "ea019144",
   "metadata": {
    "ExecuteTime": {
     "end_time": "2023-05-16T22:32:20.257677Z",
     "start_time": "2023-05-16T22:32:20.257505Z"
    }
   },
   "outputs": [],
   "source": [
    "import sympy\n",
    "import matplotlib.pyplot as plt\n",
    "from scipy.optimize import minimize"
   ]
  },
  {
   "cell_type": "markdown",
   "id": "a3866306",
   "metadata": {},
   "source": [
    "### Пример"
   ]
  },
  {
   "cell_type": "markdown",
   "id": "2f9d3958",
   "metadata": {
    "heading_collapsed": true
   },
   "source": [
    "#### 1: Найти определенный интеграл $\\int_{0}^{4}6x^{5}$"
   ]
  },
  {
   "cell_type": "code",
   "execution_count": 4,
   "id": "533c2a69",
   "metadata": {
    "ExecuteTime": {
     "end_time": "2023-05-16T22:39:53.949305Z",
     "start_time": "2023-05-16T22:39:53.300162Z"
    },
    "hidden": true
   },
   "outputs": [
    {
     "name": "stdout",
     "output_type": "stream",
     "text": [
      "4096\n"
     ]
    }
   ],
   "source": [
    "x = sympy.symbols('x')\n",
    "y = sympy.integrate(6*x**5, (x,0,4))\n",
    "print(y)"
   ]
  },
  {
   "cell_type": "markdown",
   "id": "57a4f65b",
   "metadata": {
    "heading_collapsed": true
   },
   "source": [
    "#### 2: Найти определенный интеграл $\\int_{1}^{3}\\frac{x}{x+2}dx$"
   ]
  },
  {
   "cell_type": "code",
   "execution_count": 6,
   "id": "833b53e5",
   "metadata": {
    "ExecuteTime": {
     "end_time": "2023-05-16T22:40:58.641039Z",
     "start_time": "2023-05-16T22:40:58.282587Z"
    },
    "hidden": true
   },
   "outputs": [
    {
     "name": "stdout",
     "output_type": "stream",
     "text": [
      "-2*log(5) + 2 + 2*log(3)\n"
     ]
    }
   ],
   "source": [
    "x = sympy.symbols('x')\n",
    "y = sympy.integrate(x/(x+2), (x,1,3))\n",
    "print(y)"
   ]
  },
  {
   "cell_type": "markdown",
   "id": "e5a7902e",
   "metadata": {
    "heading_collapsed": true
   },
   "source": [
    "#### 3: Найти определенный интеграл $\\int_{-1}^{1}\\frac{1}{(x^{2}+1)^{2}}dx$"
   ]
  },
  {
   "cell_type": "code",
   "execution_count": 13,
   "id": "d26a9642",
   "metadata": {
    "ExecuteTime": {
     "end_time": "2023-05-16T22:45:33.259015Z",
     "start_time": "2023-05-16T22:45:32.692320Z"
    },
    "hidden": true
   },
   "outputs": [
    {
     "data": {
      "text/latex": [
       "$\\displaystyle \\frac{1}{2} + \\frac{\\pi}{4}$"
      ],
      "text/plain": [
       "1/2 + pi/4"
      ]
     },
     "execution_count": 13,
     "metadata": {},
     "output_type": "execute_result"
    }
   ],
   "source": [
    "x = sympy.symbols('x')\n",
    "sympy.integrate(1/(x**2+1)**2, (x, -1, 1))"
   ]
  },
  {
   "cell_type": "markdown",
   "id": "23012e8c",
   "metadata": {
    "heading_collapsed": true
   },
   "source": [
    "#### 4: Найти определенный интеграл $\\int_{0}^{100}xe^{2x}dx$"
   ]
  },
  {
   "cell_type": "code",
   "execution_count": 12,
   "id": "521c378e",
   "metadata": {
    "ExecuteTime": {
     "end_time": "2023-05-16T22:45:28.084366Z",
     "start_time": "2023-05-16T22:45:27.735091Z"
    },
    "hidden": true
   },
   "outputs": [
    {
     "data": {
      "text/latex": [
       "$\\displaystyle \\frac{1}{4} + \\frac{199 e^{200}}{4}$"
      ],
      "text/plain": [
       "1/4 + 199*exp(200)/4"
      ]
     },
     "execution_count": 12,
     "metadata": {},
     "output_type": "execute_result"
    }
   ],
   "source": [
    "x = sympy.symbols('x')\n",
    "sympy.integrate(x*sympy.exp(2 *x), (x, 0, 100))"
   ]
  },
  {
   "cell_type": "markdown",
   "id": "71974fef",
   "metadata": {
    "heading_collapsed": true
   },
   "source": [
    "#### 5: Найти определенный интеграл $\\int_{-1}^{0}\\sqrt{x+4}dx$"
   ]
  },
  {
   "cell_type": "code",
   "execution_count": 11,
   "id": "06a3e7f7",
   "metadata": {
    "ExecuteTime": {
     "end_time": "2023-05-16T22:45:23.813325Z",
     "start_time": "2023-05-16T22:45:23.677344Z"
    },
    "hidden": true
   },
   "outputs": [
    {
     "data": {
      "text/latex": [
       "$\\displaystyle \\frac{16}{3} - 2 \\sqrt{3}$"
      ],
      "text/plain": [
       "16/3 - 2*sqrt(3)"
      ]
     },
     "execution_count": 11,
     "metadata": {},
     "output_type": "execute_result"
    }
   ],
   "source": [
    "x = sympy.symbols('x')\n",
    "sympy.integrate(sympy.sqrt(x+4), (x, -1, 0))"
   ]
  }
 ],
 "metadata": {
  "hide_input": false,
  "kernelspec": {
   "display_name": "Python 3 (ipykernel)",
   "language": "python",
   "name": "python3"
  },
  "language_info": {
   "codemirror_mode": {
    "name": "ipython",
    "version": 3
   },
   "file_extension": ".py",
   "mimetype": "text/x-python",
   "name": "python",
   "nbconvert_exporter": "python",
   "pygments_lexer": "ipython3",
   "version": "3.10.6"
  },
  "nbTranslate": {
   "displayLangs": [
    "*"
   ],
   "hotkey": "alt-t",
   "langInMainMenu": true,
   "sourceLang": "en",
   "targetLang": "fr",
   "useGoogleTranslate": true
  },
  "toc": {
   "base_numbering": 1,
   "nav_menu": {},
   "number_sections": true,
   "sideBar": true,
   "skip_h1_title": false,
   "title_cell": "Table of Contents",
   "title_sidebar": "Contents",
   "toc_cell": false,
   "toc_position": {},
   "toc_section_display": true,
   "toc_window_display": false
  },
  "varInspector": {
   "cols": {
    "lenName": 16,
    "lenType": 16,
    "lenVar": 40
   },
   "kernels_config": {
    "python": {
     "delete_cmd_postfix": "",
     "delete_cmd_prefix": "del ",
     "library": "var_list.py",
     "varRefreshCmd": "print(var_dic_list())"
    },
    "r": {
     "delete_cmd_postfix": ") ",
     "delete_cmd_prefix": "rm(",
     "library": "var_list.r",
     "varRefreshCmd": "cat(var_dic_list()) "
    }
   },
   "types_to_exclude": [
    "module",
    "function",
    "builtin_function_or_method",
    "instance",
    "_Feature"
   ],
   "window_display": false
  }
 },
 "nbformat": 4,
 "nbformat_minor": 5
}
