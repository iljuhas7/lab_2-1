{
 "cells": [
  {
   "cell_type": "markdown",
   "id": "24b07ffa",
   "metadata": {},
   "source": [
    "# Экономические задачи"
   ]
  },
  {
   "cell_type": "code",
   "execution_count": 2,
   "id": "e359889e",
   "metadata": {
    "ExecuteTime": {
     "end_time": "2023-05-16T23:16:45.271536Z",
     "start_time": "2023-05-16T23:16:45.248816Z"
    }
   },
   "outputs": [],
   "source": [
    "import sympy\n",
    "import math as m\n",
    "import matplotlib.pyplot as plt\n",
    "from scipy.optimize import minimize"
   ]
  },
  {
   "cell_type": "markdown",
   "id": "a3866306",
   "metadata": {},
   "source": [
    "### Пример"
   ]
  },
  {
   "cell_type": "markdown",
   "id": "345d991b",
   "metadata": {
    "heading_collapsed": true
   },
   "source": [
    "#### 1: Найдите функцию дохода R(x), если предельный доход при реализации единиц продукции определяется по формуле $MR = 6x^{6}-230$"
   ]
  },
  {
   "cell_type": "code",
   "execution_count": 3,
   "id": "443f7536",
   "metadata": {
    "ExecuteTime": {
     "end_time": "2023-05-16T23:17:11.004249Z",
     "start_time": "2023-05-16T23:17:10.600799Z"
    },
    "hidden": true
   },
   "outputs": [
    {
     "name": "stdout",
     "output_type": "stream",
     "text": [
      "6*x**7/7 - 230*x\n"
     ]
    }
   ],
   "source": [
    "x = sympy.symbols('x')\n",
    "y = sympy.integrate(6*x**6-230,x)\n",
    "print(y)"
   ]
  },
  {
   "cell_type": "markdown",
   "id": "2dc3fc9b",
   "metadata": {
    "heading_collapsed": true
   },
   "source": [
    "#### 2: Найти функцию издержек $TC(q)$, если предельные издержки заданы функцией $МС=18g^{5} + 20q^{4} +16q^{3}$, а начальные фиксированные затраты равны 790."
   ]
  },
  {
   "cell_type": "code",
   "execution_count": 14,
   "id": "5091f43d",
   "metadata": {
    "ExecuteTime": {
     "end_time": "2023-05-16T23:29:34.935393Z",
     "start_time": "2023-05-16T23:29:34.876763Z"
    },
    "hidden": true
   },
   "outputs": [
    {
     "name": "stdout",
     "output_type": "stream",
     "text": [
      "3*x**6 + 4*x**5 + 17*x**4/4\n"
     ]
    }
   ],
   "source": [
    "x = sympy.symbols('x')\n",
    "y = sympy.integrate(18*x**5+20*x**4+17*x**3,x)\n",
    "print(y)"
   ]
  },
  {
   "cell_type": "markdown",
   "id": "75d9b42c",
   "metadata": {
    "heading_collapsed": true
   },
   "source": [
    "#### 3: Найти общую себестоимость выпуска $q$ единицпродукции  $TC(q)$, если предельная себестоимость производства $q$ единиц продукции задана функцией $ MC = e^{7,8q} $, а начальные фиксированные затраты равны 21."
   ]
  },
  {
   "cell_type": "markdown",
   "id": "66e045d7",
   "metadata": {
    "hidden": true
   },
   "source": [
    "Вычисляем:</br>\n",
    "$TC(q) = \\int MC(q) = \\int e^{7,8q}dq=\\left[d(7,8q)=7,8dq\\right]=\\frac{10}{78}\\int e^{7,8q}d(7,8q)=\\frac{5}{39}e^{7,8q}+C $"
   ]
  },
  {
   "cell_type": "code",
   "execution_count": 7,
   "id": "6a1c7aaa",
   "metadata": {
    "ExecuteTime": {
     "end_time": "2023-05-16T23:22:59.096837Z",
     "start_time": "2023-05-16T23:22:58.815085Z"
    },
    "hidden": true,
    "scrolled": true
   },
   "outputs": [
    {
     "name": "stdout",
     "output_type": "stream",
     "text": [
      "0.128205128205128*exp(7.8*x)\n"
     ]
    }
   ],
   "source": [
    "x = sympy.symbols('x')\n",
    "y = sympy.integrate(sympy.exp(7.8*x), x)\n",
    "print(y)"
   ]
  },
  {
   "cell_type": "markdown",
   "id": "3f3b04fb",
   "metadata": {
    "heading_collapsed": true
   },
   "source": [
    "#### 4:  Количество потребляемой предприятием электроэнергии меняется в течение суток в зависимости от времени $t$ со скоростью $v(t)=8+4\\sin\\left( \\frac{\\pi}{4} (t+7) \\right)$, где время $t$ измеряется в часах. Найти суммарный расход электроэнергии за сутки."
   ]
  },
  {
   "cell_type": "markdown",
   "id": "216123a5",
   "metadata": {
    "hidden": true
   },
   "source": [
    "Решение. Обозначим суммарный расход электроэнергии за сутки $V$. Тогда вычисляем:"
   ]
  },
  {
   "cell_type": "code",
   "execution_count": 11,
   "id": "3796fabd",
   "metadata": {
    "ExecuteTime": {
     "end_time": "2023-05-16T23:27:01.585745Z",
     "start_time": "2023-05-16T23:26:58.386654Z"
    },
    "hidden": true
   },
   "outputs": [
    {
     "name": "stdout",
     "output_type": "stream",
     "text": [
      "192\n"
     ]
    }
   ],
   "source": [
    "x = sympy.symbols('x')\n",
    "y = sympy.integrate(8+4*sympy.sin(sympy.pi/4*(x+7)), (x, 0, 24))\n",
    "print(y)"
   ]
  },
  {
   "cell_type": "markdown",
   "id": "36979aba",
   "metadata": {
    "heading_collapsed": true
   },
   "source": [
    "#### 5: Найти объем продукции, произведений за 6 лет, если функция Кобба-Дугласа имеет вид: $F(t) = (1+t)e^{2t}$"
   ]
  },
  {
   "cell_type": "markdown",
   "id": "bb0d56f6",
   "metadata": {
    "ExecuteTime": {
     "end_time": "2023-05-16T23:27:55.297417Z",
     "start_time": "2023-05-16T23:27:55.267370Z"
    },
    "hidden": true
   },
   "source": [
    "Решение. Объем K(t) произведенной продукции вычисляется по формуле:</br>\n",
    "$ V(t) = \\int^{6}_{0}(1+t)e^{2t}dt $"
   ]
  },
  {
   "cell_type": "code",
   "execution_count": 13,
   "id": "cb7ea1a7",
   "metadata": {
    "ExecuteTime": {
     "end_time": "2023-05-16T23:29:20.286114Z",
     "start_time": "2023-05-16T23:29:19.908689Z"
    },
    "hidden": true
   },
   "outputs": [
    {
     "name": "stdout",
     "output_type": "stream",
     "text": [
      "-1/4 + 13*exp(12)/4\n"
     ]
    }
   ],
   "source": [
    "x = sympy.symbols('x')\n",
    "y = sympy.integrate((1+x)*sympy.exp(2*x) , (x, 0, 6))\n",
    "print(y)"
   ]
  }
 ],
 "metadata": {
  "hide_input": false,
  "kernelspec": {
   "display_name": "Python 3 (ipykernel)",
   "language": "python",
   "name": "python3"
  },
  "language_info": {
   "codemirror_mode": {
    "name": "ipython",
    "version": 3
   },
   "file_extension": ".py",
   "mimetype": "text/x-python",
   "name": "python",
   "nbconvert_exporter": "python",
   "pygments_lexer": "ipython3",
   "version": "3.10.6"
  },
  "nbTranslate": {
   "displayLangs": [
    "*"
   ],
   "hotkey": "alt-t",
   "langInMainMenu": true,
   "sourceLang": "en",
   "targetLang": "fr",
   "useGoogleTranslate": true
  },
  "toc": {
   "base_numbering": 1,
   "nav_menu": {},
   "number_sections": true,
   "sideBar": true,
   "skip_h1_title": false,
   "title_cell": "Table of Contents",
   "title_sidebar": "Contents",
   "toc_cell": false,
   "toc_position": {},
   "toc_section_display": true,
   "toc_window_display": false
  },
  "varInspector": {
   "cols": {
    "lenName": 16,
    "lenType": 16,
    "lenVar": 40
   },
   "kernels_config": {
    "python": {
     "delete_cmd_postfix": "",
     "delete_cmd_prefix": "del ",
     "library": "var_list.py",
     "varRefreshCmd": "print(var_dic_list())"
    },
    "r": {
     "delete_cmd_postfix": ") ",
     "delete_cmd_prefix": "rm(",
     "library": "var_list.r",
     "varRefreshCmd": "cat(var_dic_list()) "
    }
   },
   "types_to_exclude": [
    "module",
    "function",
    "builtin_function_or_method",
    "instance",
    "_Feature"
   ],
   "window_display": false
  }
 },
 "nbformat": 4,
 "nbformat_minor": 5
}
