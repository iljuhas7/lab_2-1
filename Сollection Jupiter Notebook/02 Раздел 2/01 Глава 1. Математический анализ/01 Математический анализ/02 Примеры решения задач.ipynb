{
 "cells": [
  {
   "cell_type": "markdown",
   "id": "8e2edf52",
   "metadata": {},
   "source": [
    "# Комплексные числа: примеры решения задач"
   ]
  },
  {
   "cell_type": "markdown",
   "id": "9653db11",
   "metadata": {},
   "source": [
    "### 1: Пусть  Вычислите\n",
    "&nbsp;&nbsp;&nbsp;&nbsp; $ z_1 = -4 - 9i $, </br>\n",
    "&nbsp;&nbsp;&nbsp;&nbsp; $ z2 = 1 - 8i $ </br>\n",
    "</br>\n",
    "Вычислите: </br>\n",
    "&nbsp;&nbsp;&nbsp;&nbsp; <font size=5> $ \\frac{z_{1}-\\overline{z_{2}}}{\\overline{z_{1}}+z_{2}} $ </font> </br>"
   ]
  },
  {
   "cell_type": "code",
   "execution_count": 3,
   "id": "decb161c",
   "metadata": {
    "ExecuteTime": {
     "end_time": "2023-05-14T14:45:25.406937Z",
     "start_time": "2023-05-14T14:45:25.381541Z"
    },
    "scrolled": true
   },
   "outputs": [
    {
     "name": "stdout",
     "output_type": "stream",
     "text": [
      "(-0.19999999999999982+5.6000000000000005j)\n"
     ]
    }
   ],
   "source": [
    "z1 = -4 - 9 * 1j\n",
    "z2 = 1 - 8 * 1j\n",
    "\n",
    "print((z1-z2.conjugate())/(z1.conjugate()+z2))"
   ]
  },
  {
   "cell_type": "markdown",
   "id": "6ad02845",
   "metadata": {},
   "source": [
    "### 2: Приведите число $ z=2+2\\sqrt{3}i $ к тригонометрическому виду.\n"
   ]
  },
  {
   "cell_type": "code",
   "execution_count": 6,
   "id": "42d59137",
   "metadata": {
    "ExecuteTime": {
     "end_time": "2023-05-14T14:52:10.377586Z",
     "start_time": "2023-05-14T14:52:10.347326Z"
    }
   },
   "outputs": [
    {
     "name": "stdout",
     "output_type": "stream",
     "text": [
      "60\n",
      "3.9999999999999996\n"
     ]
    }
   ],
   "source": [
    "import math\n",
    "import cmath\n",
    "\n",
    "z=2+2*math.sqrt(3)*1j\n",
    "\n",
    "fi=round(math.degrees(cmath.phase(z)))\n",
    "print(fi)\n",
    "\n",
    "r=abs(z)\n",
    "print(r)"
   ]
  },
  {
   "cell_type": "markdown",
   "id": "cbedef81",
   "metadata": {},
   "source": [
    "### 7: Вычислите значение выражения  $ \\frac{3+7i}{4i-5} $  и представьте результат в виде $a +bi$"
   ]
  },
  {
   "cell_type": "code",
   "execution_count": 7,
   "id": "e8656a2f",
   "metadata": {
    "ExecuteTime": {
     "end_time": "2023-05-14T14:59:08.080201Z",
     "start_time": "2023-05-14T14:59:08.056442Z"
    }
   },
   "outputs": [
    {
     "name": "stdout",
     "output_type": "stream",
     "text": [
      "(0.31707317073170743-1.1463414634146343j)\n"
     ]
    }
   ],
   "source": [
    "print((3+7j)/(4j-5))"
   ]
  },
  {
   "cell_type": "markdown",
   "id": "96be406d",
   "metadata": {},
   "source": [
    "### 9: Вычислите значение многочлена\n",
    "&nbsp;&nbsp;&nbsp;&nbsp; $P(z) = (-4+4i)z^2 + (-1+3i)z + (-2-3i)$ в точке $z = 1- 3i$"
   ]
  },
  {
   "cell_type": "code",
   "execution_count": 9,
   "id": "17a0e145",
   "metadata": {
    "ExecuteTime": {
     "end_time": "2023-05-14T15:00:38.649494Z",
     "start_time": "2023-05-14T15:00:38.625593Z"
    }
   },
   "outputs": [
    {
     "name": "stdout",
     "output_type": "stream",
     "text": [
      "(-4-59j)\n"
     ]
    }
   ],
   "source": [
    "z=1+3j\n",
    "p=(-4+4j)*(z*z)+(-1+3j)*z+(-2-3j)\n",
    "print(p)"
   ]
  },
  {
   "cell_type": "markdown",
   "id": "2a836efd",
   "metadata": {},
   "source": [
    "### 13: Вычислите модуль и аргумент числа\n",
    "&nbsp;&nbsp;&nbsp;&nbsp; $z = -8-8i$"
   ]
  },
  {
   "cell_type": "code",
   "execution_count": 12,
   "id": "889b16ed",
   "metadata": {
    "ExecuteTime": {
     "end_time": "2023-05-14T15:02:03.001765Z",
     "start_time": "2023-05-14T15:02:02.948845Z"
    }
   },
   "outputs": [
    {
     "data": {
      "text/plain": [
       "(-135, 11.313708498984761)"
      ]
     },
     "execution_count": 12,
     "metadata": {},
     "output_type": "execute_result"
    }
   ],
   "source": [
    "import math\n",
    "import cmath\n",
    "\n",
    "z=complex(-8,-8)\n",
    "round(math.degrees(cmath.phase(z))), abs(z)"
   ]
  },
  {
   "cell_type": "markdown",
   "id": "2572206c",
   "metadata": {},
   "source": [
    "### 15: Найдите комплексные корни уравнения \n",
    "&nbsp;&nbsp;&nbsp;&nbsp; $ x^{2} + 8x + 20 = 0 $"
   ]
  },
  {
   "cell_type": "code",
   "execution_count": 13,
   "id": "590be219",
   "metadata": {
    "ExecuteTime": {
     "end_time": "2023-05-14T15:04:18.844642Z",
     "start_time": "2023-05-14T15:04:12.838853Z"
    }
   },
   "outputs": [
    {
     "name": "stdout",
     "output_type": "stream",
     "text": [
      "[-4 - 2*I, -4 + 2*I]\n"
     ]
    }
   ],
   "source": [
    "import math\n",
    "from sympy import *\n",
    "\n",
    "x = Symbol(\"x\")\n",
    "print(solve(x**2+8*x+20))"
   ]
  },
  {
   "cell_type": "markdown",
   "id": "03ed5203",
   "metadata": {},
   "source": [
    "### 18: Вычислите модуль и аргумент числа\n",
    "&nbsp;&nbsp;&nbsp;&nbsp; $ z = -6 $"
   ]
  },
  {
   "cell_type": "code",
   "execution_count": 14,
   "id": "4e533949",
   "metadata": {
    "ExecuteTime": {
     "end_time": "2023-05-14T15:06:13.125106Z",
     "start_time": "2023-05-14T15:06:13.091345Z"
    }
   },
   "outputs": [
    {
     "data": {
      "text/plain": [
       "(180, 6.0)"
      ]
     },
     "execution_count": 14,
     "metadata": {},
     "output_type": "execute_result"
    }
   ],
   "source": [
    "import math\n",
    "import cmath\n",
    "\n",
    "z=complex(-6,0)\n",
    "round(math.degrees(cmath.phase(z))), abs(z)"
   ]
  },
  {
   "cell_type": "markdown",
   "id": "d59b859d",
   "metadata": {},
   "source": [
    "### Приведите число $ z = 6 - 6i $ к тригонометрическому виду."
   ]
  },
  {
   "cell_type": "code",
   "execution_count": 16,
   "id": "f7e292a7",
   "metadata": {
    "ExecuteTime": {
     "end_time": "2023-05-14T15:07:17.468742Z",
     "start_time": "2023-05-14T15:07:17.435984Z"
    }
   },
   "outputs": [
    {
     "name": "stdout",
     "output_type": "stream",
     "text": [
      "45\n",
      "8.48528137423857\n",
      "(4.4575048871930445-7.220155828003307j)\n"
     ]
    }
   ],
   "source": [
    "import math\n",
    "import cmath\n",
    "\n",
    "z=complex(6,6)\n",
    "print(round(math.degrees(cmath.phase(z))))\n",
    "\n",
    "r=abs(z)\n",
    "print(r)\n",
    "\n",
    "c=r*(math.cos(-45)+1j*math.sin(-45))\n",
    "print(c)"
   ]
  },
  {
   "cell_type": "markdown",
   "id": "3f3ad4b0",
   "metadata": {},
   "source": [
    "### 26: Вычислите модуль и аргумент числа\n",
    "&nbsp;&nbsp;&nbsp;&nbsp; $ z = 3 \\sqrt{3} - 3i $"
   ]
  },
  {
   "cell_type": "code",
   "execution_count": 17,
   "id": "667a91b5",
   "metadata": {
    "ExecuteTime": {
     "end_time": "2023-05-14T15:17:34.409548Z",
     "start_time": "2023-05-14T15:17:34.368929Z"
    }
   },
   "outputs": [
    {
     "data": {
      "text/plain": [
       "(-30, 6.0)"
      ]
     },
     "execution_count": 17,
     "metadata": {},
     "output_type": "execute_result"
    }
   ],
   "source": [
    "import math\n",
    "import cmath\n",
    "\n",
    "z=complex(3*sqrt(3),-3)\n",
    "round(math.degrees(cmath.phase(z))), abs(z)"
   ]
  },
  {
   "cell_type": "markdown",
   "id": "47c8a1e7",
   "metadata": {},
   "source": [
    "### 32: Вычислите значение выражения $\\frac{\\left( 6+5i \\right)\\left( -4+2i \\right)}{2+5i}$ и представьте результат в виде $ a + bi $"
   ]
  },
  {
   "cell_type": "code",
   "execution_count": 18,
   "id": "a1154359",
   "metadata": {
    "ExecuteTime": {
     "end_time": "2023-05-14T15:18:48.337030Z",
     "start_time": "2023-05-14T15:18:48.306618Z"
    }
   },
   "outputs": [
    {
     "data": {
      "text/plain": [
       "(-3.724137931034483+5.310344827586207j)"
      ]
     },
     "execution_count": 18,
     "metadata": {},
     "output_type": "execute_result"
    }
   ],
   "source": [
    "((6+5j)*(-4+2j))/(2+5j)"
   ]
  },
  {
   "cell_type": "markdown",
   "id": "08c41893",
   "metadata": {},
   "source": [
    "### 35: Найдите комплексные корни уравнения\n",
    "&nbsp;&nbsp;&nbsp;&nbsp; $ x^{2} + 10x + 26 = 0 $"
   ]
  },
  {
   "cell_type": "code",
   "execution_count": 19,
   "id": "9550d048",
   "metadata": {
    "ExecuteTime": {
     "end_time": "2023-05-14T15:19:38.594179Z",
     "start_time": "2023-05-14T15:19:38.417732Z"
    }
   },
   "outputs": [
    {
     "name": "stdout",
     "output_type": "stream",
     "text": [
      "[-5 - I, -5 + I]\n"
     ]
    }
   ],
   "source": [
    "import math\n",
    "from sympy import *\n",
    "\n",
    "x=Symbol(\"x\")\n",
    "\n",
    "print(solve(x**2+10*x+26))"
   ]
  },
  {
   "cell_type": "markdown",
   "id": "6f41d73f",
   "metadata": {},
   "source": [
    "### 50: Вычислите значение выражения $ \\frac{\\left( 2-4i \\right)\\left( 3-4i \\right)}{2+5i} $ и представьте результат в виде $ a+bi $"
   ]
  },
  {
   "cell_type": "code",
   "execution_count": 20,
   "id": "e993154b",
   "metadata": {
    "ExecuteTime": {
     "end_time": "2023-05-14T15:21:06.581131Z",
     "start_time": "2023-05-14T15:21:06.550645Z"
    }
   },
   "outputs": [
    {
     "data": {
      "text/plain": [
       "(-4.137931034482759+0.3448275862068966j)"
      ]
     },
     "execution_count": 20,
     "metadata": {},
     "output_type": "execute_result"
    }
   ],
   "source": [
    "((2-4j)*(3-4j))/(2+5j)"
   ]
  }
 ],
 "metadata": {
  "hide_input": false,
  "kernelspec": {
   "display_name": "Python 3 (ipykernel)",
   "language": "python",
   "name": "python3"
  },
  "language_info": {
   "codemirror_mode": {
    "name": "ipython",
    "version": 3
   },
   "file_extension": ".py",
   "mimetype": "text/x-python",
   "name": "python",
   "nbconvert_exporter": "python",
   "pygments_lexer": "ipython3",
   "version": "3.10.6"
  },
  "nbTranslate": {
   "displayLangs": [
    "*"
   ],
   "hotkey": "alt-t",
   "langInMainMenu": true,
   "sourceLang": "en",
   "targetLang": "fr",
   "useGoogleTranslate": true
  },
  "toc": {
   "base_numbering": 1,
   "nav_menu": {},
   "number_sections": true,
   "sideBar": true,
   "skip_h1_title": false,
   "title_cell": "Table of Contents",
   "title_sidebar": "Contents",
   "toc_cell": false,
   "toc_position": {},
   "toc_section_display": true,
   "toc_window_display": false
  },
  "varInspector": {
   "cols": {
    "lenName": 16,
    "lenType": 16,
    "lenVar": 40
   },
   "kernels_config": {
    "python": {
     "delete_cmd_postfix": "",
     "delete_cmd_prefix": "del ",
     "library": "var_list.py",
     "varRefreshCmd": "print(var_dic_list())"
    },
    "r": {
     "delete_cmd_postfix": ") ",
     "delete_cmd_prefix": "rm(",
     "library": "var_list.r",
     "varRefreshCmd": "cat(var_dic_list()) "
    }
   },
   "types_to_exclude": [
    "module",
    "function",
    "builtin_function_or_method",
    "instance",
    "_Feature"
   ],
   "window_display": false
  }
 },
 "nbformat": 4,
 "nbformat_minor": 5
}
