{
 "cells": [
  {
   "cell_type": "markdown",
   "id": "24b07ffa",
   "metadata": {},
   "source": [
    "# Комплексные числа"
   ]
  },
  {
   "cell_type": "markdown",
   "id": "28503503",
   "metadata": {
    "ExecuteTime": {
     "end_time": "2023-05-14T12:06:28.419230Z",
     "start_time": "2023-05-14T12:06:28.402190Z"
    }
   },
   "source": [
    "### Комплексные числа - это числа вида:"
   ]
  },
  {
   "cell_type": "markdown",
   "id": "7b87956a",
   "metadata": {},
   "source": [
    "<div style=\"text-align: center;\"> $ x = a + b \\cdot i $ </div></br>\n",
    "где $ a $, $ b $, $ b \\in \\mathbb{R} $, $ i^{2} -1 $</br>\n",
    "$ а $- действительная часть $ Re(x) $, </br>\n",
    "$ b $ - мнимая часть числа $ Im(x) $.</br>\n",
    "</br>\n",
    "<h5>В полярных координатах:</h5>\n",
    "<div style=\"text-align: center;\"> $ x = (r, \\phi) $, </div></br></br>\n",
    "где модуль $ r = \\sqrt{a^{2} + b^{2}} $, аргумент или фаза $ \\phi $ - это угол, такой, что $ \\cos\\phi=\\frac{a}{r} $, $ \\sin\\phi=\\frac{b}{r} $/</br></br>\n",
    "<div style=\"text-align: center;\">$ x = \\alpha\\cos\\phi+i\\sin\\phi $</div></br>\n",
    "тригонометрическая форма записи комплексного числа.\n",
    "</br>\n"
   ]
  },
  {
   "cell_type": "markdown",
   "id": "2662b272",
   "metadata": {},
   "source": [
    "Комплексные числа $ x= Re(x) + i \\cdot Im(x) $ с помощью команды x = complex(Re(x),Im(x)).</br>\n",
    "Например:</br></br>\n",
    "<div style=\"text-align: center;\"> $ x = 3 + 6 \\cdot i $ </div></br></br>\n",
    " Для введения $ х $ следует загрузить библиотеки sympy и math, как показано ниже:"
   ]
  },
  {
   "cell_type": "code",
   "execution_count": 11,
   "id": "615e6954",
   "metadata": {
    "ExecuteTime": {
     "end_time": "2023-05-14T12:05:43.660254Z",
     "start_time": "2023-05-14T12:05:43.626377Z"
    }
   },
   "outputs": [
    {
     "name": "stdout",
     "output_type": "stream",
     "text": [
      "Ответ:\n",
      "\tx = (3+6j) - Комплексные числа\n",
      "\tx.imag = 6.0 - мнимая часть числа\n",
      "\tx.real = 3.0 - действительная часть\n"
     ]
    }
   ],
   "source": [
    "from sympy import *\n",
    "import math as m\n",
    "\n",
    "x = complex(3, 6) # complex(real, imag) - функция комплексные числа\n",
    "\n",
    "print('Ответ:')\n",
    "print('\\tx =', x, '- Комплексные числа') # x - Комплексные числа\n",
    "print('\\tx.imag =', x.imag, '- мнимая часть числа') # x.imag - мнимая часть числа\n",
    "print('\\tx.real =', x.real, '- действительная часть') # x.real- действительная часть"
   ]
  },
  {
   "cell_type": "markdown",
   "id": "9b3d3010",
   "metadata": {},
   "source": [
    "###  Действия над комплексными числами:"
   ]
  },
  {
   "cell_type": "markdown",
   "id": "a3866306",
   "metadata": {},
   "source": [
    "#### Пример"
   ]
  },
  {
   "cell_type": "markdown",
   "id": "df5cb13a",
   "metadata": {
    "ExecuteTime": {
     "end_time": "2023-05-14T12:08:52.671024Z",
     "start_time": "2023-05-14T12:08:52.654275Z"
    },
    "heading_collapsed": true
   },
   "source": [
    "##### 1: сложение, вычитание, умножение, деление, производится с помощью стандартных операций «+», «-», «*», «/»\n",
    "\n"
   ]
  },
  {
   "cell_type": "markdown",
   "id": "94be8a4b",
   "metadata": {
    "hidden": true
   },
   "source": [
    "Пусть: </br>\n",
    "$ x = 1 + 3i $ </br>\n",
    "$ y = 2 - i $ </br>\n",
    "$ g = 1 - 2i $ </br>\n",
    "$ t = 10 $ </br>\n",
    "</br>\n",
    "Найти: </br>\n",
    "$ z = x \\cdot y $ </br>\n",
    "$ h = \\frac{t}{g} $ </br>\n",
    "$ n = p^{2} = p \\cdot p $ </br>\n",
    "$ C = z + h + n $ </br>\n"
   ]
  },
  {
   "cell_type": "code",
   "execution_count": 17,
   "id": "b2daee58",
   "metadata": {
    "ExecuteTime": {
     "end_time": "2023-05-14T13:21:27.210041Z",
     "start_time": "2023-05-14T13:21:27.171365Z"
    },
    "hidden": true
   },
   "outputs": [
    {
     "name": "stdout",
     "output_type": "stream",
     "text": [
      "z =  (5+5j)\n",
      "g = (1-2j)\n",
      "t = (10+0j)\n",
      "h = (2+4j)\n",
      "n = 2j\n",
      "C = (7+11j)\n"
     ]
    }
   ],
   "source": [
    "x=complex(1,3)\n",
    "y=complex(2,-1)\n",
    "z=x*y   \n",
    "print('z = ', z)\n",
    "          \n",
    "g=complex(1,-2)\n",
    "print('g =', g)\n",
    "          \n",
    "t=complex(10,0)\n",
    "print('t =', t)\n",
    "\n",
    "h=t/g\n",
    "print('h =', h)\n",
    "\n",
    "p=complex(-1,-1)\n",
    "n=p*p\n",
    "print('n =', n)\n",
    "\n",
    "C=z+h+n\n",
    "print('C =', C)"
   ]
  },
  {
   "cell_type": "markdown",
   "id": "2ca6c667",
   "metadata": {
    "ExecuteTime": {
     "end_time": "2023-05-14T12:08:52.671024Z",
     "start_time": "2023-05-14T12:08:52.654275Z"
    },
    "heading_collapsed": true
   },
   "source": [
    "##### 2: Возведение в степень: pow (число, показатель степени в которую мы возводим число)"
   ]
  },
  {
   "cell_type": "markdown",
   "id": "dc19269e",
   "metadata": {
    "hidden": true
   },
   "source": [
    "Степень $ i^{2} $. </br>\n",
    "$ x = i $, </br>\n",
    "$ y = x^{2} $, </br>\n",
    "$ y = -1 $"
   ]
  },
  {
   "cell_type": "code",
   "execution_count": 20,
   "id": "76e35268",
   "metadata": {
    "ExecuteTime": {
     "end_time": "2023-05-14T13:29:43.997011Z",
     "start_time": "2023-05-14T13:29:43.975590Z"
    },
    "hidden": true
   },
   "outputs": [
    {
     "name": "stdout",
     "output_type": "stream",
     "text": [
      "(-1+0j)\n"
     ]
    }
   ],
   "source": [
    "x=complex(0,1)\n",
    "y=pow(x,2) # Степень\n",
    "print(y)"
   ]
  },
  {
   "cell_type": "markdown",
   "id": "49f08dae",
   "metadata": {
    "heading_collapsed": true
   },
   "source": [
    "##### 3: Итак, мы можем с легкостью производить любые действия с комплексными числами в среде Python."
   ]
  },
  {
   "cell_type": "markdown",
   "id": "4ad5c71d",
   "metadata": {
    "hidden": true
   },
   "source": [
    "Вычислить</br></br>\n",
    "<div style=\"text-align: center;\"> $ \\left( 1 + 3i \\right) \\cdot \\left( 2 - i \\right) + \\frac{10}{\\left( 1 + 2i \\right)} + \\left( -1 - i \\right)^{2} = 7 + 11j  $ </div>"
   ]
  },
  {
   "cell_type": "code",
   "execution_count": 21,
   "id": "0853a78f",
   "metadata": {
    "ExecuteTime": {
     "end_time": "2023-05-14T13:32:17.195344Z",
     "start_time": "2023-05-14T13:32:17.159816Z"
    },
    "hidden": true
   },
   "outputs": [
    {
     "name": "stdout",
     "output_type": "stream",
     "text": [
      "(5+5j)\n",
      "(1-2j)\n",
      "(10+0j)\n",
      "(2+4j)\n",
      "2j\n",
      "(7+11j)\n"
     ]
    }
   ],
   "source": [
    "x=complex(1,3)\n",
    "y=complex(2,-1)\n",
    "\n",
    "z=x*y\n",
    "print(z)\n",
    "\n",
    "g=complex(1,-2)\n",
    "print(g)\n",
    "\n",
    "t=complex(10,0)\n",
    "print(t)\n",
    "\n",
    "h=t/g\n",
    "print(h)\n",
    "\n",
    "p=complex(-1,-1)\n",
    "n=p*p\n",
    "print(n)\n",
    "\n",
    "C=z+h+n\n",
    "print(C)\n"
   ]
  },
  {
   "cell_type": "markdown",
   "id": "590ebdd4",
   "metadata": {
    "heading_collapsed": true
   },
   "source": [
    "##### 4: С понятием комплексного числа связано решение квадратных уравнений, дискриминант которых меньше нуля."
   ]
  },
  {
   "cell_type": "markdown",
   "id": "d63e8d8a",
   "metadata": {
    "hidden": true
   },
   "source": [
    "Решить уравнение $ х^{2} — 2х + 5 = 0 $.</br></br>\n",
    "Решение.</br>\n",
    "&nbsp;&nbsp;&nbsp;&nbsp;Чтобы решить уравнение $ f(x) = 0 $ используем функцию $ solve(f(x)) $."
   ]
  },
  {
   "cell_type": "code",
   "execution_count": 24,
   "id": "145fca97",
   "metadata": {
    "ExecuteTime": {
     "end_time": "2023-05-14T13:40:20.767164Z",
     "start_time": "2023-05-14T13:40:20.654081Z"
    },
    "hidden": true
   },
   "outputs": [
    {
     "name": "stdout",
     "output_type": "stream",
     "text": [
      "[1 - 2*I, 1 + 2*I]\n"
     ]
    }
   ],
   "source": [
    "import math\n",
    "from sympy import*\n",
    "\n",
    "x = Symbol(\"x\")\n",
    "print(solve(x**2-2*x+5))"
   ]
  },
  {
   "cell_type": "markdown",
   "id": "3dc97c8b",
   "metadata": {},
   "source": [
    "##### 5: Получаем два комплексно сопряженных корня. Причем мнимаяединица записана как I."
   ]
  },
  {
   "cell_type": "markdown",
   "id": "b81d945a",
   "metadata": {},
   "source": [
    "###### Найти значение функции\n",
    "&nbsp;&nbsp;&nbsp;&nbsp; $ f(x) = x^{4} + \\frac{2+i}{x} - (-3+2i) $, &nbsp;&nbsp;&nbsp;&nbsp; при $ x = 1 - 2i $"
   ]
  },
  {
   "cell_type": "code",
   "execution_count": 27,
   "id": "911c2e8c",
   "metadata": {
    "ExecuteTime": {
     "end_time": "2023-05-14T13:45:56.499859Z",
     "start_time": "2023-05-14T13:45:56.474038Z"
    }
   },
   "outputs": [
    {
     "name": "stdout",
     "output_type": "stream",
     "text": [
      "(-4+23j)\n"
     ]
    }
   ],
   "source": [
    "x=complex(1,-2)\n",
    "i=complex(0,1)\n",
    "\n",
    "f=x**4+(2+i)/x-(-3+2*i)\n",
    "print(f)"
   ]
  },
  {
   "cell_type": "markdown",
   "id": "0648748b",
   "metadata": {},
   "source": [
    "###### Выполнить указанные действия\n",
    "&nbsp;&nbsp;&nbsp;&nbsp; <font size=5>$\\frac{\\left( 1+i \\right)^{8}}{\\left( 1-i \\right)^{6}}$</font>"
   ]
  },
  {
   "cell_type": "code",
   "execution_count": 31,
   "id": "a02f69e4",
   "metadata": {
    "ExecuteTime": {
     "end_time": "2023-05-14T14:06:57.175865Z",
     "start_time": "2023-05-14T14:06:57.144954Z"
    }
   },
   "outputs": [
    {
     "data": {
      "text/plain": [
       "(-0+2j)"
      ]
     },
     "execution_count": 31,
     "metadata": {},
     "output_type": "execute_result"
    }
   ],
   "source": [
    "(1 + i) ** 8 / (1 + i) ** 6"
   ]
  },
  {
   "cell_type": "markdown",
   "id": "68ead035",
   "metadata": {},
   "source": [
    "###### Решить систему уравнений </br> \n",
    "&nbsp;&nbsp;&nbsp;&nbsp; $\n",
    "\\left\\{\\begin{matrix}\n",
    "\\left( 2+i\\right)x + \\left( 2-i \\right)y = 6, \\\\\n",
    "\\left( 3+2i\\right)x + \\left( 3-2i \\right)y = 8, \n",
    "\\end{matrix}\\right.\n",
    "$"
   ]
  },
  {
   "cell_type": "code",
   "execution_count": 35,
   "id": "c4a03b77",
   "metadata": {
    "ExecuteTime": {
     "end_time": "2023-05-14T14:16:45.035659Z",
     "start_time": "2023-05-14T14:16:44.799174Z"
    }
   },
   "outputs": [
    {
     "name": "stdout",
     "output_type": "stream",
     "text": [
      "Matrix([[-0.0588 - 0.765*I], [1.82 + 1.71*I]])\n"
     ]
    }
   ],
   "source": [
    "from sympy import Symbol, nsolve\n",
    "import sympy\n",
    "import mpmath\n",
    "\n",
    "mpmath.mp.dps = 3\n",
    "\n",
    "x = Symbol('x')\n",
    "y = Symbol('y')\n",
    "\n",
    "i=complex(0,1)\n",
    "\n",
    "fl = (2+i)*x+y*(2-i)-6\n",
    "f2 = (2-i)*x+(3-2*i)*y-8\n",
    "\n",
    "print(nsolve( (fl, f2), (x, y), (-1, 1) ))"
   ]
  },
  {
   "cell_type": "markdown",
   "id": "a7263bed",
   "metadata": {
    "heading_collapsed": true
   },
   "source": [
    "###### Вычислить\n",
    "&nbsp;&nbsp;&nbsp;&nbsp; $ \\sqrt{ 3 - 4i } $"
   ]
  },
  {
   "cell_type": "code",
   "execution_count": 44,
   "id": "0d5f5660",
   "metadata": {
    "ExecuteTime": {
     "end_time": "2023-05-14T14:19:41.746508Z",
     "start_time": "2023-05-14T14:19:41.585676Z"
    },
    "hidden": true
   },
   "outputs": [
    {
     "data": {
      "text/plain": [
       "[-2.0 + 1.0*I, 2.0 - 1.0*I]"
      ]
     },
     "execution_count": 44,
     "metadata": {},
     "output_type": "execute_result"
    }
   ],
   "source": [
    "solve( x**2 - 3 + 4*i)"
   ]
  },
  {
   "cell_type": "markdown",
   "id": "7a4d9db7",
   "metadata": {
    "heading_collapsed": true
   },
   "source": [
    "###### Решить уравнение\n",
    "&nbsp;&nbsp;&nbsp;&nbsp; $ (2 + i)x^{2} - (5 - i)x + (2 - 2i) = 0 $"
   ]
  },
  {
   "cell_type": "code",
   "execution_count": 46,
   "id": "996562d5",
   "metadata": {
    "ExecuteTime": {
     "end_time": "2023-05-14T14:21:07.409440Z",
     "start_time": "2023-05-14T14:21:06.381974Z"
    },
    "hidden": true
   },
   "outputs": [
    {
     "name": "stdout",
     "output_type": "stream",
     "text": [
      "[0.8 - 0.4*I, 1.0 - 1.0*I]\n"
     ]
    }
   ],
   "source": [
    "x=Symbol(\"х\")\n",
    "\n",
    "i=complex(0,1)\n",
    "\n",
    "print(solvee((2+i)*x**2-(5-i)*x+2-2*i))"
   ]
  },
  {
   "cell_type": "markdown",
   "id": "924c66aa",
   "metadata": {
    "heading_collapsed": true
   },
   "source": [
    "###### Вычислить\n",
    "&nbsp;&nbsp;&nbsp;&nbsp; $ -25 \\cdot\\frac{3i-9}{2+8i}-\\left( 3+5i \\right)^{2010} $"
   ]
  },
  {
   "cell_type": "code",
   "execution_count": 48,
   "id": "55186c6b",
   "metadata": {
    "ExecuteTime": {
     "end_time": "2023-05-14T14:22:53.824994Z",
     "start_time": "2023-05-14T14:22:53.668826Z"
    },
    "hidden": true
   },
   "outputs": [
    {
     "name": "stdout",
     "output_type": "stream",
     "text": [
      "[-2.0 + 1.0*I, 2.0 - 1.0*I]\n"
     ]
    }
   ],
   "source": [
    "x=Symbol(\"x\")\n",
    "\n",
    "i=complex(0,1)\n",
    "\n",
    "print(solve(x**2-3+4*i))"
   ]
  },
  {
   "cell_type": "markdown",
   "id": "e472ceb9",
   "metadata": {
    "heading_collapsed": true
   },
   "source": [
    "######  Вычислить\n",
    "&nbsp;&nbsp;&nbsp;&nbsp; <font size=5> $ -\\left( 3 + 5i \\right)^{10} - 25 \\cdot\\frac{3i-9}{2+8i} $ </font>"
   ]
  },
  {
   "cell_type": "code",
   "execution_count": 51,
   "id": "d278e59f",
   "metadata": {
    "ExecuteTime": {
     "end_time": "2023-05-14T14:25:48.831955Z",
     "start_time": "2023-05-14T14:25:48.798505Z"
    },
    "hidden": true
   },
   "outputs": [
    {
     "data": {
      "text/plain": [
       "(28984688.5+34989570.5j)"
      ]
     },
     "execution_count": 51,
     "metadata": {},
     "output_type": "execute_result"
    }
   ],
   "source": [
    "i = complex(0,1)\n",
    "\n",
    "-(3 + 5 * i)**10 - 25 * ( 3 * i - 9) / 2 + 8 * i"
   ]
  },
  {
   "cell_type": "markdown",
   "id": "fa6b68de",
   "metadata": {
    "heading_collapsed": true
   },
   "source": [
    "###### Найти модуль и аргумент (фазу) комплексного числа\n",
    "&nbsp;&nbsp;&nbsp;&nbsp; $z = 2 + 2 \\cdot \\sqrt{3} \\cdot i$"
   ]
  },
  {
   "cell_type": "code",
   "execution_count": 60,
   "id": "6afc24cf",
   "metadata": {
    "ExecuteTime": {
     "end_time": "2023-05-14T14:28:35.095227Z",
     "start_time": "2023-05-14T14:28:35.067457Z"
    },
    "hidden": true
   },
   "outputs": [
    {
     "data": {
      "text/plain": [
       "3.9999999999999996"
      ]
     },
     "execution_count": 60,
     "metadata": {},
     "output_type": "execute_result"
    }
   ],
   "source": [
    "abs(z)"
   ]
  },
  {
   "cell_type": "code",
   "execution_count": 59,
   "id": "2bd129a0",
   "metadata": {
    "ExecuteTime": {
     "end_time": "2023-05-14T14:28:32.809428Z",
     "start_time": "2023-05-14T14:28:32.774135Z"
    },
    "hidden": true
   },
   "outputs": [
    {
     "data": {
      "text/plain": [
       "60"
      ]
     },
     "execution_count": 59,
     "metadata": {},
     "output_type": "execute_result"
    }
   ],
   "source": [
    "import cmath\n",
    "z=complex(2,2*sqrt(3))\n",
    "\n",
    "cmath.phase(z)\n",
    "round(math.degrees(cmath.phase(z)))"
   ]
  },
  {
   "cell_type": "markdown",
   "id": "4aa7d6a6",
   "metadata": {
    "heading_collapsed": true
   },
   "source": [
    "###### Пусть $ z_{1} = -4 -9i $, $ z_2 = 1 - 8i $.\n",
    "Вычислите <font size=5> $ \\frac{z_1 - \\overline{z_{2}}}{\\overline{z_{1}}+z_{2}} $ </font>"
   ]
  },
  {
   "cell_type": "code",
   "execution_count": 73,
   "id": "85bc5809",
   "metadata": {
    "ExecuteTime": {
     "end_time": "2023-05-14T14:34:07.508897Z",
     "start_time": "2023-05-14T14:34:07.471433Z"
    },
    "hidden": true
   },
   "outputs": [
    {
     "data": {
      "text/plain": [
       "(-0.19999999999999982+5.6000000000000005j)"
      ]
     },
     "execution_count": 73,
     "metadata": {},
     "output_type": "execute_result"
    }
   ],
   "source": [
    "z1=complex(-4,-9)\n",
    "z2=complex(1,-8)\n",
    "\n",
    "complex(z1-conjugate(z2))/complex(z2+conjugate(z1))"
   ]
  },
  {
   "cell_type": "code",
   "execution_count": 74,
   "id": "dc92a880",
   "metadata": {
    "ExecuteTime": {
     "end_time": "2023-05-14T14:34:10.103268Z",
     "start_time": "2023-05-14T14:34:10.080190Z"
    },
    "hidden": true
   },
   "outputs": [
    {
     "name": "stdout",
     "output_type": "stream",
     "text": [
      "(-1.8648648648648647+0.1891891891891892j)\n"
     ]
    }
   ],
   "source": [
    "i=complex(0,1)\n",
    "print((1+2*i)*(-1+5*i)/(6-i))"
   ]
  },
  {
   "cell_type": "code",
   "execution_count": null,
   "id": "6b221ea1",
   "metadata": {
    "ExecuteTime": {
     "end_time": "2023-05-14T14:34:10.507566Z",
     "start_time": "2023-05-14T14:34:10.507444Z"
    },
    "hidden": true
   },
   "outputs": [],
   "source": [
    "z=complex(1,2)\n",
    "p=(1+3*i)*z**2+(-5+6*i)*z+(2-i)\n",
    "\n",
    "print(p)"
   ]
  }
 ],
 "metadata": {
  "hide_input": false,
  "kernelspec": {
   "display_name": "Python 3 (ipykernel)",
   "language": "python",
   "name": "python3"
  },
  "language_info": {
   "codemirror_mode": {
    "name": "ipython",
    "version": 3
   },
   "file_extension": ".py",
   "mimetype": "text/x-python",
   "name": "python",
   "nbconvert_exporter": "python",
   "pygments_lexer": "ipython3",
   "version": "3.10.6"
  },
  "nbTranslate": {
   "displayLangs": [
    "*"
   ],
   "hotkey": "alt-t",
   "langInMainMenu": true,
   "sourceLang": "en",
   "targetLang": "fr",
   "useGoogleTranslate": true
  },
  "toc": {
   "base_numbering": 1,
   "nav_menu": {},
   "number_sections": true,
   "sideBar": true,
   "skip_h1_title": false,
   "title_cell": "Table of Contents",
   "title_sidebar": "Contents",
   "toc_cell": false,
   "toc_position": {},
   "toc_section_display": true,
   "toc_window_display": false
  },
  "varInspector": {
   "cols": {
    "lenName": 16,
    "lenType": 16,
    "lenVar": 40
   },
   "kernels_config": {
    "python": {
     "delete_cmd_postfix": "",
     "delete_cmd_prefix": "del ",
     "library": "var_list.py",
     "varRefreshCmd": "print(var_dic_list())"
    },
    "r": {
     "delete_cmd_postfix": ") ",
     "delete_cmd_prefix": "rm(",
     "library": "var_list.r",
     "varRefreshCmd": "cat(var_dic_list()) "
    }
   },
   "types_to_exclude": [
    "module",
    "function",
    "builtin_function_or_method",
    "instance",
    "_Feature"
   ],
   "window_display": false
  }
 },
 "nbformat": 4,
 "nbformat_minor": 5
}
