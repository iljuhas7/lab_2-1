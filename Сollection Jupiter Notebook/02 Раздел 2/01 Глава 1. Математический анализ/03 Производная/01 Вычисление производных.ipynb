{
 "cells": [
  {
   "cell_type": "markdown",
   "id": "24b07ffa",
   "metadata": {},
   "source": [
    "# Вычисление производных"
   ]
  },
  {
   "cell_type": "markdown",
   "id": "652c7252",
   "metadata": {
    "ExecuteTime": {
     "end_time": "2023-05-14T17:38:06.819449Z",
     "start_time": "2023-05-14T17:38:06.776095Z"
    }
   },
   "source": [
    "Для вычисления производных используется библиотека sympy.\n",
    "Импорт модуля:"
   ]
  },
  {
   "cell_type": "code",
   "execution_count": 6,
   "id": "961965ac",
   "metadata": {
    "ExecuteTime": {
     "end_time": "2023-05-16T20:50:55.861927Z",
     "start_time": "2023-05-16T20:50:52.717851Z"
    }
   },
   "outputs": [],
   "source": [
    "from sympy import *"
   ]
  },
  {
   "cell_type": "markdown",
   "id": "3f783947",
   "metadata": {
    "heading_collapsed": true
   },
   "source": [
    "## Вычисление производной - функция diff(f,x,k)."
   ]
  },
  {
   "cell_type": "markdown",
   "id": "1e498866",
   "metadata": {
    "hidden": true
   },
   "source": [
    "Вычисляет производную $k$-го порядка функции $у = f(х)$ по переменной х.</br>\n",
    "</br>\n",
    "Параметры: </br>\n",
    "&nbsp;&nbsp;&nbsp;&nbsp; f - функция;</br>\n",
    "&nbsp;&nbsp;&nbsp;&nbsp; х - переменная, по которой берется производная,</br>\n",
    "&nbsp;&nbsp;&nbsp;&nbsp; к - необязательный параметр, порядок производной.</br>"
   ]
  },
  {
   "cell_type": "markdown",
   "id": "5ad78b47",
   "metadata": {
    "hidden": true
   },
   "source": [
    "### Пример:"
   ]
  },
  {
   "cell_type": "markdown",
   "id": "67fab496",
   "metadata": {
    "heading_collapsed": true,
    "hidden": true
   },
   "source": [
    "#### 1: Производная функции у = xcosx: $ y' = (x\\cos x)' = \\cos x - x\\sin x $"
   ]
  },
  {
   "cell_type": "code",
   "execution_count": 30,
   "id": "130c77bb",
   "metadata": {
    "ExecuteTime": {
     "end_time": "2023-05-16T11:37:18.321481Z",
     "start_time": "2023-05-16T11:37:18.240827Z"
    },
    "hidden": true
   },
   "outputs": [
    {
     "data": {
      "text/latex": [
       "$\\displaystyle - x \\sin{\\left(x \\right)} + \\cos{\\left(x \\right)}$"
      ],
      "text/plain": [
       "-x*sin(x) + cos(x)"
      ]
     },
     "execution_count": 30,
     "metadata": {},
     "output_type": "execute_result"
    }
   ],
   "source": [
    "''' Объявление символьной переменной '''\n",
    "x = symbols('x')\n",
    "            \n",
    "''' Функция у(х) '''\n",
    "y = x * cos(x)\n",
    "            \n",
    "''' Вычисление производной '''\n",
    "diff(x * cos(x), x)"
   ]
  },
  {
   "cell_type": "markdown",
   "id": "732df2ad",
   "metadata": {
    "heading_collapsed": true,
    "hidden": true
   },
   "source": [
    "#### 2: Производная 3-го порядка функции $y=\\ln x$ </br>\n",
    "&nbsp;&nbsp;&nbsp;&nbsp; $ (\\ln x)^{(3)}=\\frac{2}{x^{3}}.$"
   ]
  },
  {
   "cell_type": "code",
   "execution_count": 16,
   "id": "3f1dcff8",
   "metadata": {
    "ExecuteTime": {
     "end_time": "2023-05-15T18:24:07.582144Z",
     "start_time": "2023-05-15T18:24:07.538120Z"
    },
    "hidden": true
   },
   "outputs": [
    {
     "data": {
      "text/latex": [
       "$\\displaystyle \\frac{2}{x^{3}}$"
      ],
      "text/plain": [
       "2/x**3"
      ]
     },
     "execution_count": 16,
     "metadata": {},
     "output_type": "execute_result"
    }
   ],
   "source": [
    "x = symbols('x')\n",
    "y = x * cos(x)\n",
    "\n",
    "diff(log(x), x, 3) # либо diff(log(x), x, x, x)"
   ]
  },
  {
   "cell_type": "markdown",
   "id": "b5393aed",
   "metadata": {
    "heading_collapsed": true,
    "hidden": true
   },
   "source": [
    "#### 3: Найти значение $y''(10)$ для функции $t = \\lg^{3}(x^{3})$."
   ]
  },
  {
   "cell_type": "code",
   "execution_count": 17,
   "id": "a49acb1d",
   "metadata": {
    "ExecuteTime": {
     "end_time": "2023-05-15T18:24:08.721423Z",
     "start_time": "2023-05-15T18:24:08.666251Z"
    },
    "hidden": true
   },
   "outputs": [
    {
     "data": {
      "text/latex": [
       "$\\displaystyle - \\frac{9 \\left(-6 + \\log{\\left(1000 \\right)}\\right) \\log{\\left(1000 \\right)}}{100 \\log{\\left(10 \\right)}^{3}}$"
      ],
      "text/plain": [
       "-9*(-6 + log(1000))*log(1000)/(100*log(10)**3)"
      ]
     },
     "execution_count": 17,
     "metadata": {},
     "output_type": "execute_result"
    }
   ],
   "source": [
    "x = symbols('x')\n",
    "y = log(x**3,10)**3\n",
    "\n",
    "diff(y,x,2).subs(x,10)"
   ]
  },
  {
   "cell_type": "markdown",
   "id": "18c744e2",
   "metadata": {
    "hidden": true
   },
   "source": [
    "В некоторых случаях более простое выражение для ответа можно получить, применяя метод simplify ()."
   ]
  },
  {
   "cell_type": "code",
   "execution_count": 20,
   "id": "ac29274f",
   "metadata": {
    "ExecuteTime": {
     "end_time": "2023-05-15T18:24:32.027493Z",
     "start_time": "2023-05-15T18:24:31.905073Z"
    },
    "hidden": true
   },
   "outputs": [
    {
     "data": {
      "text/latex": [
       "$\\displaystyle \\frac{81 \\left(2 - \\log{\\left(10 \\right)}\\right)}{100 \\log{\\left(10 \\right)}^{2}}$"
      ],
      "text/plain": [
       "81*(2 - log(10))/(100*log(10)**2)"
      ]
     },
     "execution_count": 20,
     "metadata": {},
     "output_type": "execute_result"
    }
   ],
   "source": [
    "x = symbols('x')\n",
    "y = log(x**3, 10)**3\n",
    "\n",
    "diff(y,x,2).subs(x,10).simplify()"
   ]
  },
  {
   "cell_type": "markdown",
   "id": "0d156038",
   "metadata": {
    "ExecuteTime": {
     "end_time": "2023-05-15T18:24:36.519335Z",
     "start_time": "2023-05-15T18:24:36.489807Z"
    },
    "hidden": true
   },
   "source": [
    "Замечание.</br>\n",
    "> В Python наименование $\\log$ означает натуральный логарифм (логарифм по основанию $е$)."
   ]
  },
  {
   "cell_type": "markdown",
   "id": "c9ffd814",
   "metadata": {
    "heading_collapsed": true,
    "hidden": true
   },
   "source": [
    "#### 4: Решить уравнение $y'= 0$, где $y(x) = \\frac{x^{2}+x-6}{x^{2}-10x+25}$"
   ]
  },
  {
   "cell_type": "code",
   "execution_count": 24,
   "id": "ab1e5eaf",
   "metadata": {
    "ExecuteTime": {
     "end_time": "2023-05-15T18:28:36.239466Z",
     "start_time": "2023-05-15T18:28:36.176066Z"
    },
    "hidden": true
   },
   "outputs": [
    {
     "data": {
      "text/latex": [
       "$\\displaystyle \\frac{\\left(10 - 2 x\\right) \\left(x^{2} + x - 6\\right)}{\\left(x^{2} - 10 x + 25\\right)^{2}} + \\frac{2 x + 1}{x^{2} - 10 x + 25}$"
      ],
      "text/plain": [
       "(10 - 2*x)*(x**2 + x - 6)/(x**2 - 10*x + 25)**2 + (2*x + 1)/(x**2 - 10*x + 25)"
      ]
     },
     "execution_count": 24,
     "metadata": {},
     "output_type": "execute_result"
    }
   ],
   "source": [
    "x = symbols('x')\n",
    "\n",
    "''' Производная: '''\n",
    "y = (x**2+x-6)/(x**2-10*x+25)\n",
    "z = diff(y,x)\n",
    "z"
   ]
  },
  {
   "cell_type": "code",
   "execution_count": 26,
   "id": "8d39900a",
   "metadata": {
    "ExecuteTime": {
     "end_time": "2023-05-15T18:28:46.059607Z",
     "start_time": "2023-05-15T18:28:45.976075Z"
    },
    "hidden": true
   },
   "outputs": [
    {
     "data": {
      "text/plain": [
       "[7/11]"
      ]
     },
     "execution_count": 26,
     "metadata": {},
     "output_type": "execute_result"
    }
   ],
   "source": [
    "''' Решение уравнения '''\n",
    "solve(z, x)"
   ]
  },
  {
   "cell_type": "markdown",
   "id": "bf8dfaf7",
   "metadata": {
    "heading_collapsed": true
   },
   "source": [
    "## Производная неявной функции"
   ]
  },
  {
   "cell_type": "markdown",
   "id": "a961bbb2",
   "metadata": {
    "hidden": true
   },
   "source": [
    "**Производная неявной функции** - функция idiff(eq, у, х, п=1).</br>\n",
    "Вычисляет производную $n$-го порядка переменной $у$ по переменной $х$ в предположении, что эти переменные связаны уравнением\n",
    "вида: eq = 0.</br>\n",
    "</br>\n",
    "Параметры: </br>\n",
    "eq - уравнение, связывающее зависимую и независимую переменную, приведенное к виду с нулевой правой частью; </br>\n",
    "у - зависимая переменная, функция, от которой требуется найти производную; </br>\n",
    "х - независимая переменная, по которой берется производная;</br>\n",
    "п - порядок производной (по умолчанию 1)."
   ]
  },
  {
   "cell_type": "markdown",
   "id": "51381be5",
   "metadata": {
    "heading_collapsed": true,
    "hidden": true
   },
   "source": [
    "### Пример:"
   ]
  },
  {
   "cell_type": "markdown",
   "id": "cbf32639",
   "metadata": {
    "hidden": true
   },
   "source": [
    "Наити первую производную $\\frac{dy}{dx}$ и вторую производную для функции, заданной неявно в виде уравнения: $x^{2}+y^{2}=4$."
   ]
  },
  {
   "cell_type": "markdown",
   "id": "bedd76ca",
   "metadata": {
    "hidden": true
   },
   "source": [
    "Решение. Имеем: $F(x, y)=x^{2}+y^{2}-4; y'=\\frac{F'x}{F'y}=-\\frac{2x}{2y}=-\\frac{x}{y}$"
   ]
  },
  {
   "cell_type": "code",
   "execution_count": 43,
   "id": "3dc655a2",
   "metadata": {
    "ExecuteTime": {
     "end_time": "2023-05-15T21:16:09.397771Z",
     "start_time": "2023-05-15T21:16:09.296039Z"
    },
    "hidden": true
   },
   "outputs": [
    {
     "data": {
      "text/latex": [
       "$\\displaystyle - \\frac{x}{y}$"
      ],
      "text/plain": [
       "-x/y"
      ]
     },
     "execution_count": 43,
     "metadata": {},
     "output_type": "execute_result"
    }
   ],
   "source": [
    "x, y = symbols('x y')\n",
    "f = x**2 + y**2 - 4\n",
    "idiff(f, y, x)"
   ]
  },
  {
   "cell_type": "markdown",
   "id": "74a8d929",
   "metadata": {
    "hidden": true
   },
   "source": [
    "Вторая производная."
   ]
  },
  {
   "cell_type": "code",
   "execution_count": 44,
   "id": "90f7e477",
   "metadata": {
    "ExecuteTime": {
     "end_time": "2023-05-15T21:16:28.976972Z",
     "start_time": "2023-05-15T21:16:28.728490Z"
    },
    "hidden": true
   },
   "outputs": [
    {
     "data": {
      "text/latex": [
       "$\\displaystyle \\frac{- \\frac{x^{2}}{y} - y}{y^{2}}$"
      ],
      "text/plain": [
       "(-x**2/y - y)/y**2"
      ]
     },
     "execution_count": 44,
     "metadata": {},
     "output_type": "execute_result"
    }
   ],
   "source": [
    "x, y = symbols('x y')\n",
    "f = x**2 + y**2 - 4\n",
    "idiff(f, y, x, 2)"
   ]
  },
  {
   "cell_type": "markdown",
   "id": "1011ab70",
   "metadata": {
    "ExecuteTime": {
     "end_time": "2023-05-15T21:16:30.052575Z",
     "start_time": "2023-05-15T21:16:30.024541Z"
    },
    "hidden": true
   },
   "source": [
    "Ответ можно попытаться упростить. Для этого нужно использовать метод .simplify ()"
   ]
  },
  {
   "cell_type": "code",
   "execution_count": 46,
   "id": "d39e3cbe",
   "metadata": {
    "ExecuteTime": {
     "end_time": "2023-05-15T21:16:47.938728Z",
     "start_time": "2023-05-15T21:16:47.507961Z"
    },
    "hidden": true
   },
   "outputs": [
    {
     "data": {
      "text/latex": [
       "$\\displaystyle - \\frac{x^{2} + y^{2}}{y^{3}}$"
      ],
      "text/plain": [
       "-(x**2 + y**2)/y**3"
      ]
     },
     "execution_count": 46,
     "metadata": {},
     "output_type": "execute_result"
    }
   ],
   "source": [
    "idiff(f, y, x, 2).simplify()"
   ]
  },
  {
   "cell_type": "markdown",
   "id": "651dfecf",
   "metadata": {
    "heading_collapsed": true
   },
   "source": [
    "## Производная функции, заданной в параметрической форме"
   ]
  },
  {
   "cell_type": "markdown",
   "id": "0a933743",
   "metadata": {
    "hidden": true
   },
   "source": [
    "Вычисляется с использованием функции diff()."
   ]
  },
  {
   "cell_type": "markdown",
   "id": "a0b7a6a0",
   "metadata": {
    "heading_collapsed": true,
    "hidden": true
   },
   "source": [
    "### Пример:"
   ]
  },
  {
   "cell_type": "markdown",
   "id": "ec662b85",
   "metadata": {
    "hidden": true
   },
   "source": [
    "Найти $y'_{x}$ и $y''_{xx}$ для функции, заданной в параметрической форме:</br></br>\n",
    "$\n",
    "\\left\\{\\begin{matrix}\n",
    "x = t - \\sin t, \\\\\n",
    "y = 1 - \\cos t.\n",
    "\\end{matrix}\\right.\n",
    "$\n",
    "\n",
    "Для решения используем формулы, выражающие производную функции по переменной $х$ через обычные производные по переменной $t$:</br></br>\n",
    "\n",
    "<div style=\"text-align: center;\"> <font size=5>$ y'_{x} = \\frac{y'_{t}}{y'_{t}}=\\frac{\\sin t}{1-\\cos t}; y''=\\frac{(y'_{x})'_{t}}{x'_{t}}=\\frac{1}{1-\\cos t} $</font></div>"
   ]
  },
  {
   "cell_type": "code",
   "execution_count": 50,
   "id": "5f98805d",
   "metadata": {
    "ExecuteTime": {
     "end_time": "2023-05-15T21:29:17.261921Z",
     "start_time": "2023-05-15T21:29:17.241178Z"
    },
    "hidden": true
   },
   "outputs": [],
   "source": [
    "t = symbols('t')\n",
    "\n",
    "x = t - sin(t)\n",
    "y = 1 - cos(t)"
   ]
  },
  {
   "cell_type": "code",
   "execution_count": null,
   "id": "81600ac1",
   "metadata": {
    "ExecuteTime": {
     "end_time": "2023-05-15T21:29:17.832592Z",
     "start_time": "2023-05-15T21:29:17.832452Z"
    },
    "hidden": true
   },
   "outputs": [],
   "source": [
    "''' Первая производная '''\n",
    "y_diff = diff(y,t)/diff(x,t)\n",
    "y_diff"
   ]
  },
  {
   "cell_type": "code",
   "execution_count": null,
   "id": "f6ef1be0",
   "metadata": {
    "ExecuteTime": {
     "end_time": "2023-05-15T21:29:17.991272Z",
     "start_time": "2023-05-15T21:29:17.991131Z"
    },
    "hidden": true
   },
   "outputs": [],
   "source": [
    "''' Вторая производная '''\n",
    "y_2diff = diff(y_diff, t)/diff(x, t)\n",
    "y_2diff.simplify()"
   ]
  },
  {
   "cell_type": "markdown",
   "id": "899cd9ef",
   "metadata": {
    "heading_collapsed": true
   },
   "source": [
    "## Односторонняя производная"
   ]
  },
  {
   "cell_type": "markdown",
   "id": "a0746d10",
   "metadata": {
    "heading_collapsed": true,
    "hidden": true
   },
   "source": [
    "### Пример:"
   ]
  },
  {
   "cell_type": "markdown",
   "id": "ac69eba2",
   "metadata": {
    "hidden": true
   },
   "source": [
    "Найти левую и правую производные функции $f(x)$ в точке ее разрыва, если</br></br>\n",
    "$\n",
    "f(x) = \n",
    "\\left\\{\\begin{matrix}\n",
    "\\mathrm{arctg}\\left(\\frac{1}{x}\\right), & x \\neq0 \\\\\n",
    "-\\frac{\\pi}{2}, & x = 0. \n",
    "\\end{matrix}\\right.\n",
    "$</br>\n",
    "</br>\n",
    "Решение. Точкой разрыва является значение $х = 0$. График функции:"
   ]
  },
  {
   "cell_type": "code",
   "execution_count": 55,
   "id": "998dbdd9",
   "metadata": {
    "ExecuteTime": {
     "end_time": "2023-05-15T21:41:02.871500Z",
     "start_time": "2023-05-15T21:41:01.927664Z"
    },
    "hidden": true
   },
   "outputs": [
    {
     "data": {
      "image/png": "[encoded data removed]",
      "text/plain": [
       "<Figure size 640x480 with 1 Axes>"
      ]
     },
     "metadata": {},
     "output_type": "display_data"
    }
   ],
   "source": [
    "''' Построим график с учетом того, что функция не существует в точке x=0 '''\n",
    "import numpy as np\n",
    "import matplotlib.pyplot as plt\n",
    "\n",
    "%matplotlib inline\n",
    "x = np.linspace(-2,2,500)\n",
    "\n",
    "''' В узкий интервал около нуля записываем значения NaN '''\n",
    "x[(x>-0.01) & (x < 0.01)] = np.nan\n",
    "y = np.arctan(1/x)\n",
    "\n",
    "plt.plot(x,y)\n",
    "plt.vlines(0, -1.6, 1.6, color='g', linestyles='dashed')\n",
    "plt.show()"
   ]
  },
  {
   "cell_type": "markdown",
   "id": "2bdfc58b",
   "metadata": {
    "hidden": true
   },
   "source": [
    "Найдем выражение для производной, а затем для полученного выражения вычислим пределы слева и справа при $x \\to 0$"
   ]
  },
  {
   "cell_type": "code",
   "execution_count": 59,
   "id": "e0927daf",
   "metadata": {
    "ExecuteTime": {
     "end_time": "2023-05-15T21:42:16.595516Z",
     "start_time": "2023-05-15T21:42:16.568085Z"
    },
    "hidden": true
   },
   "outputs": [],
   "source": [
    "''' Производная '''\n",
    "x = symbols('x')\n",
    "y = atan(1 / x)\n",
    "z = diff(y, x)"
   ]
  },
  {
   "cell_type": "code",
   "execution_count": 62,
   "id": "2153d266",
   "metadata": {
    "ExecuteTime": {
     "end_time": "2023-05-15T21:42:32.446553Z",
     "start_time": "2023-05-15T21:42:32.409640Z"
    },
    "hidden": true
   },
   "outputs": [
    {
     "data": {
      "text/latex": [
       "$\\displaystyle -1$"
      ],
      "text/plain": [
       "-1"
      ]
     },
     "execution_count": 62,
     "metadata": {},
     "output_type": "execute_result"
    }
   ],
   "source": [
    "''' Значение производной в точке х = 0 слева '''\n",
    "limit(z, x, 0, dir='+')"
   ]
  },
  {
   "cell_type": "code",
   "execution_count": 61,
   "id": "94e6c89d",
   "metadata": {
    "ExecuteTime": {
     "end_time": "2023-05-15T21:42:28.724353Z",
     "start_time": "2023-05-15T21:42:28.690027Z"
    },
    "hidden": true
   },
   "outputs": [
    {
     "data": {
      "text/latex": [
       "$\\displaystyle -1$"
      ],
      "text/plain": [
       "-1"
      ]
     },
     "execution_count": 61,
     "metadata": {},
     "output_type": "execute_result"
    }
   ],
   "source": [
    "''' Значение производной справа '''\n",
    "limit(z, x, 0, dir=\"+\")"
   ]
  },
  {
   "cell_type": "markdown",
   "id": "cdf37a5e",
   "metadata": {
    "heading_collapsed": true
   },
   "source": [
    "## Применение производной при исследовании функции"
   ]
  },
  {
   "cell_type": "markdown",
   "id": "1e4bb5f9",
   "metadata": {
    "heading_collapsed": true,
    "hidden": true
   },
   "source": [
    "### Уравнение касательной"
   ]
  },
  {
   "cell_type": "markdown",
   "id": "6169948a",
   "metadata": {
    "hidden": true
   },
   "source": [
    "Уравнение касательной к графику функции $у = f(х)$ в точке с абсциссой $х_{0}$ имеет вид:</br></br>\n",
    "<div style=\"text-align: center;\"> <font size=5>$ y = f'(x_{0})(x-x_{0})+f(x_{0}) $</font></div>\n",
    "</br>\n",
    "Угловой коэффициент наклона касательной: $k = f'(x_{0}) = \\tan\\infty>$ где $\\infty$- угол, образованный касательной с положительным направлением оси абсцисс $Ox$, $\\infty=\\mathrm{arctg} f'(x_{0})$.</br>\n",
    "</br>\n",
    "Нормалью к кривой называется прямая, перпендикулярная касательной, проведенная в точке касания.</br>\n",
    "</br>"
   ]
  },
  {
   "cell_type": "markdown",
   "id": "c9b188b1",
   "metadata": {
    "heading_collapsed": true,
    "hidden": true
   },
   "source": [
    "#### Пример:"
   ]
  },
  {
   "cell_type": "markdown",
   "id": "f0a57fdd",
   "metadata": {
    "heading_collapsed": true,
    "hidden": true
   },
   "source": [
    "##### 1: Провести касательную к графику функции $у = х^{2}$ в точке с абсциссой $x_{0}=2$"
   ]
  },
  {
   "cell_type": "code",
   "execution_count": 20,
   "id": "09777707",
   "metadata": {
    "ExecuteTime": {
     "end_time": "2023-05-16T11:34:09.335190Z",
     "start_time": "2023-05-16T11:34:09.303932Z"
    },
    "hidden": true
   },
   "outputs": [],
   "source": [
    "# Функции для раздела «Производная»: tangent()\n",
    "def tangent(y, x0):\n",
    "    '''' Строит уравнение касательной\n",
    "        к графику функции у(х) в точке\n",
    "        с абсциссой х0 '''\n",
    "    ''' (х0;у0) - точка касания '''\n",
    "    y0 = y.subs(x, x0)\n",
    "\n",
    "    ''' Касательная с уравнением у = kx+b\n",
    "        проходит через точку М(х0;у0), а также\n",
    "        через точку N(x0+l;y0+k) (к -\n",
    "        угловой коэффициент)'''\n",
    "    x1 = x0 + 1\n",
    "    \n",
    "    ''' Производная функции у при х=х0 '''\n",
    "    k = diff(y,x).subs(x,x0)\n",
    "    y1 = y0 + k\n",
    "\n",
    "    ''' Касательная - это прямая, проходящая\n",
    "    через точки М и N'''\n",
    "    return Line((x0,y0), (x1,y1))"
   ]
  },
  {
   "cell_type": "code",
   "execution_count": 71,
   "id": "3c375282",
   "metadata": {
    "ExecuteTime": {
     "end_time": "2023-05-15T21:57:24.147007Z",
     "start_time": "2023-05-15T21:57:24.034795Z"
    },
    "hidden": true
   },
   "outputs": [
    {
     "data": {
      "text/latex": [
       "$\\displaystyle - 4 x + y + 4$"
      ],
      "text/plain": [
       "-4*x + y + 4"
      ]
     },
     "execution_count": 71,
     "metadata": {},
     "output_type": "execute_result"
    }
   ],
   "source": [
    "x = symbols('х')\n",
    "y = x**2\n",
    "x0 = 2\n",
    "\n",
    "''' Метод equation() позволяет вывести общее уравнение прямой '''\n",
    "tangent(y, x0).equation()"
   ]
  },
  {
   "cell_type": "code",
   "execution_count": 73,
   "id": "48597fdb",
   "metadata": {
    "ExecuteTime": {
     "end_time": "2023-05-15T22:00:47.447372Z",
     "start_time": "2023-05-15T22:00:46.549123Z"
    },
    "hidden": true
   },
   "outputs": [
    {
     "data": {
      "image/png": "[encoded data removed]",
      "text/plain": [
       "<Figure size 640x480 with 1 Axes>"
      ]
     },
     "metadata": {},
     "output_type": "display_data"
    }
   ],
   "source": [
    "''' Графическая иллюстрация '''\n",
    "import numpy as пр\n",
    "\n",
    "''' График функции '''\n",
    "x = np.linspace(-3,4,50)\n",
    "y1 = x**2\n",
    "plt.plot(x,y1,lw=2,c='b')\n",
    "\n",
    "''' График касательной '''\n",
    "x = np.linspace(-1,4,50)\n",
    "y2 = 4*x - 4\n",
    "plt.plot(x,y2,c='r')\n",
    "\n",
    "plt.xlabel('х')\n",
    "plt.ylabel('у')\n",
    "\n",
    "''' Сетка '''\n",
    "plt.grid(True, linestyle='-', color='0.4')\n",
    "\n",
    "plt.show()"
   ]
  },
  {
   "cell_type": "markdown",
   "id": "7863b52a",
   "metadata": {
    "heading_collapsed": true,
    "hidden": true
   },
   "source": [
    "##### 2: Найти уравнение касательной и нормали к графику функции $ y = 6^{2}\\sqrt{x}+2\\sqrt{x}$ в точке с абсциссой $ x_{0} = 64$"
   ]
  },
  {
   "cell_type": "code",
   "execution_count": 78,
   "id": "b92eeb67",
   "metadata": {
    "ExecuteTime": {
     "end_time": "2023-05-15T22:09:14.479992Z",
     "start_time": "2023-05-15T22:09:14.335865Z"
    },
    "hidden": true
   },
   "outputs": [
    {
     "data": {
      "text/latex": [
       "$\\displaystyle - \\frac{x}{4} + y - 24$"
      ],
      "text/plain": [
       "-x/4 + y - 24"
      ]
     },
     "execution_count": 78,
     "metadata": {},
     "output_type": "execute_result"
    }
   ],
   "source": [
    "x = symbols('x')\n",
    "y = 6*x**(1/3) + 2*sqrt(x)\n",
    "\n",
    "x0 = 64\n",
    "\n",
    "''' y0 '''\n",
    "y0 = y.subs(x,x0)\n",
    "\n",
    "''' Касательная '''\n",
    "l = tangent(y, 64)\n",
    "l.equation()"
   ]
  },
  {
   "cell_type": "markdown",
   "id": "4c558699",
   "metadata": {
    "ExecuteTime": {
     "end_time": "2023-05-15T22:03:47.712580Z",
     "start_time": "2023-05-15T22:03:47.686109Z"
    },
    "hidden": true
   },
   "source": [
    "Нормаль - прямая, проходящая через точку касания перпендикулярно касательной."
   ]
  },
  {
   "cell_type": "code",
   "execution_count": 84,
   "id": "b19a1884",
   "metadata": {
    "ExecuteTime": {
     "end_time": "2023-05-15T22:11:40.103508Z",
     "start_time": "2023-05-15T22:11:40.048243Z"
    },
    "hidden": true
   },
   "outputs": [
    {
     "data": {
      "text/latex": [
       "$\\displaystyle - x - \\frac{y}{4} + 74$"
      ],
      "text/plain": [
       "-x - y/4 + 74"
      ]
     },
     "execution_count": 84,
     "metadata": {},
     "output_type": "execute_result"
    }
   ],
   "source": [
    "''' Нормаль '''\n",
    "p = Point(x0,y0)\n",
    "l.perpendicular_line(p).equation()"
   ]
  },
  {
   "cell_type": "code",
   "execution_count": 85,
   "id": "83838247",
   "metadata": {
    "ExecuteTime": {
     "end_time": "2023-05-15T22:11:54.976541Z",
     "start_time": "2023-05-15T22:11:54.103073Z"
    },
    "hidden": true
   },
   "outputs": [
    {
     "data": {
      "image/png": "[encoded data removed]",
      "text/plain": [
       "<Figure size 640x480 with 1 Axes>"
      ]
     },
     "metadata": {},
     "output_type": "display_data"
    }
   ],
   "source": [
    "x = np.linspace(0,120,50)\n",
    "y1 = 6*x**(1/3) + 2*x**(1/2)\n",
    "plt.plot(x,y1,lw=2,c='r')\n",
    "x = np.linspace(10,120,50)\n",
    "y2 = x/4 + 24\n",
    "plt.plot(x,y2,'--',lw=2,c='b')\n",
    "x = np.linspace(60,70,50)\n",
    "y3 = 296 - 4*x\n",
    "plt.plot(x,y3,'-.',lw=2,c='g')\n",
    "plt.xlabel('x')\n",
    "plt.ylabel('y')\n",
    "plt.grid(True, linestyle='-', color='0.4')\n",
    "plt.axis('equal')\n",
    "plt.show()"
   ]
  },
  {
   "cell_type": "markdown",
   "id": "4b4e4420",
   "metadata": {
    "heading_collapsed": true,
    "hidden": true
   },
   "source": [
    "##### 3: Из точки $A = (-4; 0)$ провести касательную к кривой $y=\\sqrt{x}$"
   ]
  },
  {
   "cell_type": "code",
   "execution_count": 111,
   "id": "3a0e1e5f",
   "metadata": {
    "ExecuteTime": {
     "end_time": "2023-05-15T22:37:39.228836Z",
     "start_time": "2023-05-15T22:37:39.183303Z"
    },
    "hidden": true
   },
   "outputs": [],
   "source": [
    "# Функции для раздела «Производная»: tangent_from_point()\n",
    "def tangent_from_point(y, x1, y1):\n",
    "    ''' у - уравнение кривой; (x1;y1yl) -\n",
    "        точка, черев которую должна пройти\n",
    "        касательная; (x0;y0) - точка касания '''\n",
    "    x, x0, y0 = symbols('x x0 y0')\n",
    "    \n",
    "    ''' Производная y при x=x0 '''\n",
    "    y_diff = diff(y, x).subs(x, x0)\n",
    "    ''' Уравнение касательной '''\n",
    "    \n",
    "    y_tang = y_diff*(x-x0) + y0\n",
    "    \n",
    "    ''' Кривая у(х) проходит через точку касания (х1;у0) 1'''\n",
    "    first_eq = y.subs(x, x0) - y0\n",
    "    \n",
    "    ''' Касательна проходит через точку (x1;y1) '''\n",
    "    second_eq = y_tang.subs(x, x1) - y1\n",
    "    \n",
    "    ''' Решаем систему '''\n",
    "    res = solve([first_eq, second_eq], [x0, y0], dict=True)\n",
    "    if len(res) == 1: # одна касательная\n",
    "        x01 = res[0][x0]\n",
    "        y01 = res[0][y0]\n",
    "        return Line((x01,y01), (x1,y1))\n",
    "    \n",
    "    else: # две касательных\n",
    "        x021 = res[0][x0]; y021 = res[0][y0]\n",
    "        x022 = res[1][x0]; y022 = res[1][y0]\n",
    "        return Line((x021,y021), (x1, y1)), Line((x022,y022), (x1, y1))"
   ]
  },
  {
   "cell_type": "code",
   "execution_count": 112,
   "id": "8da14ccd",
   "metadata": {
    "ExecuteTime": {
     "end_time": "2023-05-15T22:37:41.643202Z",
     "start_time": "2023-05-15T22:37:41.185939Z"
    },
    "hidden": true
   },
   "outputs": [
    {
     "data": {
      "text/latex": [
       "$\\displaystyle 2 x - 8 y + 8$"
      ],
      "text/plain": [
       "2*x - 8*y + 8"
      ]
     },
     "execution_count": 112,
     "metadata": {},
     "output_type": "execute_result"
    }
   ],
   "source": [
    "x1, y1, x = symbols('x1, y1 x')\n",
    "x1 = -4\n",
    "y1 = 0\n",
    "\n",
    "y = sqrt(x)\n",
    "\n",
    "tangent_from_point(y,x1,y1).equation()"
   ]
  },
  {
   "cell_type": "code",
   "execution_count": 113,
   "id": "de72a1f9",
   "metadata": {
    "ExecuteTime": {
     "end_time": "2023-05-15T22:38:01.893792Z",
     "start_time": "2023-05-15T22:38:00.994659Z"
    },
    "hidden": true
   },
   "outputs": [
    {
     "data": {
      "image/png": "[encoded data removed]",
      "text/plain": [
       "<Figure size 640x480 with 1 Axes>"
      ]
     },
     "metadata": {},
     "output_type": "display_data"
    }
   ],
   "source": [
    "''' Графическая иллюстрация '''\n",
    "x = np.linspace(0,7,50)\n",
    "y1 = np.sqrt(x)\n",
    "plt.plot(x,y1,lw=2,c='b')\n",
    "\n",
    "x = np.linspace(-4,7,50)\n",
    "y2 = x/4 + 1\n",
    "plt.plot(x,y2,c='r')\n",
    "\n",
    "plt.xlabel('x')\n",
    "plt.ylabel('y')\n",
    "plt.grid (True, linestyle='-', color='0.4')\n",
    "plt.show()"
   ]
  },
  {
   "cell_type": "markdown",
   "id": "0690ac2e",
   "metadata": {
    "heading_collapsed": true,
    "hidden": true
   },
   "source": [
    "### Исследование функции"
   ]
  },
  {
   "cell_type": "markdown",
   "id": "128caa65",
   "metadata": {
    "hidden": true
   },
   "source": [
    "Для исследования характера поведения функции при помощи производных используются теоремы: </br>\n",
    "1. В точке экстремума $у'(х) = 0$\n",
    "2. Функция возрастает (убывает), если $у'(х) > 0 < 0.$\n",
    "3. В точке перегиба $у\"(х) = 0.$\n",
    "4. Функция выпукла вниз (вверх), если $у\"(х) > 0 < 0.$\n",
    "\n",
    "Графическая иллюстрация приведенных свойств:\n"
   ]
  },
  {
   "cell_type": "code",
   "execution_count": 115,
   "id": "a1d1587d",
   "metadata": {
    "ExecuteTime": {
     "end_time": "2023-05-15T22:40:01.204860Z",
     "start_time": "2023-05-15T22:39:59.682079Z"
    },
    "hidden": true
   },
   "outputs": [
    {
     "data": {
      "image/png": "[encoded data removed]",
      "text/plain": [
       "<Figure size 640x480 with 1 Axes>"
      ]
     },
     "metadata": {},
     "output_type": "display_data"
    }
   ],
   "source": [
    "t = np.linspace(-1.5, 5, 100)\n",
    "f = t**3 - 5*t**2 + 5\n",
    "fd = 3*t**2 - 10*t\n",
    "fdd = 6*t - 10\n",
    "plt.plot(t,f,lw=2,color='red',label = \"$y(x)$\")\n",
    "plt.plot(t,fd,'--',lw=2,color='b',label = \"$y^{'}(x)$\")\n",
    "plt.plot(t,fdd, '-.', color='g',label = \"$y^{''}(x)$\")\n",
    "plt.plot([0], [0], 'o', color='y')\n",
    "plt.plot([0], [5], 'o', color='y')\n",
    "plt.plot([3.3], [0], 'o', color='y')\n",
    "plt.plot([3.3], [-13.4], 'o', color='y')\n",
    "plt.plot([1.65], [0], 'o', color='b')\n",
    "plt.plot([1.65], [-4], 'o', color='b')\n",
    "plt.grid(True, linestyle='-', color='0.4')\n",
    "plt.legend()\n",
    "plt.show()"
   ]
  },
  {
   "cell_type": "markdown",
   "id": "902e00c0",
   "metadata": {
    "hidden": true
   },
   "source": [
    "На графике:</br>\n",
    "При $x \\in (-\\infty;0) $ и $x \\in (3,3;0)$ функция $y(x)$ возрастает и производная $y'(x) > 0$ . </br>\n",
    "$\\quad$ В интервале (0;3,3) функция убывает, и $у'(х) < 0 .$</br>\n",
    "$\\quad$ В интервале $x \\in (-\\infty;1,65) $ функция выпукла вверх и $у\"(х) < 0$; </br>\n",
    "$\\quad$ В интервале (1,65; оо) функция выпукла вниз, и $у\"(х)>0$.</br>\n",
    "$\\quad$ В интервале $x \\in (-\\infty;1,65)$  функция $у'(х)$ убывает, и ее производная, функция $у\"(х) > 0$ отрицательна.</br>\n",
    "$\\quad$ В интервале $(1,65;\\infty)$ функция у'(х) возрастает, и функция у''(х) положительна.</br>"
   ]
  },
  {
   "cell_type": "markdown",
   "id": "baa73007",
   "metadata": {
    "heading_collapsed": true
   },
   "source": [
    "## Экстремум функции одной переменной"
   ]
  },
  {
   "cell_type": "markdown",
   "id": "3db293c5",
   "metadata": {
    "hidden": true
   },
   "source": [
    "### Функция minimize()"
   ]
  },
  {
   "cell_type": "markdown",
   "id": "dbb97514",
   "metadata": {
    "hidden": true
   },
   "source": [
    "Функция minimize - ищет минимум функции одним из итерационных методов, начиная с заданного начального значения."
   ]
  },
  {
   "cell_type": "markdown",
   "id": "c82ae765",
   "metadata": {
    "hidden": true
   },
   "source": [
    "scipy.optimize.minimize (fun, x0, args=(), method=None, jac=None, hess=None)</br>\n",
    "\n",
    "Параметры:</br>\n",
    "$\\quad$ fun - функция (произвольного числа переменных $k$) fiin(x, *args), для которой разыскивается минимум;</br>\n",
    "$\\quad$ x0 - масив длины $k$, начальные значения для процесса итераций;</br>\n",
    "$\\quad$ args - параметры, необходимые для полного задания функции (в виде кортежа);</br>\n",
    "$\\quad$ method - метод поиска минимума;</br>\n",
    "$\\quad$ jac - метод для вычисления градиента, hess - метод для вычисления гессиана Возвращает: объект res; </br>\n",
    "$\\quad$ главные атрибуты: х - решение в виде массива;</br>\n",
    "$\\quad$ success - флаг, указывающий на успешное завершение поиска;</br>\n",
    "$\\quad$ message - сообщение, содержащее причину завершения поиска</br>"
   ]
  },
  {
   "cell_type": "code",
   "execution_count": 116,
   "id": "7767e751",
   "metadata": {
    "ExecuteTime": {
     "end_time": "2023-05-15T22:48:55.849427Z",
     "start_time": "2023-05-15T22:48:55.808711Z"
    },
    "hidden": true
   },
   "outputs": [],
   "source": [
    "from scipy.optimize import minimize"
   ]
  },
  {
   "cell_type": "markdown",
   "id": "ecb2ee80",
   "metadata": {
    "heading_collapsed": true,
    "hidden": true
   },
   "source": [
    "### Функция solve()"
   ]
  },
  {
   "cell_type": "markdown",
   "id": "65213a14",
   "metadata": {
    "hidden": true
   },
   "source": [
    "Функция solve() - ищет корни уравнения или системы уравнений. Для поиска экстремума функции одной переменной основано на признаках экстремума."
   ]
  },
  {
   "cell_type": "markdown",
   "id": "b8da3826",
   "metadata": {
    "heading_collapsed": true,
    "hidden": true
   },
   "source": [
    "#### Необходимый признак."
   ]
  },
  {
   "cell_type": "markdown",
   "id": "029ccc95",
   "metadata": {
    "hidden": true
   },
   "source": [
    "Для того, чтобы дифференцируемая функция $f(х)$ имела в точке $х_{0}$ экстремум, необходимо, чтобы в этой точке производная функции равнялась нулю: $f(x_{0}) = 0$. Точка, в которой производная обращается в нуль, называется критической (или стационарной)."
   ]
  },
  {
   "cell_type": "markdown",
   "id": "41370aa0",
   "metadata": {
    "heading_collapsed": true,
    "hidden": true
   },
   "source": [
    "#### Достаточный признак."
   ]
  },
  {
   "cell_type": "markdown",
   "id": "730b38e5",
   "metadata": {
    "hidden": true
   },
   "source": [
    "Если функция $f(х)$ дважды дифференцируема в некоторой точке $x_{0}$ и в этой точке $f'(х0) = 0$, a $f''(x_{0}) \\neq 0$, то в точке $x_{0}$ функция достигает экстремума, причем максимума, если $f''(х_{0}) < 0$, и минимума, если $f''(x_{0}) > 0$.</br>\n",
    "</br>\n",
    "sympy.solve (f, symbols)</br>\n",
    "</br>\n",
    "Параметры: </br>\n",
    "$\\quad$ f- выражение, для которого ищется решение;</br>\n",
    "$\\quad$ symbols (не обязательный) - объект, относительно которого ищется решение."
   ]
  },
  {
   "cell_type": "code",
   "execution_count": 119,
   "id": "8d5ba01a",
   "metadata": {
    "ExecuteTime": {
     "end_time": "2023-05-15T23:36:55.188584Z",
     "start_time": "2023-05-15T23:36:55.166145Z"
    },
    "hidden": true
   },
   "outputs": [],
   "source": [
    "from sympy import *"
   ]
  },
  {
   "cell_type": "markdown",
   "id": "8a9f4ace",
   "metadata": {
    "heading_collapsed": true,
    "hidden": true
   },
   "source": [
    "#### Пример"
   ]
  },
  {
   "cell_type": "markdown",
   "id": "c3a3704d",
   "metadata": {
    "heading_collapsed": true,
    "hidden": true
   },
   "source": [
    "##### 1: Решить неравенство $x^{2}<3$"
   ]
  },
  {
   "cell_type": "code",
   "execution_count": 5,
   "id": "3ffafe2c",
   "metadata": {
    "ExecuteTime": {
     "end_time": "2023-05-16T20:00:51.454125Z",
     "start_time": "2023-05-16T20:00:49.367630Z"
    },
    "hidden": true
   },
   "outputs": [
    {
     "data": {
      "text/latex": [
       "$\\displaystyle - \\sqrt{3} < x \\wedge x < \\sqrt{3}$"
      ],
      "text/plain": [
       "(x < sqrt(3)) & (-sqrt(3) < x)"
      ]
     },
     "execution_count": 5,
     "metadata": {},
     "output_type": "execute_result"
    }
   ],
   "source": [
    "from sympy import *\n",
    "\n",
    "x, у = symbols('x у')\n",
    "\n",
    "solve(x**2 < 3)"
   ]
  },
  {
   "cell_type": "markdown",
   "id": "7608e3a5",
   "metadata": {
    "heading_collapsed": true,
    "hidden": true
   },
   "source": [
    "##### 2: Решить уравнение $х^{2} - у^{2} = 0$ относительно переменной $х$."
   ]
  },
  {
   "cell_type": "code",
   "execution_count": null,
   "id": "0bfa49c1",
   "metadata": {
    "ExecuteTime": {
     "end_time": "2023-05-16T11:32:46.451905Z",
     "start_time": "2023-05-16T11:32:46.451740Z"
    },
    "hidden": true
   },
   "outputs": [],
   "source": [
    "from sympy import *\n",
    "\n",
    "x, y = symbols(['x', 'y'])\n",
    "\n",
    "solve(x**2 - у**2, x)"
   ]
  },
  {
   "cell_type": "markdown",
   "id": "2333ceb6",
   "metadata": {
    "heading_collapsed": true,
    "hidden": true
   },
   "source": [
    "##### 3: Исследовать на экстремум функцию $y = e^{-x}-e^{-2x}$.\n"
   ]
  },
  {
   "cell_type": "markdown",
   "id": "8660422b",
   "metadata": {
    "heading_collapsed": true,
    "hidden": true
   },
   "source": [
    "######\n",
    "Решение в библиотеке scipy"
   ]
  },
  {
   "cell_type": "code",
   "execution_count": 9,
   "id": "d648b6af",
   "metadata": {
    "ExecuteTime": {
     "end_time": "2023-05-16T20:01:09.202397Z",
     "start_time": "2023-05-16T20:01:09.181397Z"
    },
    "hidden": true
   },
   "outputs": [],
   "source": [
    "f = lambda x: np.exp(-x) - np.exp(-2*x)"
   ]
  },
  {
   "cell_type": "code",
   "execution_count": 10,
   "id": "2e8e76f2",
   "metadata": {
    "ExecuteTime": {
     "end_time": "2023-05-16T20:01:11.131914Z",
     "start_time": "2023-05-16T20:01:10.114683Z"
    },
    "hidden": true
   },
   "outputs": [
    {
     "data": {
      "image/png": "[encoded data removed]",
      "text/plain": [
       "<Figure size 640x480 with 1 Axes>"
      ]
     },
     "metadata": {},
     "output_type": "display_data"
    }
   ],
   "source": [
    "import numpy as np\n",
    "import matplotlib.pyplot as plt\n",
    "\n",
    "''' График '''\n",
    "x = np.linspace(0.1,4,50)\n",
    "plt.plot(x, f(x), 'r')\n",
    "plt.xlabel('x')\n",
    "plt.ylabel('y')\n",
    "plt.grid(True, linestyle='-', color='0.4')\n",
    "plt.show()"
   ]
  },
  {
   "cell_type": "code",
   "execution_count": 11,
   "id": "5e13562c",
   "metadata": {
    "ExecuteTime": {
     "end_time": "2023-05-16T20:01:13.424886Z",
     "start_time": "2023-05-16T20:01:13.359348Z"
    },
    "hidden": true
   },
   "outputs": [
    {
     "name": "stdout",
     "output_type": "stream",
     "text": [
      "x_max: 0.693 f_max: 0.250\n"
     ]
    }
   ],
   "source": [
    "''' Максимум. В точке приблизительно: x = 0.5. Максимум функции f ищем как минимум функции -f '''\n",
    "from scipy.optimize import minimize\n",
    "\n",
    "f = lambda x: np.exp(-x) - np.exp(-2*x)\n",
    "f_max = lambda x: -(np.exp(-x) - np.exp(-2*x))\n",
    "res = minimize(f_max, -2)\n",
    "\n",
    "print('x_max: %.3f f_max: %.3f' % (res.x, f(res.x)) )"
   ]
  },
  {
   "cell_type": "code",
   "execution_count": null,
   "id": "17db7196",
   "metadata": {
    "ExecuteTime": {
     "end_time": "2023-05-16T11:54:07.149039Z",
     "start_time": "2023-05-16T11:54:07.148912Z"
    },
    "hidden": true
   },
   "outputs": [],
   "source": [
    "# Завершился ли поиск успешно?\n",
    "res.success"
   ]
  },
  {
   "cell_type": "code",
   "execution_count": 91,
   "id": "43ff15da",
   "metadata": {
    "ExecuteTime": {
     "end_time": "2023-05-16T11:54:07.428368Z",
     "start_time": "2023-05-16T11:54:07.395830Z"
    },
    "hidden": true
   },
   "outputs": [
    {
     "data": {
      "text/plain": [
       "      fun: -0.24999999999945666\n",
       " hess_inv: array([[1.98553383]])\n",
       "      jac: array([-7.26431608e-07])\n",
       "  message: 'Optimization terminated successfully.'\n",
       "     nfev: 26\n",
       "      nit: 12\n",
       "     njev: 13\n",
       "   status: 0\n",
       "  success: True\n",
       "        x: array([0.69314571])"
      ]
     },
     "execution_count": 91,
     "metadata": {},
     "output_type": "execute_result"
    }
   ],
   "source": [
    "# Полная информация\n",
    "res"
   ]
  },
  {
   "cell_type": "markdown",
   "id": "31d66548",
   "metadata": {
    "heading_collapsed": true,
    "hidden": true
   },
   "source": [
    "######\n",
    "Решение в библиотеке sympy"
   ]
  },
  {
   "cell_type": "code",
   "execution_count": 145,
   "id": "80d5cb9c",
   "metadata": {
    "ExecuteTime": {
     "end_time": "2023-05-16T12:32:16.501116Z",
     "start_time": "2023-05-16T12:32:16.363484Z"
    },
    "hidden": true
   },
   "outputs": [
    {
     "name": "stdout",
     "output_type": "stream",
     "text": [
      "x0: 0.693 y(x0): 0.250\n"
     ]
    }
   ],
   "source": [
    "x = Symbol('x') # В книга нет строка кода, иначе вызывает исключение \n",
    "y = exp(-x) - exp(-2*x)\n",
    "\n",
    "''' Находим критические точки. (Вычисляем\n",
    "производные с помощью функции diff(),\n",
    "Решаем систему, приравнивая\n",
    "производные к нулю). '''\n",
    "\n",
    "''' Функция solve возвращает решение\n",
    "в виде списка. Для получения корня\n",
    "берем значение списка с индексом 0. '''\n",
    "\n",
    "x0 = solve(diff(y,x))[0]\n",
    "print('x0: %.3f y(x0): %.3f' % (x0, y.subs(x, x0)))"
   ]
  },
  {
   "cell_type": "code",
   "execution_count": 146,
   "id": "c7061164",
   "metadata": {
    "ExecuteTime": {
     "end_time": "2023-05-16T12:32:17.536258Z",
     "start_time": "2023-05-16T12:32:17.478826Z"
    },
    "hidden": true
   },
   "outputs": [
    {
     "data": {
      "text/latex": [
       "$\\displaystyle - \\frac{1}{2}$"
      ],
      "text/plain": [
       "-1/2"
      ]
     },
     "execution_count": 146,
     "metadata": {},
     "output_type": "execute_result"
    }
   ],
   "source": [
    "x = Symbol('x')\n",
    "y = exp(-x) - exp(-2*x)\n",
    "\n",
    "''' Вторая производная\n",
    "в критической точке: '''\n",
    "\n",
    "diff(y,x,2).subs(x,x0)"
   ]
  },
  {
   "cell_type": "markdown",
   "id": "0f378079",
   "metadata": {
    "hidden": true
   },
   "source": [
    "Вторая производная в критической точке отрицательна. Найден максимум.</br>\n",
    "Ответ: $f_{max} = f(0,693) = 0,25$"
   ]
  },
  {
   "cell_type": "markdown",
   "id": "b35f0f4c",
   "metadata": {
    "heading_collapsed": true,
    "hidden": true
   },
   "source": [
    "##### 4: Исследовать на экстремум функцию  $y = x^{3}$.\n"
   ]
  },
  {
   "cell_type": "code",
   "execution_count": 149,
   "id": "f19cd4ed",
   "metadata": {
    "ExecuteTime": {
     "end_time": "2023-05-16T12:32:33.177499Z",
     "start_time": "2023-05-16T12:32:33.127120Z"
    },
    "hidden": true
   },
   "outputs": [
    {
     "name": "stdout",
     "output_type": "stream",
     "text": [
      "x0: 0.000 y(x0): 0.000\n"
     ]
    }
   ],
   "source": [
    "x = Symbol('x') \n",
    "y = x**3\n",
    "x0 = solve(diff(y,x))[0]\n",
    "\n",
    "print('x0: %.3f y(x0): %.3f' % (x0, y.subs(x, x0)))"
   ]
  },
  {
   "cell_type": "code",
   "execution_count": 150,
   "id": "b985f5e7",
   "metadata": {
    "ExecuteTime": {
     "end_time": "2023-05-16T12:32:34.907270Z",
     "start_time": "2023-05-16T12:32:34.864882Z"
    },
    "hidden": true
   },
   "outputs": [
    {
     "data": {
      "text/latex": [
       "$\\displaystyle 0$"
      ],
      "text/plain": [
       "0"
      ]
     },
     "execution_count": 150,
     "metadata": {},
     "output_type": "execute_result"
    }
   ],
   "source": [
    "''' Вторая производная в критической точке: '''\n",
    "diff(y,x,2).subs(x,x0)"
   ]
  },
  {
   "cell_type": "markdown",
   "id": "bacad6ce",
   "metadata": {
    "hidden": true
   },
   "source": [
    "Вторая производная в критической точке равна 0. Для выяснения характера критической точки используем признак: если в критической точке $f'(x_{0}) = f''(x_{0}) = 0$, а $ f'''(x_{0} \\neq 0)$, то $x_{0}$ является точкой перегиба."
   ]
  },
  {
   "cell_type": "code",
   "execution_count": 151,
   "id": "bb93bded",
   "metadata": {
    "ExecuteTime": {
     "end_time": "2023-05-16T12:33:16.424598Z",
     "start_time": "2023-05-16T12:33:16.386355Z"
    },
    "hidden": true
   },
   "outputs": [
    {
     "data": {
      "text/latex": [
       "$\\displaystyle 6$"
      ],
      "text/plain": [
       "6"
      ]
     },
     "execution_count": 151,
     "metadata": {},
     "output_type": "execute_result"
    }
   ],
   "source": [
    "''' Третья производная в критической точке: '''\n",
    "diff(y, x, 3).subs(x, x0)"
   ]
  },
  {
   "cell_type": "markdown",
   "id": "a70bc82e",
   "metadata": {
    "hidden": true
   },
   "source": [
    "$х = 0$ - точка перегиба."
   ]
  },
  {
   "cell_type": "code",
   "execution_count": 143,
   "id": "08866ef8",
   "metadata": {
    "ExecuteTime": {
     "end_time": "2023-05-16T12:32:08.681530Z",
     "start_time": "2023-05-16T12:32:07.580904Z"
    },
    "hidden": true
   },
   "outputs": [
    {
     "data": {
      "image/png": "[encoded data removed]",
      "text/plain": [
       "<Figure size 640x480 with 1 Axes>"
      ]
     },
     "metadata": {},
     "output_type": "display_data"
    }
   ],
   "source": [
    "x = np.linspace(-1,1,50)\n",
    "plt.plot(x, x**3, 'r')\n",
    "plt.xlabel('X')\n",
    "plt.ylabel('Y')\n",
    "plt.grid(True, linestyle='-', color='0.4')\n",
    "plt.show()"
   ]
  },
  {
   "cell_type": "markdown",
   "id": "ef483292",
   "metadata": {
    "hidden": true
   },
   "source": [
    "##### 5: Найти экстремум функции  $y = \\frac{x^{3}+3x^{2}-1}{x^{2}+1}$.\n"
   ]
  },
  {
   "cell_type": "code",
   "execution_count": 153,
   "id": "b57a256f",
   "metadata": {
    "ExecuteTime": {
     "end_time": "2023-05-16T12:35:23.423233Z",
     "start_time": "2023-05-16T12:35:22.518323Z"
    },
    "hidden": true
   },
   "outputs": [
    {
     "data": {
      "image/png": "[encoded data removed]",
      "text/plain": [
       "<Figure size 640x480 with 1 Axes>"
      ]
     },
     "metadata": {},
     "output_type": "display_data"
    }
   ],
   "source": [
    "f = lambda x: (x**3+3*x**2-1) / (x**2+1)\n",
    "\n",
    "x = np.linspace(-3,2,50)\n",
    "plt.plot(x, f(x), 'r')\n",
    "plt.xlabel('X')\n",
    "plt.ylabel('Y')\n",
    "plt.grid(True, linestyle='-', color='0.4')\n",
    "plt.show()"
   ]
  },
  {
   "cell_type": "markdown",
   "id": "d36fb186",
   "metadata": {
    "hidden": true
   },
   "source": [
    "Ищем экстремумы, выбирая в качестве начальных точек значения: $х_{0} = -2$ и $x_{0} = 1$. Около точки $х0 = -2$, как показывает график, нужно искать точку максимума"
   ]
  },
  {
   "cell_type": "code",
   "execution_count": 156,
   "id": "24e079ce",
   "metadata": {
    "ExecuteTime": {
     "end_time": "2023-05-16T12:37:16.887908Z",
     "start_time": "2023-05-16T12:37:16.849420Z"
    },
    "hidden": true
   },
   "outputs": [
    {
     "name": "stdout",
     "output_type": "stream",
     "text": [
      "x_min: 0.000 fmin: -1.000\n"
     ]
    }
   ],
   "source": [
    "''' 1. Минимум '''\n",
    "res = minimize(f, 1)\n",
    "print('x_min: %.3f fmin: %.3f' % (res.x, f(res.x)))"
   ]
  },
  {
   "cell_type": "code",
   "execution_count": 158,
   "id": "aed1dd7c",
   "metadata": {
    "ExecuteTime": {
     "end_time": "2023-05-16T12:37:26.784769Z",
     "start_time": "2023-05-16T12:37:26.744105Z"
    },
    "hidden": true
   },
   "outputs": [
    {
     "name": "stdout",
     "output_type": "stream",
     "text": [
      "x_max: -1.513 f max: 0.731\n"
     ]
    }
   ],
   "source": [
    "''' 2. Максимум функции f ищем как минимум функции -f '''\n",
    "f_max = lambda х: -(х**3+3*х**2-1) / (х**2+1)\n",
    "res = minimize(f_max, -2)\n",
    "print('x_max: %.3f f max: %.3f' % (res.x, f(res.x)))"
   ]
  },
  {
   "cell_type": "markdown",
   "id": "89960a42",
   "metadata": {
    "hidden": true
   },
   "source": [
    "Ответ:</br>\n",
    "$x_{min}=0$;</br>\n",
    "$x_{max}= -1.513$"
   ]
  },
  {
   "cell_type": "markdown",
   "id": "b51d22a9",
   "metadata": {
    "heading_collapsed": true
   },
   "source": [
    "## Наибольшее и наименьшее значения на отрезке"
   ]
  },
  {
   "cell_type": "markdown",
   "id": "821dba9a",
   "metadata": {
    "hidden": true
   },
   "source": [
    "Наибольшее и наименьшее значения функции на заданном отрезке ищут по следующей схеме:\n",
    "- внутри отрезка определяют критические точки и вычисляют в них значения функции;\n",
    "- находят значения функции на концах отрезка;\n",
    "- среди всех найденных значений находят максимальное и минимальное."
   ]
  },
  {
   "cell_type": "markdown",
   "id": "84d12638",
   "metadata": {
    "hidden": true
   },
   "source": [
    "#### Пример"
   ]
  },
  {
   "cell_type": "markdown",
   "id": "56f6f05f",
   "metadata": {
    "heading_collapsed": true,
    "hidden": true
   },
   "source": [
    "##### 1: Найти наибольшее и наименьшее значения функции $f(х)$ на отрезке\n",
    "$f(x)=^{3}\\sqrt{2(x+1)^{2}(5-x)}-2; x \\in [-3;3]$"
   ]
  },
  {
   "cell_type": "code",
   "execution_count": 160,
   "id": "8b1e2c60",
   "metadata": {
    "ExecuteTime": {
     "end_time": "2023-05-16T12:44:17.028271Z",
     "start_time": "2023-05-16T12:44:16.054411Z"
    },
    "hidden": true
   },
   "outputs": [
    {
     "data": {
      "image/png": "[encoded data removed]",
      "text/plain": [
       "<Figure size 640x480 with 1 Axes>"
      ]
     },
     "metadata": {},
     "output_type": "display_data"
    }
   ],
   "source": [
    "''' График функции на заданном отрезке '''\n",
    "fun = lambda x: np.cbrt(2*(x+1)**2*(5-x)) - 2\n",
    "х = np.linspace(-3, 3, 100)\n",
    "plt.xlabel('X')\n",
    "plt.ylabel('Y')\n",
    "plt.plot(x, fun(x), 'r')\n",
    "plt.grid(True, linestyle='-', color='0.4')\n",
    "plt.show()"
   ]
  },
  {
   "cell_type": "markdown",
   "id": "43918193",
   "metadata": {
    "hidden": true
   },
   "source": [
    "Внутри отрезка $[-3;3]$ единственный экстремум (минимум). Находим его"
   ]
  },
  {
   "cell_type": "code",
   "execution_count": 163,
   "id": "fbff2a09",
   "metadata": {
    "ExecuteTime": {
     "end_time": "2023-05-16T12:44:49.808465Z",
     "start_time": "2023-05-16T12:44:49.701210Z"
    },
    "hidden": true
   },
   "outputs": [
    {
     "name": "stdout",
     "output_type": "stream",
     "text": [
      "x_min: -0.490\n"
     ]
    }
   ],
   "source": [
    "# 1.\n",
    "res = minimize(fun, -1.5)\n",
    "print('x_min: %.3f' % res.x)"
   ]
  },
  {
   "cell_type": "markdown",
   "id": "dc371ff2",
   "metadata": {
    "hidden": true
   },
   "source": [
    "Это явно неверное решение. В точке $x = - 1$ функция имеет бесконечную производную и сходимость решений очень медленная. \n",
    "Возьмем начальное значение, близкое к предполагаемому значению"
   ]
  },
  {
   "cell_type": "code",
   "execution_count": 165,
   "id": "3835eb89",
   "metadata": {
    "ExecuteTime": {
     "end_time": "2023-05-16T12:45:52.889729Z",
     "start_time": "2023-05-16T12:45:52.783116Z"
    },
    "hidden": true
   },
   "outputs": [
    {
     "name": "stdout",
     "output_type": "stream",
     "text": [
      "xmin: -1.001\n"
     ]
    }
   ],
   "source": [
    "res = minimize(fun, -1.001)\n",
    "print('xmin: %.3f' % res.x)"
   ]
  },
  {
   "cell_type": "markdown",
   "id": "ec818fc0",
   "metadata": {
    "hidden": true
   },
   "source": [
    "Предполагая, что точное решение: $х = -1$, возьмем его в качестве начального значения."
   ]
  },
  {
   "cell_type": "code",
   "execution_count": 168,
   "id": "29e7a628",
   "metadata": {
    "ExecuteTime": {
     "end_time": "2023-05-16T12:47:02.504163Z",
     "start_time": "2023-05-16T12:47:02.366406Z"
    },
    "hidden": true
   },
   "outputs": [
    {
     "name": "stdout",
     "output_type": "stream",
     "text": [
      "x_min: -1.000\n"
     ]
    }
   ],
   "source": [
    "res = minimize(fun, -1.0)\n",
    "print('x_min: %.3f' % res.x)"
   ]
  },
  {
   "cell_type": "code",
   "execution_count": 172,
   "id": "0eb767db",
   "metadata": {
    "ExecuteTime": {
     "end_time": "2023-05-16T12:47:41.857256Z",
     "start_time": "2023-05-16T12:47:41.824507Z"
    },
    "hidden": true
   },
   "outputs": [
    {
     "data": {
      "text/plain": [
       "array([-2.])"
      ]
     },
     "execution_count": 172,
     "metadata": {},
     "output_type": "execute_result"
    }
   ],
   "source": [
    "''' 1. Значение функции в точке минимума: '''\n",
    "fun(res.x)"
   ]
  },
  {
   "cell_type": "code",
   "execution_count": 173,
   "id": "b3ce1a88",
   "metadata": {
    "ExecuteTime": {
     "end_time": "2023-05-16T12:47:49.300584Z",
     "start_time": "2023-05-16T12:47:49.276449Z"
    },
    "hidden": true
   },
   "outputs": [
    {
     "name": "stdout",
     "output_type": "stream",
     "text": [
      "у(-З): 2.000 у(3): 2.000\n"
     ]
    }
   ],
   "source": [
    "''' 2. Значения функции на концах отрезка : '''\n",
    "print('у(-З): %.3f у(3): %.3f' % (fun(-3), fun(3)))"
   ]
  },
  {
   "cell_type": "markdown",
   "id": "ae2d10c6",
   "metadata": {
    "hidden": true
   },
   "source": [
    "Ответ:</br> \n",
    "наименьшее значение:$-2$, </br> \n",
    "наибольшее значение: $2$."
   ]
  },
  {
   "cell_type": "markdown",
   "id": "a19fd797",
   "metadata": {
    "heading_collapsed": true,
    "hidden": true
   },
   "source": [
    "##### 2: Найти точки перегиба и исследовать характер выпуклости кривой $y = x^{4}(12\\ln x - 7)$"
   ]
  },
  {
   "cell_type": "code",
   "execution_count": 175,
   "id": "f4edc30c",
   "metadata": {
    "ExecuteTime": {
     "end_time": "2023-05-16T12:53:12.642727Z",
     "start_time": "2023-05-16T12:53:11.598276Z"
    },
    "hidden": true
   },
   "outputs": [
    {
     "data": {
      "image/png": "[encoded data removed]",
      "text/plain": [
       "<Figure size 640x480 with 1 Axes>"
      ]
     },
     "metadata": {},
     "output_type": "display_data"
    }
   ],
   "source": [
    "f = lambda х: х**4 * (12*np.log(x) - 7)\n",
    "x = np.linspace(0.001,2,50)\n",
    "plt.plot(x, f(x), 'r')\n",
    "plt.xlabel('X')\n",
    "plt.ylabel('Y')\n",
    "plt.grid(True, linestyle='-', color='0.4')\n",
    "plt.show()"
   ]
  },
  {
   "cell_type": "code",
   "execution_count": 178,
   "id": "7ca523ca",
   "metadata": {
    "ExecuteTime": {
     "end_time": "2023-05-16T12:53:37.386240Z",
     "start_time": "2023-05-16T12:53:37.324114Z"
    },
    "hidden": true
   },
   "outputs": [
    {
     "data": {
      "text/latex": [
       "$\\displaystyle 144 x^{2} \\log{\\left(x \\right)}$"
      ],
      "text/plain": [
       "144*x**2*log(x)"
      ]
     },
     "execution_count": 178,
     "metadata": {},
     "output_type": "execute_result"
    }
   ],
   "source": [
    "x = symbols('x')\n",
    "y = x**4 * (12*log(x) - 7)\n",
    "\n",
    "''' Вычисляем вторую производную '''\n",
    "y_2deriv = diff(y,x,2)\n",
    "y_2deriv"
   ]
  },
  {
   "cell_type": "code",
   "execution_count": 180,
   "id": "bc865a9b",
   "metadata": {
    "ExecuteTime": {
     "end_time": "2023-05-16T12:54:02.949266Z",
     "start_time": "2023-05-16T12:54:02.590906Z"
    },
    "hidden": true
   },
   "outputs": [
    {
     "data": {
      "text/plain": [
       "[0, 1]"
      ]
     },
     "execution_count": 180,
     "metadata": {},
     "output_type": "execute_result"
    }
   ],
   "source": [
    "''' Находим корни второй производной '''\n",
    "x_inflex = solve(y_2deriv, x)\n",
    "x_inflex"
   ]
  },
  {
   "cell_type": "markdown",
   "id": "cea1bcf2",
   "metadata": {
    "hidden": true
   },
   "source": [
    "$x = 0$ находится на границе области определения функции. </br>\n",
    "Точка перегиба: $х = 1.$ Это можно заключить и из графика. Но можно и\n",
    "проверить, что третья производная отлична от нуля."
   ]
  },
  {
   "cell_type": "code",
   "execution_count": 182,
   "id": "2bb01873",
   "metadata": {
    "ExecuteTime": {
     "end_time": "2023-05-16T12:54:53.360528Z",
     "start_time": "2023-05-16T12:54:53.303910Z"
    },
    "hidden": true
   },
   "outputs": [
    {
     "data": {
      "text/latex": [
       "$\\displaystyle 144$"
      ],
      "text/plain": [
       "144"
      ]
     },
     "execution_count": 182,
     "metadata": {},
     "output_type": "execute_result"
    }
   ],
   "source": [
    "diff(y,x,3).subs(x, 1)"
   ]
  },
  {
   "cell_type": "markdown",
   "id": "395a9793",
   "metadata": {
    "hidden": true
   },
   "source": [
    "Характер выпуклости определяем по графику, или используем признак: если вторая производная отрицательна во всех точках интервала, то в этом интервале функция выпукла вверх; если положительна - выпукла вниз."
   ]
  },
  {
   "cell_type": "code",
   "execution_count": 184,
   "id": "040ffcbf",
   "metadata": {
    "ExecuteTime": {
     "end_time": "2023-05-16T12:55:13.279577Z",
     "start_time": "2023-05-16T12:55:13.253815Z"
    },
    "hidden": true
   },
   "outputs": [
    {
     "name": "stdout",
     "output_type": "stream",
     "text": [
      "слева: -12.3 справа: 16.6\n"
     ]
    }
   ],
   "source": [
    "print('слева: %.1f справа: %.1f' % (y_2deriv.subs(x,0.9), y_2deriv.subs(x,1.1)))"
   ]
  },
  {
   "cell_type": "markdown",
   "id": "acf41533",
   "metadata": {
    "hidden": true
   },
   "source": [
    "На интервале $(0;1) $ - выпукла вверх, на интервале $(1;\\infty)$ - выпукла вниз"
   ]
  },
  {
   "cell_type": "markdown",
   "id": "1f6cd393",
   "metadata": {
    "heading_collapsed": true,
    "hidden": true
   },
   "source": [
    "##### 3: Провести полное исследование функции $ y = \\frac{x^{2}-16}{5(x+5)}$"
   ]
  },
  {
   "cell_type": "markdown",
   "id": "642cc24e",
   "metadata": {
    "hidden": true
   },
   "source": [
    "Для решения используем библиотеку sympy."
   ]
  },
  {
   "cell_type": "code",
   "execution_count": 189,
   "id": "253e9243",
   "metadata": {
    "ExecuteTime": {
     "end_time": "2023-05-16T12:58:28.673788Z",
     "start_time": "2023-05-16T12:58:27.630138Z"
    },
    "hidden": true
   },
   "outputs": [
    {
     "data": {
      "image/png": "[encoded data removed]",
      "text/plain": [
       "<Figure size 640x480 with 1 Axes>"
      ]
     },
     "metadata": {},
     "output_type": "display_data"
    }
   ],
   "source": [
    "from sympy import *\n",
    "\n",
    "x = symbols('x')\n",
    "y = (x**2-16)/(5*(x+5))\n",
    "\n",
    "''' Предварительный график. Строим с учетом того, что х=-5 не входит в область определения '''\n",
    "f = lambda x: (x**2-16)/(5*(x+5))\n",
    "x = np.linspace(-12,4.6,100)\n",
    "x[(x>-5.2) & (x < -4.8)] = np.nan\n",
    "y = f(x)\n",
    "plt.plot(x,y,lw=2,color='red')\n",
    "\n",
    "plt.grid(True, linestyle='-', color='0.4')\n",
    "plt.show()"
   ]
  },
  {
   "cell_type": "markdown",
   "id": "f410cace",
   "metadata": {
    "hidden": true
   },
   "source": [
    "1. Область определения: х Ф - 5.\n",
    "2. Пересечение с осями"
   ]
  },
  {
   "cell_type": "code",
   "execution_count": 214,
   "id": "9f990fa7",
   "metadata": {
    "ExecuteTime": {
     "end_time": "2023-05-16T13:07:35.792637Z",
     "start_time": "2023-05-16T13:07:35.756534Z"
    },
    "hidden": true
   },
   "outputs": [
    {
     "data": {
      "text/latex": [
       "$\\displaystyle - \\frac{16}{25}$"
      ],
      "text/plain": [
       "-16/25"
      ]
     },
     "execution_count": 214,
     "metadata": {},
     "output_type": "execute_result"
    }
   ],
   "source": [
    "x = symbols('x')\n",
    "y = (x**2-16)/(5*(x+5))\n",
    "\n",
    "''' Ось Oy: '''\n",
    "y.subs(x,0)"
   ]
  },
  {
   "cell_type": "code",
   "execution_count": 215,
   "id": "b62cc8be",
   "metadata": {
    "ExecuteTime": {
     "end_time": "2023-05-16T13:07:36.979681Z",
     "start_time": "2023-05-16T13:07:36.918427Z"
    },
    "hidden": true
   },
   "outputs": [
    {
     "data": {
      "text/plain": [
       "[-4, 4]"
      ]
     },
     "execution_count": 215,
     "metadata": {},
     "output_type": "execute_result"
    }
   ],
   "source": [
    "x = symbols('x')\n",
    "y = (x**2-16)/(5*(x+5))\n",
    "\n",
    "''' Ось Ох: '''\n",
    "solve(y, x)"
   ]
  },
  {
   "cell_type": "markdown",
   "id": "61aea67a",
   "metadata": {
    "hidden": true
   },
   "source": [
    "3. Асимптоты."
   ]
  },
  {
   "cell_type": "code",
   "execution_count": 216,
   "id": "1c8d39ee",
   "metadata": {
    "ExecuteTime": {
     "end_time": "2023-05-16T13:07:38.626061Z",
     "start_time": "2023-05-16T13:07:38.585784Z"
    },
    "hidden": true
   },
   "outputs": [
    {
     "data": {
      "text/latex": [
       "$\\displaystyle \\infty$"
      ],
      "text/plain": [
       "oo"
      ]
     },
     "execution_count": 216,
     "metadata": {},
     "output_type": "execute_result"
    }
   ],
   "source": [
    "limit(y, x, -5)"
   ]
  },
  {
   "cell_type": "markdown",
   "id": "ac17d931",
   "metadata": {
    "ExecuteTime": {
     "end_time": "2023-05-16T13:03:33.084318Z",
     "start_time": "2023-05-16T13:03:33.053706Z"
    },
    "hidden": true
   },
   "source": [
    "За. Вертикальные (вида $х = х_{0}$). В область определения не входит значение $х = -5$. Предел при $х \\to 5$:"
   ]
  },
  {
   "cell_type": "code",
   "execution_count": 223,
   "id": "5c6af06f",
   "metadata": {
    "ExecuteTime": {
     "end_time": "2023-05-16T13:09:54.887311Z",
     "start_time": "2023-05-16T13:09:54.846676Z"
    },
    "hidden": true
   },
   "outputs": [
    {
     "data": {
      "text/latex": [
       "$\\displaystyle \\infty$"
      ],
      "text/plain": [
       "oo"
      ]
     },
     "execution_count": 223,
     "metadata": {},
     "output_type": "execute_result"
    }
   ],
   "source": [
    "limit(y, x, -5)"
   ]
  },
  {
   "cell_type": "markdown",
   "id": "0bca200e",
   "metadata": {
    "hidden": true
   },
   "source": [
    "Предел бесконечный, следовательно, $х = -5$ - вертикальная асимптота."
   ]
  },
  {
   "cell_type": "code",
   "execution_count": 225,
   "id": "df558b47",
   "metadata": {
    "ExecuteTime": {
     "end_time": "2023-05-16T13:10:04.797909Z",
     "start_time": "2023-05-16T13:10:04.759629Z"
    },
    "hidden": true
   },
   "outputs": [
    {
     "data": {
      "text/latex": [
       "$\\displaystyle \\infty$"
      ],
      "text/plain": [
       "oo"
      ]
     },
     "execution_count": 225,
     "metadata": {},
     "output_type": "execute_result"
    }
   ],
   "source": [
    "''' 3b. Горизонтальные (вида у = у0). '''\n",
    "limit(y, x, oo)"
   ]
  },
  {
   "cell_type": "markdown",
   "id": "93e3aa81",
   "metadata": {
    "hidden": true
   },
   "source": [
    "Предел при $х \\to \\infty$ бесконечный, следовательно, горизонтальной асимптоты нет."
   ]
  },
  {
   "cell_type": "code",
   "execution_count": 229,
   "id": "67f4c87f",
   "metadata": {
    "ExecuteTime": {
     "end_time": "2023-05-16T13:10:43.778101Z",
     "start_time": "2023-05-16T13:10:43.740904Z"
    },
    "hidden": true
   },
   "outputs": [
    {
     "data": {
      "text/latex": [
       "$\\displaystyle \\frac{1}{5}$"
      ],
      "text/plain": [
       "1/5"
      ]
     },
     "execution_count": 229,
     "metadata": {},
     "output_type": "execute_result"
    }
   ],
   "source": [
    "''' Зс. Наклонные (вида у = kx+b)'''\n",
    "k = limit(y/x, x, oo)\n",
    "k"
   ]
  },
  {
   "cell_type": "markdown",
   "id": "734f2989",
   "metadata": {
    "ExecuteTime": {
     "end_time": "2023-05-16T13:10:30.073461Z",
     "start_time": "2023-05-16T13:10:30.045030Z"
    },
    "hidden": true
   },
   "source": [
    "Коэффициент $k$ - не конечный, следовательно, наклонной асимптоты нет."
   ]
  },
  {
   "cell_type": "markdown",
   "id": "ba2bd16d",
   "metadata": {
    "heading_collapsed": true
   },
   "source": [
    "## Частные производные"
   ]
  },
  {
   "cell_type": "markdown",
   "id": "2a37d0b4",
   "metadata": {
    "ExecuteTime": {
     "end_time": "2023-05-16T13:11:33.770058Z",
     "start_time": "2023-05-16T13:11:33.753264Z"
    },
    "heading_collapsed": true,
    "hidden": true
   },
   "source": [
    "### Функция diff(f, x, k, у, m,...)"
   ]
  },
  {
   "cell_type": "markdown",
   "id": "c0a187fc",
   "metadata": {
    "ExecuteTime": {
     "start_time": "2023-05-16T13:12:01.682Z"
    },
    "hidden": true
   },
   "source": [
    "Параметры:</br>\n",
    "    f - функция от переменных х, у, ...; </br>\n",
    "    k, т, ... - порядок производной по соответствующей переменной."
   ]
  },
  {
   "cell_type": "markdown",
   "id": "db2c13ad",
   "metadata": {
    "hidden": true
   },
   "source": [
    "#### Пример"
   ]
  },
  {
   "cell_type": "markdown",
   "id": "34e2fab2",
   "metadata": {
    "heading_collapsed": true,
    "hidden": true
   },
   "source": [
    "##### 1: Вычислить частные производные $\\frac{d^{2}z}{dx^{2}}$ и $\\frac{d^{2}z}{dy^{2}}$ функции $ z = xy^{2} + e ^{-x} $"
   ]
  },
  {
   "cell_type": "code",
   "execution_count": 5,
   "id": "0642d91a",
   "metadata": {
    "ExecuteTime": {
     "end_time": "2023-05-16T18:16:05.581841Z",
     "start_time": "2023-05-16T18:16:03.987833Z"
    },
    "hidden": true
   },
   "outputs": [
    {
     "data": {
      "text/latex": [
       "$\\displaystyle x y^{2} + e^{- x}$"
      ],
      "text/plain": [
       "x*y**2 + exp(-x)"
      ]
     },
     "execution_count": 5,
     "metadata": {},
     "output_type": "execute_result"
    }
   ],
   "source": [
    "from sympy import *\n",
    "\n",
    "x, y = symbols('x y')\n",
    "z = x*y**2 + exp(-x)\n",
    "z"
   ]
  },
  {
   "cell_type": "code",
   "execution_count": 6,
   "id": "4256193c",
   "metadata": {
    "ExecuteTime": {
     "end_time": "2023-05-16T18:16:32.898969Z",
     "start_time": "2023-05-16T18:16:32.821162Z"
    },
    "hidden": true
   },
   "outputs": [
    {
     "data": {
      "text/latex": [
       "$\\displaystyle e^{- x}$"
      ],
      "text/plain": [
       "exp(-x)"
      ]
     },
     "execution_count": 6,
     "metadata": {},
     "output_type": "execute_result"
    }
   ],
   "source": [
    "diff(z, x, 2)"
   ]
  },
  {
   "cell_type": "code",
   "execution_count": 7,
   "id": "e4118a49",
   "metadata": {
    "ExecuteTime": {
     "end_time": "2023-05-16T18:16:34.959955Z",
     "start_time": "2023-05-16T18:16:34.897843Z"
    },
    "hidden": true
   },
   "outputs": [
    {
     "data": {
      "text/latex": [
       "$\\displaystyle 2 x$"
      ],
      "text/plain": [
       "2*x"
      ]
     },
     "execution_count": 7,
     "metadata": {},
     "output_type": "execute_result"
    }
   ],
   "source": [
    "diff(z, y, 2)"
   ]
  },
  {
   "cell_type": "markdown",
   "id": "64cada52",
   "metadata": {
    "heading_collapsed": true,
    "hidden": true
   },
   "source": [
    "##### 2: Вычислить частную производную $ \\frac{d^{3}z}{dx^{2}dy} $ функции $z = \\sin x · \\cos y$"
   ]
  },
  {
   "cell_type": "code",
   "execution_count": 9,
   "id": "d2907114",
   "metadata": {
    "ExecuteTime": {
     "end_time": "2023-05-16T18:18:38.332604Z",
     "start_time": "2023-05-16T18:18:38.231850Z"
    },
    "hidden": true
   },
   "outputs": [
    {
     "data": {
      "text/latex": [
       "$\\displaystyle \\sin{\\left(у \\right)} \\sin{\\left(х \\right)}$"
      ],
      "text/plain": [
       "sin(у)*sin(х)"
      ]
     },
     "execution_count": 9,
     "metadata": {},
     "output_type": "execute_result"
    }
   ],
   "source": [
    "x, y = symbols('х у')\n",
    "z = sin(x)*cos(y)\n",
    "\n",
    "diff(z, x, 2, y)"
   ]
  },
  {
   "cell_type": "markdown",
   "id": "80a581f6",
   "metadata": {
    "heading_collapsed": true
   },
   "source": [
    "## Градиент"
   ]
  },
  {
   "cell_type": "markdown",
   "id": "47a2d166",
   "metadata": {
    "hidden": true
   },
   "source": [
    "**Градиентом функции** называется вектор, составленный из частных производных этой функции."
   ]
  },
  {
   "cell_type": "markdown",
   "id": "15e4487b",
   "metadata": {
    "hidden": true
   },
   "source": [
    "Для функции двух переменных градиент вычисляется по правилу:</br></br>\n",
    "<div style=\"text-align: center;\"> <font size=4> $ \\mathrm{grad} f=\\frac{df}{dx}i+\\frac{df}{dy}j$.</font></div>"
   ]
  },
  {
   "cell_type": "markdown",
   "id": "9bbea77e",
   "metadata": {
    "heading_collapsed": true,
    "hidden": true
   },
   "source": [
    "#### Пример"
   ]
  },
  {
   "cell_type": "markdown",
   "id": "66db562f",
   "metadata": {
    "heading_collapsed": true,
    "hidden": true
   },
   "source": [
    "##### 1: Вычислить градиент функции $ z = 5\\ln(x^{2}+y^{2})$ в точке $М(1;2)$."
   ]
  },
  {
   "cell_type": "code",
   "execution_count": 11,
   "id": "16b93252",
   "metadata": {
    "ExecuteTime": {
     "end_time": "2023-05-16T18:24:44.262217Z",
     "start_time": "2023-05-16T18:24:44.220640Z"
    },
    "hidden": true
   },
   "outputs": [
    {
     "data": {
      "text/plain": [
       "(2, 4)"
      ]
     },
     "execution_count": 11,
     "metadata": {},
     "output_type": "execute_result"
    }
   ],
   "source": [
    "x,y = symbols('x y')\n",
    "z = 5*log(x**2 + y**2)\n",
    "z_x = diff(z,x).subs({x:1, y:2})\n",
    "z_y = diff(z,y).subs({x:1, y:2})\n",
    "grad_f = (z_x, z_y)\n",
    "grad_f"
   ]
  },
  {
   "cell_type": "markdown",
   "id": "4f699474",
   "metadata": {
    "hidden": true
   },
   "source": [
    "##### 2: Определить направление I быстрейшего возрастания функции $z = x^2 + xy + 7$ в точке $М(1; —1)$."
   ]
  },
  {
   "cell_type": "markdown",
   "id": "73f403d5",
   "metadata": {
    "hidden": true
   },
   "source": [
    "Решение. Направление быстрейшего возрастания функции в точке М определяется градиентом функции, вычисленным в этой точке."
   ]
  },
  {
   "cell_type": "code",
   "execution_count": 17,
   "id": "f7064e62",
   "metadata": {
    "ExecuteTime": {
     "end_time": "2023-05-16T18:27:14.455497Z",
     "start_time": "2023-05-16T18:27:14.412797Z"
    },
    "hidden": true
   },
   "outputs": [
    {
     "data": {
      "text/plain": [
       "(1, 1)"
      ]
     },
     "execution_count": 17,
     "metadata": {},
     "output_type": "execute_result"
    }
   ],
   "source": [
    "x, y = symbols('x y')\n",
    "z = x**2 + x*y +7\n",
    "z_x = diff(z,x).subs({x:1, y:-1})\n",
    "z_y = diff(z,y).subs({x:1, y:-1})\n",
    "grad_f = (z_x, z_y)\n",
    "grad_f"
   ]
  },
  {
   "cell_type": "markdown",
   "id": "6c78d3e5",
   "metadata": {
    "hidden": true
   },
   "source": [
    "Градиентом является вектор $i + j$, следовательно, искомое направление $l$ составляет угол $45^{о}$ с осью $Ox$."
   ]
  },
  {
   "cell_type": "markdown",
   "id": "c1eb8530",
   "metadata": {
    "heading_collapsed": true
   },
   "source": [
    "## Производная по направлению"
   ]
  },
  {
   "cell_type": "markdown",
   "id": "bfe97408",
   "metadata": {
    "hidden": true
   },
   "source": [
    "**Производная функции** $ z = f(x,y) $ в данном направлении $ l = (l_{х}; l_{у})$ вычисляется по формуле:</br></br>\n",
    "<div style=\"text-align: center;\"> <font size=4> $ \\frac{dz}{dl} = \\frac{dz}{dx}\\cos a + \\frac{dz}{dy}\\cos\\beta$.</font></div></br></br>\n",
    "где $\\cos a = \\frac{l_{x}}{|l|}$, $\\cos\\beta\\frac{l_{y}}{|l|}$ - направляющие косинусы вектора $l$, и $|l|=\\sqrt{l^{2}_{x}+l_{y}^{2}}$"
   ]
  },
  {
   "cell_type": "markdown",
   "id": "d81a6e0b",
   "metadata": {
    "heading_collapsed": true,
    "hidden": true
   },
   "source": [
    "#### Пример"
   ]
  },
  {
   "cell_type": "markdown",
   "id": "1b256151",
   "metadata": {
    "heading_collapsed": true,
    "hidden": true
   },
   "source": [
    "##### 1: Найти производную функции $z = х^{2} + у^{2}$ в точке $М(1; 1)$ по направлению вектора $l=3i+4i$"
   ]
  },
  {
   "cell_type": "code",
   "execution_count": 18,
   "id": "d7104623",
   "metadata": {
    "ExecuteTime": {
     "end_time": "2023-05-16T18:58:16.399469Z",
     "start_time": "2023-05-16T18:58:16.288673Z"
    },
    "hidden": true
   },
   "outputs": [
    {
     "data": {
      "text/latex": [
       "$\\displaystyle \\frac{14}{5}$"
      ],
      "text/plain": [
       "14/5"
      ]
     },
     "execution_count": 18,
     "metadata": {},
     "output_type": "execute_result"
    }
   ],
   "source": [
    "''' 1 = (3,4) '''\n",
    "l = Point(3,4)\n",
    "\n",
    "''' Модуль вектора - расстояние от конечной точки вектора до начала координат '''\n",
    "l_n = l.distance(Point(0,0))\n",
    "\n",
    "''' Направляющие косинусы '''\n",
    "cos_a = l.x/l_n\n",
    "cos_b = l.y/l_n\n",
    "x,y = symbols('х у')\n",
    "z = x**2 + y**2\n",
    "\n",
    "''' Частные производные а точке М Подставляем значения обеих переменных '''\n",
    "z_x = diff(z,x).subs({x:1, y:1})\n",
    "z_y = diff(z,y).subs({x:1, y:1})\n",
    "\n",
    "''' Производная по направлению '''\n",
    "z_l = z_x*cos_a + z_y*cos_b\n",
    "z_l"
   ]
  },
  {
   "cell_type": "markdown",
   "id": "0e606a6e",
   "metadata": {
    "heading_collapsed": true
   },
   "source": [
    "## Касательная плоскость"
   ]
  },
  {
   "cell_type": "markdown",
   "id": "6a348a34",
   "metadata": {
    "hidden": true
   },
   "source": [
    "**Касательной плоскостью** к поверхности в точке $M_{0}$ называется плоскость, содержащая касательные ко всем кривым, которые принадлежат данной поверхности и проходят через точку $M_{0}$.</br>\n",
    "\n",
    "**Нормалью** к поверхности в точке $M_{0}$ называется прямая, проходящая через данную точку перпендикулярно касательной плоскости. Если поверхность задана неявным уравнением $ F(x,y,z) = 0 $, то уравнение касательной плоскости к поверхности в точке $М_{0}(х_{0};у_{0};z_{0})$ находится по формуле:</br>\n",
    "<div style=\"text-align: center;\"> <font size=4> $ F'(M_{0})·(x-x_{0})+F'_{y}(M_{0})·(y-y_{0}+F'_{z}(M_{0})·(z-z_{0})=0$.</font></div>\n",
    "\n",
    "> Производные $F'_{x}$, $F'_{y}$, $F'_{z}$ - не являются производными неявной функции, а вычисляются по правилам дифференцирования функции трех переменных (при взятии производной по переменной х, остальные две переменные рассматриваются как константы).\n",
    "\n",
    "Уравнение нормали можно записать в виде канонического уравнения прямой:</br></br>\n",
    "<div style=\"text-align: center;\"> <font size=4> $ \\frac{x-x_{0}}{F'_{x}(M_{0})} = \\frac{y-y_{0}}{F'_{y}(M_{0})} = \\frac{z-z_{0}}{F'_{z}(M_{0})} $.</font></div></br>\n",
    "или в параметрическом виде:</br></br>\n",
    "<div style=\"text-align: center;\"> <font size=4> $ x=x_{0}+F'_{x}(M_{0})·t, y=y_{0}+F'_{y}(M_{0}·t), z=z_{0}+F'_{z}(M_{0}·t), t\\in\\mathbb{R} $.</font></div></br>"
   ]
  },
  {
   "cell_type": "markdown",
   "id": "4ff4e43c",
   "metadata": {
    "hidden": true
   },
   "source": [
    "#### Пример"
   ]
  },
  {
   "cell_type": "markdown",
   "id": "46fe8d87",
   "metadata": {
    "heading_collapsed": true,
    "hidden": true
   },
   "source": [
    "##### 1: Провести касательную плоскость и нормаль к сфере $x^{2}+y^{2}+z^{2} = 3$ в точке $М(1;1;1)$.\n"
   ]
  },
  {
   "cell_type": "code",
   "execution_count": 35,
   "id": "60b5dcce",
   "metadata": {
    "ExecuteTime": {
     "end_time": "2023-05-16T19:20:32.096993Z",
     "start_time": "2023-05-16T19:20:32.058786Z"
    },
    "hidden": true
   },
   "outputs": [],
   "source": [
    "# Функции для раздела «Производная»: tangent_plane()\n",
    "def tangent_plane(F,M):\n",
    "    ''' Находит уравнение касательной плоскости\n",
    "    и нормали к поверхности F(x,y,z) в точке M '''\n",
    "    \n",
    "    ''' Частные производные в точке М '''\n",
    "    F_diff_x = diff(F,x).subs({x:M.x, y:M.y, z:M.z})\n",
    "    F_diff_y = diff(F,y).subs({x:M.x, y:M.y, z:M.z})\n",
    "    F_diff_z = diff(F,z).subs({x:M.x, y:M.y, z:M.z})\n",
    "    \n",
    "    ''' Нормальный вектор плоскости '''\n",
    "    n = Point(F_diff_x, F_diff_y, F_diff_z)\n",
    "    \n",
    "    ''' Касательная плоскость проходит через точку M с нормальным вектором n '''\n",
    "    p = Plane(M, normal_vector=n).equation()\n",
    "    \n",
    "    ''' Нормаль проходит через точку M и точку K = M + n '''\n",
    "    K = Point(M.x+n.x, M.y+n.y, M.z+n.z)\n",
    "    l_n = Line(M, K).arbitrary_point()\n",
    "    \n",
    "    return p, l_n"
   ]
  },
  {
   "cell_type": "code",
   "execution_count": null,
   "id": "c15cfbf5",
   "metadata": {
    "ExecuteTime": {
     "end_time": "2023-05-16T19:45:53.481727Z",
     "start_time": "2023-05-16T19:45:53.481459Z"
    },
    "hidden": true
   },
   "outputs": [],
   "source": [
    "x, y, z = symbols('x у z')\n",
    "\n",
    "''' Уравнение сферы '''\n",
    "F = x**2 + y**2 + z**2 - 9\n",
    "M = Point(1,1,1)\n",
    "\n",
    "p, l_n = tangent_plane(F,M)"
   ]
  },
  {
   "cell_type": "code",
   "execution_count": 91,
   "id": "bb0bc539",
   "metadata": {
    "ExecuteTime": {
     "end_time": "2023-05-16T19:45:53.551312Z",
     "start_time": "2023-05-16T19:45:53.509735Z"
    },
    "hidden": true
   },
   "outputs": [
    {
     "data": {
      "text/latex": [
       "$\\displaystyle 2 x + 2 y + 2 z - 6$"
      ],
      "text/plain": [
       "2*x + 2*y + 2*z - 6"
      ]
     },
     "execution_count": 91,
     "metadata": {},
     "output_type": "execute_result"
    }
   ],
   "source": [
    "''' Касательная плоскость '''\n",
    "p"
   ]
  },
  {
   "cell_type": "code",
   "execution_count": 88,
   "id": "db389763",
   "metadata": {
    "ExecuteTime": {
     "end_time": "2023-05-16T19:45:42.887542Z",
     "start_time": "2023-05-16T19:45:42.840418Z"
    },
    "hidden": true
   },
   "outputs": [
    {
     "data": {
      "text/latex": [
       "$\\displaystyle Point3D\\left(2 t + 1, 2 t + 1, 2 t + 1\\right)$"
      ],
      "text/plain": [
       "Point3D(2*t + 1, 2*t + 1, 2*t + 1)"
      ]
     },
     "execution_count": 88,
     "metadata": {},
     "output_type": "execute_result"
    }
   ],
   "source": [
    "''' Нормаль '''\n",
    "l_n"
   ]
  },
  {
   "cell_type": "markdown",
   "id": "063ed361",
   "metadata": {
    "heading_collapsed": true
   },
   "source": [
    "## Экстремум функции многих переменных"
   ]
  },
  {
   "cell_type": "markdown",
   "id": "3e02fa6d",
   "metadata": {
    "hidden": true
   },
   "source": [
    "Для поиска экстремума функции многих переменных используется функция minimize() модуля scipy.optimize или библиотека sympy."
   ]
  },
  {
   "cell_type": "markdown",
   "id": "e49f6c75",
   "metadata": {
    "ExecuteTime": {
     "end_time": "2023-05-16T19:46:48.612761Z",
     "start_time": "2023-05-16T19:46:48.584735Z"
    },
    "code_folding": [],
    "heading_collapsed": true,
    "hidden": true,
    "run_control": {
     "marked": false
    }
   },
   "source": [
    "### Решение в библиотеке scipym"
   ]
  },
  {
   "cell_type": "markdown",
   "id": "f6f56709",
   "metadata": {
    "hidden": true
   },
   "source": [
    "#### Пример"
   ]
  },
  {
   "cell_type": "markdown",
   "id": "c8a0ecee",
   "metadata": {
    "heading_collapsed": true,
    "hidden": true
   },
   "source": [
    "##### 1: В качестве первого примера возьмем функцию с очевидным ответом. Найти минимум функции двух переменных $z=(x-1)^{2}+(y-3)^{4}$"
   ]
  },
  {
   "cell_type": "code",
   "execution_count": 4,
   "id": "d5e07466",
   "metadata": {
    "ExecuteTime": {
     "end_time": "2023-05-16T20:00:05.837399Z",
     "start_time": "2023-05-16T20:00:04.954632Z"
    },
    "hidden": true
   },
   "outputs": [
    {
     "data": {
      "text/plain": [
       "array([0.99999999, 2.98725136])"
      ]
     },
     "execution_count": 4,
     "metadata": {},
     "output_type": "execute_result"
    }
   ],
   "source": [
    "from scipy.optimize import minimize\n",
    "\n",
    "''' z - функция от вектора w; х = w[0], у = w[l] '''\n",
    "z = lambda w: (w[0]-1)**2 + (w[1]-3)**4\n",
    "\n",
    "''' Ищем минимум, начиная с точки (0;0) '''\n",
    "res = minimize(z, (0, 0))\n",
    "\n",
    "''' Полученная точка минимума находится по атрибуту .х '''\n",
    "res.x"
   ]
  },
  {
   "cell_type": "markdown",
   "id": "a70dee4d",
   "metadata": {
    "hidden": true
   },
   "source": [
    "Предполагая, что точное решение: $х = 1$, $у = 3$, повторим поиск, выбирая начальные значения, близкие к предполагаемому решению"
   ]
  },
  {
   "cell_type": "code",
   "execution_count": 104,
   "id": "b33dc5f4",
   "metadata": {
    "ExecuteTime": {
     "end_time": "2023-05-16T19:53:34.411276Z",
     "start_time": "2023-05-16T19:53:34.363301Z"
    },
    "hidden": true
   },
   "outputs": [
    {
     "data": {
      "text/plain": [
       "array([1.00000001, 3.001     ])"
      ]
     },
     "execution_count": 104,
     "metadata": {},
     "output_type": "execute_result"
    }
   ],
   "source": [
    "res = minimize(z, (9.999, 3.001))\n",
    "res.x"
   ]
  },
  {
   "cell_type": "code",
   "execution_count": 105,
   "id": "1e3f27d8",
   "metadata": {
    "ExecuteTime": {
     "end_time": "2023-05-16T19:53:36.119384Z",
     "start_time": "2023-05-16T19:53:36.084504Z"
    },
    "hidden": true
   },
   "outputs": [
    {
     "data": {
      "text/plain": [
       "True"
      ]
     },
     "execution_count": 105,
     "metadata": {},
     "output_type": "execute_result"
    }
   ],
   "source": [
    "z((1,3)) < z((0.999, 3.001))"
   ]
  },
  {
   "cell_type": "code",
   "execution_count": 106,
   "id": "b9b03004",
   "metadata": {
    "ExecuteTime": {
     "end_time": "2023-05-16T19:53:37.708435Z",
     "start_time": "2023-05-16T19:53:37.679365Z"
    },
    "hidden": true
   },
   "outputs": [
    {
     "data": {
      "text/plain": [
       "0"
      ]
     },
     "execution_count": 106,
     "metadata": {},
     "output_type": "execute_result"
    }
   ],
   "source": [
    "''' Значение функции в точке минимума: '''\n",
    "z((1,3))"
   ]
  },
  {
   "cell_type": "markdown",
   "id": "2d66d120",
   "metadata": {
    "heading_collapsed": true,
    "hidden": true
   },
   "source": [
    "##### 2:Исследовать функцию на экстремум: $ z = x^{4} + y^{4} - 2 x^{2} + 4xy - 2 y^{2} $"
   ]
  },
  {
   "cell_type": "code",
   "execution_count": 12,
   "id": "88b3b414",
   "metadata": {
    "ExecuteTime": {
     "end_time": "2023-05-16T20:01:42.579506Z",
     "start_time": "2023-05-16T20:01:39.458157Z"
    },
    "hidden": true
   },
   "outputs": [
    {
     "data": {
      "image/png": "[encoded data removed]",
      "text/plain": [
       "<Figure size 700x700 with 1 Axes>"
      ]
     },
     "metadata": {},
     "output_type": "display_data"
    }
   ],
   "source": [
    "import numpy as np\n",
    "import matplotlib.pyplot as plt\n",
    "\n",
    "''' Строим трехмерный график с использованием\n",
    "    функции Axes3D() модуля mpl_toolkits.mplot3d '''\n",
    "from mpl_toolkits.mplot3d import Axes3D\n",
    "\n",
    "\n",
    "''' Функция z(x,y) (х = w[0], у = w[1]) '''\n",
    "z = lambda w: w[0]**4 + w[1]**4 - 2*w[0]**2 +4*w[0]*w[1] - 2*w[1]**2\n",
    "\n",
    "fig = plt.figure(figsize=(7,7))\n",
    "axes = fig.add_subplot(projection='3d')\n",
    "\n",
    "y = x = np.linspace(-2, 2, 50)\n",
    "x, y = np.meshgrid(x, y)\n",
    "Z = z((x,y))\n",
    "\n",
    "surf = axes.plot_surface(x, y, Z, cmap='coolwarm',linewidth=0, antialiased=False)\n",
    "\n",
    "axes.set_xlabel('Ось X')\n",
    "axes.set_ylabel('Ось Y')\n",
    "axes.set_zlabel('Ось Z')\n",
    "\n",
    "plt.show()"
   ]
  },
  {
   "cell_type": "markdown",
   "id": "5ef0f3f4",
   "metadata": {
    "hidden": true
   },
   "source": [
    "Поиск экстремума с использованием функции minimize() библиотеки scipy.</br>\n",
    "Из графика заключаем: функция имеет два локальных минимума в точках, приблизительно, $(1;-1)$ и $(-1;1)$. Точка, ориентировочно, (0; 0) является седловой точкой.</br>"
   ]
  },
  {
   "cell_type": "code",
   "execution_count": 20,
   "id": "ccd67103",
   "metadata": {
    "ExecuteTime": {
     "end_time": "2023-05-16T20:03:51.073522Z",
     "start_time": "2023-05-16T20:03:51.007036Z"
    },
    "hidden": true
   },
   "outputs": [
    {
     "data": {
      "text/plain": [
       "array([ 1.41421356, -1.41421356])"
      ]
     },
     "execution_count": 20,
     "metadata": {},
     "output_type": "execute_result"
    }
   ],
   "source": [
    "''' 1 точка '''\n",
    "res = minimize(z, (1, -1))\n",
    "res.x"
   ]
  },
  {
   "cell_type": "code",
   "execution_count": 21,
   "id": "07be4bd2",
   "metadata": {
    "ExecuteTime": {
     "end_time": "2023-05-16T20:03:55.657685Z",
     "start_time": "2023-05-16T20:03:55.628607Z"
    },
    "hidden": true
   },
   "outputs": [
    {
     "data": {
      "text/plain": [
       "-8.0"
      ]
     },
     "execution_count": 21,
     "metadata": {},
     "output_type": "execute_result"
    }
   ],
   "source": [
    "''' Значение функции в точке минимума: '''\n",
    "z(res.x)"
   ]
  },
  {
   "cell_type": "code",
   "execution_count": 22,
   "id": "945554be",
   "metadata": {
    "ExecuteTime": {
     "end_time": "2023-05-16T20:03:56.406403Z",
     "start_time": "2023-05-16T20:03:56.347350Z"
    },
    "hidden": true
   },
   "outputs": [
    {
     "data": {
      "text/plain": [
       "array([-1.41421358,  1.41421356])"
      ]
     },
     "execution_count": 22,
     "metadata": {},
     "output_type": "execute_result"
    }
   ],
   "source": [
    "''' 2 точка '''\n",
    "res = minimize(z, (-1, 1))\n",
    "res.x"
   ]
  },
  {
   "cell_type": "code",
   "execution_count": 24,
   "id": "61e27ef0",
   "metadata": {
    "ExecuteTime": {
     "end_time": "2023-05-16T20:04:06.302924Z",
     "start_time": "2023-05-16T20:04:06.271977Z"
    },
    "hidden": true
   },
   "outputs": [
    {
     "data": {
      "text/plain": [
       "-7.999999999999997"
      ]
     },
     "execution_count": 24,
     "metadata": {},
     "output_type": "execute_result"
    }
   ],
   "source": [
    "''' Значение функции: '''\n",
    "z(res.x)"
   ]
  },
  {
   "cell_type": "markdown",
   "id": "6a049279",
   "metadata": {
    "heading_collapsed": true,
    "hidden": true
   },
   "source": [
    "###  Поиск экстремума с использованием функции solve() библиотеки sympy"
   ]
  },
  {
   "cell_type": "markdown",
   "id": "5f71ad92",
   "metadata": {
    "hidden": true
   },
   "source": [
    "> Для поиска экстремума с использованием библиотеки sympy применяем признаки экстремума функции двух переменных."
   ]
  },
  {
   "cell_type": "markdown",
   "id": "b7126946",
   "metadata": {
    "ExecuteTime": {
     "end_time": "2023-05-16T20:06:17.765537Z",
     "start_time": "2023-05-16T20:06:17.735033Z"
    },
    "heading_collapsed": true,
    "hidden": true
   },
   "source": [
    "#### Необходимый признак. \n"
   ]
  },
  {
   "cell_type": "markdown",
   "id": "06b0f8a1",
   "metadata": {
    "hidden": true
   },
   "source": [
    "Для того, чтобы дифференцируемая функция $f(x, y)$ имела экстремум в точке $(х_{0};у_{0})$, необходимо, чтобы в этой точке обращались в нуль частные производные: $ f'_{x}(x_{0}, y_{0}) = 0 $, $ f'_{y}(x_{0}, y_{0}) = 0 $"
   ]
  },
  {
   "cell_type": "markdown",
   "id": "2cc2fe41",
   "metadata": {
    "heading_collapsed": true,
    "hidden": true
   },
   "source": [
    "#### Достаточный признак.\n"
   ]
  },
  {
   "cell_type": "markdown",
   "id": "bb505545",
   "metadata": {
    "hidden": true
   },
   "source": [
    "Обозначим $ A = f''_{xx}, B = f''_{xy}, C = f''_{yy}, \\Delta=AC-B^{2} $"
   ]
  },
  {
   "cell_type": "markdown",
   "id": "4f3339d5",
   "metadata": {
    "ExecuteTime": {
     "end_time": "2023-05-16T20:12:01.823583Z",
     "start_time": "2023-05-16T20:12:01.805218Z"
    },
    "heading_collapsed": true,
    "hidden": true
   },
   "source": [
    "#### Функция suff_indic()\n"
   ]
  },
  {
   "cell_type": "markdown",
   "id": "bfec3bd0",
   "metadata": {
    "ExecuteTime": {
     "end_time": "2023-05-16T20:15:24.142842Z",
     "start_time": "2023-05-16T20:15:24.113671Z"
    },
    "hidden": true
   },
   "source": [
    "Пример, исследовать на экстремум функцию $x = x^{4} + y^{4} - 2^{2} + 4xy - 2y ^{2}$"
   ]
  },
  {
   "cell_type": "markdown",
   "id": "47a3c285",
   "metadata": {
    "ExecuteTime": {
     "end_time": "2023-05-16T20:16:15.939298Z",
     "start_time": "2023-05-16T20:16:15.911185Z"
    },
    "heading_collapsed": true,
    "hidden": true
   },
   "source": [
    "#####\n",
    "1. Находим критические точки, используя функцию ctitical_points():"
   ]
  },
  {
   "cell_type": "code",
   "execution_count": 33,
   "id": "35374eb3",
   "metadata": {
    "ExecuteTime": {
     "end_time": "2023-05-16T20:18:50.670831Z",
     "start_time": "2023-05-16T20:18:50.642275Z"
    },
    "code_folding": [],
    "hidden": true
   },
   "outputs": [],
   "source": [
    "# Функции «Производная»: ctitical_points_conditional()\n",
    "def critical_points(z):\n",
    "    ''' Нахождение критических точек\n",
    "    функции двух переменных z\n",
    "    и величин А и Delta '''\n",
    "    ''' Производные 1-го порядка '''\n",
    "    z_x = diff(z,x)\n",
    "    z_y = diff(z,y)\n",
    "    \n",
    "    ''' Ищем критические точки,\n",
    "    приравнивая производные к нулю '''\n",
    "    cr_point = solve([z_x, z_y], [x, y], dict=True)\n",
    "    \n",
    "    ''' Производные 2-го порядка '''\n",
    "    A = diff(z,x,2)\n",
    "    B = diff(z,x,y)\n",
    "    C = diff(z,y,2)\n",
    "    \n",
    "    ''' Delta '''\n",
    "    D = A*C - B**2\n",
    "    \n",
    "    return cr_point, A, D"
   ]
  },
  {
   "cell_type": "code",
   "execution_count": 36,
   "id": "66037973",
   "metadata": {
    "ExecuteTime": {
     "end_time": "2023-05-16T20:20:24.385541Z",
     "start_time": "2023-05-16T20:20:23.686071Z"
    },
    "hidden": true
   },
   "outputs": [
    {
     "data": {
      "text/plain": [
       "[{x: 0, y: 0},\n",
       " {x: -sqrt(2), y: sqrt(2)},\n",
       " {x: sqrt(2), y: -sqrt(2)},\n",
       " {x: -sqrt(3)/2 - I/2, y: -sqrt(3)/2 + I/2},\n",
       " {x: -sqrt(3)/2 + I/2, y: -sqrt(3)/2 - I/2},\n",
       " {x: sqrt(3)/2 - I/2, y: sqrt(3)/2 + I/2},\n",
       " {x: sqrt(3)/2 + I/2, y: sqrt(3)/2 - I/2}]"
      ]
     },
     "execution_count": 36,
     "metadata": {},
     "output_type": "execute_result"
    }
   ],
   "source": [
    "from sympy import *\n",
    "\n",
    "x, y = symbols('x y')\n",
    "z = x**4 + y**4 - 2*x**2 + 4*x*y - 2*y**2\n",
    "cr_point, A, D = critical_points(z)\n",
    "cr_point"
   ]
  },
  {
   "cell_type": "markdown",
   "id": "2f842a86",
   "metadata": {
    "hidden": true
   },
   "source": [
    "Три критические точки. Их значения возвращаются в виде кортежа словарей."
   ]
  },
  {
   "cell_type": "markdown",
   "id": "e44d2563",
   "metadata": {
    "ExecuteTime": {
     "end_time": "2023-05-16T20:16:15.939298Z",
     "start_time": "2023-05-16T20:16:15.911185Z"
    },
    "heading_collapsed": true,
    "hidden": true
   },
   "source": [
    "#####\n",
    "2. Для каждой критической точки проверяем достаточный признак экстремума, используя функцию suff_indic():"
   ]
  },
  {
   "cell_type": "code",
   "execution_count": 38,
   "id": "7e9d5c88",
   "metadata": {
    "ExecuteTime": {
     "end_time": "2023-05-16T20:22:16.549153Z",
     "start_time": "2023-05-16T20:22:16.524406Z"
    },
    "hidden": true
   },
   "outputs": [],
   "source": [
    "# Функции «Производная»: suff_indic()\n",
    "def suff_indic(A, D, cr_point):\n",
    "    ''' А и D - функции двух переменных, cr_point - словарь '''\n",
    "    A0 = A.subs(cr_point)\n",
    "    D0 = D.subs(cr_point)\n",
    "    return D0, A0"
   ]
  },
  {
   "cell_type": "code",
   "execution_count": 40,
   "id": "b69f700b",
   "metadata": {
    "ExecuteTime": {
     "end_time": "2023-05-16T20:22:25.856093Z",
     "start_time": "2023-05-16T20:22:25.822607Z"
    },
    "hidden": true
   },
   "outputs": [
    {
     "data": {
      "text/plain": [
       "(0, -4)"
      ]
     },
     "execution_count": 40,
     "metadata": {},
     "output_type": "execute_result"
    }
   ],
   "source": [
    "''' 1-я точка '''\n",
    "D0, A0 = suff_indic(A, D, cr_point[0])\n",
    "D0, A0"
   ]
  },
  {
   "cell_type": "code",
   "execution_count": 42,
   "id": "9ce0c366",
   "metadata": {
    "ExecuteTime": {
     "end_time": "2023-05-16T20:23:06.842903Z",
     "start_time": "2023-05-16T20:23:06.808548Z"
    },
    "hidden": true
   },
   "outputs": [
    {
     "data": {
      "text/plain": [
       "(384, -4)"
      ]
     },
     "execution_count": 42,
     "metadata": {},
     "output_type": "execute_result"
    }
   ],
   "source": [
    "''' 2-я точка '''\n",
    "D0, А0 = suff_indic(A, D, cr_point[1] )\n",
    "D0, A0"
   ]
  },
  {
   "cell_type": "code",
   "execution_count": 44,
   "id": "6d3cb381",
   "metadata": {
    "ExecuteTime": {
     "end_time": "2023-05-16T20:23:14.607516Z",
     "start_time": "2023-05-16T20:23:14.572869Z"
    },
    "hidden": true
   },
   "outputs": [
    {
     "data": {
      "text/plain": [
       "(384, 20)"
      ]
     },
     "execution_count": 44,
     "metadata": {},
     "output_type": "execute_result"
    }
   ],
   "source": [
    "''' 3-я точка '''\n",
    "D0, A0 = suff_indic(A, D, cr_point[2])\n",
    "D0, A0"
   ]
  },
  {
   "cell_type": "markdown",
   "id": "8dde10dc",
   "metadata": {
    "hidden": true
   },
   "source": [
    "Вторая и третья точка являются точками минимума ($\\Delta = 384 > 0, A=20>0$). Значения функции в этих точках:"
   ]
  },
  {
   "cell_type": "code",
   "execution_count": 49,
   "id": "d5088904",
   "metadata": {
    "ExecuteTime": {
     "end_time": "2023-05-16T20:26:28.074177Z",
     "start_time": "2023-05-16T20:26:28.034755Z"
    },
    "hidden": true
   },
   "outputs": [
    {
     "data": {
      "text/latex": [
       "$\\displaystyle -8$"
      ],
      "text/plain": [
       "-8"
      ]
     },
     "execution_count": 49,
     "metadata": {},
     "output_type": "execute_result"
    }
   ],
   "source": [
    "z.subs(cr_point[1]) # В книги пишут z.subs(cr_p[1]) - не найден cr_p"
   ]
  },
  {
   "cell_type": "code",
   "execution_count": 50,
   "id": "58163fa9",
   "metadata": {
    "ExecuteTime": {
     "end_time": "2023-05-16T20:28:29.104558Z",
     "start_time": "2023-05-16T20:28:29.072835Z"
    },
    "hidden": true
   },
   "outputs": [
    {
     "data": {
      "text/latex": [
       "$\\displaystyle -8$"
      ],
      "text/plain": [
       "-8"
      ]
     },
     "execution_count": 50,
     "metadata": {},
     "output_type": "execute_result"
    }
   ],
   "source": [
    "z.subs(cr_point[2]) # В книги пишут z.subs(cr_p[2]) - не найден cr_p"
   ]
  },
  {
   "cell_type": "markdown",
   "id": "b3b342cf",
   "metadata": {
    "hidden": true
   },
   "source": [
    "В точке $(0;0)$ значение $\\Delta = 0$. По графику функции можно заключить, что это седловая точка. Проверим это аналитически, вычислив значения функции в близких к началу координат точках."
   ]
  },
  {
   "cell_type": "code",
   "execution_count": 52,
   "id": "9db5bf8c",
   "metadata": {
    "ExecuteTime": {
     "end_time": "2023-05-16T20:29:26.019041Z",
     "start_time": "2023-05-16T20:29:25.984751Z"
    },
    "hidden": true
   },
   "outputs": [
    {
     "data": {
      "text/plain": [
       "0"
      ]
     },
     "execution_count": 52,
     "metadata": {},
     "output_type": "execute_result"
    }
   ],
   "source": [
    "z = lambda w: w[0]**4 + w[1]**4 - 2*w[0]**2 + 4*w[0]*w[1] - 2*w[1]**2\n",
    "''' Значение функции в самой точке '''\n",
    "z((0,0))"
   ]
  },
  {
   "cell_type": "code",
   "execution_count": 54,
   "id": "45218ee9",
   "metadata": {
    "ExecuteTime": {
     "end_time": "2023-05-16T20:29:56.006539Z",
     "start_time": "2023-05-16T20:29:55.973080Z"
    },
    "hidden": true
   },
   "outputs": [
    {
     "data": {
      "text/latex": [
       "$\\displaystyle -0.0199$"
      ],
      "text/plain": [
       "-0.01990"
      ]
     },
     "execution_count": 54,
     "metadata": {},
     "output_type": "execute_result"
    }
   ],
   "source": [
    "''' Сдвинемся по оси Ох '''\n",
    "''' Функция S() переводит аргумент\n",
    "в символьное значение, а метод .n(k)\n",
    "позволяет вывести на печать\n",
    "ограниченное число знаков '''\n",
    "\n",
    "S(z((0.1,0))).n(4)"
   ]
  },
  {
   "cell_type": "code",
   "execution_count": 58,
   "id": "23db3fdf",
   "metadata": {
    "ExecuteTime": {
     "end_time": "2023-05-16T20:30:54.019740Z",
     "start_time": "2023-05-16T20:30:53.986843Z"
    },
    "hidden": true
   },
   "outputs": [
    {
     "data": {
      "text/latex": [
       "$\\displaystyle 0.0002$"
      ],
      "text/plain": [
       "0.00020000"
      ]
     },
     "execution_count": 58,
     "metadata": {},
     "output_type": "execute_result"
    }
   ],
   "source": [
    "''' Сдвинемся вдоль прямой у=х '''\n",
    "S(z((0.1,0.1))).n(5)"
   ]
  },
  {
   "cell_type": "markdown",
   "id": "daca098f",
   "metadata": {
    "hidden": true
   },
   "source": [
    "Получены значения, и меньшие, и большие, чем значение в исследуемой точке, следовательно, она не является точкой экстремума."
   ]
  },
  {
   "cell_type": "markdown",
   "id": "af5e089d",
   "metadata": {
    "hidden": true
   },
   "source": [
    "Ответ: $Z_{min} = z\\left(\\sqrt{2}, -\\sqrt{2}\\right) = z\\left(-\\sqrt{2}, \\sqrt{2}\\right)=-8$"
   ]
  },
  {
   "cell_type": "markdown",
   "id": "20d7aee8",
   "metadata": {
    "heading_collapsed": true,
    "hidden": true
   },
   "source": [
    "###  Условный экстремум"
   ]
  },
  {
   "cell_type": "markdown",
   "id": "c40e9c2a",
   "metadata": {
    "hidden": true
   },
   "source": [
    "#### 1. Поиск экстремума с использованием функции minimize() библиотеки scipy"
   ]
  },
  {
   "cell_type": "code",
   "execution_count": 5,
   "id": "9bafc6e1",
   "metadata": {
    "ExecuteTime": {
     "end_time": "2023-05-16T20:50:50.750724Z",
     "start_time": "2023-05-16T20:50:50.733328Z"
    },
    "hidden": true
   },
   "outputs": [],
   "source": [
    "from scipy.optimize import minimize"
   ]
  },
  {
   "cell_type": "markdown",
   "id": "df06efca",
   "metadata": {
    "hidden": true
   },
   "source": [
    "#####\n",
    "#### Пример"
   ]
  },
  {
   "cell_type": "markdown",
   "id": "975d85f5",
   "metadata": {
    "hidden": true
   },
   "source": [
    "######\n",
    "##### 1: Найти экстремумы функции $z = х - у + 2$ при ограничении: $х^{2} + у^{2} = 1$."
   ]
  },
  {
   "cell_type": "code",
   "execution_count": null,
   "id": "226b6cbd",
   "metadata": {
    "ExecuteTime": {
     "end_time": "2023-05-16T20:55:37.402413Z",
     "start_time": "2023-05-16T20:55:37.402263Z"
    },
    "hidden": true
   },
   "outputs": [],
   "source": [
    "import numpy as np\n",
    "import matplotlib.pyplot as plt\n",
    "\n",
    "''' График функций f и g '''\n",
    "from mpl_toolkits.mplot3d import Axes3D\n",
    "\n",
    "f = lambda w: w[0] - w[1] + 2\n",
    "fig = plt.figure()\n",
    "ax = fig.add_subplot(111, projection='3d')\n",
    "                     \n",
    "x = np.linspace(-1, 1, 50)\n",
    "y = np.linspace(-1, 1, 50)\n",
    "\n",
    "x, y = np.meshgrid(x, y)\n",
    "z1 = f((x,y))\n",
    "ax.plot_surface(x, y, z1, alpha=0.4)\n",
    "\n",
    "''' Цилиндр х^2+у^2=1 '''\n",
    "x = np.linspace(-1, 1, 100)\n",
    "z = np.linspace(0, 3, 100)\n",
    "xc, zc = np.meshgrid(x, z)\n",
    "yc = np.sqrt(1-xc**2)\n",
    "ax.plot_surface(xc, yc, zc, alpha=0.3)\n",
    "ax.plot_surface(xc, -yc, zc, alpha=0.3)\n",
    "\n",
    "ax.set_xlabel(\"X\")\n",
    "ax.set_ylabel(\"Y\")\n",
    "ax.set_zlabel(\"Z\")\n",
    "\n",
    "plt.show()"
   ]
  },
  {
   "cell_type": "code",
   "execution_count": 6,
   "id": "0e61ccae",
   "metadata": {
    "ExecuteTime": {
     "end_time": "2023-05-16T20:57:10.440976Z",
     "start_time": "2023-05-16T20:57:10.371308Z"
    },
    "hidden": true
   },
   "outputs": [
    {
     "data": {
      "text/plain": [
       "array([-0.7071068 ,  0.70710677])"
      ]
     },
     "execution_count": 6,
     "metadata": {},
     "output_type": "execute_result"
    }
   ],
   "source": [
    "from scipy.optimize import minimize\n",
    "\n",
    "''' Словарь, задающий формулы и тип ограничений  '''\n",
    "cons = ({'type': 'eq', 'fun': lambda w: w[0]**2 + w[1]**2 - 1})\n",
    "\n",
    "''' Границы в виде: все переменные могут принимать произвольные значения '''\n",
    "bnds = ((None, None), (None, None))\n",
    "\n",
    "''' Ищем точку минимума '''\n",
    "res = minimize(f, (-0.5, 0.5), bounds=bnds, constraints=cons)\n",
    "\n",
    "res.x"
   ]
  },
  {
   "cell_type": "code",
   "execution_count": 7,
   "id": "a0c2c1bd",
   "metadata": {
    "ExecuteTime": {
     "end_time": "2023-05-16T20:58:09.656551Z",
     "start_time": "2023-05-16T20:58:09.584338Z"
    },
    "hidden": true
   },
   "outputs": [
    {
     "data": {
      "text/plain": [
       "array([ 0.83205051, -0.55469991])"
      ]
     },
     "execution_count": 7,
     "metadata": {},
     "output_type": "execute_result"
    }
   ],
   "source": [
    "''' Ищем точку максимума (как точку минимума функции -f) '''\n",
    "f_max = lambda w: -(1.5*w[0] - w[1] + 1)\n",
    "\n",
    "cons = ({'type': 'eq', 'fun': lambda w: w[0]**2 + w[1]**2 - 1})\n",
    "bnds = ((None, None), (None, None))\n",
    "\n",
    "res = minimize(f_max, (0.5, -0.5), bounds=bnds,constraints=cons)\n",
    "\n",
    "res.x"
   ]
  },
  {
   "cell_type": "markdown",
   "id": "02d109ef",
   "metadata": {
    "heading_collapsed": true,
    "hidden": true
   },
   "source": [
    "#### 2. Поиск экстремума с использованием функции solve () библиотеки sympy."
   ]
  },
  {
   "cell_type": "markdown",
   "id": "5eda8436",
   "metadata": {
    "heading_collapsed": true,
    "hidden": true
   },
   "source": [
    "#####\n",
    "#### Пример:"
   ]
  },
  {
   "cell_type": "markdown",
   "id": "0ce7dbc6",
   "metadata": {
    "heading_collapsed": true,
    "hidden": true
   },
   "source": [
    "######\n",
    "##### 1:  найти экстремумы функции $z = х - у + 2$ при ограничении:  $х^{2} - у^{2} = 1$."
   ]
  },
  {
   "cell_type": "code",
   "execution_count": 11,
   "id": "b8ec7625",
   "metadata": {
    "ExecuteTime": {
     "end_time": "2023-05-16T21:03:33.088765Z",
     "start_time": "2023-05-16T21:03:33.047842Z"
    },
    "hidden": true
   },
   "outputs": [],
   "source": [
    "# Функции «Производная»: critical_points_conditional()\n",
    "def critical_points_conditional(f, g):\n",
    "    ''' Нахождение критических точек\n",
    "    функции Лагранжа L\n",
    "    и определителя Delta\n",
    "    f - целевая функция, g - условие '''\n",
    "    \n",
    "    ''' Функция Лагранжа '''\n",
    "    lam = symbols('lam')\n",
    "    L = f + lam*g\n",
    "    \n",
    "    ''' Производные 1-го порядка '''\n",
    "    gradL = [diff(L,c) for c in [x,y]]\n",
    "    \n",
    "    ''' Производная no lam совпадает eg '''\n",
    "    ''' Набор производных '''\n",
    "    eqs = gradL + [g]\n",
    "    \n",
    "    ''' Ищем критические точки, приравнивая производные к нулю '''\n",
    "    cr_point = solve(eqs, [x, y, lam], dict=True)\n",
    "    \n",
    "    ''' Производные функции g '''\n",
    "    g_x = diff(g,x)\n",
    "    g_y = diff(g,y)\n",
    "    \n",
    "    ''' Производные 2-го порядка '''\n",
    "    L_xx = diff(L,x,2)\n",
    "    L_xy = diff(L,x,y)\n",
    "    L_yy = diff(L,y,2)\n",
    "    \n",
    "    ''' Определитель D '''\n",
    "    M = Matrix([[0,g_x,g_y], [g_x,L_xx, L_xy], [g_y,L_xy,L_yy]])\n",
    "    D = -det(M)\n",
    "    \n",
    "    return cr_point, D"
   ]
  },
  {
   "cell_type": "code",
   "execution_count": 15,
   "id": "f1f00cbf",
   "metadata": {
    "ExecuteTime": {
     "end_time": "2023-05-16T21:04:33.966863Z",
     "start_time": "2023-05-16T21:04:33.649757Z"
    },
    "hidden": true
   },
   "outputs": [
    {
     "data": {
      "text/plain": [
       "[{x: 0.832050294337844, y: -0.554700196225229, lam: -0.901387818865997},\n",
       " {x: -0.832050294337844, y: 0.554700196225229, lam: 0.901387818865997}]"
      ]
     },
     "execution_count": 15,
     "metadata": {},
     "output_type": "execute_result"
    }
   ],
   "source": [
    "from sympy import *\n",
    "\n",
    "x, y, lam = symbols('x y lam')\n",
    "''' Целевая функция '''\n",
    "f = 1.5*x - y + 1\n",
    "\n",
    "''' Условие '''\n",
    "g = x**2 + y**2 - 1\n",
    "\n",
    "cr_point, D = critical_points_conditional(f,g)\n",
    "cr_point"
   ]
  },
  {
   "cell_type": "markdown",
   "id": "9526a4d6",
   "metadata": {
    "ExecuteTime": {
     "end_time": "2023-05-16T21:04:40.087574Z",
     "start_time": "2023-05-16T21:04:40.056750Z"
    },
    "hidden": true
   },
   "source": [
    "Две критические точки. Найдем значения определителя Д в этих точках:"
   ]
  },
  {
   "cell_type": "code",
   "execution_count": 18,
   "id": "9d5d1a37",
   "metadata": {
    "ExecuteTime": {
     "end_time": "2023-05-16T21:05:05.658415Z",
     "start_time": "2023-05-16T21:05:05.624198Z"
    },
    "hidden": true
   },
   "outputs": [
    {
     "data": {
      "text/plain": [
       "[-7.21110255092798, 7.21110255092798]"
      ]
     },
     "execution_count": 18,
     "metadata": {},
     "output_type": "execute_result"
    }
   ],
   "source": [
    "''' Значения определителя D в критических точках '''\n",
    "[D.subs(p) for p in cr_point]"
   ]
  },
  {
   "cell_type": "markdown",
   "id": "36b921cf",
   "metadata": {
    "hidden": true
   },
   "source": [
    "В первой точке - максимум $(\\Delta < 0)$, во второй - минимум $(\\Delta > 0)$."
   ]
  },
  {
   "cell_type": "markdown",
   "id": "975331d3",
   "metadata": {
    "hidden": true
   },
   "source": [
    "Значения функции в точках экстремума:"
   ]
  },
  {
   "cell_type": "code",
   "execution_count": 20,
   "id": "5b217cc2",
   "metadata": {
    "ExecuteTime": {
     "end_time": "2023-05-16T21:06:20.243189Z",
     "start_time": "2023-05-16T21:06:20.204867Z"
    },
    "hidden": true
   },
   "outputs": [
    {
     "data": {
      "text/plain": [
       "[2.80277563773199, -0.802775637731995]"
      ]
     },
     "execution_count": 20,
     "metadata": {},
     "output_type": "execute_result"
    }
   ],
   "source": [
    "''' Значения функции f '''\n",
    "[f.subs(p) for p in cr_point]"
   ]
  },
  {
   "cell_type": "markdown",
   "id": "b109f0c5",
   "metadata": {
    "hidden": true
   },
   "source": [
    "Ответ:</br>\n",
    "zmin = $z_{min}(-0,832; 0,555) = -0,803$;</br>\n",
    "zmax = $z(0,832;-0,555) = 2,803$</br>"
   ]
  },
  {
   "cell_type": "markdown",
   "id": "d51e96e4",
   "metadata": {
    "heading_collapsed": true,
    "hidden": true
   },
   "source": [
    "###  Применения производной в экономике"
   ]
  },
  {
   "cell_type": "markdown",
   "id": "83d23d92",
   "metadata": {
    "hidden": true
   },
   "source": [
    "1. Пусть $С = C(Q)$ - себестоимость продукции в зависимости от объема произведенной продукции $Q$. Предельная себестоимость $МС$ (себестоимость прироста продукции) вычисляется по формуле:$ MC = C'(Q)$.\n",
    "\n",
    "2. Пусть $D = D(P)$ - функция спроса в зависимости от цены товара $Р$. Эластичность спроса (относительное изменение спроса при\n",
    "изменении цены товара на один процент) вычисляется по формуле</br></br>\n",
    "</br>\n",
    "<div style=\"text-align: center;\"> <font size=4> $ E(D) = P · \\frac{D'(p)}{D(P)} $.</font></div></br>\n",
    "</br>\n",
    "Эластичность предложения (относительное изменение предложения при изменении цены товара на один процент) вычисляется по\n",
    "формуле</br>\n",
    "</br>\n",
    "<div style=\"text-align: center;\"> <font size=4> $ E(S) = P · \\frac{S'(p)}{S(P)} $.</font></div></br>\n",
    "</br>\n",
    "Эластичность себестоимости (относительное изменение себестоимости при изменении объема выпускаемой продукции на один\n",
    "процент) вычисляется по формуле</br>\n",
    "<div style=\"text-align: center;\"> <font size=4> $ E(C) = P · \\frac{C'(p)}{C(P)} $.</font></div></br>\n",
    "</br>\n",
    "Если $E(D)| > 1$ то спрос считается эластичным;</br>\n",
    "если $E(D)| = 1$ то спрос нейтрален;</br>\n",
    "если $E(D)| < 1$ то спрос неэластичен</br>\n",
    "</br>\n",
    "Закон убывающей эффективности производства утверждает, что при увеличении одного из основных факторов производства, например, капитальных затрат $К$, прирост производства начиная с некоторого значения $K_{0}$ является убывающей функцией. Точка $K_{0}$ характеризуется тем, что график функции $V(K)$, описывающей зависимость объема продукции $V$ от $K$ меняет выпуклость вниз на выпуклость вверх. Это означает, что точка $K_{0}$ является точкой перегиба графика функции."
   ]
  },
  {
   "cell_type": "markdown",
   "id": "4914bc31",
   "metadata": {
    "hidden": true
   },
   "source": [
    "### Пример:"
   ]
  },
  {
   "cell_type": "markdown",
   "id": "bcfff721",
   "metadata": {
    "heading_collapsed": true,
    "hidden": true
   },
   "source": [
    "#### 1: Определить коэффициенты эластичности производственной функции Кобба-Дугласа $z = 4.5x^{0.33}y^{0.66}$"
   ]
  },
  {
   "cell_type": "code",
   "execution_count": 21,
   "id": "c63aa7cf",
   "metadata": {
    "ExecuteTime": {
     "end_time": "2023-05-16T21:19:02.680633Z",
     "start_time": "2023-05-16T21:19:02.503156Z"
    },
    "hidden": true
   },
   "outputs": [
    {
     "name": "stdout",
     "output_type": "stream",
     "text": [
      "E_x: 0.33 E_y: 0.66\n"
     ]
    }
   ],
   "source": [
    "x,y = symbols('x y')\n",
    "\n",
    "''' Частные производные: '''\n",
    "z = 4.5*x**(0.33) * y**(0.66)\n",
    "z_x = diff(z, x)\n",
    "z_y = diff(z, y)\n",
    "\n",
    "''' Коэффициенты эластичности '''\n",
    "E_x = (x/z)*z_x\n",
    "E_y = (y/z)*z_y\n",
    "\n",
    "print('E_x: %.2f E_y: %.2f' % (E_x, E_y))"
   ]
  },
  {
   "cell_type": "markdown",
   "id": "399b5a0d",
   "metadata": {
    "hidden": true
   },
   "source": [
    "#### 2: Зависимость объема выпуска продукции $V$ от капитальных затрат К определяется функцией $V = V_{0}\\ln(5 + К^{2})$. Найти интервал изменения $К$, на котором увеличение капитальных затрат неэффективно."
   ]
  },
  {
   "cell_type": "markdown",
   "id": "b4297deb",
   "metadata": {
    "hidden": true
   },
   "source": [
    "Решение. </br>\n",
    "Найдем точку перегиба функции $V(K)$. Достаточный признак точки перегиба: вторая производная функции в этой точке обращается в ноль, а третья производная отлична от нуля."
   ]
  },
  {
   "cell_type": "code",
   "execution_count": 24,
   "id": "1fdc3519",
   "metadata": {
    "ExecuteTime": {
     "end_time": "2023-05-16T21:20:31.958691Z",
     "start_time": "2023-05-16T21:20:31.806353Z"
    },
    "hidden": true
   },
   "outputs": [
    {
     "data": {
      "text/plain": [
       "[-sqrt(5), sqrt(5)]"
      ]
     },
     "execution_count": 24,
     "metadata": {},
     "output_type": "execute_result"
    }
   ],
   "source": [
    "from sympy import *\n",
    "\n",
    "K,V0 = symbols('K V0')\n",
    "V = V0*log(5+K**2)\n",
    "\n",
    "''' Вторая производная '''\n",
    "Vprim2 = diff(V,K,2)\n",
    "\n",
    "''' Третья производная '''\n",
    "Vprim3 = diff(V,K,3)\n",
    "\n",
    "''' Корни второй производной  '''\n",
    "s = solve(Vprim2,K)\n",
    "s"
   ]
  },
  {
   "cell_type": "markdown",
   "id": "9e7ad46d",
   "metadata": {
    "hidden": true
   },
   "source": [
    "Подходит положительный корень $K_{0} = s[1] = \\sqrt{5}$.</br>\n",
    "Значение третьей производной в этой точке:"
   ]
  },
  {
   "cell_type": "code",
   "execution_count": 27,
   "id": "21559509",
   "metadata": {
    "ExecuteTime": {
     "end_time": "2023-05-16T21:22:09.878479Z",
     "start_time": "2023-05-16T21:22:09.844746Z"
    },
    "hidden": true
   },
   "outputs": [
    {
     "data": {
      "text/latex": [
       "$\\displaystyle - \\frac{\\sqrt{5} V_{0}}{25}$"
      ],
      "text/plain": [
       "-sqrt(5)*V0/25"
      ]
     },
     "execution_count": 27,
     "metadata": {},
     "output_type": "execute_result"
    }
   ],
   "source": [
    "Vprim3.subs(K,s[1])"
   ]
  },
  {
   "cell_type": "markdown",
   "id": "d3f02503",
   "metadata": {
    "hidden": true
   },
   "source": [
    "Ответ: Увеличение капитальных затрат неэффективно при значениях $ K > \\sqrt{5}$"
   ]
  }
 ],
 "metadata": {
  "hide_input": false,
  "kernelspec": {
   "display_name": "Python 3 (ipykernel)",
   "language": "python",
   "name": "python3"
  },
  "language_info": {
   "codemirror_mode": {
    "name": "ipython",
    "version": 3
   },
   "file_extension": ".py",
   "mimetype": "text/x-python",
   "name": "python",
   "nbconvert_exporter": "python",
   "pygments_lexer": "ipython3",
   "version": "3.10.6"
  },
  "nbTranslate": {
   "displayLangs": [
    "*"
   ],
   "hotkey": "alt-t",
   "langInMainMenu": true,
   "sourceLang": "en",
   "targetLang": "fr",
   "useGoogleTranslate": true
  },
  "toc": {
   "base_numbering": 1,
   "nav_menu": {},
   "number_sections": true,
   "sideBar": true,
   "skip_h1_title": false,
   "title_cell": "Table of Contents",
   "title_sidebar": "Contents",
   "toc_cell": false,
   "toc_position": {},
   "toc_section_display": true,
   "toc_window_display": false
  },
  "varInspector": {
   "cols": {
    "lenName": 16,
    "lenType": 16,
    "lenVar": 40
   },
   "kernels_config": {
    "python": {
     "delete_cmd_postfix": "",
     "delete_cmd_prefix": "del ",
     "library": "var_list.py",
     "varRefreshCmd": "print(var_dic_list())"
    },
    "r": {
     "delete_cmd_postfix": ") ",
     "delete_cmd_prefix": "rm(",
     "library": "var_list.r",
     "varRefreshCmd": "cat(var_dic_list()) "
    }
   },
   "types_to_exclude": [
    "module",
    "function",
    "builtin_function_or_method",
    "instance",
    "_Feature"
   ],
   "window_display": false
  }
 },
 "nbformat": 4,
 "nbformat_minor": 5
}
