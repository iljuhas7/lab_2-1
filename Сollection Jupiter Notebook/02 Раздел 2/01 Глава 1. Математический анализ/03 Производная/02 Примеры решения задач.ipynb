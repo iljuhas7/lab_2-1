{
 "cells": [
  {
   "cell_type": "markdown",
   "id": "8e2edf52",
   "metadata": {},
   "source": [
    "# Математический анализ: примеры решения задач"
   ]
  },
  {
   "cell_type": "code",
   "execution_count": 32,
   "id": "71d15589",
   "metadata": {
    "ExecuteTime": {
     "end_time": "2023-05-16T21:43:07.330484Z",
     "start_time": "2023-05-16T21:43:07.305117Z"
    }
   },
   "outputs": [],
   "source": [
    "from sympy import *\n",
    "from scipy.optimize import minimize\n",
    "import matplotlib.pyplot as plt"
   ]
  },
  {
   "cell_type": "markdown",
   "id": "688dd952",
   "metadata": {},
   "source": [
    "### Функции для раздела «Производная»"
   ]
  },
  {
   "cell_type": "markdown",
   "id": "d5bb4268",
   "metadata": {
    "heading_collapsed": true
   },
   "source": [
    "#### Функция tangent()"
   ]
  },
  {
   "cell_type": "code",
   "execution_count": 36,
   "id": "170dc9b7",
   "metadata": {
    "ExecuteTime": {
     "end_time": "2023-05-16T21:45:37.805370Z",
     "start_time": "2023-05-16T21:45:37.774618Z"
    },
    "hidden": true
   },
   "outputs": [],
   "source": [
    "def tangent(y, x0):\n",
    "    '''' Строит уравнение касательной\n",
    "        к графику функции у(х) в точке\n",
    "        с абсциссой х0 '''\n",
    "    ''' (х0;у0) - точка касания '''\n",
    "    y0 = y.subs(x, x0)\n",
    "\n",
    "    ''' Касательная с уравнением у = kx+b\n",
    "        проходит через точку М(х0;у0), а также\n",
    "        через точку N(x0+l;y0+k) (к -\n",
    "        угловой коэффициент)'''\n",
    "    x1 = x0 + 1\n",
    "    \n",
    "    ''' Производная функции у при х=х0 '''\n",
    "    k = diff(y,x).subs(x,x0)\n",
    "    y1 = y0 + k\n",
    "\n",
    "    ''' Касательная - это прямая, проходящая\n",
    "    через точки М и N'''\n",
    "    return Line((x0,y0), (x1,y1))"
   ]
  },
  {
   "cell_type": "markdown",
   "id": "34037305",
   "metadata": {
    "heading_collapsed": true
   },
   "source": [
    "#### Функция critical_points_conditional()"
   ]
  },
  {
   "cell_type": "code",
   "execution_count": 37,
   "id": "fe86e00f",
   "metadata": {
    "ExecuteTime": {
     "end_time": "2023-05-16T21:45:56.507981Z",
     "start_time": "2023-05-16T21:45:56.468375Z"
    },
    "hidden": true
   },
   "outputs": [],
   "source": [
    "def critical_points_conditional(f, g):\n",
    "    ''' Нахождение критических точек\n",
    "    функции Лагранжа L\n",
    "    и определителя Delta\n",
    "    f - целевая функция, g - условие '''\n",
    "    \n",
    "    ''' Функция Лагранжа '''\n",
    "    lam = symbols('lam')\n",
    "    L = f + lam*g\n",
    "    \n",
    "    ''' Производные 1-го порядка '''\n",
    "    gradL = [diff(L,c) for c in [x,y]]\n",
    "    \n",
    "    ''' Производная no lam совпадает eg '''\n",
    "    ''' Набор производных '''\n",
    "    eqs = gradL + [g]\n",
    "    \n",
    "    ''' Ищем критические точки, приравнивая производные к нулю '''\n",
    "    cr_point = solve(eqs, [x, y, lam], dict=True)\n",
    "    \n",
    "    ''' Производные функции g '''\n",
    "    g_x = diff(g,x)\n",
    "    g_y = diff(g,y)\n",
    "    \n",
    "    ''' Производные 2-го порядка '''\n",
    "    L_xx = diff(L,x,2)\n",
    "    L_xy = diff(L,x,y)\n",
    "    L_yy = diff(L,y,2)\n",
    "    \n",
    "    ''' Определитель D '''\n",
    "    M = Matrix([[0,g_x,g_y], [g_x,L_xx, L_xy], [g_y,L_xy,L_yy]])\n",
    "    D = -det(M)\n",
    "    \n",
    "    return cr_point, D"
   ]
  },
  {
   "cell_type": "markdown",
   "id": "48001001",
   "metadata": {
    "heading_collapsed": true
   },
   "source": [
    "#### Функция critical_points()"
   ]
  },
  {
   "cell_type": "code",
   "execution_count": 45,
   "id": "e66e32ce",
   "metadata": {
    "ExecuteTime": {
     "end_time": "2023-05-16T21:49:32.853614Z",
     "start_time": "2023-05-16T21:49:32.816642Z"
    },
    "hidden": true
   },
   "outputs": [],
   "source": [
    "def critical_points(z):\n",
    "    ''' Нахождение критических точек\n",
    "    функции двух переменных z\n",
    "    и величин А и Delta '''\n",
    "    ''' Производные 1-го порядка '''\n",
    "    z_x = diff(z,x)\n",
    "    z_y = diff(z,y)\n",
    "    \n",
    "    ''' Ищем критические точки,\n",
    "    приравнивая производные к нулю '''\n",
    "    cr_point = solve([z_x, z_y], [x, y], dict=True)\n",
    "    \n",
    "    ''' Производные 2-го порядка '''\n",
    "    A = diff(z,x,2)\n",
    "    B = diff(z,x,y)\n",
    "    C = diff(z,y,2)\n",
    "    \n",
    "    ''' Delta '''\n",
    "    D = A*C - B**2\n",
    "    \n",
    "    return cr_point, A, D#### Функция suff_indic()"
   ]
  },
  {
   "cell_type": "markdown",
   "id": "79603a93",
   "metadata": {
    "heading_collapsed": true
   },
   "source": [
    "#### Функция suff_indic()"
   ]
  },
  {
   "cell_type": "code",
   "execution_count": 46,
   "id": "f08387fc",
   "metadata": {
    "ExecuteTime": {
     "end_time": "2023-05-16T21:49:35.313368Z",
     "start_time": "2023-05-16T21:49:35.292304Z"
    },
    "hidden": true
   },
   "outputs": [],
   "source": [
    "def suff_indic(A, D, cr_point):\n",
    "    ''' А и D - функции двух переменных, cr_point - словарь '''\n",
    "    A0 = A.subs(cr_point)\n",
    "    D0 = D.subs(cr_point)\n",
    "    return D0, A0"
   ]
  },
  {
   "cell_type": "markdown",
   "id": "9653db11",
   "metadata": {
    "heading_collapsed": true
   },
   "source": [
    "### 1: Вычислить $y'$ для функции $x\\cos(\\ln(x))+\\sin(\\ln(x)))$"
   ]
  },
  {
   "cell_type": "code",
   "execution_count": 9,
   "id": "ce0fc347",
   "metadata": {
    "ExecuteTime": {
     "end_time": "2023-05-16T21:31:52.098226Z",
     "start_time": "2023-05-16T21:31:52.044418Z"
    },
    "hidden": true,
    "scrolled": true
   },
   "outputs": [
    {
     "data": {
      "text/latex": [
       "$\\displaystyle х \\left(- \\frac{\\sin{\\left(\\log{\\left(х \\right)} \\right)}}{х} + \\frac{\\cos{\\left(\\log{\\left(х \\right)} \\right)}}{х}\\right) + \\sin{\\left(\\log{\\left(х \\right)} \\right)} + \\cos{\\left(\\log{\\left(х \\right)} \\right)}$"
      ],
      "text/plain": [
       "х*(-sin(log(х))/х + cos(log(х))/х) + sin(log(х)) + cos(log(х))"
      ]
     },
     "execution_count": 9,
     "metadata": {},
     "output_type": "execute_result"
    }
   ],
   "source": [
    "x = symbols('х')\n",
    "y = x*(cos(log(x))+sin(log(x)))\n",
    "diff(y,x)"
   ]
  },
  {
   "cell_type": "code",
   "execution_count": 79,
   "id": "b7b79776",
   "metadata": {
    "hidden": true,
    "scrolled": false
   },
   "outputs": [
    {
     "data": {
      "text/latex": [
       "$\\displaystyle 2 \\cos{\\left(\\log{\\left(х \\right)} \\right)}$"
      ],
      "text/plain": [
       "2*cos(log(х))"
      ]
     },
     "execution_count": 79,
     "metadata": {},
     "output_type": "execute_result"
    }
   ],
   "source": [
    "diff(y,x).simplify()"
   ]
  },
  {
   "cell_type": "markdown",
   "id": "803ba210",
   "metadata": {
    "heading_collapsed": true
   },
   "source": [
    "### 5: Решить уравнение $y'(x) = 0$, где $y(x) = max\\{x^2-2x+3; 2x^2-5x-1\\}$"
   ]
  },
  {
   "cell_type": "code",
   "execution_count": 10,
   "id": "28db44e8",
   "metadata": {
    "ExecuteTime": {
     "end_time": "2023-05-16T21:31:55.158037Z",
     "start_time": "2023-05-16T21:31:54.191214Z"
    },
    "hidden": true,
    "scrolled": false
   },
   "outputs": [
    {
     "data": {
      "image/png": "[encoded data removed]",
      "text/plain": [
       "<Figure size 640x480 with 1 Axes>"
      ]
     },
     "metadata": {},
     "output_type": "display_data"
    }
   ],
   "source": [
    "f1 = lambda х: х**2-2*х+3\n",
    "f2 = lambda х: 2*х**2-5*х-1\n",
    "x = np.linspace(-3, 5.5, 50)\n",
    "y1 = f1(x)\n",
    "plt.plot(x,y1, label = \"f1\")\n",
    "y2 = f2(x)\n",
    "plt.plot(x,y2, label = \"f2\")\n",
    "plt.legend()\n",
    "plt.show()"
   ]
  },
  {
   "cell_type": "code",
   "execution_count": 81,
   "id": "de3eaa2a",
   "metadata": {
    "hidden": true
   },
   "outputs": [
    {
     "data": {
      "text/plain": [
       "True"
      ]
     },
     "execution_count": 81,
     "metadata": {},
     "output_type": "execute_result"
    }
   ],
   "source": [
    "f1(-1) == f2(-1)"
   ]
  },
  {
   "cell_type": "code",
   "execution_count": 7,
   "id": "ffa68f0f",
   "metadata": {
    "ExecuteTime": {
     "end_time": "2023-05-16T21:30:30.149945Z",
     "start_time": "2023-05-16T21:30:30.118697Z"
    },
    "hidden": true
   },
   "outputs": [
    {
     "data": {
      "text/plain": [
       "True"
      ]
     },
     "execution_count": 7,
     "metadata": {},
     "output_type": "execute_result"
    }
   ],
   "source": [
    "f1(-1) == f2(-1)"
   ]
  },
  {
   "cell_type": "code",
   "execution_count": 8,
   "id": "ff960100",
   "metadata": {
    "ExecuteTime": {
     "end_time": "2023-05-16T21:30:34.940708Z",
     "start_time": "2023-05-16T21:30:34.846449Z"
    },
    "hidden": true
   },
   "outputs": [
    {
     "data": {
      "text/latex": [
       "$\\displaystyle 4 x - 5$"
      ],
      "text/plain": [
       "4*x - 5"
      ]
     },
     "execution_count": 8,
     "metadata": {},
     "output_type": "execute_result"
    }
   ],
   "source": [
    "x = symbols('x')\n",
    "f1 = x**2-2*x+3\n",
    "f2 = 2*x**2-5*x-1\n",
    "\n",
    "y_diff1 = diff(f2,x)\n",
    "y_diff1"
   ]
  },
  {
   "cell_type": "code",
   "execution_count": null,
   "id": "0a09e8ca",
   "metadata": {
    "hidden": true
   },
   "outputs": [],
   "source": [
    "y_diff2 = diff(f1,x)\n",
    "y_diff2"
   ]
  },
  {
   "cell_type": "markdown",
   "id": "dbda5ab9",
   "metadata": {
    "heading_collapsed": true
   },
   "source": [
    "### 7: Показать, что функция $y = xsinx$ удовлетворяет уравнению $\\frac{y'}{cosx} - x = tgx$"
   ]
  },
  {
   "cell_type": "code",
   "execution_count": 12,
   "id": "be13698c",
   "metadata": {
    "ExecuteTime": {
     "end_time": "2023-05-16T21:32:22.908545Z",
     "start_time": "2023-05-16T21:32:22.766744Z"
    },
    "hidden": true
   },
   "outputs": [
    {
     "data": {
      "text/latex": [
       "$\\displaystyle \\tan{\\left(х \\right)}$"
      ],
      "text/plain": [
       "tan(х)"
      ]
     },
     "execution_count": 12,
     "metadata": {},
     "output_type": "execute_result"
    }
   ],
   "source": [
    "x, y = symbols('х у')\n",
    "y = x*sin(x)\n",
    "yprim = diff(y, x)\n",
    "f = yprim/cos(x) - x\n",
    "f.simplify()"
   ]
  },
  {
   "cell_type": "markdown",
   "id": "b9c2d9bf",
   "metadata": {
    "hidden": true
   },
   "source": [
    "Оно совпадает с функцией $ tg x$."
   ]
  },
  {
   "cell_type": "markdown",
   "id": "0be97192",
   "metadata": {
    "heading_collapsed": true
   },
   "source": [
    "### 13: Написать уравнения касательных к графику функции $y=(x^2+1)(x-2)$ в точках её пересечения с осями координат."
   ]
  },
  {
   "cell_type": "markdown",
   "id": "fd7fa379",
   "metadata": {
    "hidden": true
   },
   "source": [
    "Решение. В данной задаче для поиска точек пересечения с осями координат придется решать уравнение у = 0. При этом, среди корней, возвращаемых функцией solve(), могут быть комплексные. Для нашей задачи такие корни являются посторонними. Чтобы функция не выдавала комплексные корни, объявим символьную переменную действительного типа (параметр: real = True)."
   ]
  },
  {
   "cell_type": "code",
   "execution_count": 14,
   "id": "1e9e0e71",
   "metadata": {
    "ExecuteTime": {
     "end_time": "2023-05-16T21:34:28.479565Z",
     "start_time": "2023-05-16T21:34:28.457889Z"
    },
    "hidden": true
   },
   "outputs": [],
   "source": [
    "x = symbols('x', real=True)\n",
    "y = (x**2 + 1)*(x - 2)"
   ]
  },
  {
   "cell_type": "code",
   "execution_count": 19,
   "id": "bfd5944e",
   "metadata": {
    "ExecuteTime": {
     "end_time": "2023-05-16T21:36:52.712277Z",
     "start_time": "2023-05-16T21:36:52.669122Z"
    },
    "hidden": true
   },
   "outputs": [
    {
     "data": {
      "text/latex": [
       "$\\displaystyle - x + y + 2$"
      ],
      "text/plain": [
       "-x + y + 2"
      ]
     },
     "execution_count": 19,
     "metadata": {},
     "output_type": "execute_result"
    }
   ],
   "source": [
    "''' 1. Точка пересечения с осью ординат (х = 0) '''\n",
    "tangent(y, 0).equation()"
   ]
  },
  {
   "cell_type": "code",
   "execution_count": 21,
   "id": "28f4c607",
   "metadata": {
    "ExecuteTime": {
     "end_time": "2023-05-16T21:37:17.227265Z",
     "start_time": "2023-05-16T21:37:17.152282Z"
    },
    "hidden": true
   },
   "outputs": [
    {
     "data": {
      "text/latex": [
       "$\\displaystyle - 5 x + y + 10$"
      ],
      "text/plain": [
       "-5*x + y + 10"
      ]
     },
     "execution_count": 21,
     "metadata": {},
     "output_type": "execute_result"
    }
   ],
   "source": [
    "''' 2. Точка пересечения с осью абсцисс, решаем уравнение: у - 0 '''\n",
    "хр = solve(y, x)\n",
    "tangent(y, хр[0]).equation()"
   ]
  },
  {
   "cell_type": "code",
   "execution_count": 22,
   "id": "ba1f5ab7",
   "metadata": {
    "ExecuteTime": {
     "end_time": "2023-05-16T21:37:38.159574Z",
     "start_time": "2023-05-16T21:37:37.246081Z"
    },
    "hidden": true,
    "scrolled": true
   },
   "outputs": [
    {
     "data": {
      "image/png": "[encoded data removed]",
      "text/plain": [
       "<Figure size 640x480 with 1 Axes>"
      ]
     },
     "metadata": {},
     "output_type": "display_data"
    }
   ],
   "source": [
    "x = np.linspace(-1.5,3.5,100)\n",
    "y = (x**2 + 1)*(x - 2)\n",
    "plt.plot(x, y, lw=2, color='red')\n",
    "x = np.linspace(-1.5,3.3,100)\n",
    "y1 = x - 2\n",
    "plt.plot(x, y1, lw=2, color='green')\n",
    "\n",
    "x = np.linspace(-0.3,3.5,100)\n",
    "y2 = 5*x - 10\n",
    "plt.plot(x, y2, lw=2, color='blue')\n",
    "plt.plot([0], [-2], 'o', color='0.4')\n",
    "plt.plot([2], [0], 'o', color='y')\n",
    "plt.grid(True)\n",
    "plt.show()"
   ]
  },
  {
   "cell_type": "markdown",
   "id": "a4c959f2",
   "metadata": {
    "heading_collapsed": true
   },
   "source": [
    "### 15: Составить уравнение касательной и нормали к кривой в точке. $M(1;-1)$. $x^{2}+2xy^{2}+3y^{4}=6$"
   ]
  },
  {
   "cell_type": "code",
   "execution_count": 56,
   "id": "2c2d3fe8",
   "metadata": {
    "ExecuteTime": {
     "end_time": "2023-05-16T21:55:42.136762Z",
     "start_time": "2023-05-16T21:55:41.846599Z"
    },
    "hidden": true
   },
   "outputs": [
    {
     "data": {
      "text/latex": [
       "$\\displaystyle - \\frac{x}{4} + y + \\frac{5}{4}$"
      ],
      "text/plain": [
       "-x/4 + y + 5/4"
      ]
     },
     "execution_count": 56,
     "metadata": {},
     "output_type": "execute_result"
    }
   ],
   "source": [
    "x, y = symbols('x y')\n",
    "f = x**2 +2*x*y**2 + 3*y**4 - 6\n",
    "\n",
    "''' Точка касания '''\n",
    "x0, y0 = 1, -1\n",
    "\n",
    "''' Производная неявной функции в точке (х0;у0)'''\n",
    "k = idiff(f,y,x).subs([(x,1),(y,-1)])\n",
    "x1 = x0 + 1\n",
    "y1 = y0 + k\n",
    "\n",
    "''' Касательная '''\n",
    "l = Line((x0,y0), (x1,y1))\n",
    "l.equation()"
   ]
  },
  {
   "cell_type": "code",
   "execution_count": 58,
   "id": "2b35d2b1",
   "metadata": {
    "ExecuteTime": {
     "end_time": "2023-05-16T21:56:18.989534Z",
     "start_time": "2023-05-16T21:56:18.948709Z"
    },
    "hidden": true
   },
   "outputs": [
    {
     "data": {
      "text/latex": [
       "$\\displaystyle - x - \\frac{y}{4} + \\frac{3}{4}$"
      ],
      "text/plain": [
       "-x - y/4 + 3/4"
      ]
     },
     "execution_count": 58,
     "metadata": {},
     "output_type": "execute_result"
    }
   ],
   "source": [
    "''' Нормаль '''\n",
    "p = Point(x0,y0)\n",
    "l.perpendicular_line(p).equation()"
   ]
  },
  {
   "cell_type": "code",
   "execution_count": 62,
   "id": "ee909486",
   "metadata": {
    "ExecuteTime": {
     "end_time": "2023-05-16T21:58:38.461765Z",
     "start_time": "2023-05-16T21:58:37.323989Z"
    },
    "hidden": true
   },
   "outputs": [
    {
     "data": {
      "image/png": "[encoded data removed]",
      "text/plain": [
       "<Figure size 640x480 with 1 Axes>"
      ]
     },
     "metadata": {},
     "output_type": "display_data"
    }
   ],
   "source": [
    "x = np.linspace(-4, 4, 50)\n",
    "y = np.linspace(-2, 2, 50)\n",
    "\n",
    "x, y = np.meshgrid(x, y)\n",
    "f = x**2 + 2*x*y**2 + 3*y**4 - 6\n",
    "plt.contour(x, y, f, 0, colors='r')\n",
    "x = np.linspace(-3,3,50)\n",
    "y2 = x/4 - 5/4\n",
    "\n",
    "plt.plot(x,y2,'--',c='b')\n",
    "x = np.linspace(0.1,1.3,50)\n",
    "y3 = 3 - 4*x\n",
    "\n",
    "plt.plot(x, y3, c='g')\n",
    "plt.xlabel('x'); plt.ylabel('y')\n",
    "plt.grid(True, linestyle='-', color='0.4')"
   ]
  },
  {
   "cell_type": "markdown",
   "id": "0c53a06e",
   "metadata": {
    "heading_collapsed": true
   },
   "source": [
    "### 21: При каком значении параметра $a$ парабола $y = ax^2$ касается кривой $y = lnx$?"
   ]
  },
  {
   "cell_type": "code",
   "execution_count": 24,
   "id": "39bbdb3d",
   "metadata": {
    "ExecuteTime": {
     "end_time": "2023-05-16T21:39:58.961738Z",
     "start_time": "2023-05-16T21:39:58.528587Z"
    },
    "hidden": true
   },
   "outputs": [
    {
     "data": {
      "text/plain": [
       "[(exp(1/2), exp(-1)/2)]"
      ]
     },
     "execution_count": 24,
     "metadata": {},
     "output_type": "execute_result"
    }
   ],
   "source": [
    "x, a, x0 = symbols('x а х0')\n",
    "\n",
    "y1 = a*x**2\n",
    "y2 = log(x)\n",
    "\n",
    "y1_diff = diff(y1,x).subs(x,x0)\n",
    "y2_diff = diff(y2,x).subs(x,x0)\n",
    "\n",
    "y1_0 = y1.subs(x,x0)\n",
    "y2_0 = y2.subs(x,x0)\n",
    "\n",
    "solve([y1_0-y2_0, y1_diff-y2_diff], [x0, a])"
   ]
  },
  {
   "cell_type": "code",
   "execution_count": 26,
   "id": "a856c9db",
   "metadata": {
    "ExecuteTime": {
     "end_time": "2023-05-16T21:40:29.497330Z",
     "start_time": "2023-05-16T21:40:28.617040Z"
    },
    "hidden": true
   },
   "outputs": [
    {
     "data": {
      "image/png": "[encoded data removed]",
      "text/plain": [
       "<Figure size 640x480 with 1 Axes>"
      ]
     },
     "metadata": {},
     "output_type": "display_data"
    }
   ],
   "source": [
    "x = np.linspace(-4, 6, 500)\n",
    "y = x**2/(2*np.exp(1))\n",
    "plt.plot(x, y, lw=2, c='r')\n",
    "x = np.linspace(0.03, 6, 100)\n",
    "y = np.log(x)\n",
    "plt.plot(x, y, lw=2, c='b')\n",
    "plt.grid(True, linestyle='-', color='0.4')\n",
    "plt.show()"
   ]
  },
  {
   "cell_type": "markdown",
   "id": "ea861346",
   "metadata": {
    "hidden": true
   },
   "source": [
    "Ответ: $a = \\frac{1}{2e}$"
   ]
  },
  {
   "cell_type": "markdown",
   "id": "173b5bf7",
   "metadata": {
    "heading_collapsed": true
   },
   "source": [
    "### 23: Исследовать на экстремум функцию $y = \\sqrt[3]{x} \\times lnx$."
   ]
  },
  {
   "cell_type": "code",
   "execution_count": 28,
   "id": "41229c6a",
   "metadata": {
    "ExecuteTime": {
     "end_time": "2023-05-16T21:42:13.661543Z",
     "start_time": "2023-05-16T21:42:12.829301Z"
    },
    "hidden": true
   },
   "outputs": [
    {
     "data": {
      "image/png": "[encoded data removed]",
      "text/plain": [
       "<Figure size 640x480 with 1 Axes>"
      ]
     },
     "metadata": {},
     "output_type": "display_data"
    }
   ],
   "source": [
    "f = lambda x: (x**(1/3))*np.log(x)\n",
    "\n",
    "x = np.linspace(0.0001,1,100)\n",
    "y = f(x)\n",
    "plt.plot(x, y)\n",
    "plt.show()"
   ]
  },
  {
   "cell_type": "code",
   "execution_count": 33,
   "id": "fbbd25ae",
   "metadata": {
    "ExecuteTime": {
     "end_time": "2023-05-16T21:43:10.964043Z",
     "start_time": "2023-05-16T21:43:10.918079Z"
    },
    "hidden": true
   },
   "outputs": [
    {
     "name": "stdout",
     "output_type": "stream",
     "text": [
      "xmin: 0.0498 y(x_min): -1.104\n"
     ]
    }
   ],
   "source": [
    "res = minimize(f, 0.01)\n",
    "print('xmin: %.4f y(x_min): %.3f' % (res.x, f(res.x)))"
   ]
  },
  {
   "cell_type": "code",
   "execution_count": 34,
   "id": "7fda7b6c",
   "metadata": {
    "ExecuteTime": {
     "end_time": "2023-05-16T21:43:12.165982Z",
     "start_time": "2023-05-16T21:43:12.116863Z"
    },
    "hidden": true
   },
   "outputs": [
    {
     "name": "stdout",
     "output_type": "stream",
     "text": [
      "xmin: 0.0498 y(x_min): -1.104\n"
     ]
    }
   ],
   "source": [
    "res = minimize(f, 0.01)\n",
    "print('xmin: %.4f y(x_min): %.3f' % (res.x, f(res.x)))"
   ]
  },
  {
   "cell_type": "markdown",
   "id": "c0768310",
   "metadata": {
    "heading_collapsed": true
   },
   "source": [
    "### 31: Найти производную функции $w = \\frac{x^2}{2} + \\frac{y^2}{9} - z^2$ в точке $A(1;2)$ по направлению радиус-вектора этой точки."
   ]
  },
  {
   "cell_type": "code",
   "execution_count": 35,
   "id": "2020941b",
   "metadata": {
    "ExecuteTime": {
     "end_time": "2023-05-16T21:44:22.160696Z",
     "start_time": "2023-05-16T21:44:21.990483Z"
    },
    "hidden": true
   },
   "outputs": [
    {
     "data": {
      "text/latex": [
       "$\\displaystyle \\frac{2 \\sqrt{14}}{7}$"
      ],
      "text/plain": [
       "2*sqrt(14)/7"
      ]
     },
     "execution_count": 35,
     "metadata": {},
     "output_type": "execute_result"
    }
   ],
   "source": [
    "l = Point(2,3,1)\n",
    "\n",
    "l_n = l.distance(Point(0,0,0))\n",
    "\n",
    "cos_a = l.x/l_n\n",
    "cos_b = l.y/l_n\n",
    "cos_c = l.z/l_n\n",
    "\n",
    "x,y,z = symbols('x у z')\n",
    "w = x**2/2 + y**2/9 - z**2\n",
    "\n",
    "w_x = diff(w,x).subs({x:2, y:3, z:1})\n",
    "w_y = diff(w,y).subs({x:2, y:3, z:1})\n",
    "w_z = diff(w,z).subs({x:2, y:3, z:1})\n",
    "\n",
    "w_x = diff(w,x).subs([(x,2),(y,3),(z,1)])\n",
    "w_y = diff(w,y).subs([(x,2),(y,3),(z,1)])\n",
    "w_z = diff(w,z).subs([(x,2),(y,3),(z,1)])\n",
    "\n",
    "w_l = w_x*cos_a + w_y*cos_b + w_z*cos_c\n",
    "w_l"
   ]
  },
  {
   "cell_type": "markdown",
   "id": "ef81d94a",
   "metadata": {
    "heading_collapsed": true
   },
   "source": [
    "### 40: Найти экстремумы функции $z = x^2 -4xy - 2y^2 + 8x$."
   ]
  },
  {
   "cell_type": "code",
   "execution_count": 47,
   "id": "ec004325",
   "metadata": {
    "ExecuteTime": {
     "end_time": "2023-05-16T21:49:44.829299Z",
     "start_time": "2023-05-16T21:49:44.645853Z"
    },
    "hidden": true
   },
   "outputs": [
    {
     "data": {
      "text/plain": [
       "[{x: -4/3, y: 4/3}]"
      ]
     },
     "execution_count": 47,
     "metadata": {},
     "output_type": "execute_result"
    }
   ],
   "source": [
    "x, y = symbols('x y')\n",
    "z = x**2 - 4*x*y - 2*y**2 + 8*x\n",
    "cr_point, A, D = critical_points(z)\n",
    "cr_point"
   ]
  },
  {
   "cell_type": "markdown",
   "id": "5864fbfe",
   "metadata": {
    "hidden": true
   },
   "source": [
    "Одна критическая точка"
   ]
  },
  {
   "cell_type": "code",
   "execution_count": 48,
   "id": "3a007abd",
   "metadata": {
    "ExecuteTime": {
     "end_time": "2023-05-16T21:49:46.295458Z",
     "start_time": "2023-05-16T21:49:46.259878Z"
    },
    "hidden": true
   },
   "outputs": [
    {
     "data": {
      "text/plain": [
       "(-24, 2)"
      ]
     },
     "execution_count": 48,
     "metadata": {},
     "output_type": "execute_result"
    }
   ],
   "source": [
    "D0, A0 = suff_indic(A, D, cr_point[0])\n",
    "D0, A0"
   ]
  },
  {
   "cell_type": "markdown",
   "id": "b5db999c",
   "metadata": {
    "hidden": true
   },
   "source": [
    "$\\Delta = -24 < 0$ - экстремума нет"
   ]
  },
  {
   "cell_type": "markdown",
   "id": "aa34e7a5",
   "metadata": {
    "heading_collapsed": true
   },
   "source": [
    "### 47: Функция спроса $D$ и предложения $S$ от цены $p$ имеют вид: $D(p) = 40 - 1,3p$, $S(p) = 20 + 1,2p$. Найти эластичность спроса в точке равновенсой цены."
   ]
  },
  {
   "cell_type": "code",
   "execution_count": 50,
   "id": "db6bd556",
   "metadata": {
    "ExecuteTime": {
     "end_time": "2023-05-16T21:50:51.023365Z",
     "start_time": "2023-05-16T21:50:50.957053Z"
    },
    "hidden": true
   },
   "outputs": [
    {
     "data": {
      "text/latex": [
       "$\\displaystyle 8.0$"
      ],
      "text/plain": [
       "8.0"
      ]
     },
     "execution_count": 50,
     "metadata": {},
     "output_type": "execute_result"
    }
   ],
   "source": [
    "p = symbols('р')\n",
    "D = 40 - 1.3*p\n",
    "S = 20 + 1.2*p\n",
    "p0 = solve(D-S,p)\n",
    "p0[0].n(2)"
   ]
  },
  {
   "cell_type": "code",
   "execution_count": 51,
   "id": "9dfbeeb8",
   "metadata": {
    "ExecuteTime": {
     "end_time": "2023-05-16T21:50:52.564739Z",
     "start_time": "2023-05-16T21:50:52.506057Z"
    },
    "hidden": true
   },
   "outputs": [
    {
     "data": {
      "text/latex": [
       "$\\displaystyle -0.351$"
      ],
      "text/plain": [
       "-0.351"
      ]
     },
     "execution_count": 51,
     "metadata": {},
     "output_type": "execute_result"
    }
   ],
   "source": [
    "Dprim = diff(D,p)\n",
    "E = (p*Dprim/D).subs(p,p0[0])\n",
    "E.n(3)"
   ]
  }
 ],
 "metadata": {
  "hide_input": false,
  "kernelspec": {
   "display_name": "Python 3 (ipykernel)",
   "language": "python",
   "name": "python3"
  },
  "language_info": {
   "codemirror_mode": {
    "name": "ipython",
    "version": 3
   },
   "file_extension": ".py",
   "mimetype": "text/x-python",
   "name": "python",
   "nbconvert_exporter": "python",
   "pygments_lexer": "ipython3",
   "version": "3.10.6"
  },
  "nbTranslate": {
   "displayLangs": [
    "*"
   ],
   "hotkey": "alt-t",
   "langInMainMenu": true,
   "sourceLang": "en",
   "targetLang": "fr",
   "useGoogleTranslate": true
  },
  "toc": {
   "base_numbering": 1,
   "nav_menu": {},
   "number_sections": true,
   "sideBar": true,
   "skip_h1_title": false,
   "title_cell": "Table of Contents",
   "title_sidebar": "Contents",
   "toc_cell": false,
   "toc_position": {},
   "toc_section_display": true,
   "toc_window_display": false
  },
  "varInspector": {
   "cols": {
    "lenName": 16,
    "lenType": 16,
    "lenVar": 40
   },
   "kernels_config": {
    "python": {
     "delete_cmd_postfix": "",
     "delete_cmd_prefix": "del ",
     "library": "var_list.py",
     "varRefreshCmd": "print(var_dic_list())"
    },
    "r": {
     "delete_cmd_postfix": ") ",
     "delete_cmd_prefix": "rm(",
     "library": "var_list.r",
     "varRefreshCmd": "cat(var_dic_list()) "
    }
   },
   "types_to_exclude": [
    "module",
    "function",
    "builtin_function_or_method",
    "instance",
    "_Feature"
   ],
   "window_display": false
  }
 },
 "nbformat": 4,
 "nbformat_minor": 5
}
