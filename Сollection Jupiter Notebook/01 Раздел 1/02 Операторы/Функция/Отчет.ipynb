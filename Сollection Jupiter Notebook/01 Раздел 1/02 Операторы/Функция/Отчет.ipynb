{
 "cells": [
  {
   "cell_type": "markdown",
   "id": "7d863c81",
   "metadata": {},
   "source": [
    "# Функция"
   ]
  },
  {
   "cell_type": "markdown",
   "id": "cccbad88",
   "metadata": {},
   "source": [
    "def \\[name\\](\\[arg\\]):\\\n",
    "&emsp;\\[operator\\]\\\n",
    "&emsp;\\[return|pass\\]"
   ]
  },
  {
   "cell_type": "markdown",
   "id": "a3a57589",
   "metadata": {},
   "source": [
    "#### &emsp; - Ключевые слова (def)\n",
    "#### &emsp; - Именная функция ([name])\n",
    "#### &emsp; - Аргументы функции ([arg])\n",
    "#### &emsp; - Возврат функции (return)\n",
    "#### &emsp; - Ничего не делает (pass)"
   ]
  },
  {
   "cell_type": "markdown",
   "id": "08df31fc",
   "metadata": {},
   "source": [
    "---"
   ]
  },
  {
   "cell_type": "markdown",
   "id": "95fd7ae9",
   "metadata": {},
   "source": [
    "## Пример"
   ]
  },
  {
   "cell_type": "markdown",
   "id": "a9cb5f92",
   "metadata": {},
   "source": [
    "### Определения функции:"
   ]
  },
  {
   "cell_type": "code",
   "execution_count": 55,
   "id": "6d9ffb4b",
   "metadata": {},
   "outputs": [],
   "source": [
    "# определения функции math_add\n",
    "def math_add(x, y):\n",
    "    # return - возврат функции\n",
    "    return x + y # результат\n",
    "\n",
    "def fun_null():\n",
    "    pass # оператор ничего не делает. Используется для пустых блоков кода\n",
    "\n",
    "def func(a, b, c = 4):  # где с - необязательный аргумент\n",
    "    return a * b * c # результат"
   ]
  },
  {
   "cell_type": "markdown",
   "id": "410aa070",
   "metadata": {},
   "source": [
    "### Результаты:"
   ]
  },
  {
   "cell_type": "code",
   "execution_count": 56,
   "id": "046215a0",
   "metadata": {},
   "outputs": [
    {
     "name": "stdout",
     "output_type": "stream",
     "text": [
      "fun_add(2,3): 5\n"
     ]
    }
   ],
   "source": [
    "# вход: целый чисел, \n",
    "# выход: \"fun_add(2,3): 5\"\n",
    "\n",
    "print(\"fun_add(2,3):\", math_add(2, 3))"
   ]
  },
  {
   "cell_type": "code",
   "execution_count": 57,
   "id": "208bedb7",
   "metadata": {},
   "outputs": [
    {
     "name": "stdout",
     "output_type": "stream",
     "text": [
      "fun_add(\"2\",\"3\"): 23\n"
     ]
    }
   ],
   "source": [
    "# вход: строка\n",
    "# выход: \"fun_add(2,3): 5\"\n",
    "print(\"fun_add(\\\"2\\\",\\\"3\\\"):\", math_add(\"2\", \"3\"))"
   ]
  },
  {
   "cell_type": "code",
   "execution_count": 58,
   "id": "6468b743",
   "metadata": {},
   "outputs": [
    {
     "name": "stdout",
     "output_type": "stream",
     "text": [
      "fun_add(\"2\",\"3\"): 2\n"
     ]
    }
   ],
   "source": [
    "# вход: логическое значение\n",
    "# выход: \"fun_add(2,3): 5\"\n",
    "\n",
    "print(\"fun_add(\\\"2\\\",\\\"3\\\"):\", math_add(True, True))"
   ]
  },
  {
   "cell_type": "code",
   "execution_count": 59,
   "id": "dbd2431a",
   "metadata": {},
   "outputs": [
    {
     "name": "stdout",
     "output_type": "stream",
     "text": [
      "fun_null(): None\n"
     ]
    }
   ],
   "source": [
    "# вход: ничего;\n",
    "# выход: \"fun_null(): None\"\n",
    "\n",
    "print(\"fun_null():\", fun_null())"
   ]
  },
  {
   "cell_type": "code",
   "execution_count": 60,
   "id": "406d249a",
   "metadata": {},
   "outputs": [
    {
     "name": "stdout",
     "output_type": "stream",
     "text": [
      "func(1,2,[c=4]): 8\n"
     ]
    }
   ],
   "source": [
    "# вход: целый чисел, с = 4 по умолчанию\n",
    "# выход: \"func(1,2,[c=4]): 8\"\n",
    "\n",
    "print(\"func(1,2,[c=4]):\", func(1,2))"
   ]
  },
  {
   "cell_type": "code",
   "execution_count": 61,
   "id": "d67973b8",
   "metadata": {},
   "outputs": [
    {
     "name": "stdout",
     "output_type": "stream",
     "text": [
      "func(1,2,3): 6\n"
     ]
    }
   ],
   "source": [
    "# вход: целый чисел,\n",
    "# выход: \"func(1,2,3): 6\"\n",
    "\n",
    "print(\"func(1,2,3):\", func(1,2,3))"
   ]
  },
  {
   "cell_type": "code",
   "execution_count": 64,
   "id": "ba24f8e6",
   "metadata": {},
   "outputs": [
    {
     "name": "stdout",
     "output_type": "stream",
     "text": [
      "func(a=1,b=3,[c=4]): 12\n"
     ]
    }
   ],
   "source": [
    "# вход: целый чисел, с = 4 по умолчанию\n",
    "# выход: \"func(a=1,b=3,[c=4]): 12\"\n",
    "\n",
    "print(\"func(a=1,b=3,[c=4]):\", func(a=1,b=3))"
   ]
  },
  {
   "cell_type": "code",
   "execution_count": 63,
   "id": "33fe3d58",
   "metadata": {},
   "outputs": [
    {
     "ename": "TypeError",
     "evalue": "func() missing 1 required positional argument: 'b'",
     "output_type": "error",
     "traceback": [
      "\u001b[0;31m---------------------------------------------------------------------------\u001b[0m",
      "\u001b[0;31mTypeError\u001b[0m                                 Traceback (most recent call last)",
      "Cell \u001b[0;32mIn[63], line 3\u001b[0m\n\u001b[1;32m      1\u001b[0m \u001b[38;5;66;03m# вход: целый чисел\u001b[39;00m\n\u001b[1;32m      2\u001b[0m \u001b[38;5;66;03m# выход: \"TypeError: func() missing 1 required positional argument: 'b'\"\u001b[39;00m\n\u001b[0;32m----> 3\u001b[0m \u001b[38;5;28mprint\u001b[39m(\u001b[38;5;124m\"\u001b[39m\u001b[38;5;124mfunc(a=3,c=6,b=?)\u001b[39m\u001b[38;5;124m\"\u001b[39m, \u001b[43mfunc\u001b[49m\u001b[43m(\u001b[49m\u001b[43ma\u001b[49m\u001b[38;5;241;43m=\u001b[39;49m\u001b[38;5;241;43m3\u001b[39;49m\u001b[43m,\u001b[49m\u001b[43mc\u001b[49m\u001b[38;5;241;43m=\u001b[39;49m\u001b[38;5;241;43m6\u001b[39;49m\u001b[43m)\u001b[49m)\n",
      "\u001b[0;31mTypeError\u001b[0m: func() missing 1 required positional argument: 'b'"
     ]
    }
   ],
   "source": [
    "# вход: целый чисел, b = ? не определен\n",
    "# выход: \"TypeError: func() missing 1 required positional argument: 'b'\"\n",
    "\n",
    "print(\"func(a=3,c=6,b=?)\", func(a=3,c=6))"
   ]
  }
 ],
 "metadata": {
  "kernelspec": {
   "display_name": "Python 3 (ipykernel)",
   "language": "python",
   "name": "python3"
  },
  "language_info": {
   "codemirror_mode": {
    "name": "ipython",
    "version": 3
   },
   "file_extension": ".py",
   "mimetype": "text/x-python",
   "name": "python",
   "nbconvert_exporter": "python",
   "pygments_lexer": "ipython3",
   "version": "3.10.6"
  }
 },
 "nbformat": 4,
 "nbformat_minor": 5
}
