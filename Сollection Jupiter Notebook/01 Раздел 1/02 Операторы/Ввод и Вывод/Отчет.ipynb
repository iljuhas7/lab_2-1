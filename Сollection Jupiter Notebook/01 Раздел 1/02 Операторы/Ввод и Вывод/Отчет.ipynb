{
 "cells": [
  {
   "cell_type": "markdown",
   "id": "3cd760d6",
   "metadata": {},
   "source": [
    "# Ввод (input) и вывод (print)"
   ]
  },
  {
   "cell_type": "markdown",
   "id": "9c019a8c",
   "metadata": {},
   "source": [
    "## Пример input()"
   ]
  },
  {
   "cell_type": "code",
   "execution_count": 6,
   "id": "fe3b00df",
   "metadata": {},
   "outputs": [
    {
     "name": "stdout",
     "output_type": "stream",
     "text": [
      "Пример ввода текст.\n"
     ]
    }
   ],
   "source": [
    "# вход: ввести текст \"Пример ввода текст.\" и нажмите кнопка Enter\n",
    "# выход: \"Пример ввода текст.\"\n",
    "\n",
    "text = input()"
   ]
  },
  {
   "cell_type": "code",
   "execution_count": 4,
   "id": "333e3f0a",
   "metadata": {},
   "outputs": [
    {
     "name": "stdout",
     "output_type": "stream",
     "text": [
      "Заголовок текст: пример ввода текст\n"
     ]
    }
   ],
   "source": [
    "# вход: ввести текст \"Пример ввода текст.\" и нажмите кнопка Enter\n",
    "# выход: \"Заголовок текст: Пример ввода текст.\"\n",
    "\n",
    "text = input(\"Заголовок текст: \")"
   ]
  },
  {
   "cell_type": "code",
   "execution_count": 7,
   "id": "92466867",
   "metadata": {},
   "outputs": [
    {
     "name": "stdout",
     "output_type": "stream",
     "text": [
      "x: 3\n",
      "y: 6\n"
     ]
    },
    {
     "data": {
      "text/plain": [
       "9"
      ]
     },
     "execution_count": 7,
     "metadata": {},
     "output_type": "execute_result"
    }
   ],
   "source": [
    "# вход: ввести текст целый чисел x = 3 и y = 6 и нажмите кнопка Enter\n",
    "# выход: 9\n",
    "\n",
    "# Преобразование из строка в целый чисел\n",
    "x = int(input(\"x: \"))\n",
    "y = int(input(\"y: \"))\n",
    "\n",
    "x + y # результат"
   ]
  },
  {
   "cell_type": "markdown",
   "id": "70cfe654",
   "metadata": {},
   "source": [
    "## Пример print()"
   ]
  },
  {
   "cell_type": "code",
   "execution_count": 10,
   "id": "24d4c820",
   "metadata": {},
   "outputs": [
    {
     "name": "stdout",
     "output_type": "stream",
     "text": [
      "Пример вывод текст.\n"
     ]
    }
   ],
   "source": [
    "# вход: print \"Пример вывод текст.\"\n",
    "# выход: Пример вывод текст.\n",
    "\n",
    "print(\"Пример вывод текст.\") # Вывод текст "
   ]
  },
  {
   "cell_type": "code",
   "execution_count": 11,
   "id": "46aad6b6",
   "metadata": {},
   "outputs": [
    {
     "name": "stdout",
     "output_type": "stream",
     "text": [
      "Пример вывод текст.\n"
     ]
    }
   ],
   "source": [
    "# вход: print \"Пример\", \"вывод\", \"текст.\"\n",
    "# выход: Пример вывод текст.\n",
    "\n",
    "print(\"Пример\", \"вывод\", \"текст.\") # Вывод текст несколько аргументов"
   ]
  },
  {
   "cell_type": "code",
   "execution_count": 19,
   "id": "53e43667",
   "metadata": {},
   "outputs": [
    {
     "name": "stdout",
     "output_type": "stream",
     "text": [
      "Срока: Пример {name} текст.\n",
      "Форматирования строк:Пример вывод текст.\n"
     ]
    }
   ],
   "source": [
    "# вход: print f\"Пример {name} текст.\" где {name} = \"вывод\". f\"...\" - форматирования строк\n",
    "# выход: Пример вывод текст.\n",
    "\n",
    "name = \"вывод\"\n",
    "print(\"Срока: Пример {name} текст.\") # Вывод текст \n",
    "print(f\"Форматирования строк:Пример {name} текст.\") # Вывод текст "
   ]
  },
  {
   "cell_type": "code",
   "execution_count": 21,
   "id": "895c9124",
   "metadata": {},
   "outputs": [
    {
     "name": "stdout",
     "output_type": "stream",
     "text": [
      "Пример-вывод-текст.\n"
     ]
    }
   ],
   "source": [
    "# вход: print \"Пример\", \"вывод\", \"текст.\" с параметр sep=\"-\" (англ. separator — «разделитель»)\n",
    "# выход: Пример вывод текст.\n",
    "\n",
    "print(\"Пример\", \"вывод\", \"текст.\", sep=\"-\") # Вывод текст несколько аргументов"
   ]
  },
  {
   "cell_type": "code",
   "execution_count": 24,
   "id": "58681e88",
   "metadata": {},
   "outputs": [
    {
     "name": "stdout",
     "output_type": "stream",
     "text": [
      "Пример вывод текст."
     ]
    }
   ],
   "source": [
    "# вход: print \"Пример\", \"вывод\", \"текст\" с параметр end=\".\" (англ. end — «конец»)\n",
    "# выход: Пример вывод текст.\n",
    "\n",
    "print(\"Пример\", \"вывод\", \"текст\", end=\".\") # Вывод текст несколько аргументов"
   ]
  },
  {
   "cell_type": "code",
   "execution_count": 25,
   "id": "dcff73aa",
   "metadata": {},
   "outputs": [
    {
     "name": "stdout",
     "output_type": "stream",
     "text": [
      "Пример 120\n"
     ]
    }
   ],
   "source": [
    "# вход: print \"Пример\", x. где x = 120\n",
    "# выход: Пример 120\n",
    "\n",
    "x = 120\n",
    "print(\"Пример\", x) # Вывод текст несколько аргументов"
   ]
  }
 ],
 "metadata": {
  "kernelspec": {
   "display_name": "Python 3 (ipykernel)",
   "language": "python",
   "name": "python3"
  },
  "language_info": {
   "codemirror_mode": {
    "name": "ipython",
    "version": 3
   },
   "file_extension": ".py",
   "mimetype": "text/x-python",
   "name": "python",
   "nbconvert_exporter": "python",
   "pygments_lexer": "ipython3",
   "version": "3.10.6"
  }
 },
 "nbformat": 4,
 "nbformat_minor": 5
}
