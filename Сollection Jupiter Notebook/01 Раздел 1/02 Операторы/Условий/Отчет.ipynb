{
 "cells": [
  {
   "cell_type": "markdown",
   "id": "3cd760d6",
   "metadata": {},
   "source": [
    "# Условные операторы if, elif, else"
   ]
  },
  {
   "cell_type": "markdown",
   "id": "1bd716f4",
   "metadata": {},
   "source": [
    "if \\[condition\\]:\\\n",
    "&emsp;\\[operator\\]"
   ]
  },
  {
   "cell_type": "markdown",
   "id": "e3ce42b4",
   "metadata": {},
   "source": [
    "## Пример"
   ]
  },
  {
   "cell_type": "code",
   "execution_count": 4,
   "id": "cb3aa8aa",
   "metadata": {},
   "outputs": [
    {
     "name": "stdout",
     "output_type": "stream",
     "text": [
      "Первая четверть\n"
     ]
    }
   ],
   "source": [
    "# вход: x = 3 и y = 2\n",
    "# выход: Первая четверть\n",
    "\n",
    "x = 3\n",
    "y = 2\n",
    "\n",
    "if x > 0 and y > 0: # если x больше 0 и y больше 0\n",
    "    print(\"Первая четверть\")\n",
    "    \n",
    "elif x > 0 and y < 0: # иначе, если x больше 0 и y меньше 0\n",
    "    print(\"Четвертая четверть\")\n",
    "          \n",
    "elif y > 0: # иначе, если y больше 0\n",
    "    print(\"Вторая четверть\")\n",
    "          \n",
    "else: # иначе\n",
    "    print(\"Tpeтья четверть\")"
   ]
  }
 ],
 "metadata": {
  "kernelspec": {
   "display_name": "Python 3 (ipykernel)",
   "language": "python",
   "name": "python3"
  },
  "language_info": {
   "codemirror_mode": {
    "name": "ipython",
    "version": 3
   },
   "file_extension": ".py",
   "mimetype": "text/x-python",
   "name": "python",
   "nbconvert_exporter": "python",
   "pygments_lexer": "ipython3",
   "version": "3.10.6"
  }
 },
 "nbformat": 4,
 "nbformat_minor": 5
}
