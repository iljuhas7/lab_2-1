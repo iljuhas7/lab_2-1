{
 "cells": [
  {
   "cell_type": "markdown",
   "id": "3cd760d6",
   "metadata": {},
   "source": [
    "# Импорт (import)"
   ]
  },
  {
   "cell_type": "markdown",
   "id": "a9e6a121",
   "metadata": {},
   "source": [
    "## Пример import"
   ]
  },
  {
   "cell_type": "code",
   "execution_count": 18,
   "id": "d588ce4f",
   "metadata": {},
   "outputs": [],
   "source": [
    "import numpy # включить модуль numpy"
   ]
  },
  {
   "cell_type": "code",
   "execution_count": 19,
   "id": "daa62c99",
   "metadata": {},
   "outputs": [],
   "source": [
    "import numpy.random # включить модуль numpy.random"
   ]
  },
  {
   "cell_type": "code",
   "execution_count": 20,
   "id": "672afdfc",
   "metadata": {},
   "outputs": [],
   "source": [
    "import numpy as np # включить модуль numpy, numpy как np"
   ]
  },
  {
   "cell_type": "code",
   "execution_count": 22,
   "id": "900a4244",
   "metadata": {},
   "outputs": [],
   "source": [
    "from numpy import random # включить модуль numpy в random"
   ]
  },
  {
   "cell_type": "code",
   "execution_count": 23,
   "id": "f0cd14ef",
   "metadata": {},
   "outputs": [],
   "source": [
    "from numpy import * # включить модуль numpy в всех модуля"
   ]
  }
 ],
 "metadata": {
  "kernelspec": {
   "display_name": "Python 3 (ipykernel)",
   "language": "python",
   "name": "python3"
  },
  "language_info": {
   "codemirror_mode": {
    "name": "ipython",
    "version": 3
   },
   "file_extension": ".py",
   "mimetype": "text/x-python",
   "name": "python",
   "nbconvert_exporter": "python",
   "pygments_lexer": "ipython3",
   "version": "3.10.6"
  }
 },
 "nbformat": 4,
 "nbformat_minor": 5
}
