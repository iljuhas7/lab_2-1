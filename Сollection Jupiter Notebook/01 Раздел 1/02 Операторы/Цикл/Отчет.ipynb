{
 "cells": [
  {
   "cell_type": "markdown",
   "id": "43d4026f",
   "metadata": {},
   "source": [
    "# Цикл"
   ]
  },
  {
   "cell_type": "markdown",
   "id": "0c5f0fe0",
   "metadata": {},
   "source": [
    "## While"
   ]
  },
  {
   "cell_type": "code",
   "execution_count": 6,
   "id": "9fbfdd3c",
   "metadata": {},
   "outputs": [
    {
     "name": "stdout",
     "output_type": "stream",
     "text": [
      "while(5): 0; 1; 2; 3; 4; "
     ]
    }
   ],
   "source": [
    "# вход: x = 0\n",
    "# выход: while(5): 0; 1; 2; 3; 4; \n",
    "\n",
    "x = 0\n",
    "print(\"while(5): \", end=\"\")\n",
    "while x < 5:\n",
    "    print(str(x), end=\"; \")\n",
    "    x = x + 1"
   ]
  },
  {
   "cell_type": "markdown",
   "id": "3f9c1e00",
   "metadata": {},
   "source": [
    "## For"
   ]
  },
  {
   "cell_type": "code",
   "execution_count": 7,
   "id": "bdaad759",
   "metadata": {},
   "outputs": [
    {
     "name": "stdout",
     "output_type": "stream",
     "text": [
      "\n",
      "for(5): 0; 1; 2; 3; 4; "
     ]
    }
   ],
   "source": [
    "# вход: x = 5\n",
    "# выход: while(5): 0; 1; 2; 3; 4; \n",
    "\n",
    "x = 5\n",
    "print(\"\\nfor(5): \", end=\"\")\n",
    "for x in range(0, 5):\n",
    "    print(str(x), end=\"; \")\n",
    "    x = x - 1"
   ]
  }
 ],
 "metadata": {
  "kernelspec": {
   "display_name": "Python 3 (ipykernel)",
   "language": "python",
   "name": "python3"
  },
  "language_info": {
   "codemirror_mode": {
    "name": "ipython",
    "version": 3
   },
   "file_extension": ".py",
   "mimetype": "text/x-python",
   "name": "python",
   "nbconvert_exporter": "python",
   "pygments_lexer": "ipython3",
   "version": "3.10.6"
  }
 },
 "nbformat": 4,
 "nbformat_minor": 5
}
