{
 "cells": [
  {
   "cell_type": "markdown",
   "id": "448a1be1",
   "metadata": {},
   "source": [
    "# Math - для вычислений с действительными числами."
   ]
  },
  {
   "cell_type": "markdown",
   "id": "60785409",
   "metadata": {
    "heading_collapsed": true
   },
   "source": [
    "## Импорт"
   ]
  },
  {
   "cell_type": "code",
   "execution_count": 360,
   "id": "76b65f5c",
   "metadata": {
    "ExecuteTime": {
     "end_time": "2023-05-03T23:34:27.702922Z",
     "start_time": "2023-05-03T23:34:27.685985Z"
    },
    "cell_style": "center",
    "hidden": true,
    "lang": "en",
    "run_control": {
     "marked": false
    }
   },
   "outputs": [],
   "source": [
    "import math as m # библиотека: math как m "
   ]
  },
  {
   "cell_type": "markdown",
   "id": "7aae1cfd",
   "metadata": {
    "heading_collapsed": true
   },
   "source": [
    "## Константы и специальные значения модуля"
   ]
  },
  {
   "cell_type": "code",
   "execution_count": 364,
   "id": "ddb23b4d",
   "metadata": {
    "ExecuteTime": {
     "end_time": "2023-05-03T23:34:37.257247Z",
     "start_time": "2023-05-03T23:34:37.229121Z"
    },
    "hidden": true
   },
   "outputs": [
    {
     "data": {
      "text/plain": [
       "2.718281828459045"
      ]
     },
     "execution_count": 364,
     "metadata": {},
     "output_type": "execute_result"
    }
   ],
   "source": [
    "m.e # число Эйлера"
   ]
  },
  {
   "cell_type": "code",
   "execution_count": 365,
   "id": "b2ccee04",
   "metadata": {
    "ExecuteTime": {
     "end_time": "2023-05-03T23:34:37.543530Z",
     "start_time": "2023-05-03T23:34:37.516083Z"
    },
    "hidden": true
   },
   "outputs": [
    {
     "data": {
      "text/plain": [
       "inf"
      ]
     },
     "execution_count": 365,
     "metadata": {},
     "output_type": "execute_result"
    }
   ],
   "source": [
    "m.inf # Бесконечное число"
   ]
  },
  {
   "cell_type": "code",
   "execution_count": 366,
   "id": "647731e6",
   "metadata": {
    "ExecuteTime": {
     "end_time": "2023-05-03T23:34:37.817704Z",
     "start_time": "2023-05-03T23:34:37.790374Z"
    },
    "hidden": true
   },
   "outputs": [
    {
     "data": {
      "text/plain": [
       "nan"
      ]
     },
     "execution_count": 366,
     "metadata": {},
     "output_type": "execute_result"
    }
   ],
   "source": [
    "m.nan # не число"
   ]
  },
  {
   "cell_type": "code",
   "execution_count": 367,
   "id": "38f21f83",
   "metadata": {
    "ExecuteTime": {
     "end_time": "2023-05-03T23:34:39.651577Z",
     "start_time": "2023-05-03T23:34:39.624947Z"
    },
    "hidden": true
   },
   "outputs": [
    {
     "data": {
      "text/plain": [
       "3.141592653589793"
      ]
     },
     "execution_count": 367,
     "metadata": {},
     "output_type": "execute_result"
    }
   ],
   "source": [
    "m.pi # число Пи"
   ]
  },
  {
   "cell_type": "code",
   "execution_count": 368,
   "id": "e7e9ada8",
   "metadata": {
    "ExecuteTime": {
     "end_time": "2023-05-03T23:34:40.276098Z",
     "start_time": "2023-05-03T23:34:40.248168Z"
    },
    "hidden": true
   },
   "outputs": [
    {
     "data": {
      "text/plain": [
       "6.283185307179586"
      ]
     },
     "execution_count": 368,
     "metadata": {},
     "output_type": "execute_result"
    }
   ],
   "source": [
    "m.tau # tau как 2*Пи"
   ]
  },
  {
   "cell_type": "markdown",
   "id": "33f20098",
   "metadata": {},
   "source": [
    "## Функция"
   ]
  },
  {
   "cell_type": "markdown",
   "id": "60702bb3",
   "metadata": {
    "heading_collapsed": true
   },
   "source": [
    "### Пример, объявление переменных в Math "
   ]
  },
  {
   "cell_type": "code",
   "execution_count": 371,
   "id": "60667250",
   "metadata": {
    "ExecuteTime": {
     "end_time": "2023-05-03T23:40:02.468125Z",
     "start_time": "2023-05-03T23:40:02.446382Z"
    },
    "hidden": true
   },
   "outputs": [],
   "source": [
    "x = 12.5\n",
    "a = m.pi/6 # Пи / 6\n",
    "y = 8.97 # y\n",
    "n = 2 # степень\n",
    "xc = x.conjugate # комплексно сопряженное\n",
    "xi = x.imag # мнимая часть числа\n",
    "xr = x.real # действительная часть."
   ]
  },
  {
   "cell_type": "markdown",
   "id": "8b65da49",
   "metadata": {
    "heading_collapsed": true
   },
   "source": [
    "### Преобразование"
   ]
  },
  {
   "cell_type": "markdown",
   "id": "687e9fa0",
   "metadata": {
    "heading_collapsed": true,
    "hidden": true
   },
   "source": [
    "#### \n",
    "### Угол, из радианов в градусы: degrees"
   ]
  },
  {
   "cell_type": "code",
   "execution_count": 222,
   "id": "28044636",
   "metadata": {
    "ExecuteTime": {
     "end_time": "2023-05-03T20:49:19.012717Z",
     "start_time": "2023-05-03T20:49:18.983331Z"
    },
    "hidden": true,
    "run_control": {
     "marked": false
    }
   },
   "outputs": [
    {
     "data": {
      "text/plain": [
       "1.5707963267948966"
      ]
     },
     "execution_count": 222,
     "metadata": {},
     "output_type": "execute_result"
    }
   ],
   "source": [
    "# Вход ввод 90\n",
    "# Выход 1.57 рад.\n",
    "\n",
    "ret = m.radians(90)\n",
    "ret"
   ]
  },
  {
   "cell_type": "markdown",
   "id": "f4ab58d6",
   "metadata": {
    "heading_collapsed": true,
    "hidden": true
   },
   "source": [
    "#### \n",
    "### Угол, из градусов в радианы: radians"
   ]
  },
  {
   "cell_type": "code",
   "execution_count": 223,
   "id": "c38b9512",
   "metadata": {
    "ExecuteTime": {
     "end_time": "2023-05-03T20:49:20.118053Z",
     "start_time": "2023-05-03T20:49:20.088024Z"
    },
    "hidden": true
   },
   "outputs": [
    {
     "data": {
      "text/plain": [
       "90.0"
      ]
     },
     "execution_count": 223,
     "metadata": {},
     "output_type": "execute_result"
    }
   ],
   "source": [
    "# Вход ввод 1.5707963267948966\n",
    "# Выход 90 град.\n",
    "\n",
    "ret = m.degrees(1.5707963267948966)\n",
    "ret"
   ]
  },
  {
   "cell_type": "markdown",
   "id": "df2502e6",
   "metadata": {
    "heading_collapsed": true
   },
   "source": [
    "### Специальные функции"
   ]
  },
  {
   "cell_type": "markdown",
   "id": "2686dfa6",
   "metadata": {
    "heading_collapsed": true,
    "hidden": true
   },
   "source": [
    "#### \n",
    "### Гамма-функция: gamma"
   ]
  },
  {
   "cell_type": "code",
   "execution_count": 226,
   "id": "a2425f59",
   "metadata": {
    "ExecuteTime": {
     "end_time": "2023-05-03T20:53:54.589528Z",
     "start_time": "2023-05-03T20:53:54.558727Z"
    },
    "hidden": true
   },
   "outputs": [
    {
     "data": {
      "text/plain": [
       "2.0"
      ]
     },
     "execution_count": 226,
     "metadata": {},
     "output_type": "execute_result"
    }
   ],
   "source": [
    "# Вход ввод аргумента х = 3\n",
    "# Выход 2.0, так как f(x) = (x - 1)!\n",
    "\n",
    "ret = m.gamma(3)\n",
    "ret"
   ]
  },
  {
   "cell_type": "markdown",
   "id": "ed71c836",
   "metadata": {
    "heading_collapsed": true,
    "hidden": true
   },
   "source": [
    "#### \n",
    "### Натуральный логарифм от гамма-функции: lgamma"
   ]
  },
  {
   "cell_type": "code",
   "execution_count": 232,
   "id": "1610ecb1",
   "metadata": {
    "ExecuteTime": {
     "end_time": "2023-05-03T20:58:11.502812Z",
     "start_time": "2023-05-03T20:58:11.474199Z"
    },
    "hidden": true
   },
   "outputs": [
    {
     "data": {
      "text/plain": [
       "0.693147180559945"
      ]
     },
     "execution_count": 232,
     "metadata": {},
     "output_type": "execute_result"
    }
   ],
   "source": [
    "# Вход ввод аргумента х = 3\n",
    "# Выход 2.0, так как f(x) = (x - 1)!\n",
    "\n",
    "ret = m.lgamma(3)\n",
    "ret"
   ]
  },
  {
   "cell_type": "markdown",
   "id": "1bb243d0",
   "metadata": {
    "heading_collapsed": true,
    "hidden": true
   },
   "source": [
    "#### \n",
    "### Функция ошибок: erf"
   ]
  },
  {
   "cell_type": "code",
   "execution_count": 235,
   "id": "7439cbe4",
   "metadata": {
    "ExecuteTime": {
     "end_time": "2023-05-03T21:01:47.131521Z",
     "start_time": "2023-05-03T21:01:47.103228Z"
    },
    "hidden": true
   },
   "outputs": [
    {
     "data": {
      "text/plain": [
       "0.9999779095030014"
      ]
     },
     "execution_count": 235,
     "metadata": {},
     "output_type": "execute_result"
    }
   ],
   "source": [
    "# Вход ввод аргумента х = 3\n",
    "# Выход 0.99998\n",
    "\n",
    "ret = m.erf(3)\n",
    "ret"
   ]
  },
  {
   "cell_type": "markdown",
   "id": "d6accf06",
   "metadata": {
    "heading_collapsed": true,
    "hidden": true
   },
   "source": [
    "#### \n",
    "### Дополнительной функции ошибок: erfc"
   ]
  },
  {
   "cell_type": "code",
   "execution_count": 236,
   "id": "1e6dcd10",
   "metadata": {
    "ExecuteTime": {
     "end_time": "2023-05-03T21:01:48.302817Z",
     "start_time": "2023-05-03T21:01:48.272606Z"
    },
    "hidden": true
   },
   "outputs": [
    {
     "data": {
      "text/plain": [
       "2.2090496998585438e-05"
      ]
     },
     "execution_count": 236,
     "metadata": {},
     "output_type": "execute_result"
    }
   ],
   "source": [
    "# Вход ввод аргумента х = 3\n",
    "# Выход 2.2090, так как 1.0 - erf(x)!\n",
    "\n",
    "ret = m.erfc(3)\n",
    "ret"
   ]
  },
  {
   "cell_type": "markdown",
   "id": "6fcf1989",
   "metadata": {
    "heading_collapsed": true
   },
   "source": [
    "### Тригонометрические функции:"
   ]
  },
  {
   "cell_type": "markdown",
   "id": "a5b67464",
   "metadata": {
    "heading_collapsed": true,
    "hidden": true
   },
   "source": [
    "####\n",
    "### Синус: sin"
   ]
  },
  {
   "attachments": {
    "image-2.png": {
     "image/png": "[encoded data removed]"
    }
   },
   "cell_type": "markdown",
   "id": "3c191da3",
   "metadata": {
    "ExecuteTime": {
     "end_time": "2023-04-30T00:19:10.430226Z",
     "start_time": "2023-04-30T00:19:10.235421Z"
    },
    "hidden": true
   },
   "source": [
    "<table style=\"float: left;\">\n",
    "    <tr>\n",
    "        <th style=\"text-align: center;\">Таблица</th>\n",
    "    </tr>\n",
    "    <tr>\n",
    "        <td style=\"float: left;\"> $$ \\sin(0) = 0 $$ </td>\n",
    "    </tr>\n",
    "    <tr>\n",
    "        <td style=\"float: left;\"> $$ \\sin\\left(\\frac{\\pi}{2}\\right) = 1 $$ </td>\n",
    "    </tr>\n",
    "    <tr>\n",
    "        <td style=\"float: left;\"> $$ \\sin\\left(\\pi\\right) = 0 $$ </td>\n",
    "    </tr>\n",
    "    <tr>\n",
    "        <td style=\"float: left;\"> $$ \\sin\\left(\\frac{3\\pi}{2}\\right) = -1 $$ </td>\n",
    "    </tr>\n",
    "</table>\n",
    "\n",
    "![image-2.png](attachment:image-2.png)"
   ]
  },
  {
   "cell_type": "code",
   "execution_count": 135,
   "id": "532120e9",
   "metadata": {
    "ExecuteTime": {
     "end_time": "2023-05-01T15:54:56.634502Z",
     "start_time": "2023-05-01T15:54:56.602522Z"
    },
    "hidden": true
   },
   "outputs": [
    {
     "data": {
      "text/plain": [
       "1.0"
      ]
     },
     "execution_count": 135,
     "metadata": {},
     "output_type": "execute_result"
    }
   ],
   "source": [
    "# Вход ввод аргумента в радианах (pi/2)\n",
    "# Выход ret = 1.0\n",
    "\n",
    "ret = m.sin(m.pi/2)\n",
    "ret"
   ]
  },
  {
   "cell_type": "markdown",
   "id": "8d6b754c",
   "metadata": {
    "heading_collapsed": true,
    "hidden": true
   },
   "source": [
    "####\n",
    "### Косинус: cos"
   ]
  },
  {
   "attachments": {
    "image-2.png": {
     "image/png": "[encoded data removed]"
    }
   },
   "cell_type": "markdown",
   "id": "5cdcd649",
   "metadata": {
    "hidden": true
   },
   "source": [
    "<table style=\"float: left;\">\n",
    "    <tr>\n",
    "        <th style=\"text-align: center;\">Таблица</th>\n",
    "    </tr>\n",
    "    <tr>\n",
    "        <td style=\"float: left;\"> $$ \\cos(0) = 1 $$ </td>\n",
    "    </tr>\n",
    "    <tr>\n",
    "        <td style=\"float: left;\"> $$ \\cos\\left(\\frac{\\pi}{2}\\right) = 0 $$ </td>\n",
    "    </tr>\n",
    "    <tr>\n",
    "        <td style=\"float: left;\"> $$ \\cos\\left(\\pi\\right) = -1 $$ </td>\n",
    "    </tr>\n",
    "    <tr>\n",
    "        <td style=\"float: left;\"> $$ \\cos\\left(\\frac{3\\pi}{2}\\right) = 0 $$ </td>\n",
    "    </tr>\n",
    "</table>\n",
    "\n",
    "![image-2.png](attachment:image-2.png)"
   ]
  },
  {
   "cell_type": "code",
   "execution_count": 184,
   "id": "5d26f9d6",
   "metadata": {
    "ExecuteTime": {
     "end_time": "2023-05-01T16:27:44.509633Z",
     "start_time": "2023-05-01T16:27:44.480212Z"
    },
    "hidden": true
   },
   "outputs": [
    {
     "data": {
      "text/plain": [
       "-1.0"
      ]
     },
     "execution_count": 184,
     "metadata": {},
     "output_type": "execute_result"
    }
   ],
   "source": [
    "# Вход ввод аргумента в радианах (0)\n",
    "# Выход ret = 1.0\n",
    "\n",
    "ret = m.cos(m.pi)\n",
    "ret"
   ]
  },
  {
   "cell_type": "markdown",
   "id": "7f6e56fd",
   "metadata": {
    "heading_collapsed": true,
    "hidden": true
   },
   "source": [
    "####\n",
    "### Тангенс: tan"
   ]
  },
  {
   "attachments": {
    "image-4.png": {
     "image/png": "[encoded data removed]"
    }
   },
   "cell_type": "markdown",
   "id": "c710b3b0",
   "metadata": {
    "hidden": true
   },
   "source": [
    "<table style=\"float: left;\">\n",
    "    <tr>\n",
    "        <th style=\"text-align: center;\">Таблица</th>\n",
    "    </tr>\n",
    "    <tr>\n",
    "        <td style=\"float: left;\"> $$ \\tan(0) = 0 $$ </td>\n",
    "    </tr>\n",
    "    <tr>\n",
    "        <td style=\"float: left;\"> $$ \\tan\\left(\\frac{\\pi}{6}\\right) = \\frac{\\sqrt{3}}{3} $$ </td>\n",
    "    </tr>\n",
    "    <tr>\n",
    "        <td style=\"float: left;\"> $$ \\tan\\left(\\frac{\\pi}{4}\\right) = -1 $$ </td>\n",
    "    </tr>\n",
    "    <tr>\n",
    "        <td style=\"float: left;\"> $$ \\tan\\left(\\frac{\\pi}{3}\\right) = \\sqrt{3} $$ </td>\n",
    "    </tr>\n",
    "</table>\n",
    "\n",
    "<div style=\"float: left;\"> \n",
    "    $$ \\tan\\alpha=\\frac{\\sin\\alpha}{\\cos\\alpha} $$ \n",
    "</div>\n",
    "\n",
    "![image-4.png](attachment:image-4.png)"
   ]
  },
  {
   "cell_type": "code",
   "execution_count": 137,
   "id": "948f88ab",
   "metadata": {
    "ExecuteTime": {
     "end_time": "2023-05-01T15:59:28.306369Z",
     "start_time": "2023-05-01T15:59:28.275253Z"
    },
    "hidden": true
   },
   "outputs": [
    {
     "data": {
      "text/plain": [
       "0.9999999999999999"
      ]
     },
     "execution_count": 137,
     "metadata": {},
     "output_type": "execute_result"
    }
   ],
   "source": [
    "# Вход ввод аргумента в радианах (pi/4)\n",
    "# Выход ret = 1\n",
    "\n",
    "ret = m.tan(m.pi/4)\n",
    "ret"
   ]
  },
  {
   "cell_type": "code",
   "execution_count": 140,
   "id": "95094129",
   "metadata": {
    "ExecuteTime": {
     "end_time": "2023-05-01T15:59:59.879911Z",
     "start_time": "2023-05-01T15:59:59.847198Z"
    },
    "hidden": true
   },
   "outputs": [
    {
     "data": {
      "text/plain": [
       "0.9999999999999999"
      ]
     },
     "execution_count": 140,
     "metadata": {},
     "output_type": "execute_result"
    }
   ],
   "source": [
    "# Вход sin(pi/4)/cos(pi/4)\n",
    "# Выход ret = 1\n",
    "x = m.pi/4 \n",
    "ret = m.sin(x)/m.cos(x)\n",
    "ret"
   ]
  },
  {
   "cell_type": "markdown",
   "id": "297529a2",
   "metadata": {
    "heading_collapsed": true
   },
   "source": [
    "### Обратные тригонометрические функции:"
   ]
  },
  {
   "cell_type": "markdown",
   "id": "c746c2e3",
   "metadata": {
    "heading_collapsed": true,
    "hidden": true
   },
   "source": [
    "####\n",
    "### Арксинус: asin"
   ]
  },
  {
   "cell_type": "markdown",
   "id": "d458f2bc",
   "metadata": {
    "hidden": true
   },
   "source": [
    "<table style=\"float: left;\">\n",
    "    <tr>\n",
    "        <th style=\"text-align: center;\">Таблица</th>\n",
    "    </tr>\n",
    "    <tr>\n",
    "        <td style=\"float: left;\"> $$ asin(0) = 0 $$ </td>\n",
    "    </tr>\n",
    "    <tr>\n",
    "        <td style=\"float: left;\"> $$ asin\\left(1\\right) = \\frac{\\pi}{2} $$ </td>\n",
    "    </tr>\n",
    "    <tr>\n",
    "        <td style=\"float: left;\"> $$ asin\\left(-1\\right) = -\\frac{\\pi}{2} $$ </td>\n",
    "    </tr>\n",
    "</table>\n",
    "\n",
    "<div style=\"float: left;\"> \n",
    "    $$ asin\\:y = \\sin x $$ \n",
    "</div>"
   ]
  },
  {
   "cell_type": "code",
   "execution_count": 33,
   "id": "726f20af",
   "metadata": {
    "ExecuteTime": {
     "end_time": "2023-05-01T17:38:24.476592Z",
     "start_time": "2023-05-01T17:38:24.448174Z"
    },
    "hidden": true,
    "hide_input": false,
    "scrolled": false
   },
   "outputs": [
    {
     "data": {
      "text/plain": [
       "1.5707963267948966"
      ]
     },
     "execution_count": 33,
     "metadata": {},
     "output_type": "execute_result"
    }
   ],
   "source": [
    "# Вход ввод аргумента в радианах (1)\n",
    "# Выход ret = 1.57079... = pi/2\n",
    "\n",
    "ret = m.asin(1) # арксинус a в радианах\n",
    "ret"
   ]
  },
  {
   "cell_type": "markdown",
   "id": "30455826",
   "metadata": {
    "heading_collapsed": true,
    "hidden": true
   },
   "source": [
    "####\n",
    "### Арккосинус: acos"
   ]
  },
  {
   "cell_type": "markdown",
   "id": "96767767",
   "metadata": {
    "ExecuteTime": {
     "end_time": "2023-05-01T16:11:28.494081Z",
     "start_time": "2023-05-01T16:11:28.449900Z"
    },
    "hidden": true
   },
   "source": [
    "<table style=\"float: left;\">\n",
    "    <tr>\n",
    "        <th style=\"text-align: center;\">Таблица</th>\n",
    "    </tr>\n",
    "    <tr>\n",
    "        <td style=\"float: left;\"> $$ acos(0) = 1 $$ </td>\n",
    "    </tr>\n",
    "    <tr>\n",
    "        <td style=\"float: left;\"> $$ acos\\left(1\\right) = 0 $$ </td>\n",
    "    </tr>\n",
    "    <tr>\n",
    "        <td style=\"float: left;\"> $$ acos\\left(-1\\right) = \\pi $$ </td>\n",
    "    </tr>\n",
    "</table>\n",
    "\n",
    "<div style=\"float: left;\"> \n",
    "    $$ acos\\:y = \\cos x $$ \n",
    "</div>"
   ]
  },
  {
   "cell_type": "code",
   "execution_count": 188,
   "id": "4d04bff6",
   "metadata": {
    "ExecuteTime": {
     "end_time": "2023-05-01T16:42:00.615452Z",
     "start_time": "2023-05-01T16:42:00.586857Z"
    },
    "hidden": true
   },
   "outputs": [
    {
     "data": {
      "text/plain": [
       "3.141592653589793"
      ]
     },
     "execution_count": 188,
     "metadata": {},
     "output_type": "execute_result"
    }
   ],
   "source": [
    "# Вход ввод аргумента в радианах (1)\n",
    "# Выход ret = 3.14159... = pi\n",
    "\n",
    "ret = m.acos(-1) # арккосинус a в радианах\n",
    "ret"
   ]
  },
  {
   "cell_type": "markdown",
   "id": "fdd2564c",
   "metadata": {
    "heading_collapsed": true,
    "hidden": true
   },
   "source": [
    "####\n",
    "### Арктангенс: atan"
   ]
  },
  {
   "cell_type": "markdown",
   "id": "1711941c",
   "metadata": {
    "ExecuteTime": {
     "end_time": "2023-05-01T16:41:07.568203Z",
     "start_time": "2023-05-01T16:41:07.521580Z"
    },
    "hidden": true
   },
   "source": [
    "<table style=\"float: left;\">\n",
    "    <tr>\n",
    "        <th style=\"text-align: center;\">Таблица</th>\n",
    "    </tr>\n",
    "    <tr>\n",
    "        <td style=\"float: left;\"> $$ \\tan(0) = 0 $$ </td>\n",
    "    </tr>\n",
    "    <tr>\n",
    "        <td style=\"float: left;\"> $$ \\tan(1) = 0 $$ </td>\n",
    "    </tr>\n",
    "    <tr>\n",
    "        <td style=\"float: left;\"> $$ \\tan(-1) = 0 $$ </td>\n",
    "    </tr>\n",
    "</table>"
   ]
  },
  {
   "cell_type": "code",
   "execution_count": 39,
   "id": "e5e877c3",
   "metadata": {
    "ExecuteTime": {
     "end_time": "2023-05-01T19:05:53.950735Z",
     "start_time": "2023-05-01T19:05:53.919883Z"
    },
    "hidden": true
   },
   "outputs": [
    {
     "data": {
      "text/plain": [
       "-0.7853981633974483"
      ]
     },
     "execution_count": 39,
     "metadata": {},
     "output_type": "execute_result"
    }
   ],
   "source": [
    "# Вход ввод аргумента в радианах (-1)\n",
    "# Выход ret = -0.785398... = pi/4\n",
    "\n",
    "ret = m.atan(-1) # арктангенс a в радианах\n",
    "ret"
   ]
  },
  {
   "cell_type": "markdown",
   "id": "d8852c4d",
   "metadata": {
    "heading_collapsed": true,
    "hidden": true
   },
   "source": [
    "####\n",
    "### Atan2:"
   ]
  },
  {
   "cell_type": "markdown",
   "id": "37105230",
   "metadata": {
    "hidden": true
   },
   "source": [
    "<table style=\"float: left;\">\n",
    "    <tr>\n",
    "        <th style=\"text-align: center;\">Таблица</th>\n",
    "    </tr>\n",
    "    <tr>\n",
    "        <td style=\"float: left;\"> $$ \\tan2(0,0) = 0 $$ </td>\n",
    "    </tr>\n",
    "    <tr>\n",
    "        <td style=\"float: left;\"> $$ \\tan2(0, 1) = 0 $$ </td>\n",
    "    </tr>\n",
    "    <tr>\n",
    "        <td style=\"float: left;\"> $$ \\tan2(0, -1) = \\pi $$ </td>\n",
    "    </tr>\n",
    "    <tr>\n",
    "        <td style=\"float: left;\"> $$ \\tan2(1, 0) = \\frac{\\pi}{2} $$ </td>\n",
    "    </tr>\n",
    "    <tr>\n",
    "        <td style=\"float: left;\"> $$ \\tan2(1, 1) = \\frac{\\pi}{4} $$ </td>\n",
    "    </tr>\n",
    "    <tr>\n",
    "        <td style=\"float: left;\"> $$ \\tan2(1, -1) = 3\\frac{\\pi}{4} $$ </td>\n",
    "    </tr>\n",
    "    <tr>\n",
    "        <td style=\"float: left;\"> $$ \\tan2(-1, 0) = -\\frac{\\pi}{2} $$ </td>\n",
    "    </tr>\n",
    "    <tr>\n",
    "        <td style=\"float: left;\"> $$ \\tan2(-1, 1) = -\\frac{\\pi}{4} $$ </td>\n",
    "    </tr>\n",
    "    <tr>\n",
    "        <td style=\"float: left;\"> $$ \\tan2(-1, -1) = -3\\frac{\\pi}{4} $$ </td>\n",
    "    </tr>\n",
    "</table>"
   ]
  },
  {
   "cell_type": "code",
   "execution_count": 372,
   "id": "b64ca262",
   "metadata": {
    "ExecuteTime": {
     "end_time": "2023-05-04T00:36:55.093068Z",
     "start_time": "2023-05-04T00:36:55.064080Z"
    },
    "hidden": true
   },
   "outputs": [
    {
     "data": {
      "text/plain": [
       "2.356194490192345"
      ]
     },
     "execution_count": 372,
     "metadata": {},
     "output_type": "execute_result"
    }
   ],
   "source": [
    "# Вход ввод аргумента в радианах (1, -1)\n",
    "# Выход ret = 2.3561... = 3(pi/4)\n",
    "\n",
    "ret = m.atan2(1, -1)\n",
    "ret"
   ]
  },
  {
   "cell_type": "markdown",
   "id": "fa6081a1",
   "metadata": {
    "heading_collapsed": true
   },
   "source": [
    "### Гиперболические функции:"
   ]
  },
  {
   "cell_type": "markdown",
   "id": "92f7ebb0",
   "metadata": {
    "heading_collapsed": true,
    "hidden": true
   },
   "source": [
    "####\n",
    "### Гиперболический синус: sinh"
   ]
  },
  {
   "attachments": {
    "image-3.png": {
     "image/png": "[encoded data removed]"
    }
   },
   "cell_type": "markdown",
   "id": "820bbfc4",
   "metadata": {
    "hidden": true
   },
   "source": [
    "<div style=\"float: left;\"> \n",
    "    $$ \\sinh x = \\frac{e^x-e^{-x}}{2} $$\n",
    "</div>\n",
    "\n",
    "![image-3.png](attachment:image-3.png)"
   ]
  },
  {
   "cell_type": "code",
   "execution_count": 75,
   "id": "5f033ad4",
   "metadata": {
    "ExecuteTime": {
     "end_time": "2023-05-01T20:43:32.292000Z",
     "start_time": "2023-05-01T20:43:32.263458Z"
    },
    "hidden": true
   },
   "outputs": [
    {
     "data": {
      "text/plain": [
       "1.1752011936438014"
      ]
     },
     "execution_count": 75,
     "metadata": {},
     "output_type": "execute_result"
    }
   ],
   "source": [
    "# Вход ввод аргумента в радианах (1)\n",
    "# Выход ret = 1.175\n",
    "\n",
    "ret = m.sinh(1)\n",
    "ret"
   ]
  },
  {
   "cell_type": "markdown",
   "id": "a8b31a97",
   "metadata": {
    "heading_collapsed": true,
    "hidden": true
   },
   "source": [
    "####\n",
    "### Гиперболический косинус: cosh"
   ]
  },
  {
   "attachments": {
    "image.png": {
     "image/png": "[encoded data removed]"
    }
   },
   "cell_type": "markdown",
   "id": "a3067dfe",
   "metadata": {
    "hidden": true
   },
   "source": [
    "<div style=\"float: left;\"> \n",
    "    $$ \\cosh x = \\frac{e^x+e^{-x}}{2} $$\n",
    "</div>\n",
    "\n",
    "![image.png](attachment:image.png)"
   ]
  },
  {
   "cell_type": "code",
   "execution_count": 374,
   "id": "00f2d5b7",
   "metadata": {
    "ExecuteTime": {
     "end_time": "2023-05-04T00:38:50.725051Z",
     "start_time": "2023-05-04T00:38:50.694751Z"
    },
    "hidden": true
   },
   "outputs": [
    {
     "data": {
      "text/plain": [
       "1.5430806348152437"
      ]
     },
     "execution_count": 374,
     "metadata": {},
     "output_type": "execute_result"
    }
   ],
   "source": [
    "# Вход ввод аргумента в радианах (1)\n",
    "# Выход ret = 1.543\n",
    "\n",
    "ret = m.cosh(1)\n",
    "ret "
   ]
  },
  {
   "cell_type": "markdown",
   "id": "cdff60f8",
   "metadata": {
    "heading_collapsed": true,
    "hidden": true
   },
   "source": [
    "####\n",
    "### Гиперболический тангенс: tanh"
   ]
  },
  {
   "cell_type": "markdown",
   "id": "0c083708",
   "metadata": {
    "hidden": true
   },
   "source": [
    "<div style=\"float: left;\"> \n",
    "    $$ \\tanh x = \\frac{\\sinh x}{\\cosh x} = \\frac{e^x-e^{-x}}{e^x+e^{-x}} = \\frac{e^{2x}-1}{e^{2x}+1} $$\n",
    "</div>"
   ]
  },
  {
   "cell_type": "code",
   "execution_count": 373,
   "id": "6bf2c0c0",
   "metadata": {
    "ExecuteTime": {
     "end_time": "2023-05-04T00:38:32.473394Z",
     "start_time": "2023-05-04T00:38:32.443648Z"
    },
    "hidden": true
   },
   "outputs": [
    {
     "data": {
      "text/plain": [
       "0.7615941559557649"
      ]
     },
     "execution_count": 373,
     "metadata": {},
     "output_type": "execute_result"
    }
   ],
   "source": [
    "# Вход ввод аргумента в радианах (1)\n",
    "# Выход ret = 0.762\n",
    "\n",
    "ret = m.tanh(1)\n",
    "ret"
   ]
  },
  {
   "cell_type": "markdown",
   "id": "3a4ee7a3",
   "metadata": {
    "heading_collapsed": true
   },
   "source": [
    "### Обратные гиперболические функции:"
   ]
  },
  {
   "cell_type": "markdown",
   "id": "e277ad71",
   "metadata": {
    "heading_collapsed": true,
    "hidden": true
   },
   "source": [
    "####\n",
    "### Гиперболический ареасинус: asinh"
   ]
  },
  {
   "cell_type": "markdown",
   "id": "8f104564",
   "metadata": {
    "hidden": true
   },
   "source": [
    "<div style=\"float: left;\"> $$ z = \\ln\\left(z+\\sqrt{z^2+1}\\right) $$ </div>"
   ]
  },
  {
   "cell_type": "code",
   "execution_count": 81,
   "id": "9f5d98d8",
   "metadata": {
    "ExecuteTime": {
     "end_time": "2023-05-01T20:44:05.871567Z",
     "start_time": "2023-05-01T20:44:05.841372Z"
    },
    "hidden": true
   },
   "outputs": [
    {
     "data": {
      "text/plain": [
       "0.881373587019543"
      ]
     },
     "execution_count": 81,
     "metadata": {},
     "output_type": "execute_result"
    }
   ],
   "source": [
    "# Вход ввод аргумента в радианах (1)\n",
    "# Выход ret = 0.881\n",
    "\n",
    "ret = m.asinh(1) \n",
    "ret"
   ]
  },
  {
   "cell_type": "markdown",
   "id": "77003675",
   "metadata": {
    "heading_collapsed": true,
    "hidden": true
   },
   "source": [
    "####\n",
    "### Гиперболический ареакосинус: acosh"
   ]
  },
  {
   "cell_type": "markdown",
   "id": "62192bc0",
   "metadata": {
    "hidden": true
   },
   "source": [
    "<div style=\"float: left;\"> $$ z = \\ln\\left(z+\\sqrt{z^2-1}\\right) $$ </div>"
   ]
  },
  {
   "cell_type": "code",
   "execution_count": 82,
   "id": "cf35ffcb",
   "metadata": {
    "ExecuteTime": {
     "end_time": "2023-05-01T20:44:17.229109Z",
     "start_time": "2023-05-01T20:44:17.197245Z"
    },
    "hidden": true
   },
   "outputs": [
    {
     "data": {
      "text/plain": [
       "0.0"
      ]
     },
     "execution_count": 82,
     "metadata": {},
     "output_type": "execute_result"
    }
   ],
   "source": [
    "# Вход ввод аргумента в радианах (1)\n",
    "# Выход ret = 0\n",
    "\n",
    "ret = m.acosh(1)\n",
    "ret"
   ]
  },
  {
   "cell_type": "markdown",
   "id": "2f74d86d",
   "metadata": {
    "heading_collapsed": true,
    "hidden": true
   },
   "source": [
    "####\n",
    "### Гиперболический ареатангенс: atanh"
   ]
  },
  {
   "cell_type": "markdown",
   "id": "2d3a7794",
   "metadata": {
    "hidden": true
   },
   "source": [
    "<div style=\"float: left;\"> $$ z = \\frac{1}{2}\\ln\\left(\\frac{1+z}{1-z}\\right) $$ </div>"
   ]
  },
  {
   "cell_type": "code",
   "execution_count": 85,
   "id": "2d0bce6e",
   "metadata": {
    "ExecuteTime": {
     "end_time": "2023-05-01T20:46:22.659752Z",
     "start_time": "2023-05-01T20:46:22.631397Z"
    },
    "hidden": true
   },
   "outputs": [
    {
     "data": {
      "text/plain": [
       "0.5493061443340548"
      ]
     },
     "execution_count": 85,
     "metadata": {},
     "output_type": "execute_result"
    }
   ],
   "source": [
    "# Вход ввод аргумента в радианах (1)\n",
    "# Выход ret = 2.3561... = 3(pi/4)\n",
    "\n",
    "ret = m.atanh(0.5)\n",
    "ret"
   ]
  },
  {
   "cell_type": "markdown",
   "id": "9865d840",
   "metadata": {
    "heading_collapsed": true
   },
   "source": [
    "### Евклидово и многомерного вектора с координатами"
   ]
  },
  {
   "cell_type": "markdown",
   "id": "e5434cef",
   "metadata": {
    "heading_collapsed": true,
    "hidden": true
   },
   "source": [
    "####\n",
    "### Евклидово"
   ]
  },
  {
   "cell_type": "code",
   "execution_count": 211,
   "id": "481aa6e9",
   "metadata": {
    "ExecuteTime": {
     "end_time": "2023-05-03T20:44:18.114169Z",
     "start_time": "2023-05-03T20:44:18.082367Z"
    },
    "hidden": true
   },
   "outputs": [
    {
     "data": {
      "text/plain": [
       "1.7320508075688772"
      ]
     },
     "execution_count": 211,
     "metadata": {},
     "output_type": "execute_result"
    }
   ],
   "source": [
    "# Вход ввод аргумента p = (0, 0, 0), q = (1, 1, 1)\n",
    "# Выход ret = 1.73\n",
    "\n",
    "ret = m.dist((0, 0, 0), (1, 1, 1))\n",
    "ret"
   ]
  },
  {
   "cell_type": "markdown",
   "id": "91278a2f",
   "metadata": {
    "ExecuteTime": {
     "end_time": "2023-05-03T20:41:15.174133Z",
     "start_time": "2023-05-03T20:41:15.159016Z"
    },
    "heading_collapsed": true,
    "hidden": true
   },
   "source": [
    "#### \n",
    "### Многомерного вектора с координатами"
   ]
  },
  {
   "cell_type": "code",
   "execution_count": 212,
   "id": "b7248095",
   "metadata": {
    "ExecuteTime": {
     "end_time": "2023-05-03T20:44:18.850884Z",
     "start_time": "2023-05-03T20:44:18.820852Z"
    },
    "hidden": true
   },
   "outputs": [
    {
     "data": {
      "text/plain": [
       "1.7320508075688772"
      ]
     },
     "execution_count": 212,
     "metadata": {},
     "output_type": "execute_result"
    }
   ],
   "source": [
    "# Вход ввод аргумента coordinates = 1, 1, 1\n",
    "# Выход ret = 1.73\n",
    "\n",
    "ret = m.hypot(1, 1, 1)\n",
    "ret"
   ]
  },
  {
   "cell_type": "markdown",
   "id": "b952b152",
   "metadata": {},
   "source": [
    "### Логарифмы функции: log"
   ]
  },
  {
   "cell_type": "markdown",
   "id": "23c9cbeb",
   "metadata": {
    "heading_collapsed": true
   },
   "source": [
    "####\n",
    "### Основание логарифма n: log"
   ]
  },
  {
   "cell_type": "code",
   "execution_count": 104,
   "id": "7151663a",
   "metadata": {
    "ExecuteTime": {
     "end_time": "2023-05-01T21:06:09.245877Z",
     "start_time": "2023-05-01T21:06:09.215444Z"
    },
    "hidden": true
   },
   "outputs": [
    {
     "data": {
      "text/plain": [
       "4.0"
      ]
     },
     "execution_count": 104,
     "metadata": {},
     "output_type": "execute_result"
    }
   ],
   "source": [
    "# Вход ввод числовое выражение, базовое значение (x = 16, Base = 2)\n",
    "# Выход ret = 4, так как 4**2 = 4 * 4 = 16\n",
    "\n",
    "ret = m.log(16,2) # 4**2 = 16\n",
    "ret"
   ]
  },
  {
   "cell_type": "markdown",
   "id": "87952ff2",
   "metadata": {
    "heading_collapsed": true
   },
   "source": [
    "####\n",
    "### Натурального логарифма 1+x(по основанию e): log1p"
   ]
  },
  {
   "cell_type": "code",
   "execution_count": 98,
   "id": "935b4787",
   "metadata": {
    "ExecuteTime": {
     "end_time": "2023-05-01T21:03:02.300977Z",
     "start_time": "2023-05-01T21:03:02.271262Z"
    },
    "hidden": true
   },
   "outputs": [
    {
     "data": {
      "text/plain": [
       "2.833213344056216"
      ]
     },
     "execution_count": 98,
     "metadata": {},
     "output_type": "execute_result"
    }
   ],
   "source": [
    "# Вход ввод числовое выражение, базовое значение (x = 16)\n",
    "# Выход ret = 2.833\n",
    "\n",
    "# Примечание: m.log1p(1 + x) = m.log (x)\n",
    "\n",
    "ret = m.log1p(16) # 4**2 = 16\n",
    "ret"
   ]
  },
  {
   "cell_type": "markdown",
   "id": "30648c9e",
   "metadata": {
    "heading_collapsed": true
   },
   "source": [
    "####\n",
    "### Логарифма любого заданного числа по основанию 2: log2"
   ]
  },
  {
   "cell_type": "code",
   "execution_count": 101,
   "id": "f37e0c40",
   "metadata": {
    "ExecuteTime": {
     "end_time": "2023-05-01T21:03:43.602917Z",
     "start_time": "2023-05-01T21:03:43.573776Z"
    },
    "hidden": true
   },
   "outputs": [
    {
     "data": {
      "text/plain": [
       "4.0"
      ]
     },
     "execution_count": 101,
     "metadata": {},
     "output_type": "execute_result"
    }
   ],
   "source": [
    "# Вход ввод числовое выражение, базовое значение (x = 16)\n",
    "# Выход ret = 4, так как m.log2(16) = m.log(16,2)\n",
    "\n",
    "ret = m.log2(16) # 4**2 = 16\n",
    "ret"
   ]
  },
  {
   "cell_type": "markdown",
   "id": "e20f8cd6",
   "metadata": {
    "heading_collapsed": true
   },
   "source": [
    "####\n",
    "### Логарифма любого заданного числа по основанию 10: log10"
   ]
  },
  {
   "cell_type": "code",
   "execution_count": 375,
   "id": "42decf84",
   "metadata": {
    "ExecuteTime": {
     "end_time": "2023-05-08T14:06:25.547932Z",
     "start_time": "2023-05-08T14:06:25.515877Z"
    },
    "hidden": true
   },
   "outputs": [
    {
     "data": {
      "text/plain": [
       "2.0"
      ]
     },
     "execution_count": 375,
     "metadata": {},
     "output_type": "execute_result"
    }
   ],
   "source": [
    "# Вход ввод числовое выражение, базовое значение (x = 100)\n",
    "# Выход ret = 2, так как m.log10(100) = m.log(100, 10)\n",
    "\n",
    "ret = m.log10(100) # 10**2 = 100\n",
    "ret"
   ]
  },
  {
   "cell_type": "markdown",
   "id": "6508acc2",
   "metadata": {
    "heading_collapsed": true
   },
   "source": [
    "### Степень: pow и Корень: sqrt функции"
   ]
  },
  {
   "cell_type": "markdown",
   "id": "47af37c5",
   "metadata": {
    "heading_collapsed": true,
    "hidden": true
   },
   "source": [
    "####\n",
    "### Возведение числа num в степень power: pow"
   ]
  },
  {
   "cell_type": "code",
   "execution_count": 113,
   "id": "8b34db6b",
   "metadata": {
    "ExecuteTime": {
     "end_time": "2023-05-01T22:31:21.447777Z",
     "start_time": "2023-05-01T22:31:21.417081Z"
    },
    "hidden": true
   },
   "outputs": [
    {
     "data": {
      "text/plain": [
       "16.0"
      ]
     },
     "execution_count": 113,
     "metadata": {},
     "output_type": "execute_result"
    }
   ],
   "source": [
    "# Вход ввод числовое (num = 4, power = 2)\n",
    "# Выход ret = 16\n",
    "\n",
    "ret = m.pow(4, 2) # 4 * 4 = 16\n",
    "ret"
   ]
  },
  {
   "cell_type": "markdown",
   "id": "a3a8bc84",
   "metadata": {
    "heading_collapsed": true,
    "hidden": true
   },
   "source": [
    "####\n",
    "### Квадратный корень числа num: sqrt"
   ]
  },
  {
   "cell_type": "code",
   "execution_count": 120,
   "id": "282bb301",
   "metadata": {
    "ExecuteTime": {
     "end_time": "2023-05-01T22:36:00.046901Z",
     "start_time": "2023-05-01T22:36:00.017916Z"
    },
    "hidden": true
   },
   "outputs": [
    {
     "data": {
      "text/plain": [
       "4.0"
      ]
     },
     "execution_count": 120,
     "metadata": {},
     "output_type": "execute_result"
    }
   ],
   "source": [
    "# Вход ввод числовое выражение, базовое значение (x = 16)\n",
    "# Выход ret = 4\n",
    "\n",
    "ret = m.sqrt(16)\n",
    "ret"
   ]
  },
  {
   "cell_type": "markdown",
   "id": "81f11dc4",
   "metadata": {
    "heading_collapsed": true,
    "hidden": true
   },
   "source": [
    "####\n",
    "### Квадратный корень числа, округление чисел: isqrt"
   ]
  },
  {
   "cell_type": "code",
   "execution_count": 122,
   "id": "4d1f2b80",
   "metadata": {
    "ExecuteTime": {
     "end_time": "2023-05-01T22:39:58.206636Z",
     "start_time": "2023-05-01T22:39:58.177578Z"
    },
    "hidden": true
   },
   "outputs": [
    {
     "data": {
      "text/plain": [
       "4"
      ]
     },
     "execution_count": 122,
     "metadata": {},
     "output_type": "execute_result"
    }
   ],
   "source": [
    "# Вход ввод числовое выражение, базовое значение (x = 16)\n",
    "# Выход ret = 4, так как √16 + 1 = √16 = 4\n",
    "\n",
    "ret = m.isqrt(17)\n",
    "ret"
   ]
  },
  {
   "cell_type": "markdown",
   "id": "b891c5b8",
   "metadata": {
    "heading_collapsed": true
   },
   "source": [
    "### Экспоненциальной функции"
   ]
  },
  {
   "cell_type": "markdown",
   "id": "54774660",
   "metadata": {
    "heading_collapsed": true,
    "hidden": true
   },
   "source": [
    "####\n",
    "### Экспоненциальный: exp"
   ]
  },
  {
   "cell_type": "code",
   "execution_count": 199,
   "id": "3cafa828",
   "metadata": {
    "ExecuteTime": {
     "end_time": "2023-05-03T20:37:31.214933Z",
     "start_time": "2023-05-03T20:37:31.182890Z"
    },
    "hidden": true
   },
   "outputs": [
    {
     "data": {
      "text/plain": [
       "2.718281828459045"
      ]
     },
     "execution_count": 199,
     "metadata": {},
     "output_type": "execute_result"
    }
   ],
   "source": [
    "# Вход ввод 1\n",
    "# Выход 2.71\n",
    "\n",
    "ret = m.exp(1)\n",
    "ret"
   ]
  },
  {
   "cell_type": "markdown",
   "id": "a9e3f97a",
   "metadata": {
    "heading_collapsed": true,
    "hidden": true
   },
   "source": [
    "####\n",
    "### Экспоненциальный exp(x) - 1: expm1"
   ]
  },
  {
   "cell_type": "code",
   "execution_count": 200,
   "id": "567e54a4",
   "metadata": {
    "ExecuteTime": {
     "end_time": "2023-05-03T20:37:32.276623Z",
     "start_time": "2023-05-03T20:37:32.245457Z"
    },
    "hidden": true
   },
   "outputs": [
    {
     "data": {
      "text/plain": [
       "1.718281828459045"
      ]
     },
     "execution_count": 200,
     "metadata": {},
     "output_type": "execute_result"
    }
   ],
   "source": [
    "# Вход ввод 1\n",
    "# Выход 1.71..., как 2.71... - 1 = 1.71...\n",
    "\n",
    "ret = m.expm1(1)\n",
    "ret"
   ]
  },
  {
   "cell_type": "markdown",
   "id": "94179d94",
   "metadata": {
    "heading_collapsed": true
   },
   "source": [
    "### Округление чисел функции"
   ]
  },
  {
   "cell_type": "markdown",
   "id": "0aee260d",
   "metadata": {
    "heading_collapsed": true,
    "hidden": true
   },
   "source": [
    "####\n",
    "### Округление чисел в большую сторону: ceil"
   ]
  },
  {
   "cell_type": "code",
   "execution_count": 134,
   "id": "72426d00",
   "metadata": {
    "ExecuteTime": {
     "end_time": "2023-05-01T22:50:34.972560Z",
     "start_time": "2023-05-01T22:50:34.948921Z"
    },
    "hidden": true
   },
   "outputs": [
    {
     "name": "stdout",
     "output_type": "stream",
     "text": [
      "14\n",
      "-13\n"
     ]
    }
   ],
   "source": [
    "# Вход ввод 13.4 и -13.4\n",
    "# Выход 14, как  13 + (0.4 > 0) = 13 + 1\n",
    "#      -13, как -13 + (-0.4 > 0) = -13 + 0\n",
    "\n",
    "print(m.ceil(13.4))\n",
    "print(m.ceil(-13.4))"
   ]
  },
  {
   "cell_type": "markdown",
   "id": "c9457464",
   "metadata": {
    "heading_collapsed": true,
    "hidden": true
   },
   "source": [
    "####\n",
    "### Округление чисел в меньшую сторону: floor"
   ]
  },
  {
   "cell_type": "code",
   "execution_count": 135,
   "id": "157237c9",
   "metadata": {
    "ExecuteTime": {
     "end_time": "2023-05-01T22:50:36.148649Z",
     "start_time": "2023-05-01T22:50:36.122723Z"
    },
    "hidden": true
   },
   "outputs": [
    {
     "name": "stdout",
     "output_type": "stream",
     "text": [
      "13\n",
      "-14\n"
     ]
    }
   ],
   "source": [
    "# Вход ввод 13.4 и -13.4\n",
    "# Выход 14, как  13 + (0.4 < 0) = 13 - 0\n",
    "#      -13, как -13 + (-0.4 < 0) = -13 - 1\n",
    "\n",
    "print(m.floor(13.4))\n",
    "print(m.floor(-13.4))"
   ]
  },
  {
   "cell_type": "markdown",
   "id": "2e0bc17d",
   "metadata": {
    "heading_collapsed": true,
    "hidden": true
   },
   "source": [
    "####\n",
    "### Отбрасывание дробной части: trunc"
   ]
  },
  {
   "cell_type": "code",
   "execution_count": 136,
   "id": "807a7685",
   "metadata": {
    "ExecuteTime": {
     "end_time": "2023-05-01T22:50:38.132357Z",
     "start_time": "2023-05-01T22:50:38.106665Z"
    },
    "hidden": true
   },
   "outputs": [
    {
     "name": "stdout",
     "output_type": "stream",
     "text": [
      "13\n",
      "-13\n"
     ]
    }
   ],
   "source": [
    "# Вход ввод 13.4 и -13.4\n",
    "# Выход 13, как  13 и отбрасывает остатки\n",
    "#      -13, как -13 и отбрасывает остатки\n",
    "\n",
    "print(m.trunc(13.4))\n",
    "print(m.trunc(-13.4))"
   ]
  },
  {
   "cell_type": "markdown",
   "id": "bd90bddc",
   "metadata": {
    "ExecuteTime": {
     "end_time": "2023-05-01T22:57:13.761634Z",
     "start_time": "2023-05-01T22:57:13.744061Z"
    },
    "heading_collapsed": true
   },
   "source": [
    "### Факториал числа функция: factorial"
   ]
  },
  {
   "cell_type": "code",
   "execution_count": 145,
   "id": "872b2d04",
   "metadata": {
    "ExecuteTime": {
     "end_time": "2023-05-01T23:03:49.301456Z",
     "start_time": "2023-05-01T23:03:49.274292Z"
    },
    "hidden": true
   },
   "outputs": [
    {
     "data": {
      "text/plain": [
       "24"
      ]
     },
     "execution_count": 145,
     "metadata": {},
     "output_type": "execute_result"
    }
   ],
   "source": [
    "# Вход ввод x = 4\n",
    "# Выход 24, 1 * 2 * 3 * 4\n",
    "\n",
    "ret = m.factorial(4)\n",
    "ret"
   ]
  },
  {
   "cell_type": "markdown",
   "id": "0f14963d",
   "metadata": {
    "heading_collapsed": true
   },
   "source": [
    "### Наибольший общий делитель (НОД функции) целых чисел: gcd"
   ]
  },
  {
   "cell_type": "code",
   "execution_count": 165,
   "id": "a56ac018",
   "metadata": {
    "ExecuteTime": {
     "end_time": "2023-05-02T21:16:38.553728Z",
     "start_time": "2023-05-02T21:16:38.523886Z"
    },
    "hidden": true
   },
   "outputs": [
    {
     "data": {
      "text/plain": [
       "5"
      ]
     },
     "execution_count": 165,
     "metadata": {},
     "output_type": "execute_result"
    }
   ],
   "source": [
    "# Вход ввод x = (10, 5, 40, ...)\n",
    "# Выход 5\n",
    "\n",
    "ret = m.gcd(10, 5, 40)\n",
    "ret "
   ]
  },
  {
   "cell_type": "markdown",
   "id": "bcff43b2",
   "metadata": {
    "heading_collapsed": true
   },
   "source": [
    "### Сочетаниеи функции: comb "
   ]
  },
  {
   "cell_type": "code",
   "execution_count": 168,
   "id": "61cda7df",
   "metadata": {
    "ExecuteTime": {
     "end_time": "2023-05-02T21:32:36.174700Z",
     "start_time": "2023-05-02T21:32:36.146215Z"
    },
    "hidden": true
   },
   "outputs": [
    {
     "data": {
      "text/plain": [
       "220"
      ]
     },
     "execution_count": 168,
     "metadata": {},
     "output_type": "execute_result"
    }
   ],
   "source": [
    "# Вход ввод (n=12, k=3)\n",
    "# Выход 220, так как (n!)/(k!·(n-k)!)\n",
    "\n",
    "ret = m.comb(12, 3)\n",
    "ret "
   ]
  },
  {
   "cell_type": "markdown",
   "id": "80c4e2bd",
   "metadata": {
    "heading_collapsed": true
   },
   "source": [
    "### Количества перестановок функции: perm"
   ]
  },
  {
   "cell_type": "code",
   "execution_count": 172,
   "id": "5a83aedd",
   "metadata": {
    "ExecuteTime": {
     "end_time": "2023-05-02T21:37:27.068145Z",
     "start_time": "2023-05-02T21:37:27.038103Z"
    },
    "hidden": true
   },
   "outputs": [
    {
     "data": {
      "text/plain": [
       "24"
      ]
     },
     "execution_count": 172,
     "metadata": {},
     "output_type": "execute_result"
    }
   ],
   "source": [
    "# Вход ввод (n=4)\n",
    "# Выход 24\n",
    "\n",
    "ret = m.perm(4)\n",
    "ret "
   ]
  },
  {
   "cell_type": "code",
   "execution_count": 175,
   "id": "98e0fd63",
   "metadata": {
    "ExecuteTime": {
     "end_time": "2023-05-02T21:37:59.655470Z",
     "start_time": "2023-05-02T21:37:59.627733Z"
    },
    "hidden": true
   },
   "outputs": [
    {
     "data": {
      "text/plain": [
       "12"
      ]
     },
     "execution_count": 175,
     "metadata": {},
     "output_type": "execute_result"
    }
   ],
   "source": [
    "# Вход ввод (n=4, k=2)\n",
    "# Выход 12, так как n! / (n - k)! при k <= n и равно нулю при k > n.\n",
    "\n",
    "ret = m.perm(4, 2)\n",
    "ret "
   ]
  },
  {
   "cell_type": "markdown",
   "id": "15352eca",
   "metadata": {
    "heading_collapsed": true
   },
   "source": [
    "### Произведение элементов итерируемого объекта: prod"
   ]
  },
  {
   "cell_type": "code",
   "execution_count": 184,
   "id": "7a4300ee",
   "metadata": {
    "ExecuteTime": {
     "end_time": "2023-05-03T20:28:30.991523Z",
     "start_time": "2023-05-03T20:28:30.961812Z"
    },
    "hidden": true
   },
   "outputs": [
    {
     "data": {
      "text/plain": [
       "24"
      ]
     },
     "execution_count": 184,
     "metadata": {},
     "output_type": "execute_result"
    }
   ],
   "source": [
    "# Вход ввод iterable = [1, 2, 3, 4, 5]\n",
    "# Выход 24, так 1 * 2 * 3 * 4\n",
    "\n",
    "ret = m.prod(range(1, 5))\n",
    "ret"
   ]
  },
  {
   "cell_type": "markdown",
   "id": "f48635e1",
   "metadata": {
    "heading_collapsed": true
   },
   "source": [
    "### Остаток от деления: fmod"
   ]
  },
  {
   "cell_type": "code",
   "execution_count": 263,
   "id": "efca03d7",
   "metadata": {
    "ExecuteTime": {
     "end_time": "2023-05-03T22:42:58.871253Z",
     "start_time": "2023-05-03T22:42:58.842299Z"
    },
    "hidden": true
   },
   "outputs": [
    {
     "data": {
      "text/plain": [
       "2.0"
      ]
     },
     "execution_count": 263,
     "metadata": {},
     "output_type": "execute_result"
    }
   ],
   "source": [
    "# Вход ввод аргумент x = 12, y = 5\n",
    "# Выход 2, так как 12 % 5 = (12>5): 12 - 5, (7>5): 7 - 5, (2 < 5): 2\n",
    "\n",
    "ret = m.fmod(12, 5)\n",
    "ret"
   ]
  },
  {
   "cell_type": "code",
   "execution_count": 264,
   "id": "431dff52",
   "metadata": {
    "ExecuteTime": {
     "end_time": "2023-05-03T22:43:30.306150Z",
     "start_time": "2023-05-03T22:43:30.275911Z"
    },
    "hidden": true
   },
   "outputs": [
    {
     "data": {
      "text/plain": [
       "2"
      ]
     },
     "execution_count": 264,
     "metadata": {},
     "output_type": "execute_result"
    }
   ],
   "source": [
    "# Вход ввод 12 % 5\n",
    "# Выход 2\n",
    "\n",
    "ret = 12 % 5\n",
    "ret"
   ]
  },
  {
   "cell_type": "markdown",
   "id": "fdd9f9d0",
   "metadata": {
    "heading_collapsed": true
   },
   "source": [
    "### Нормализованной мантиссы и несдвинутогопорядка числа: frexp"
   ]
  },
  {
   "cell_type": "code",
   "execution_count": 267,
   "id": "e8fcd046",
   "metadata": {
    "ExecuteTime": {
     "end_time": "2023-05-03T22:47:24.022880Z",
     "start_time": "2023-05-03T22:47:23.994220Z"
    },
    "hidden": true
   },
   "outputs": [
    {
     "data": {
      "text/plain": [
       "(0.625, 4)"
      ]
     },
     "execution_count": 267,
     "metadata": {},
     "output_type": "execute_result"
    }
   ],
   "source": [
    "# Вход ввод x=10\n",
    "# Выход 0.625, так как x·2^e; 0.5 <=x<=1 \n",
    "\n",
    "ret = m.frexp(10)\n",
    "ret"
   ]
  },
  {
   "cell_type": "markdown",
   "id": "cac6759e",
   "metadata": {
    "heading_collapsed": true
   },
   "source": [
    "### Обратная функция к frexp(x): ldexp"
   ]
  },
  {
   "cell_type": "code",
   "execution_count": 321,
   "id": "5dbbbfbd",
   "metadata": {
    "ExecuteTime": {
     "end_time": "2023-05-03T23:09:53.560021Z",
     "start_time": "2023-05-03T23:09:53.531388Z"
    },
    "hidden": true
   },
   "outputs": [
    {
     "data": {
      "text/plain": [
       "10.0"
      ]
     },
     "execution_count": 321,
     "metadata": {},
     "output_type": "execute_result"
    }
   ],
   "source": [
    "# Вход ввод 0.625, 4\n",
    "# Выход 10.0\n",
    "\n",
    "ret = m.ldexp(0.625, 4)\n",
    "ret"
   ]
  },
  {
   "cell_type": "markdown",
   "id": "2ba308da",
   "metadata": {
    "heading_collapsed": true
   },
   "source": [
    "### Сумма чисел в итерированном объекте: fsum"
   ]
  },
  {
   "cell_type": "code",
   "execution_count": 275,
   "id": "73bc899f",
   "metadata": {
    "ExecuteTime": {
     "end_time": "2023-05-03T22:50:35.275522Z",
     "start_time": "2023-05-03T22:50:35.242537Z"
    },
    "hidden": true
   },
   "outputs": [
    {
     "data": {
      "text/plain": [
       "0.1"
      ]
     },
     "execution_count": 275,
     "metadata": {},
     "output_type": "execute_result"
    }
   ],
   "source": [
    "# Вход ввод iterable = [0.02, 0.02, 0.02, 0.02, 0.02]\n",
    "# Выход 0.1, так как 0.02 + 0.02 + 0.02 + 0.02 + 0.02\n",
    "\n",
    "ret = m.fsum([0.02, 0.02, 0.02, 0.02, 0.02])\n",
    "ret"
   ]
  },
  {
   "cell_type": "markdown",
   "id": "bb9bf611",
   "metadata": {
    "heading_collapsed": true
   },
   "source": [
    "### Определение близости чисел: isclose"
   ]
  },
  {
   "cell_type": "code",
   "execution_count": 295,
   "id": "7c61eed4",
   "metadata": {
    "ExecuteTime": {
     "end_time": "2023-05-03T23:00:33.665643Z",
     "start_time": "2023-05-03T23:00:33.638998Z"
    },
    "hidden": true
   },
   "outputs": [
    {
     "name": "stdout",
     "output_type": "stream",
     "text": [
      "True\n",
      "False\n",
      "True\n"
     ]
    }
   ],
   "source": [
    "# Вход ввод a = 5, 5.1, 5.0001 и b = 5.0;\n",
    "# Выход True, Flase, True где False, rel_tol=0.001 >= .0001\n",
    "\n",
    "print(m.isclose(5, 5.0, rel_tol=1e-03))\n",
    "print(m.isclose(5.1, 5.0, rel_tol=1e-03))\n",
    "print(m.isclose(5.0001, 5.0, rel_tol=1e-03))"
   ]
  },
  {
   "cell_type": "markdown",
   "id": "7c57a71a",
   "metadata": {
    "heading_collapsed": true
   },
   "source": [
    "### Определение ограниченности: isfinite"
   ]
  },
  {
   "cell_type": "code",
   "execution_count": 307,
   "id": "21052675",
   "metadata": {
    "ExecuteTime": {
     "end_time": "2023-05-03T23:03:31.306097Z",
     "start_time": "2023-05-03T23:03:31.277754Z"
    },
    "hidden": true
   },
   "outputs": [
    {
     "data": {
      "text/plain": [
       "True"
      ]
     },
     "execution_count": 307,
     "metadata": {},
     "output_type": "execute_result"
    }
   ],
   "source": [
    "# Вход ввод аргумент 0 или 1 до 999....\n",
    "# Выход True, так как m.inf или NaN будет false\n",
    "\n",
    "ret = m.isfinite(0)\n",
    "ret"
   ]
  },
  {
   "cell_type": "markdown",
   "id": "30e18561",
   "metadata": {
    "heading_collapsed": true
   },
   "source": [
    "### Определение бесконечности: isinf"
   ]
  },
  {
   "cell_type": "code",
   "execution_count": 311,
   "id": "b6092b50",
   "metadata": {
    "ExecuteTime": {
     "end_time": "2023-05-03T23:05:08.434363Z",
     "start_time": "2023-05-03T23:05:08.405139Z"
    },
    "hidden": true
   },
   "outputs": [
    {
     "data": {
      "text/plain": [
       "True"
      ]
     },
     "execution_count": 311,
     "metadata": {},
     "output_type": "execute_result"
    }
   ],
   "source": [
    "# Вход ввод аргументы m.inf\n",
    "# Выход True так как 0..999... - не бесконечный\n",
    "\n",
    "ret = m.isinf(m.inf)\n",
    "ret"
   ]
  },
  {
   "cell_type": "markdown",
   "id": "728008db",
   "metadata": {
    "heading_collapsed": true
   },
   "source": [
    "### Определение значения NaN (Not A Number): isnan"
   ]
  },
  {
   "cell_type": "code",
   "execution_count": 318,
   "id": "8c3d8342",
   "metadata": {
    "ExecuteTime": {
     "end_time": "2023-05-03T23:07:47.633082Z",
     "start_time": "2023-05-03T23:07:47.604088Z"
    },
    "hidden": true
   },
   "outputs": [
    {
     "data": {
      "text/plain": [
       "True"
      ]
     },
     "execution_count": 318,
     "metadata": {},
     "output_type": "execute_result"
    }
   ],
   "source": [
    "# Вход ввод аргумент m.nan\n",
    "# Выход True\n",
    "# NaN - неопределенный результат\n",
    "\n",
    "ret = m.isnan(m.nan)\n",
    "ret"
   ]
  },
  {
   "cell_type": "markdown",
   "id": "45dfaeb1",
   "metadata": {
    "heading_collapsed": true
   },
   "source": [
    "### Выделение дробной и целой части вещественного : modf"
   ]
  },
  {
   "cell_type": "code",
   "execution_count": 326,
   "id": "18645d18",
   "metadata": {
    "ExecuteTime": {
     "end_time": "2023-05-03T23:11:53.242376Z",
     "start_time": "2023-05-03T23:11:53.211289Z"
    },
    "hidden": true
   },
   "outputs": [
    {
     "data": {
      "text/plain": [
       "(0.25, 4.0)"
      ]
     },
     "execution_count": 326,
     "metadata": {},
     "output_type": "execute_result"
    }
   ],
   "source": [
    "# Вход ввод 4.25\n",
    "# Выход (0.25, 4.0), так как 4.25 = 4.0 + 0.25\n",
    "\n",
    "ret = m.modf(4.25) \n",
    "ret"
   ]
  },
  {
   "cell_type": "markdown",
   "id": "7a5aceca",
   "metadata": {
    "heading_collapsed": true
   },
   "source": [
    "### Плавающей запятой после x по направлению к y: nextafter"
   ]
  },
  {
   "cell_type": "code",
   "execution_count": 338,
   "id": "85a2e7db",
   "metadata": {
    "ExecuteTime": {
     "end_time": "2023-05-03T23:16:34.228171Z",
     "start_time": "2023-05-03T23:16:34.200572Z"
    },
    "hidden": true
   },
   "outputs": [
    {
     "name": "stdout",
     "output_type": "stream",
     "text": [
      "2.0000000000000004\n",
      "1.9999999999999998\n",
      "1.9999999999999998\n"
     ]
    }
   ],
   "source": [
    "# Вход ввод по варианта\n",
    "# Выход по варианта\n",
    "\n",
    "print(m.nextafter(2, m.inf)) # 2.0000000000000004\n",
    "print(m.nextafter(2, -m.inf)) # 1.9999999999999998\n",
    "print(m.nextafter(2, 0.0)) # 1.9999999999999998"
   ]
  },
  {
   "cell_type": "markdown",
   "id": "90e602e6",
   "metadata": {
    "heading_collapsed": true
   },
   "source": [
    "###  Остаток x относительно y: remainder"
   ]
  },
  {
   "cell_type": "code",
   "execution_count": 346,
   "id": "25810d8d",
   "metadata": {
    "ExecuteTime": {
     "end_time": "2023-05-03T23:19:54.046315Z",
     "start_time": "2023-05-03T23:19:54.016282Z"
    },
    "hidden": true
   },
   "outputs": [
    {
     "data": {
      "text/plain": [
       "1.0"
      ]
     },
     "execution_count": 346,
     "metadata": {},
     "output_type": "execute_result"
    }
   ],
   "source": [
    "# Вход ввод x = 1, y = 4\n",
    "# Выход 1.0, так как x-n·y \n",
    "# где n – ближайшее целое число к точному значению фактора x/y.\n",
    "\n",
    "ret = m.remainder(1, 4)\n",
    "ret"
   ]
  },
  {
   "cell_type": "markdown",
   "id": "66b77ec6",
   "metadata": {
    "heading_collapsed": true
   },
   "source": [
    "### Определение целой части числа: trunc"
   ]
  },
  {
   "cell_type": "code",
   "execution_count": 348,
   "id": "0d077906",
   "metadata": {
    "ExecuteTime": {
     "end_time": "2023-05-03T23:21:24.285890Z",
     "start_time": "2023-05-03T23:21:24.256082Z"
    },
    "hidden": true
   },
   "outputs": [
    {
     "data": {
      "text/plain": [
       "2"
      ]
     },
     "execution_count": 348,
     "metadata": {},
     "output_type": "execute_result"
    }
   ],
   "source": [
    "# Вход ввод x = 2.456\n",
    "# Выход 2, так как лишний остаток\n",
    "\n",
    "ret = m.trunc(2.456)\n",
    "ret"
   ]
  },
  {
   "cell_type": "markdown",
   "id": "4272af50",
   "metadata": {
    "heading_collapsed": true
   },
   "source": [
    "### Наименьший значащий бит числа c плавающей запятой: ulp"
   ]
  },
  {
   "cell_type": "code",
   "execution_count": 355,
   "id": "9c5bbae2",
   "metadata": {
    "ExecuteTime": {
     "end_time": "2023-05-03T23:25:09.013865Z",
     "start_time": "2023-05-03T23:25:08.982637Z"
    },
    "hidden": true
   },
   "outputs": [
    {
     "data": {
      "text/plain": [
       "1.7763568394002505e-15"
      ]
     },
     "execution_count": 355,
     "metadata": {},
     "output_type": "execute_result"
    }
   ],
   "source": [
    "# Вход ввод x = 12.5\n",
    "# Выход 1.7763568394002505e-15\n",
    "\n",
    "ret = m.ulp(12.5)\n",
    "ret"
   ]
  },
  {
   "cell_type": "markdown",
   "id": "b0930edc",
   "metadata": {
    "heading_collapsed": true
   },
   "source": [
    "### Hаименьшее общее кратное указанных целочисленных: lcm"
   ]
  },
  {
   "cell_type": "code",
   "execution_count": 359,
   "id": "2ceb7dec",
   "metadata": {
    "ExecuteTime": {
     "end_time": "2023-05-03T23:27:26.520593Z",
     "start_time": "2023-05-03T23:27:26.491828Z"
    },
    "hidden": true
   },
   "outputs": [
    {
     "data": {
      "text/plain": [
       "12"
      ]
     },
     "execution_count": 359,
     "metadata": {},
     "output_type": "execute_result"
    }
   ],
   "source": [
    "# Вход ввод integers = 1, 2, 3, 4, ...\n",
    "# Выход 12\n",
    "\n",
    "ret = m.lcm(1, 2, 3, 4)\n",
    "ret"
   ]
  }
 ],
 "metadata": {
  "gist": {
   "data": {
    "description": "Илья 2/01 Раздел 1/03 Библиотеки/Math/Отчет Math.ipynb",
    "public": false
   },
   "id": ""
  },
  "hide_input": false,
  "kernelspec": {
   "display_name": "Python 3 (ipykernel)",
   "language": "python",
   "name": "python3"
  },
  "language_info": {
   "codemirror_mode": {
    "name": "ipython",
    "version": 3
   },
   "file_extension": ".py",
   "mimetype": "text/x-python",
   "name": "python",
   "nbconvert_exporter": "python",
   "pygments_lexer": "ipython3",
   "version": "3.10.6"
  },
  "nbTranslate": {
   "displayLangs": [
    "*"
   ],
   "hotkey": "alt-t",
   "langInMainMenu": true,
   "sourceLang": "en",
   "targetLang": "fr",
   "useGoogleTranslate": true
  },
  "toc": {
   "base_numbering": 1,
   "nav_menu": {},
   "number_sections": false,
   "sideBar": true,
   "skip_h1_title": false,
   "title_cell": "Table of Contents",
   "title_sidebar": "Contents",
   "toc_cell": false,
   "toc_position": {},
   "toc_section_display": false,
   "toc_window_display": true
  },
  "varInspector": {
   "cols": {
    "lenName": 16,
    "lenType": 16,
    "lenVar": 40
   },
   "kernels_config": {
    "python": {
     "delete_cmd_postfix": "",
     "delete_cmd_prefix": "del ",
     "library": "var_list.py",
     "varRefreshCmd": "print(var_dic_list())"
    },
    "r": {
     "delete_cmd_postfix": ") ",
     "delete_cmd_prefix": "rm(",
     "library": "var_list.r",
     "varRefreshCmd": "cat(var_dic_list()) "
    }
   },
   "types_to_exclude": [
    "module",
    "function",
    "builtin_function_or_method",
    "instance",
    "_Feature"
   ],
   "window_display": false
  }
 },
 "nbformat": 4,
 "nbformat_minor": 5
}
