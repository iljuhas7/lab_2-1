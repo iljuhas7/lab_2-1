{
 "cells": [
  {
   "cell_type": "markdown",
   "id": "0f14a3d8",
   "metadata": {},
   "source": [
    "# NumPy - Python широко используется для выполнения математических операций с матрицами."
   ]
  },
  {
   "cell_type": "markdown",
   "id": "60785409",
   "metadata": {
    "heading_collapsed": true
   },
   "source": [
    "## Импорт"
   ]
  },
  {
   "cell_type": "code",
   "execution_count": 3,
   "id": "98aec9a4",
   "metadata": {
    "ExecuteTime": {
     "end_time": "2023-05-09T15:02:51.479613Z",
     "start_time": "2023-05-09T15:02:51.464653Z"
    },
    "hidden": true
   },
   "outputs": [],
   "source": [
    "import numpy as np # библиотека: numpy как np "
   ]
  },
  {
   "cell_type": "markdown",
   "id": "7aae1cfd",
   "metadata": {
    "heading_collapsed": true
   },
   "source": [
    "## Константы и специальные значения модуля"
   ]
  },
  {
   "cell_type": "code",
   "execution_count": 5,
   "id": "78b72ff4",
   "metadata": {
    "ExecuteTime": {
     "end_time": "2023-05-09T15:03:11.865717Z",
     "start_time": "2023-05-09T15:03:11.837888Z"
    },
    "hidden": true
   },
   "outputs": [
    {
     "data": {
      "text/plain": [
       "2.718281828459045"
      ]
     },
     "execution_count": 5,
     "metadata": {},
     "output_type": "execute_result"
    }
   ],
   "source": [
    "np.e # число Эйлера"
   ]
  },
  {
   "cell_type": "code",
   "execution_count": 29,
   "id": "26d79802",
   "metadata": {
    "ExecuteTime": {
     "end_time": "2023-05-09T15:06:58.862483Z",
     "start_time": "2023-05-09T15:06:58.834767Z"
    },
    "hidden": true
   },
   "outputs": [
    {
     "data": {
      "text/plain": [
       "3.141592653589793"
      ]
     },
     "execution_count": 29,
     "metadata": {},
     "output_type": "execute_result"
    }
   ],
   "source": [
    "np.pi # число Пи"
   ]
  },
  {
   "cell_type": "code",
   "execution_count": 44,
   "id": "eee8508b",
   "metadata": {
    "ExecuteTime": {
     "end_time": "2023-05-09T15:12:49.873145Z",
     "start_time": "2023-05-09T15:12:49.844267Z"
    },
    "hidden": true
   },
   "outputs": [
    {
     "data": {
      "text/plain": [
       "0.5772156649015329"
      ]
     },
     "execution_count": 44,
     "metadata": {},
     "output_type": "execute_result"
    }
   ],
   "source": [
    "np.euler_gamma # число Постоянная Эйлера - Маскерони"
   ]
  },
  {
   "cell_type": "code",
   "execution_count": 38,
   "id": "6d3ce8d2",
   "metadata": {
    "ExecuteTime": {
     "end_time": "2023-05-09T15:08:37.037504Z",
     "start_time": "2023-05-09T15:08:37.009821Z"
    },
    "hidden": true
   },
   "outputs": [
    {
     "data": {
      "text/plain": [
       "0.0"
      ]
     },
     "execution_count": 38,
     "metadata": {},
     "output_type": "execute_result"
    }
   ],
   "source": [
    "np.PZERO # число 0 (+)"
   ]
  },
  {
   "cell_type": "code",
   "execution_count": 32,
   "id": "ea8e91e8",
   "metadata": {
    "ExecuteTime": {
     "end_time": "2023-05-09T15:07:43.992621Z",
     "start_time": "2023-05-09T15:07:43.965527Z"
    },
    "hidden": true,
    "scrolled": true
   },
   "outputs": [
    {
     "data": {
      "text/plain": [
       "-0.0"
      ]
     },
     "execution_count": 32,
     "metadata": {},
     "output_type": "execute_result"
    }
   ],
   "source": [
    "np.NZERO # число 0 (-)"
   ]
  },
  {
   "cell_type": "code",
   "execution_count": 30,
   "id": "f0647dba",
   "metadata": {
    "ExecuteTime": {
     "end_time": "2023-05-09T15:07:26.119985Z",
     "start_time": "2023-05-09T15:07:26.093727Z"
    },
    "hidden": true
   },
   "outputs": [
    {
     "data": {
      "text/plain": [
       "inf"
      ]
     },
     "execution_count": 30,
     "metadata": {},
     "output_type": "execute_result"
    }
   ],
   "source": [
    "np.inf # Бесконечное число"
   ]
  },
  {
   "cell_type": "code",
   "execution_count": 22,
   "id": "efb9399b",
   "metadata": {
    "ExecuteTime": {
     "end_time": "2023-05-09T15:06:56.666628Z",
     "start_time": "2023-05-09T15:06:56.639510Z"
    },
    "hidden": true
   },
   "outputs": [
    {
     "data": {
      "text/plain": [
       "inf"
      ]
     },
     "execution_count": 22,
     "metadata": {},
     "output_type": "execute_result"
    }
   ],
   "source": [
    "np.infty # Бесконечное число (также как np.inf)"
   ]
  },
  {
   "cell_type": "code",
   "execution_count": 47,
   "id": "0f502c6b",
   "metadata": {
    "ExecuteTime": {
     "end_time": "2023-05-09T15:15:15.129565Z",
     "start_time": "2023-05-09T15:15:15.100422Z"
    },
    "hidden": true
   },
   "outputs": [
    {
     "data": {
      "text/plain": [
       "inf"
      ]
     },
     "execution_count": 47,
     "metadata": {},
     "output_type": "execute_result"
    }
   ],
   "source": [
    "np.PINF # Бесконечное число (+) (также как np.inf)"
   ]
  },
  {
   "cell_type": "code",
   "execution_count": 41,
   "id": "dd1fc047",
   "metadata": {
    "ExecuteTime": {
     "end_time": "2023-05-09T15:09:45.344157Z",
     "start_time": "2023-05-09T15:09:45.313294Z"
    },
    "hidden": true
   },
   "outputs": [
    {
     "data": {
      "text/plain": [
       "-inf"
      ]
     },
     "execution_count": 41,
     "metadata": {},
     "output_type": "execute_result"
    }
   ],
   "source": [
    "np.NINF # Бесконечное число (-) (также как -np.inf)"
   ]
  },
  {
   "cell_type": "code",
   "execution_count": 43,
   "id": "9ece381d",
   "metadata": {
    "ExecuteTime": {
     "end_time": "2023-05-09T15:10:35.401307Z",
     "start_time": "2023-05-09T15:10:35.368266Z"
    },
    "hidden": true
   },
   "outputs": [
    {
     "data": {
      "text/plain": [
       "inf"
      ]
     },
     "execution_count": 43,
     "metadata": {},
     "output_type": "execute_result"
    }
   ],
   "source": [
    "np.Infinity # Бесконечное число (также как np.inf)"
   ]
  },
  {
   "cell_type": "code",
   "execution_count": 46,
   "id": "167c26ee",
   "metadata": {
    "ExecuteTime": {
     "end_time": "2023-05-09T15:15:12.465556Z",
     "start_time": "2023-05-09T15:15:12.437762Z"
    },
    "hidden": true
   },
   "outputs": [
    {
     "data": {
      "text/plain": [
       "nan"
      ]
     },
     "execution_count": 46,
     "metadata": {},
     "output_type": "execute_result"
    }
   ],
   "source": [
    "np.nan # не число"
   ]
  },
  {
   "cell_type": "code",
   "execution_count": 23,
   "id": "65b5688d",
   "metadata": {
    "ExecuteTime": {
     "end_time": "2023-05-09T15:06:56.825303Z",
     "start_time": "2023-05-09T15:06:56.797643Z"
    },
    "hidden": true
   },
   "outputs": [
    {
     "data": {
      "text/plain": [
       "nan"
      ]
     },
     "execution_count": 23,
     "metadata": {},
     "output_type": "execute_result"
    }
   ],
   "source": [
    "np.NAN # не число (как np.nan)"
   ]
  },
  {
   "cell_type": "code",
   "execution_count": 37,
   "id": "5bcf0aec",
   "metadata": {
    "ExecuteTime": {
     "end_time": "2023-05-09T15:08:26.249026Z",
     "start_time": "2023-05-09T15:08:26.225582Z"
    },
    "hidden": true
   },
   "outputs": [
    {
     "name": "stdout",
     "output_type": "stream",
     "text": [
      "None\n"
     ]
    }
   ],
   "source": [
    "print(np.newaxis) # None"
   ]
  },
  {
   "cell_type": "markdown",
   "id": "3f839c0b",
   "metadata": {},
   "source": [
    "## Оператор"
   ]
  },
  {
   "cell_type": "markdown",
   "id": "60702bb3",
   "metadata": {},
   "source": [
    "### Побитовые операторы "
   ]
  },
  {
   "cell_type": "markdown",
   "id": "d8df004e",
   "metadata": {
    "ExecuteTime": {
     "end_time": "2023-05-09T15:23:11.971062Z",
     "start_time": "2023-05-09T15:23:11.936690Z"
    }
   },
   "source": [
    "####\n",
    "### Преобразование числа в двоичное: binary_repr"
   ]
  },
  {
   "cell_type": "code",
   "execution_count": 173,
   "id": "d5728eaa",
   "metadata": {
    "ExecuteTime": {
     "end_time": "2023-05-09T21:11:00.764206Z",
     "start_time": "2023-05-09T21:11:00.735569Z"
    }
   },
   "outputs": [
    {
     "data": {
      "text/plain": [
       "'00000101'"
      ]
     },
     "execution_count": 173,
     "metadata": {},
     "output_type": "execute_result"
    }
   ],
   "source": [
    "np.binary_repr(5, 8) # 5(10) -> 101(2), размер в двоичной: 8"
   ]
  },
  {
   "cell_type": "markdown",
   "id": "0c7e0478",
   "metadata": {
    "ExecuteTime": {
     "end_time": "2023-05-09T15:23:11.971062Z",
     "start_time": "2023-05-09T15:23:11.936690Z"
    }
   },
   "source": [
    "####\n",
    "### Побитовыми операции И: bitwise_and"
   ]
  },
  {
   "cell_type": "code",
   "execution_count": 172,
   "id": "0b48adac",
   "metadata": {
    "ExecuteTime": {
     "end_time": "2023-05-09T21:11:00.578853Z",
     "start_time": "2023-05-09T21:11:00.548582Z"
    }
   },
   "outputs": [
    {
     "data": {
      "text/plain": [
       "3"
      ]
     },
     "execution_count": 172,
     "metadata": {},
     "output_type": "execute_result"
    }
   ],
   "source": [
    "np.bitwise_and(3, 15) # 3 = 101, 15 = 1111: 0101 и 1111 = 0101 = 3"
   ]
  },
  {
   "cell_type": "markdown",
   "id": "189ab7ac",
   "metadata": {
    "ExecuteTime": {
     "end_time": "2023-05-09T15:23:11.971062Z",
     "start_time": "2023-05-09T15:23:11.936690Z"
    }
   },
   "source": [
    "####\n",
    "### Побитовыми операции ИЛИ: bitwise_or"
   ]
  },
  {
   "cell_type": "code",
   "execution_count": 171,
   "id": "1778d686",
   "metadata": {
    "ExecuteTime": {
     "end_time": "2023-05-09T21:11:00.369049Z",
     "start_time": "2023-05-09T21:11:00.339913Z"
    }
   },
   "outputs": [
    {
     "data": {
      "text/plain": [
       "15"
      ]
     },
     "execution_count": 171,
     "metadata": {},
     "output_type": "execute_result"
    }
   ],
   "source": [
    "np.bitwise_or(2, 13) # 2 = 10, 13 = 1101: 0010 или 1101 = 1111 = 15"
   ]
  },
  {
   "cell_type": "markdown",
   "id": "aa326c5f",
   "metadata": {
    "ExecuteTime": {
     "end_time": "2023-05-09T15:23:11.971062Z",
     "start_time": "2023-05-09T15:23:11.936690Z"
    }
   },
   "source": [
    "####\n",
    "### Побитовыми операции ИСКЛЮЧАЮЩЕЕ ИЛИ: bitwise_xor"
   ]
  },
  {
   "cell_type": "code",
   "execution_count": 170,
   "id": "cd820289",
   "metadata": {
    "ExecuteTime": {
     "end_time": "2023-05-09T21:11:00.167351Z",
     "start_time": "2023-05-09T21:10:54.365397Z"
    }
   },
   "outputs": [
    {
     "data": {
      "text/plain": [
       "13"
      ]
     },
     "execution_count": 170,
     "metadata": {},
     "output_type": "execute_result"
    }
   ],
   "source": [
    "np.bitwise_xor(15, 2) # 15 = 1111, 2 = 10: 1111 искл.или 0010 = 1101"
   ]
  },
  {
   "cell_type": "markdown",
   "id": "7a7c9fa5",
   "metadata": {
    "ExecuteTime": {
     "end_time": "2023-05-09T15:23:11.971062Z",
     "start_time": "2023-05-09T15:23:11.936690Z"
    }
   },
   "source": [
    "####\n",
    "### Побитовыми операции Отрицание: invert"
   ]
  },
  {
   "cell_type": "code",
   "execution_count": 169,
   "id": "d0af6760",
   "metadata": {
    "ExecuteTime": {
     "end_time": "2023-05-09T21:10:53.277072Z",
     "start_time": "2023-05-09T21:10:53.238749Z"
    }
   },
   "outputs": [
    {
     "data": {
      "text/plain": [
       "-3"
      ]
     },
     "execution_count": 169,
     "metadata": {},
     "output_type": "execute_result"
    }
   ],
   "source": [
    "np.invert(2) # 2 = 10, не 10 = 1111...1101 = -3"
   ]
  },
  {
   "cell_type": "markdown",
   "id": "e2749ebf",
   "metadata": {
    "ExecuteTime": {
     "end_time": "2023-05-09T15:23:11.971062Z",
     "start_time": "2023-05-09T15:23:11.936690Z"
    }
   },
   "source": [
    "####\n",
    "### Побитовыми операции Сдвиг влево: left_shift"
   ]
  },
  {
   "cell_type": "code",
   "execution_count": 168,
   "id": "242de757",
   "metadata": {
    "ExecuteTime": {
     "end_time": "2023-05-09T21:10:51.808865Z",
     "start_time": "2023-05-09T21:10:51.777263Z"
    }
   },
   "outputs": [
    {
     "data": {
      "text/plain": [
       "8"
      ]
     },
     "execution_count": 168,
     "metadata": {},
     "output_type": "execute_result"
    }
   ],
   "source": [
    "np.left_shift(1, 3) # 1 = 1, 1 << 3 = 1000 = 8 "
   ]
  },
  {
   "cell_type": "markdown",
   "id": "d313fb61",
   "metadata": {
    "ExecuteTime": {
     "end_time": "2023-05-09T15:23:11.971062Z",
     "start_time": "2023-05-09T15:23:11.936690Z"
    }
   },
   "source": [
    "####\n",
    "### Побитовыми операции Сдвиг вправо: right_shift"
   ]
  },
  {
   "cell_type": "code",
   "execution_count": 167,
   "id": "07c4d443",
   "metadata": {
    "ExecuteTime": {
     "end_time": "2023-05-09T21:10:50.757945Z",
     "start_time": "2023-05-09T21:10:50.719462Z"
    }
   },
   "outputs": [
    {
     "data": {
      "text/plain": [
       "1"
      ]
     },
     "execution_count": 167,
     "metadata": {},
     "output_type": "execute_result"
    }
   ],
   "source": [
    "np.right_shift(8, 3) # 8 = 1000, 1000 >> 3 = 1 = 1"
   ]
  },
  {
   "cell_type": "markdown",
   "id": "92c9650e",
   "metadata": {
    "ExecuteTime": {
     "end_time": "2023-05-09T15:23:11.971062Z",
     "start_time": "2023-05-09T15:23:11.936690Z"
    }
   },
   "source": [
    "#### \n",
    "### Упаковывает элементы двоичного массива в биты массива uint8: packbits"
   ]
  },
  {
   "cell_type": "code",
   "execution_count": 166,
   "id": "2d32d285",
   "metadata": {
    "ExecuteTime": {
     "end_time": "2023-05-09T21:10:49.376793Z",
     "start_time": "2023-05-09T21:10:49.344708Z"
    }
   },
   "outputs": [
    {
     "data": {
      "text/plain": [
       "array([5], dtype=uint8)"
      ]
     },
     "execution_count": 166,
     "metadata": {},
     "output_type": "execute_result"
    }
   ],
   "source": [
    "np.packbits([1, 0, 1], axis=0, bitorder=\"little\") # [data] -> int, 0 - array, bitorder = {‘big’, ‘little’}"
   ]
  },
  {
   "cell_type": "markdown",
   "id": "8cb7082c",
   "metadata": {
    "ExecuteTime": {
     "end_time": "2023-05-09T15:23:11.971062Z",
     "start_time": "2023-05-09T15:23:11.936690Z"
    }
   },
   "source": [
    "####\n",
    "### Распаковывает элементы массива uint8 в выходной массив с двоичным значением: unpackbits"
   ]
  },
  {
   "cell_type": "code",
   "execution_count": 165,
   "id": "e06daf18",
   "metadata": {
    "ExecuteTime": {
     "end_time": "2023-05-09T21:10:48.000346Z",
     "start_time": "2023-05-09T21:10:47.965820Z"
    }
   },
   "outputs": [
    {
     "data": {
      "text/plain": [
       "array([0, 0, 0, 0, 0, 1, 0, 1], dtype=uint8)"
      ]
     },
     "execution_count": 165,
     "metadata": {},
     "output_type": "execute_result"
    }
   ],
   "source": [
    "np.unpackbits(np.array([5], dtype=np.uint8), axis=0, count=None, bitorder=\"big\")"
   ]
  },
  {
   "cell_type": "markdown",
   "id": "74054958",
   "metadata": {},
   "source": [
    "#"
   ]
  }
 ],
 "metadata": {
  "hide_input": false,
  "kernelspec": {
   "display_name": "Python 3 (ipykernel)",
   "language": "python",
   "name": "python3"
  },
  "language_info": {
   "codemirror_mode": {
    "name": "ipython",
    "version": 3
   },
   "file_extension": ".py",
   "mimetype": "text/x-python",
   "name": "python",
   "nbconvert_exporter": "python",
   "pygments_lexer": "ipython3",
   "version": "3.10.6"
  },
  "nbTranslate": {
   "displayLangs": [
    "*"
   ],
   "hotkey": "alt-t",
   "langInMainMenu": true,
   "sourceLang": "en",
   "targetLang": "fr",
   "useGoogleTranslate": true
  },
  "toc": {
   "base_numbering": 1,
   "nav_menu": {},
   "number_sections": true,
   "sideBar": true,
   "skip_h1_title": false,
   "title_cell": "Table of Contents",
   "title_sidebar": "Contents",
   "toc_cell": false,
   "toc_position": {},
   "toc_section_display": true,
   "toc_window_display": false
  },
  "varInspector": {
   "cols": {
    "lenName": 16,
    "lenType": 16,
    "lenVar": 40
   },
   "kernels_config": {
    "python": {
     "delete_cmd_postfix": "",
     "delete_cmd_prefix": "del ",
     "library": "var_list.py",
     "varRefreshCmd": "print(var_dic_list())"
    },
    "r": {
     "delete_cmd_postfix": ") ",
     "delete_cmd_prefix": "rm(",
     "library": "var_list.r",
     "varRefreshCmd": "cat(var_dic_list()) "
    }
   },
   "types_to_exclude": [
    "module",
    "function",
    "builtin_function_or_method",
    "instance",
    "_Feature"
   ],
   "window_display": false
  }
 },
 "nbformat": 4,
 "nbformat_minor": 5
}
