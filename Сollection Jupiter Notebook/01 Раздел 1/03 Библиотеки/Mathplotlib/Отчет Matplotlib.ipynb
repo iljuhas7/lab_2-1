{
 "cells": [
  {
   "cell_type": "markdown",
   "id": "448a1be1",
   "metadata": {},
   "source": [
    "# Matplotlib - это набор методов для создания двумерной графики."
   ]
  },
  {
   "cell_type": "markdown",
   "id": "60785409",
   "metadata": {},
   "source": [
    "## Импорт"
   ]
  },
  {
   "cell_type": "code",
   "execution_count": 17,
   "id": "af8b0a2a",
   "metadata": {
    "ExecuteTime": {
     "end_time": "2023-05-08T23:11:54.766715Z",
     "start_time": "2023-05-08T23:11:54.747451Z"
    }
   },
   "outputs": [],
   "source": [
    "from matplotlib import pyplot as plt # библиотека: pyplot как plt, из matplotlib"
   ]
  },
  {
   "cell_type": "code",
   "execution_count": 18,
   "id": "76b65f5c",
   "metadata": {
    "ExecuteTime": {
     "end_time": "2023-05-08T23:11:54.919204Z",
     "start_time": "2023-05-08T23:11:54.900062Z"
    },
    "cell_style": "center",
    "lang": "en",
    "run_control": {
     "marked": false
    }
   },
   "outputs": [],
   "source": [
    "from matplotlib import axes as plas # библиотека: axes как plas, из matplotlib"
   ]
  },
  {
   "cell_type": "code",
   "execution_count": 19,
   "id": "8602578d",
   "metadata": {
    "ExecuteTime": {
     "end_time": "2023-05-08T23:11:55.061247Z",
     "start_time": "2023-05-08T23:11:55.042590Z"
    }
   },
   "outputs": [],
   "source": [
    "from matplotlib import figure # библиотека: figure, из matplotlib"
   ]
  },
  {
   "cell_type": "code",
   "execution_count": 20,
   "id": "fbd0e168",
   "metadata": {
    "ExecuteTime": {
     "end_time": "2023-05-08T23:11:55.202694Z",
     "start_time": "2023-05-08T23:11:55.183674Z"
    }
   },
   "outputs": [],
   "source": [
    "from matplotlib import artist # библиотека: artist, из matplotlib"
   ]
  },
  {
   "cell_type": "code",
   "execution_count": 21,
   "id": "428aa7f7",
   "metadata": {
    "ExecuteTime": {
     "end_time": "2023-05-08T23:11:55.342616Z",
     "start_time": "2023-05-08T23:11:55.323122Z"
    }
   },
   "outputs": [],
   "source": [
    "from matplotlib import lines # библиотека: lines, из matplotlib"
   ]
  },
  {
   "cell_type": "code",
   "execution_count": 22,
   "id": "6f68a67a",
   "metadata": {
    "ExecuteTime": {
     "end_time": "2023-05-08T23:11:55.481820Z",
     "start_time": "2023-05-08T23:11:55.464335Z"
    }
   },
   "outputs": [],
   "source": [
    "from matplotlib import patches # библиотека: patches, из matplotlib"
   ]
  },
  {
   "cell_type": "code",
   "execution_count": 23,
   "id": "70880b88",
   "metadata": {
    "ExecuteTime": {
     "end_time": "2023-05-08T23:11:55.664519Z",
     "start_time": "2023-05-08T23:11:55.646845Z"
    }
   },
   "outputs": [],
   "source": [
    "from matplotlib import text # библиотека: text, из matplotlib"
   ]
  },
  {
   "cell_type": "code",
   "execution_count": 24,
   "id": "d51cc626",
   "metadata": {
    "ExecuteTime": {
     "end_time": "2023-05-08T23:11:55.845115Z",
     "start_time": "2023-05-08T23:11:55.827833Z"
    }
   },
   "outputs": [],
   "source": [
    "from matplotlib import image # библиотека: image, из matplotlib"
   ]
  },
  {
   "cell_type": "code",
   "execution_count": 25,
   "id": "6d863daa",
   "metadata": {
    "ExecuteTime": {
     "end_time": "2023-05-08T23:11:56.099518Z",
     "start_time": "2023-05-08T23:11:56.081610Z"
    }
   },
   "outputs": [],
   "source": [
    "from matplotlib import collections # библиотека: collections, из matplotlib"
   ]
  },
  {
   "cell_type": "code",
   "execution_count": 26,
   "id": "a73581d1",
   "metadata": {
    "ExecuteTime": {
     "end_time": "2023-05-08T23:11:56.356164Z",
     "start_time": "2023-05-08T23:11:56.338499Z"
    }
   },
   "outputs": [],
   "source": [
    "from matplotlib import colors # библиотека: colors, из matplotlib"
   ]
  },
  {
   "cell_type": "code",
   "execution_count": 27,
   "id": "4d98f84e",
   "metadata": {
    "ExecuteTime": {
     "end_time": "2023-05-08T23:11:57.530043Z",
     "start_time": "2023-05-08T23:11:57.512611Z"
    }
   },
   "outputs": [],
   "source": [
    "from matplotlib import cm # библиотека: cm, из matplotlib"
   ]
  },
  {
   "cell_type": "code",
   "execution_count": 28,
   "id": "8c277bb8",
   "metadata": {
    "ExecuteTime": {
     "end_time": "2023-05-08T23:11:57.799670Z",
     "start_time": "2023-05-08T23:11:57.781338Z"
    }
   },
   "outputs": [],
   "source": [
    "from matplotlib import ticker # библиотека: ticker, из matplotlib"
   ]
  },
  {
   "cell_type": "code",
   "execution_count": 29,
   "id": "5480ce98",
   "metadata": {
    "ExecuteTime": {
     "end_time": "2023-05-08T23:11:58.476211Z",
     "start_time": "2023-05-08T23:11:58.460303Z"
    }
   },
   "outputs": [],
   "source": [
    "from matplotlib import backends # библиотека: backends, из matplotlib"
   ]
  }
 ],
 "metadata": {
  "hide_input": false,
  "kernelspec": {
   "display_name": "Python 3 (ipykernel)",
   "language": "python",
   "name": "python3"
  },
  "language_info": {
   "codemirror_mode": {
    "name": "ipython",
    "version": 3
   },
   "file_extension": ".py",
   "mimetype": "text/x-python",
   "name": "python",
   "nbconvert_exporter": "python",
   "pygments_lexer": "ipython3",
   "version": "3.10.6"
  },
  "nbTranslate": {
   "displayLangs": [
    "*"
   ],
   "hotkey": "alt-t",
   "langInMainMenu": true,
   "sourceLang": "en",
   "targetLang": "fr",
   "useGoogleTranslate": true
  },
  "toc": {
   "base_numbering": 1,
   "nav_menu": {},
   "number_sections": true,
   "sideBar": true,
   "skip_h1_title": false,
   "title_cell": "Table of Contents",
   "title_sidebar": "Contents",
   "toc_cell": false,
   "toc_position": {},
   "toc_section_display": true,
   "toc_window_display": false
  },
  "varInspector": {
   "cols": {
    "lenName": 16,
    "lenType": 16,
    "lenVar": 40
   },
   "kernels_config": {
    "python": {
     "delete_cmd_postfix": "",
     "delete_cmd_prefix": "del ",
     "library": "var_list.py",
     "varRefreshCmd": "print(var_dic_list())"
    },
    "r": {
     "delete_cmd_postfix": ") ",
     "delete_cmd_prefix": "rm(",
     "library": "var_list.r",
     "varRefreshCmd": "cat(var_dic_list()) "
    }
   },
   "types_to_exclude": [
    "module",
    "function",
    "builtin_function_or_method",
    "instance",
    "_Feature"
   ],
   "window_display": false
  }
 },
 "nbformat": 4,
 "nbformat_minor": 5
}
