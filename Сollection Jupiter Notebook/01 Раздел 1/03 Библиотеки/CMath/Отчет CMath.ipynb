{
 "cells": [
  {
   "cell_type": "markdown",
   "id": "448a1be1",
   "metadata": {},
   "source": [
    "# CMath - для работы с комплексными числами."
   ]
  },
  {
   "cell_type": "markdown",
   "id": "60785409",
   "metadata": {
    "heading_collapsed": true
   },
   "source": [
    "## Импорт"
   ]
  },
  {
   "cell_type": "code",
   "execution_count": 62,
   "id": "76b65f5c",
   "metadata": {
    "ExecuteTime": {
     "end_time": "2023-05-08T14:02:18.618971Z",
     "start_time": "2023-05-08T14:02:18.599522Z"
    },
    "cell_style": "center",
    "hidden": true,
    "lang": "en",
    "run_control": {
     "marked": false
    }
   },
   "outputs": [],
   "source": [
    "import cmath as cm # библиотека: math как m "
   ]
  },
  {
   "cell_type": "markdown",
   "id": "7aae1cfd",
   "metadata": {},
   "source": [
    "## Константы и специальные значения модуля"
   ]
  },
  {
   "cell_type": "code",
   "execution_count": 5,
   "id": "ddb23b4d",
   "metadata": {
    "ExecuteTime": {
     "end_time": "2023-05-03T23:34:31.447455Z",
     "start_time": "2023-05-03T23:34:31.398397Z"
    }
   },
   "outputs": [
    {
     "data": {
      "text/plain": [
       "2.718281828459045"
      ]
     },
     "execution_count": 5,
     "metadata": {},
     "output_type": "execute_result"
    }
   ],
   "source": [
    "cm.e # число Эйлера"
   ]
  },
  {
   "cell_type": "code",
   "execution_count": 11,
   "id": "8694c766",
   "metadata": {
    "ExecuteTime": {
     "end_time": "2023-05-03T23:35:42.513609Z",
     "start_time": "2023-05-03T23:35:42.487603Z"
    }
   },
   "outputs": [
    {
     "data": {
      "text/plain": [
       "inf"
      ]
     },
     "execution_count": 11,
     "metadata": {},
     "output_type": "execute_result"
    }
   ],
   "source": [
    "cm.inf # Бесконечное число"
   ]
  },
  {
   "cell_type": "code",
   "execution_count": 17,
   "id": "1c6c3834",
   "metadata": {
    "ExecuteTime": {
     "end_time": "2023-05-03T23:37:59.662977Z",
     "start_time": "2023-05-03T23:37:59.634258Z"
    }
   },
   "outputs": [
    {
     "data": {
      "text/plain": [
       "infj"
      ]
     },
     "execution_count": 17,
     "metadata": {},
     "output_type": "execute_result"
    }
   ],
   "source": [
    "cm.infj # Бесконечное число и complex(0.0, float('inf'))"
   ]
  },
  {
   "cell_type": "code",
   "execution_count": 15,
   "id": "9327e35b",
   "metadata": {
    "ExecuteTime": {
     "end_time": "2023-05-03T23:37:01.278099Z",
     "start_time": "2023-05-03T23:37:01.250147Z"
    }
   },
   "outputs": [
    {
     "data": {
      "text/plain": [
       "nan"
      ]
     },
     "execution_count": 15,
     "metadata": {},
     "output_type": "execute_result"
    }
   ],
   "source": [
    "cm.nan # не число"
   ]
  },
  {
   "cell_type": "code",
   "execution_count": 18,
   "id": "f6e0d1d1",
   "metadata": {
    "ExecuteTime": {
     "end_time": "2023-05-03T23:38:01.113720Z",
     "start_time": "2023-05-03T23:38:01.084491Z"
    }
   },
   "outputs": [
    {
     "data": {
      "text/plain": [
       "nanj"
      ]
     },
     "execution_count": 18,
     "metadata": {},
     "output_type": "execute_result"
    }
   ],
   "source": [
    "cm.nanj # не число и complex(0.0, float('nan'))"
   ]
  },
  {
   "cell_type": "code",
   "execution_count": 8,
   "id": "a7fd6ce4",
   "metadata": {
    "ExecuteTime": {
     "end_time": "2023-05-03T23:35:19.493552Z",
     "start_time": "2023-05-03T23:35:19.465559Z"
    }
   },
   "outputs": [
    {
     "data": {
      "text/plain": [
       "3.141592653589793"
      ]
     },
     "execution_count": 8,
     "metadata": {},
     "output_type": "execute_result"
    }
   ],
   "source": [
    "cm.pi # число Пи"
   ]
  },
  {
   "cell_type": "code",
   "execution_count": 9,
   "id": "434f3203",
   "metadata": {
    "ExecuteTime": {
     "end_time": "2023-05-03T23:35:19.651970Z",
     "start_time": "2023-05-03T23:35:19.623254Z"
    }
   },
   "outputs": [
    {
     "data": {
      "text/plain": [
       "6.283185307179586"
      ]
     },
     "execution_count": 9,
     "metadata": {},
     "output_type": "execute_result"
    }
   ],
   "source": [
    "cm.tau # tau как 2*Пи"
   ]
  },
  {
   "cell_type": "markdown",
   "id": "33f20098",
   "metadata": {},
   "source": [
    "## Функция"
   ]
  },
  {
   "cell_type": "markdown",
   "id": "60702bb3",
   "metadata": {
    "heading_collapsed": true
   },
   "source": [
    "### Пример, объявление переменных в Math "
   ]
  },
  {
   "cell_type": "code",
   "execution_count": 22,
   "id": "c2706043",
   "metadata": {
    "ExecuteTime": {
     "end_time": "2023-05-03T23:40:08.791989Z",
     "start_time": "2023-05-03T23:40:08.768497Z"
    },
    "hidden": true
   },
   "outputs": [],
   "source": [
    "x = 12.5\n",
    "a = cm.pi/6 # Пи / 6\n",
    "y = 8.97 # y\n",
    "n = 2 # степень\n",
    "xc = x.conjugate # комплексно сопряженное\n",
    "xi = x.imag # мнимая часть числа\n",
    "xr = x.real # действительная часть."
   ]
  },
  {
   "cell_type": "markdown",
   "id": "8b65da49",
   "metadata": {
    "heading_collapsed": true
   },
   "source": [
    "### Преобразование"
   ]
  },
  {
   "cell_type": "markdown",
   "id": "6148c605",
   "metadata": {
    "heading_collapsed": true,
    "hidden": true
   },
   "source": [
    "####\n",
    "### Полярным координатам: polar"
   ]
  },
  {
   "cell_type": "code",
   "execution_count": 78,
   "id": "6e7c7f43",
   "metadata": {
    "ExecuteTime": {
     "end_time": "2023-05-08T14:17:58.855419Z",
     "start_time": "2023-05-08T14:17:58.822497Z"
    },
    "hidden": true
   },
   "outputs": [
    {
     "data": {
      "text/plain": [
       "(8.246211251235321, 0.24497866312686414)"
      ]
     },
     "execution_count": 78,
     "metadata": {},
     "output_type": "execute_result"
    }
   ],
   "source": [
    "# Вход ввод (8+2j)\n",
    "# Выход ret = (8.24..., 0.24...)\n",
    "\n",
    "ret = cm.polar(8+2j) # 4**2 = 16\n",
    "ret"
   ]
  },
  {
   "cell_type": "markdown",
   "id": "fb4058cc",
   "metadata": {
    "heading_collapsed": true,
    "hidden": true
   },
   "source": [
    "####\n",
    "### Обратные полярным координатам: rect"
   ]
  },
  {
   "cell_type": "code",
   "execution_count": 75,
   "id": "9580440d",
   "metadata": {
    "ExecuteTime": {
     "end_time": "2023-05-08T14:16:59.431195Z",
     "start_time": "2023-05-08T14:16:59.398837Z"
    },
    "hidden": true
   },
   "outputs": [
    {
     "data": {
      "text/plain": [
       "(1.6323282472535678+3.6517810029105107j)"
      ]
     },
     "execution_count": 75,
     "metadata": {},
     "output_type": "execute_result"
    }
   ],
   "source": [
    "# Вход ввод 4 и 20\n",
    "# Выход   ret =  (1.63...+3.65...j)\n",
    "\n",
    "ret = cm.rect(4, 20)\n",
    "ret"
   ]
  },
  {
   "cell_type": "markdown",
   "id": "6fcf1989",
   "metadata": {
    "heading_collapsed": true
   },
   "source": [
    "### Тригонометрические функции:"
   ]
  },
  {
   "cell_type": "markdown",
   "id": "a5b67464",
   "metadata": {
    "heading_collapsed": true,
    "hidden": true
   },
   "source": [
    "####\n",
    "### Синус: sin"
   ]
  },
  {
   "attachments": {
    "image.png": {
     "image/png": "[encoded data removed]"
    }
   },
   "cell_type": "markdown",
   "id": "cc4ace2e",
   "metadata": {
    "hidden": true
   },
   "source": [
    "<table style=\"float: left;\">\n",
    "    <tr>\n",
    "        <th style=\"text-align: center;\">Таблица</th>\n",
    "    </tr>\n",
    "    <tr>\n",
    "        <td style=\"float: left;\"> $$ \\sin(0) = 0 $$ </td>\n",
    "    </tr>\n",
    "    <tr>\n",
    "        <td style=\"float: left;\"> $$ \\sin\\left(\\frac{\\pi}{2}\\right) = 1 $$ </td>\n",
    "    </tr>\n",
    "    <tr>\n",
    "        <td style=\"float: left;\"> $$ \\sin\\left(\\pi\\right) = 0 $$ </td>\n",
    "    </tr>\n",
    "    <tr>\n",
    "        <td style=\"float: left;\"> $$ \\sin\\left(\\frac{3\\pi}{2}\\right) = -1 $$ </td>\n",
    "    </tr>\n",
    "</table>\n",
    "\n",
    "![image.png](attachment:image.png)"
   ]
  },
  {
   "cell_type": "code",
   "execution_count": 36,
   "id": "5b4b987e",
   "metadata": {
    "ExecuteTime": {
     "end_time": "2023-05-04T00:19:51.044501Z",
     "start_time": "2023-05-04T00:19:51.012230Z"
    },
    "hidden": true
   },
   "outputs": [
    {
     "data": {
      "text/plain": [
       "(1+0j)"
      ]
     },
     "execution_count": 36,
     "metadata": {},
     "output_type": "execute_result"
    }
   ],
   "source": [
    "# Вход ввод аргумента в радианах (pi/2)\n",
    "# Выход ret = 1.0\n",
    "\n",
    "ret = cm.sin(m.pi/2)\n",
    "ret"
   ]
  },
  {
   "cell_type": "markdown",
   "id": "8d6b754c",
   "metadata": {
    "heading_collapsed": true,
    "hidden": true
   },
   "source": [
    "####\n",
    "### Косинус: cos"
   ]
  },
  {
   "attachments": {
    "image.png": {
     "image/png": "[encoded data removed]"
    }
   },
   "cell_type": "markdown",
   "id": "17a9335c",
   "metadata": {
    "hidden": true
   },
   "source": [
    "<table style=\"float: left;\">\n",
    "    <tr>\n",
    "        <th style=\"text-align: center;\">Таблица</th>\n",
    "    </tr>\n",
    "    <tr>\n",
    "        <td style=\"float: left;\"> $$ \\cos(0) = 1 $$ </td>\n",
    "    </tr>\n",
    "    <tr>\n",
    "        <td style=\"float: left;\"> $$ \\cos\\left(\\frac{\\pi}{2}\\right) = 0 $$ </td>\n",
    "    </tr>\n",
    "    <tr>\n",
    "        <td style=\"float: left;\"> $$ \\cos\\left(\\pi\\right) = -1 $$ </td>\n",
    "    </tr>\n",
    "    <tr>\n",
    "        <td style=\"float: left;\"> $$ \\cos\\left(\\frac{3\\pi}{2}\\right) = 0 $$ </td>\n",
    "    </tr>\n",
    "</table>\n",
    "\n",
    "![image.png](attachment:image.png)"
   ]
  },
  {
   "cell_type": "code",
   "execution_count": 37,
   "id": "b34fa06b",
   "metadata": {
    "ExecuteTime": {
     "end_time": "2023-05-04T00:21:58.813948Z",
     "start_time": "2023-05-04T00:21:58.783691Z"
    },
    "hidden": true
   },
   "outputs": [
    {
     "data": {
      "text/plain": [
       "(-1-0j)"
      ]
     },
     "execution_count": 37,
     "metadata": {},
     "output_type": "execute_result"
    }
   ],
   "source": [
    "# Вход ввод аргумента в радианах (0)\n",
    "# Выход ret = 1.0\n",
    "\n",
    "ret = cm.cos(m.pi)\n",
    "ret"
   ]
  },
  {
   "cell_type": "markdown",
   "id": "7f6e56fd",
   "metadata": {
    "heading_collapsed": true,
    "hidden": true
   },
   "source": [
    "####\n",
    "### Тангенс: tan"
   ]
  },
  {
   "attachments": {
    "image.png": {
     "image/png": "[encoded data removed]"
    }
   },
   "cell_type": "markdown",
   "id": "07a81e61",
   "metadata": {
    "hidden": true
   },
   "source": [
    "<table style=\"float: left;\">\n",
    "    <tr>\n",
    "        <th style=\"text-align: center;\">Таблица</th>\n",
    "    </tr>\n",
    "    <tr>\n",
    "        <td style=\"float: left;\"> $$ \\tan(0) = 0 $$ </td>\n",
    "    </tr>\n",
    "    <tr>\n",
    "        <td style=\"float: left;\"> $$ \\tan\\left(\\frac{\\pi}{6}\\right) = \\frac{\\sqrt{3}}{3} $$ </td>\n",
    "    </tr>\n",
    "    <tr>\n",
    "        <td style=\"float: left;\"> $$ \\tan\\left(\\frac{\\pi}{4}\\right) = -1 $$ </td>\n",
    "    </tr>\n",
    "    <tr>\n",
    "        <td style=\"float: left;\"> $$ \\tan\\left(\\frac{\\pi}{3}\\right) = \\sqrt{3} $$ </td>\n",
    "    </tr>\n",
    "</table>\n",
    "\n",
    "<div style=\"float: left;\"> \n",
    "    $$ \\tan\\alpha=\\frac{\\sin\\alpha}{\\cos\\alpha} $$ \n",
    "</div>\n",
    "\n",
    "![image.png](attachment:image.png)"
   ]
  },
  {
   "cell_type": "code",
   "execution_count": 40,
   "id": "a7bf7008",
   "metadata": {
    "ExecuteTime": {
     "end_time": "2023-05-04T00:33:40.076847Z",
     "start_time": "2023-05-04T00:33:40.046111Z"
    },
    "hidden": true
   },
   "outputs": [
    {
     "data": {
      "text/plain": [
       "(0.9999999999999999+0j)"
      ]
     },
     "execution_count": 40,
     "metadata": {},
     "output_type": "execute_result"
    }
   ],
   "source": [
    "# Вход ввод аргумента в радианах (pi/4)\n",
    "# Выход ret = 1\n",
    "\n",
    "ret = cm.tan(m.pi/4)\n",
    "ret"
   ]
  },
  {
   "cell_type": "markdown",
   "id": "297529a2",
   "metadata": {
    "heading_collapsed": true
   },
   "source": [
    "### Обратные тригонометрические функции:"
   ]
  },
  {
   "cell_type": "markdown",
   "id": "c746c2e3",
   "metadata": {
    "heading_collapsed": true,
    "hidden": true
   },
   "source": [
    "####\n",
    "### Арксинус: asin"
   ]
  },
  {
   "cell_type": "markdown",
   "id": "f1e62bbb",
   "metadata": {
    "hidden": true
   },
   "source": [
    "<table style=\"float: left;\">\n",
    "    <tr>\n",
    "        <th style=\"text-align: center;\">Таблица</th>\n",
    "    </tr>\n",
    "    <tr>\n",
    "        <td style=\"float: left;\"> $$ asin(0) = 0 $$ </td>\n",
    "    </tr>\n",
    "    <tr>\n",
    "        <td style=\"float: left;\"> $$ asin\\left(1\\right) = \\frac{\\pi}{2} $$ </td>\n",
    "    </tr>\n",
    "    <tr>\n",
    "        <td style=\"float: left;\"> $$ asin\\left(-1\\right) = -\\frac{\\pi}{2} $$ </td>\n",
    "    </tr>\n",
    "</table>\n",
    "\n",
    "<div style=\"float: left;\"> \n",
    "    $$ asin\\:y = \\sin x $$ \n",
    "</div>"
   ]
  },
  {
   "cell_type": "code",
   "execution_count": 41,
   "id": "11b7a61b",
   "metadata": {
    "ExecuteTime": {
     "end_time": "2023-05-04T00:33:46.453566Z",
     "start_time": "2023-05-04T00:33:46.422206Z"
    },
    "hidden": true
   },
   "outputs": [
    {
     "data": {
      "text/plain": [
       "(1.5707963267948966+0j)"
      ]
     },
     "execution_count": 41,
     "metadata": {},
     "output_type": "execute_result"
    }
   ],
   "source": [
    "# Вход ввод аргумента в радианах (1)\n",
    "# Выход ret = 1.57079... = pi/2\n",
    "\n",
    "ret = cm.asin(1) # арксинус a в радианах\n",
    "ret"
   ]
  },
  {
   "cell_type": "markdown",
   "id": "30455826",
   "metadata": {
    "heading_collapsed": true,
    "hidden": true
   },
   "source": [
    "####\n",
    "### Арккосинус: acos"
   ]
  },
  {
   "cell_type": "markdown",
   "id": "444e8ca8",
   "metadata": {
    "hidden": true
   },
   "source": [
    "<table style=\"float: left;\">\n",
    "    <tr>\n",
    "        <th style=\"text-align: center;\">Таблица</th>\n",
    "    </tr>\n",
    "    <tr>\n",
    "        <td style=\"float: left;\"> $$ acos(0) = 1 $$ </td>\n",
    "    </tr>\n",
    "    <tr>\n",
    "        <td style=\"float: left;\"> $$ acos\\left(1\\right) = 0 $$ </td>\n",
    "    </tr>\n",
    "    <tr>\n",
    "        <td style=\"float: left;\"> $$ acos\\left(-1\\right) = \\pi $$ </td>\n",
    "    </tr>\n",
    "</table>\n",
    "\n",
    "<div style=\"float: left;\"> \n",
    "    $$ acos\\:y = \\cos x $$ \n",
    "</div>"
   ]
  },
  {
   "cell_type": "code",
   "execution_count": 42,
   "id": "9c726321",
   "metadata": {
    "ExecuteTime": {
     "end_time": "2023-05-04T00:34:14.262529Z",
     "start_time": "2023-05-04T00:34:14.230833Z"
    },
    "hidden": true
   },
   "outputs": [
    {
     "data": {
      "text/plain": [
       "(3.141592653589793-0j)"
      ]
     },
     "execution_count": 42,
     "metadata": {},
     "output_type": "execute_result"
    }
   ],
   "source": [
    "# Вход ввод аргумента в радианах (1)\n",
    "# Выход ret = 3.14159... = pi\n",
    "\n",
    "ret = cm.acos(-1) # арккосинус a в радианах\n",
    "ret"
   ]
  },
  {
   "cell_type": "markdown",
   "id": "fdd2564c",
   "metadata": {
    "heading_collapsed": true,
    "hidden": true
   },
   "source": [
    "####\n",
    "### Арктангенс: atan"
   ]
  },
  {
   "cell_type": "markdown",
   "id": "aee97d1f",
   "metadata": {
    "hidden": true
   },
   "source": [
    "<table style=\"float: left;\">\n",
    "    <tr>\n",
    "        <th style=\"text-align: center;\">Таблица</th>\n",
    "    </tr>\n",
    "    <tr>\n",
    "        <td style=\"float: left;\"> $$ \\tan(0) = 0 $$ </td>\n",
    "    </tr>\n",
    "    <tr>\n",
    "        <td style=\"float: left;\"> $$ \\tan(1) = 0 $$ </td>\n",
    "    </tr>\n",
    "    <tr>\n",
    "        <td style=\"float: left;\"> $$ \\tan(-1) = 0 $$ </td>\n",
    "    </tr>\n",
    "</table>"
   ]
  },
  {
   "cell_type": "code",
   "execution_count": 43,
   "id": "18b9d809",
   "metadata": {
    "ExecuteTime": {
     "end_time": "2023-05-04T00:35:04.124803Z",
     "start_time": "2023-05-04T00:35:04.096869Z"
    },
    "hidden": true
   },
   "outputs": [
    {
     "data": {
      "text/plain": [
       "(-0.7853981633974483+0j)"
      ]
     },
     "execution_count": 43,
     "metadata": {},
     "output_type": "execute_result"
    }
   ],
   "source": [
    "# Вход ввод аргумента в радианах (-1)\n",
    "# Выход ret = -0.785398... = pi/4\n",
    "\n",
    "ret = cm.atan(-1) # арктангенс a в радианах\n",
    "ret"
   ]
  },
  {
   "cell_type": "markdown",
   "id": "d8852c4d",
   "metadata": {
    "heading_collapsed": true,
    "hidden": true
   },
   "source": [
    "####\n",
    "### Комплексного числа: phase (Похоже math.atan2(x.imag, x.real))"
   ]
  },
  {
   "cell_type": "markdown",
   "id": "6cb8c523",
   "metadata": {
    "hidden": true
   },
   "source": [
    "<table style=\"float: left;\">\n",
    "    <tr>\n",
    "        <th style=\"text-align: center;\">Таблица</th>\n",
    "    </tr>\n",
    "    <tr>\n",
    "        <td style=\"float: left;\"> $$ \\tan2(0,0) = 0 $$ </td>\n",
    "    </tr>\n",
    "    <tr>\n",
    "        <td style=\"float: left;\"> $$ \\tan2(0, 1) = 0 $$ </td>\n",
    "    </tr>\n",
    "    <tr>\n",
    "        <td style=\"float: left;\"> $$ \\tan2(0, -1) = \\pi $$ </td>\n",
    "    </tr>\n",
    "    <tr>\n",
    "        <td style=\"float: left;\"> $$ \\tan2(1, 0) = \\frac{\\pi}{2} $$ </td>\n",
    "    </tr>\n",
    "    <tr>\n",
    "        <td style=\"float: left;\"> $$ \\tan2(1, 1) = \\frac{\\pi}{4} $$ </td>\n",
    "    </tr>\n",
    "    <tr>\n",
    "        <td style=\"float: left;\"> $$ \\tan2(1, -1) = 3\\frac{\\pi}{4} $$ </td>\n",
    "    </tr>\n",
    "    <tr>\n",
    "        <td style=\"float: left;\"> $$ \\tan2(-1, 0) = -\\frac{\\pi}{2} $$ </td>\n",
    "    </tr>\n",
    "    <tr>\n",
    "        <td style=\"float: left;\"> $$ \\tan2(-1, 1) = -\\frac{\\pi}{4} $$ </td>\n",
    "    </tr>\n",
    "    <tr>\n",
    "        <td style=\"float: left;\"> $$ \\tan2(-1, -1) = -3\\frac{\\pi}{4} $$ </td>\n",
    "    </tr>\n",
    "</table>"
   ]
  },
  {
   "cell_type": "code",
   "execution_count": 48,
   "id": "16bb2b7d",
   "metadata": {
    "ExecuteTime": {
     "end_time": "2023-05-04T00:36:26.647130Z",
     "start_time": "2023-05-04T00:36:26.616362Z"
    },
    "hidden": true
   },
   "outputs": [
    {
     "data": {
      "text/plain": [
       "2.356194490192345"
      ]
     },
     "execution_count": 48,
     "metadata": {},
     "output_type": "execute_result"
    }
   ],
   "source": [
    "# Вход ввод аргумента в радианах complex(-1, 1)\n",
    "# Выход ret = 2.3561... = 3(pi/4)\n",
    "\n",
    "ret = cm.phase(complex(-1, 1))\n",
    "ret"
   ]
  },
  {
   "cell_type": "markdown",
   "id": "fa6081a1",
   "metadata": {
    "heading_collapsed": true
   },
   "source": [
    "### Гиперболические функции:"
   ]
  },
  {
   "cell_type": "markdown",
   "id": "92f7ebb0",
   "metadata": {
    "heading_collapsed": true,
    "hidden": true
   },
   "source": [
    "####\n",
    "### Гиперболический синус: sinh"
   ]
  },
  {
   "attachments": {
    "image.png": {
     "image/png": "[encoded data removed]"
    }
   },
   "cell_type": "markdown",
   "id": "025a24a3",
   "metadata": {
    "hidden": true
   },
   "source": [
    "<div style=\"float: left;\"> \n",
    "    $$ \\sinh x = \\frac{e^x-e^{-x}}{2} $$\n",
    "</div>\n",
    "\n",
    "![image.png](attachment:image.png)"
   ]
  },
  {
   "cell_type": "code",
   "execution_count": 49,
   "id": "1c5bfc05",
   "metadata": {
    "ExecuteTime": {
     "end_time": "2023-05-04T00:37:28.563222Z",
     "start_time": "2023-05-04T00:37:28.532649Z"
    },
    "hidden": true
   },
   "outputs": [
    {
     "data": {
      "text/plain": [
       "(1.1752011936438014+0j)"
      ]
     },
     "execution_count": 49,
     "metadata": {},
     "output_type": "execute_result"
    }
   ],
   "source": [
    "# Вход ввод аргумента в радианах (1)\n",
    "# Выход ret = 1.175\n",
    "\n",
    "ret = cm.sinh(1)\n",
    "ret"
   ]
  },
  {
   "cell_type": "markdown",
   "id": "a8b31a97",
   "metadata": {
    "heading_collapsed": true,
    "hidden": true
   },
   "source": [
    "####\n",
    "### Гиперболический косинус: cosh"
   ]
  },
  {
   "attachments": {
    "image.png": {
     "image/png": "[encoded data removed]"
    }
   },
   "cell_type": "markdown",
   "id": "a079b339",
   "metadata": {
    "hidden": true
   },
   "source": [
    "<div style=\"float: left;\"> \n",
    "    $$ \\cosh x = \\frac{e^x+e^{-x}}{2} $$\n",
    "</div>\n",
    "\n",
    "![image.png](attachment:image.png)"
   ]
  },
  {
   "cell_type": "code",
   "execution_count": 51,
   "id": "8bd71fe5",
   "metadata": {
    "ExecuteTime": {
     "end_time": "2023-05-04T00:38:41.071809Z",
     "start_time": "2023-05-04T00:38:41.039843Z"
    },
    "hidden": true
   },
   "outputs": [
    {
     "data": {
      "text/plain": [
       "(1.5430806348152437+0j)"
      ]
     },
     "execution_count": 51,
     "metadata": {},
     "output_type": "execute_result"
    }
   ],
   "source": [
    "# Вход ввод аргумента в радианах (1)\n",
    "# Выход ret = 1.543\n",
    "\n",
    "ret = cm.cosh(1)\n",
    "ret "
   ]
  },
  {
   "cell_type": "markdown",
   "id": "cdff60f8",
   "metadata": {
    "hidden": true
   },
   "source": [
    "####\n",
    "### Гиперболический тангенс: tanh"
   ]
  },
  {
   "cell_type": "markdown",
   "id": "27971892",
   "metadata": {
    "hidden": true
   },
   "source": [
    "<div style=\"float: left;\"> \n",
    "    $$ \\tanh x = \\frac{\\sinh x}{\\cosh x} = \\frac{e^x-e^{-x}}{e^x+e^{-x}} = \\frac{e^{2x}-1}{e^{2x}+1} $$\n",
    "</div>"
   ]
  },
  {
   "cell_type": "code",
   "execution_count": 50,
   "id": "e9250d0a",
   "metadata": {
    "ExecuteTime": {
     "end_time": "2023-05-04T00:38:25.704846Z",
     "start_time": "2023-05-04T00:38:25.673941Z"
    },
    "hidden": true
   },
   "outputs": [
    {
     "data": {
      "text/plain": [
       "(0.7615941559557649+0j)"
      ]
     },
     "execution_count": 50,
     "metadata": {},
     "output_type": "execute_result"
    }
   ],
   "source": [
    "# Вход ввод аргумента в радианах (1)\n",
    "# Выход ret = 0.762\n",
    "\n",
    "ret = cm.tanh(1)\n",
    "ret"
   ]
  },
  {
   "cell_type": "markdown",
   "id": "3a4ee7a3",
   "metadata": {
    "heading_collapsed": true
   },
   "source": [
    "### Обратные гиперболические функции:"
   ]
  },
  {
   "cell_type": "markdown",
   "id": "e277ad71",
   "metadata": {
    "heading_collapsed": true,
    "hidden": true
   },
   "source": [
    "####\n",
    "### Гиперболический ареасинус: asinh"
   ]
  },
  {
   "cell_type": "markdown",
   "id": "d542d0fb",
   "metadata": {
    "ExecuteTime": {
     "end_time": "2023-05-04T00:50:21.098277Z",
     "start_time": "2023-05-04T00:50:21.071130Z"
    },
    "hidden": true
   },
   "source": [
    "<div style=\"float: left;\"> $$ z = \\ln\\left(z+\\sqrt{z^2+1}\\right) $$ </div>"
   ]
  },
  {
   "cell_type": "code",
   "execution_count": 53,
   "id": "5b0c6049",
   "metadata": {
    "ExecuteTime": {
     "end_time": "2023-05-04T00:50:31.701513Z",
     "start_time": "2023-05-04T00:50:31.672139Z"
    },
    "hidden": true
   },
   "outputs": [
    {
     "data": {
      "text/plain": [
       "(0.881373587019543+0j)"
      ]
     },
     "execution_count": 53,
     "metadata": {},
     "output_type": "execute_result"
    }
   ],
   "source": [
    "# Вход ввод аргумента в радианах (1)\n",
    "# Выход ret = 0.881\n",
    "\n",
    "ret = cm.asinh(1) \n",
    "ret"
   ]
  },
  {
   "cell_type": "markdown",
   "id": "77003675",
   "metadata": {
    "heading_collapsed": true,
    "hidden": true
   },
   "source": [
    "####\n",
    "### Гиперболический ареакосинус: acosh"
   ]
  },
  {
   "cell_type": "markdown",
   "id": "06b0f083",
   "metadata": {
    "hidden": true
   },
   "source": [
    "<div style=\"float: left;\"> $$ z = \\ln\\left(z+\\sqrt{z^2-1}\\right) $$ </div>"
   ]
  },
  {
   "cell_type": "code",
   "execution_count": 54,
   "id": "b0bb6131",
   "metadata": {
    "ExecuteTime": {
     "end_time": "2023-05-04T00:51:01.058045Z",
     "start_time": "2023-05-04T00:51:01.027001Z"
    },
    "hidden": true
   },
   "outputs": [
    {
     "data": {
      "text/plain": [
       "0j"
      ]
     },
     "execution_count": 54,
     "metadata": {},
     "output_type": "execute_result"
    }
   ],
   "source": [
    "# Вход ввод аргумента в радианах (1)\n",
    "# Выход ret = 0\n",
    "\n",
    "ret = cm.acosh(1)\n",
    "ret"
   ]
  },
  {
   "cell_type": "markdown",
   "id": "2f74d86d",
   "metadata": {
    "hidden": true
   },
   "source": [
    "####\n",
    "### Гиперболический ареатангенс: atanh"
   ]
  },
  {
   "cell_type": "markdown",
   "id": "0bfd756d",
   "metadata": {
    "hidden": true
   },
   "source": [
    "<div style=\"float: left;\"> $$ z = \\frac{1}{2}\\ln\\left(\\frac{1+z}{1-z}\\right) $$ </div>"
   ]
  },
  {
   "cell_type": "code",
   "execution_count": 55,
   "id": "3b0646d0",
   "metadata": {
    "ExecuteTime": {
     "end_time": "2023-05-04T00:51:30.759251Z",
     "start_time": "2023-05-04T00:51:30.719103Z"
    },
    "hidden": true
   },
   "outputs": [
    {
     "data": {
      "text/plain": [
       "(0.5493061443340549+0j)"
      ]
     },
     "execution_count": 55,
     "metadata": {},
     "output_type": "execute_result"
    }
   ],
   "source": [
    "# Вход ввод аргумента в радианах (1)\n",
    "# Выход ret = 2.3561... = 3(pi/4)\n",
    "\n",
    "ret = cm.atanh(0.5)\n",
    "ret"
   ]
  },
  {
   "cell_type": "markdown",
   "id": "b891c5b8",
   "metadata": {
    "heading_collapsed": true
   },
   "source": [
    "### Экспоненциальной функции"
   ]
  },
  {
   "cell_type": "markdown",
   "id": "54774660",
   "metadata": {
    "heading_collapsed": true,
    "hidden": true
   },
   "source": [
    "####\n",
    "### Экспоненциальный: exp"
   ]
  },
  {
   "cell_type": "code",
   "execution_count": 56,
   "id": "0926792b",
   "metadata": {
    "ExecuteTime": {
     "end_time": "2023-05-08T13:36:25.708681Z",
     "start_time": "2023-05-08T13:36:25.674864Z"
    },
    "hidden": true
   },
   "outputs": [
    {
     "data": {
      "text/plain": [
       "(2.718281828459045+0j)"
      ]
     },
     "execution_count": 56,
     "metadata": {},
     "output_type": "execute_result"
    }
   ],
   "source": [
    "# Вход ввод 1\n",
    "# Выход 2.71\n",
    "\n",
    "ret = cm.exp(1)\n",
    "ret"
   ]
  },
  {
   "cell_type": "markdown",
   "id": "bb9bf611",
   "metadata": {
    "heading_collapsed": true
   },
   "source": [
    "### Определение близости чисел: isclose"
   ]
  },
  {
   "cell_type": "code",
   "execution_count": 57,
   "id": "e8737c03",
   "metadata": {
    "ExecuteTime": {
     "end_time": "2023-05-08T13:37:23.491180Z",
     "start_time": "2023-05-08T13:37:23.460577Z"
    },
    "hidden": true,
    "scrolled": true
   },
   "outputs": [
    {
     "name": "stdout",
     "output_type": "stream",
     "text": [
      "True\n",
      "False\n",
      "True\n"
     ]
    }
   ],
   "source": [
    "# Вход ввод a = 5, 5.1, 5.0001 и b = 5.0;\n",
    "# Выход True, Flase, True где False, rel_tol=0.001 >= .0001\n",
    "\n",
    "print(cm.isclose(5, 5.0, rel_tol=1e-03))\n",
    "print(cm.isclose(5.1, 5.0, rel_tol=1e-03))\n",
    "print(cm.isclose(5.0001, 5.0, rel_tol=1e-03))"
   ]
  },
  {
   "cell_type": "markdown",
   "id": "7c57a71a",
   "metadata": {
    "heading_collapsed": true
   },
   "source": [
    "### Определение ограниченности: isfinite"
   ]
  },
  {
   "cell_type": "code",
   "execution_count": 58,
   "id": "02036c83",
   "metadata": {
    "ExecuteTime": {
     "end_time": "2023-05-08T13:37:55.157510Z",
     "start_time": "2023-05-08T13:37:55.125883Z"
    },
    "hidden": true
   },
   "outputs": [
    {
     "data": {
      "text/plain": [
       "True"
      ]
     },
     "execution_count": 58,
     "metadata": {},
     "output_type": "execute_result"
    }
   ],
   "source": [
    "# Вход ввод аргумент 0 или 1 до 999....\n",
    "# Выход True, так как m.inf или NaN будет false\n",
    "\n",
    "ret = cm.isfinite(0)\n",
    "ret"
   ]
  },
  {
   "cell_type": "markdown",
   "id": "30e18561",
   "metadata": {
    "heading_collapsed": true
   },
   "source": [
    "### Определение бесконечности: isinf"
   ]
  },
  {
   "cell_type": "code",
   "execution_count": 64,
   "id": "ebfd7b49",
   "metadata": {
    "ExecuteTime": {
     "end_time": "2023-05-08T14:02:39.366956Z",
     "start_time": "2023-05-08T14:02:39.337027Z"
    },
    "hidden": true
   },
   "outputs": [
    {
     "data": {
      "text/plain": [
       "True"
      ]
     },
     "execution_count": 64,
     "metadata": {},
     "output_type": "execute_result"
    }
   ],
   "source": [
    "# Вход ввод аргументы m.inf\n",
    "# Выход True так как 0..999... - не бесконечный\n",
    "\n",
    "ret = cm.isinf(cm.inf)\n",
    "ret"
   ]
  },
  {
   "cell_type": "markdown",
   "id": "728008db",
   "metadata": {
    "heading_collapsed": true
   },
   "source": [
    "### Определение значения NaN (Not A Number): isnan"
   ]
  },
  {
   "cell_type": "code",
   "execution_count": null,
   "id": "37c5cc87",
   "metadata": {
    "ExecuteTime": {
     "end_time": "2023-05-08T14:03:27.699911Z",
     "start_time": "2023-05-08T14:03:27.668672Z"
    },
    "hidden": true
   },
   "outputs": [],
   "source": [
    "# Вход ввод аргумент m.nan\n",
    "# Выход True\n",
    "# NaN - неопределенный результат\n",
    "\n",
    "ret = cm.isnan(callablem.nan)\n",
    "ret"
   ]
  },
  {
   "cell_type": "markdown",
   "id": "23c9cbeb",
   "metadata": {
    "heading_collapsed": true,
    "hidden": true
   },
   "source": [
    "####\n",
    "### Основание логарифма n: log"
   ]
  },
  {
   "cell_type": "markdown",
   "id": "b952b152",
   "metadata": {
    "heading_collapsed": true
   },
   "source": [
    "### Логарифмы функции: log"
   ]
  },
  {
   "cell_type": "markdown",
   "id": "aada9213",
   "metadata": {
    "heading_collapsed": true,
    "hidden": true
   },
   "source": [
    "####\n",
    "### Основание логарифма n: log"
   ]
  },
  {
   "cell_type": "code",
   "execution_count": 68,
   "id": "8c33eda4",
   "metadata": {
    "ExecuteTime": {
     "end_time": "2023-05-08T14:05:22.062068Z",
     "start_time": "2023-05-08T14:05:22.031803Z"
    },
    "hidden": true
   },
   "outputs": [
    {
     "data": {
      "text/plain": [
       "(4+0j)"
      ]
     },
     "execution_count": 68,
     "metadata": {},
     "output_type": "execute_result"
    }
   ],
   "source": [
    "# Вход ввод числовое выражение, базовое значение (x = 16, Base = 2)\n",
    "# Выход ret = 4, так как 4**2 = 4 * 4 = 16\n",
    "\n",
    "ret = cm.log(16,2) # 4**2 = 16\n",
    "ret"
   ]
  },
  {
   "cell_type": "markdown",
   "id": "e20f8cd6",
   "metadata": {
    "heading_collapsed": true,
    "hidden": true
   },
   "source": [
    "####\n",
    "### Логарифма любого заданного числа по основанию 10: log10"
   ]
  },
  {
   "cell_type": "code",
   "execution_count": 70,
   "id": "0e923572",
   "metadata": {
    "ExecuteTime": {
     "end_time": "2023-05-08T14:06:17.084294Z",
     "start_time": "2023-05-08T14:06:17.054172Z"
    },
    "hidden": true
   },
   "outputs": [
    {
     "data": {
      "text/plain": [
       "(2+0j)"
      ]
     },
     "execution_count": 70,
     "metadata": {},
     "output_type": "execute_result"
    }
   ],
   "source": [
    "# Вход ввод числовое выражение, базовое значение (x = 100)\n",
    "# Выход ret = 2, так как m.log10(100) = m.log(100, 10)\n",
    "\n",
    "ret = cm.log10(100) # 10**2 = 100\n",
    "ret"
   ]
  },
  {
   "cell_type": "markdown",
   "id": "a3a8bc84",
   "metadata": {
    "heading_collapsed": true
   },
   "source": [
    "### Квадратный корень числа num: sqrt"
   ]
  },
  {
   "cell_type": "code",
   "execution_count": 80,
   "id": "d69214c5",
   "metadata": {
    "ExecuteTime": {
     "end_time": "2023-05-08T14:19:38.248067Z",
     "start_time": "2023-05-08T14:19:38.217860Z"
    },
    "hidden": true
   },
   "outputs": [
    {
     "data": {
      "text/plain": [
       "(4+0j)"
      ]
     },
     "execution_count": 80,
     "metadata": {},
     "output_type": "execute_result"
    }
   ],
   "source": [
    "# Вход ввод числовое выражение, базовое значение (x = 16)\n",
    "# Выход ret = 4\n",
    "\n",
    "ret = cm.sqrt(16)\n",
    "ret"
   ]
  }
 ],
 "metadata": {
  "hide_input": false,
  "kernelspec": {
   "display_name": "Python 3 (ipykernel)",
   "language": "python",
   "name": "python3"
  },
  "language_info": {
   "codemirror_mode": {
    "name": "ipython",
    "version": 3
   },
   "file_extension": ".py",
   "mimetype": "text/x-python",
   "name": "python",
   "nbconvert_exporter": "python",
   "pygments_lexer": "ipython3",
   "version": "3.10.6"
  },
  "nbTranslate": {
   "displayLangs": [
    "*"
   ],
   "hotkey": "alt-t",
   "langInMainMenu": true,
   "sourceLang": "en",
   "targetLang": "fr",
   "useGoogleTranslate": true
  },
  "toc": {
   "base_numbering": 1,
   "nav_menu": {},
   "number_sections": true,
   "sideBar": true,
   "skip_h1_title": false,
   "title_cell": "Table of Contents",
   "title_sidebar": "Contents",
   "toc_cell": false,
   "toc_position": {},
   "toc_section_display": true,
   "toc_window_display": false
  },
  "varInspector": {
   "cols": {
    "lenName": 16,
    "lenType": 16,
    "lenVar": 40
   },
   "kernels_config": {
    "python": {
     "delete_cmd_postfix": "",
     "delete_cmd_prefix": "del ",
     "library": "var_list.py",
     "varRefreshCmd": "print(var_dic_list())"
    },
    "r": {
     "delete_cmd_postfix": ") ",
     "delete_cmd_prefix": "rm(",
     "library": "var_list.r",
     "varRefreshCmd": "cat(var_dic_list()) "
    }
   },
   "types_to_exclude": [
    "module",
    "function",
    "builtin_function_or_method",
    "instance",
    "_Feature"
   ],
   "window_display": false
  }
 },
 "nbformat": 4,
 "nbformat_minor": 5
}
