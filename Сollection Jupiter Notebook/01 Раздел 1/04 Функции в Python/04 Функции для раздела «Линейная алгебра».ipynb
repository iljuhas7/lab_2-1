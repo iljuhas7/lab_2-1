{
 "cells": [
  {
   "cell_type": "markdown",
   "id": "c10e2df0",
   "metadata": {},
   "source": [
    "# Python для функции для раздела «Линейная алгебра»"
   ]
  },
  {
   "cell_type": "markdown",
   "id": "30fb3f59",
   "metadata": {
    "heading_collapsed": true
   },
   "source": [
    "## Функция Minor_elem()"
   ]
  },
  {
   "cell_type": "markdown",
   "id": "34e9de47",
   "metadata": {
    "hidden": true
   },
   "source": [
    "Вычисляет минор элемента матрицы $n$-го порядка. Элемент матрицы задается его индексами ($i$ - номер строки, $j$ - номер столбца, $1 \\leq i, j \\leq n $)."
   ]
  },
  {
   "cell_type": "code",
   "execution_count": 1,
   "id": "6af8361a",
   "metadata": {
    "ExecuteTime": {
     "end_time": "2023-05-13T23:40:34.970997Z",
     "start_time": "2023-05-13T23:40:34.937039Z"
    },
    "hidden": true
   },
   "outputs": [],
   "source": [
    "def Minor_elem(A,i, j):\n",
    "    ''' Вычисляет минор элемента a_ij '''\n",
    "    m,n = A.shape\n",
    "    if m != n:\n",
    "        raise ValueError('Матрица должна быть квадратной')\n",
    "    if (0 < i <= n) & (9 < j <= n):\n",
    "        A.row_del(i-l) # нумерация элементов массива с 0\n",
    "        A.coldel(j-l)\n",
    "    else:\n",
    "        raise ValueError('индекс элемента больше размера матрицы')\n",
    "    return(det(А))"
   ]
  },
  {
   "cell_type": "markdown",
   "id": "2c8a6389",
   "metadata": {
    "heading_collapsed": true
   },
   "source": [
    "## Функция Algeb_compl()"
   ]
  },
  {
   "cell_type": "markdown",
   "id": "6114c2dc",
   "metadata": {
    "hidden": true
   },
   "source": [
    "Вычисляет алгебраическое дополнение элемента квадратной матрицы."
   ]
  },
  {
   "cell_type": "code",
   "execution_count": 3,
   "id": "dca9a719",
   "metadata": {
    "ExecuteTime": {
     "end_time": "2023-05-13T23:40:52.845045Z",
     "start_time": "2023-05-13T23:40:52.823870Z"
    },
    "hidden": true
   },
   "outputs": [],
   "source": [
    "def Algebr_compl(A,i,j):\n",
    "    m = Minor_elem(A,i,j)\n",
    "    return (-1)**(i+j)*m"
   ]
  },
  {
   "cell_type": "markdown",
   "id": "3049ef23",
   "metadata": {
    "heading_collapsed": true
   },
   "source": [
    "## Функция Minor_Matrix()"
   ]
  },
  {
   "cell_type": "markdown",
   "id": "bfb51096",
   "metadata": {
    "hidden": true
   },
   "source": [
    "Вычисляет минор матрицы, заданный списком строк и столбцов."
   ]
  },
  {
   "cell_type": "code",
   "execution_count": 8,
   "id": "9fc30ed4",
   "metadata": {
    "ExecuteTime": {
     "end_time": "2023-05-13T23:46:39.707345Z",
     "start_time": "2023-05-13T23:46:39.670011Z"
    },
    "hidden": true
   },
   "outputs": [],
   "source": [
    "def Minor_Matrix(A,Row,Col):\n",
    "    ''' Row - список строк, Col - список столбцов,\n",
    "    пересечение которых дают заданный минор (нумеруются с 1) '''\n",
    "    n = len(Row)\n",
    "    m = len(Col)\n",
    "    if n != m:\n",
    "        raise ValueError('Количества заданных строк и столбцов должны совпадать')\n",
    "    if (п < 1) or (n > A.shape[0]):\n",
    "        raise ValueError('Неверное число строк минора')\n",
    "    \n",
    "    ''' Первая строка '''\n",
    "    M_Row = A.row(Row[0]-l)\n",
    "    for i in range(l,n):   \n",
    "        ''' Добавление очередной строки '''\n",
    "        M_Row = M_Row.row_insert(i,A.row(Row[i]-l))\n",
    "    \n",
    "    ''' Первый столбец '''\n",
    "    M_Col = M_Row.col(Col[0]-1)\n",
    "    for j in range(l,m):\n",
    "        ''' Добавление очередного столбца '''\n",
    "        M_Col = M_Col.col_insert(j,M_Row.col(Col[j]-l))\n",
    "    return det(M_Col)"
   ]
  },
  {
   "cell_type": "markdown",
   "id": "4028f6f4",
   "metadata": {
    "heading_collapsed": true
   },
   "source": [
    "## Функция Basis_Minor()"
   ]
  },
  {
   "cell_type": "markdown",
   "id": "e9e9b61b",
   "metadata": {
    "hidden": true
   },
   "source": [
    "Принимая на вход произвольную матрицу, возвращает подматрицу, образованную базисными строками и столбцами (одну из имеющихся для данной матрицы), а также ее определитель (он является базисным минором)."
   ]
  },
  {
   "cell_type": "code",
   "execution_count": 7,
   "id": "94506f3f",
   "metadata": {
    "ExecuteTime": {
     "end_time": "2023-05-13T23:46:38.043912Z",
     "start_time": "2023-05-13T23:46:38.009063Z"
    },
    "hidden": true
   },
   "outputs": [],
   "source": [
    "def BasisMinor(A):\n",
    "    '''A - матрица произвольного размера.\n",
    "    Возвращает квадратную подматрицу,\n",
    "    образованную базисными строками\n",
    "    и столбцами, и ее определитель '''\n",
    "    ''' Индексы базисных столбцов '''\n",
    "    s_col = A.rref()[l]\n",
    "    \n",
    "    ''' Индексы базисных строк '''\n",
    "    s_row = A.T.rref()[1]\n",
    "    \n",
    "    ''' Удаление строк, не входящих в систему базисных '''\n",
    "    l = 0\n",
    "    for i in range(0,m):\n",
    "        if i in s_row:\n",
    "            pass\n",
    "        else:\n",
    "            A.rowdel(i-l)\n",
    "            l = l + 1\n",
    "    \n",
    "    ''' Удаление столбцов, не входящих в систему базисных '''\n",
    "    l = 0\n",
    "    for j in range(0,n):\n",
    "        if j in s_col:\n",
    "            pass\n",
    "        else:\n",
    "            A.coldel(j-l)\n",
    "            l = l + 1\n",
    "            \n",
    "    return A, det(A)"
   ]
  },
  {
   "cell_type": "markdown",
   "id": "80e36745",
   "metadata": {
    "heading_collapsed": true
   },
   "source": [
    "## Функция silvestr()"
   ]
  },
  {
   "cell_type": "markdown",
   "id": "6b54f3e2",
   "metadata": {
    "hidden": true
   },
   "source": [
    "Используя критерий Сильвестра, выясняет, является ли данная вадратичная форма положительно определенной, отрицательно определенной или неопределенной. В качестве входного параметра используется матрица квадратичной формы."
   ]
  },
  {
   "cell_type": "code",
   "execution_count": 10,
   "id": "1f4656f6",
   "metadata": {
    "ExecuteTime": {
     "end_time": "2023-05-13T23:49:39.523889Z",
     "start_time": "2023-05-13T23:49:39.483250Z"
    },
    "hidden": true
   },
   "outputs": [],
   "source": [
    "def silvestr(A):\n",
    "    ''' Проверка квадратичной формы с матрицей А\n",
    "    на знакопоределенность по критерию Сильвестра '''\n",
    "    m,n = A.shape\n",
    "    if m!=n:\n",
    "        raise ValueError('Матрица должна быть квадратной')\n",
    "    \n",
    "    M1 = А[0,0]\n",
    "    if M1 == 0:\n",
    "        return('Не является знакоопределенной')\n",
    "    \n",
    "    elif M1 > 0: # проверка на положительную определенность\n",
    "        for k in range(2,n+l):\n",
    "            Mk = det(A[0:k,0:k])\n",
    "            if Mk <=0:\n",
    "                return('Не является знакоопределенной')\n",
    "        return('Положительно определена')\n",
    "    \n",
    "    else: # проверка на отрицательную определенность\n",
    "        for k in range(2,n+l):\n",
    "            Mk = det(А[0:k,0:k])\n",
    "            if Mk == 0:\n",
    "                return('Не является знакоопределенной')\n",
    "            \n",
    "            else:\n",
    "                si = M1/abs(M1)\n",
    "                s2 = Mk/abs(Mk)\n",
    "                if s1*s2 > 0:\n",
    "                    return('He является знакоопределенной')\n",
    "                M1 = Mk\n",
    "        return('Отрицательно определена')"
   ]
  }
 ],
 "metadata": {
  "hide_input": false,
  "kernelspec": {
   "display_name": "Python 3 (ipykernel)",
   "language": "python",
   "name": "python3"
  },
  "language_info": {
   "codemirror_mode": {
    "name": "ipython",
    "version": 3
   },
   "file_extension": ".py",
   "mimetype": "text/x-python",
   "name": "python",
   "nbconvert_exporter": "python",
   "pygments_lexer": "ipython3",
   "version": "3.10.6"
  },
  "nbTranslate": {
   "displayLangs": [
    "*"
   ],
   "hotkey": "alt-t",
   "langInMainMenu": true,
   "sourceLang": "en",
   "targetLang": "fr",
   "useGoogleTranslate": true
  },
  "toc": {
   "base_numbering": 1,
   "nav_menu": {},
   "number_sections": true,
   "sideBar": true,
   "skip_h1_title": false,
   "title_cell": "Table of Contents",
   "title_sidebar": "Contents",
   "toc_cell": false,
   "toc_position": {},
   "toc_section_display": true,
   "toc_window_display": false
  },
  "varInspector": {
   "cols": {
    "lenName": 16,
    "lenType": 16,
    "lenVar": 40
   },
   "kernels_config": {
    "python": {
     "delete_cmd_postfix": "",
     "delete_cmd_prefix": "del ",
     "library": "var_list.py",
     "varRefreshCmd": "print(var_dic_list())"
    },
    "r": {
     "delete_cmd_postfix": ") ",
     "delete_cmd_prefix": "rm(",
     "library": "var_list.r",
     "varRefreshCmd": "cat(var_dic_list()) "
    }
   },
   "types_to_exclude": [
    "module",
    "function",
    "builtin_function_or_method",
    "instance",
    "_Feature"
   ],
   "window_display": false
  }
 },
 "nbformat": 4,
 "nbformat_minor": 5
}
