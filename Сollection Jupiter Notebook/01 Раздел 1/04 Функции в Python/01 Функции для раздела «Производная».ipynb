{
 "cells": [
  {
   "cell_type": "markdown",
   "id": "fdf546fd",
   "metadata": {},
   "source": [
    "# Python функция для раздела «Производная»"
   ]
  },
  {
   "cell_type": "markdown",
   "id": "30fb3f59",
   "metadata": {
    "heading_collapsed": true
   },
   "source": [
    "## Функция tangent()"
   ]
  },
  {
   "cell_type": "markdown",
   "id": "36600c14",
   "metadata": {
    "hidden": true
   },
   "source": [
    "Возвращает уравнение касательной (в виде общего уравнения\n",
    "прямой) к графику заданной функции $ у = f(x) $ в точке с абсциссой\n",
    "$ x = x_{0} $."
   ]
  },
  {
   "cell_type": "code",
   "execution_count": 33,
   "id": "d82fd7b6",
   "metadata": {
    "ExecuteTime": {
     "end_time": "2023-05-13T22:00:37.741839Z",
     "start_time": "2023-05-13T22:00:37.715356Z"
    },
    "hidden": true
   },
   "outputs": [],
   "source": [
    "def tangent(y, x0):\n",
    "    '''' Строит уравнение касательной\n",
    "        к графику функции у(х) в точке\n",
    "        с абсциссой х0 '''\n",
    "    ''' (х0;у0) - точка касания '''\n",
    "    y0 = y.subs(x, x0)\n",
    "\n",
    "    ''' Касательная с уравнением у = kx+b\n",
    "        проходит через точку М(х0;у0), а также\n",
    "        через точку N(x0+l;y0+k) (к -\n",
    "        угловой коэффициент)'''\n",
    "    x1 = x0 + 1\n",
    "    \n",
    "    ''' Производная функции у при х=х0 '''\n",
    "    k = diff(y,x).subs(x,x0)\n",
    "    y1 = y0 + k\n",
    "\n",
    "    ''' Касательная - это прямая, проходящая\n",
    "    через точки М и N'''\n",
    "    return Line((x0,y0), (x1,y1))"
   ]
  },
  {
   "cell_type": "markdown",
   "id": "e83b2daf",
   "metadata": {
    "heading_collapsed": true
   },
   "source": [
    "## Функция tangent_from_point()"
   ]
  },
  {
   "cell_type": "markdown",
   "id": "7add5736",
   "metadata": {
    "hidden": true
   },
   "source": [
    "Возвращает уравнение касательной (в виде общего уравнения прямой), проведенной из заданной точки к графику заданной функции."
   ]
  },
  {
   "cell_type": "code",
   "execution_count": null,
   "id": "d52455f2",
   "metadata": {
    "ExecuteTime": {
     "end_time": "2023-05-15T22:37:53.082661Z",
     "start_time": "2023-05-15T22:37:53.034005Z"
    },
    "hidden": true,
    "run_control": {
     "marked": false
    }
   },
   "outputs": [],
   "source": [
    "def tangent_from_point(y, x1, y1):\n",
    "    ''' у - уравнение кривой; (x1;y1yl) -\n",
    "        точка, черев которую должна пройти\n",
    "        касательная; (x0;y0) - точка касания '''\n",
    "    x, x0, y0 = symbols('x x0 y0')\n",
    "    \n",
    "    ''' Производная y при x=x0 '''\n",
    "    y_diff = diff(y, x).subs(x, x0)\n",
    "    ''' Уравнение касательной '''\n",
    "    \n",
    "    y_tang = y_diff*(x-x0) + y0\n",
    "    \n",
    "    ''' Кривая у(х) проходит через точку касания (х1;у0) 1'''\n",
    "    first_eq = y.subs(x, x0) - y0\n",
    "    \n",
    "    ''' Касательна проходит через точку (x1;y1) '''\n",
    "    second_eq = y_tang.subs(x, x1) - y1\n",
    "    \n",
    "    ''' Решаем систему '''\n",
    "    res = solve([first_eq, second_eq], [x0, y0], dict=True)\n",
    "    if len(res) == 1: # одна касательная\n",
    "        x01 = res[0][x0]\n",
    "        y01 = res[0][y0]\n",
    "        return Line((x01,y01), (x1,y1))\n",
    "    \n",
    "    else: # две касательных\n",
    "        x021 = res[0][x0]; y021 = res[0][y0]\n",
    "        x022 = res[1][x0]; y022 = res[1][y0]\n",
    "        return Line((x021,y021), (x1, y1)), Line((x022,y022), (x1, y1))"
   ]
  },
  {
   "cell_type": "markdown",
   "id": "ac894b0c",
   "metadata": {
    "heading_collapsed": true
   },
   "source": [
    "## Функция study function()"
   ]
  },
  {
   "cell_type": "markdown",
   "id": "ee2d258f",
   "metadata": {
    "hidden": true
   },
   "source": [
    "Осуществляет полное исследование функции одной переменной. Возвращает: уравнения асимптот; выражения для первой и второй производных; абсциссы и ординаты точек экстремума и точек перегиба."
   ]
  },
  {
   "cell_type": "code",
   "execution_count": 21,
   "id": "22c2d5f0",
   "metadata": {
    "ExecuteTime": {
     "end_time": "2023-05-13T21:51:50.568675Z",
     "start_time": "2023-05-13T21:51:50.474216Z"
    },
    "hidden": true
   },
   "outputs": [],
   "source": [
    "def study_function(y, singp=0, asimp=True):\n",
    "    ''' у - функция singp - кортеж особых точек '''\n",
    "    \n",
    "    ''' Поиск вертикальных асимптот '''\n",
    "    if asimp:\n",
    "        if singp != 0:\n",
    "            for i in range(O,len(singp)):\n",
    "                lim = limit(y, x, singp[i])\n",
    "                if abs(lim) == oo:\n",
    "                    print('Вертикальная асимптота: x =',singp[i])\n",
    "\n",
    "        ''' Поиск горизонтальных асимптот '''\n",
    "        lp = limit(y, x, +oo)\n",
    "        lm = limit(y, x, -oo)\n",
    "        if (abs(lp) != oo) & (abs(lm) != oo):\n",
    "            print('Горизонтальная асимптота у = ', lр)\n",
    "        elif (abs(lp) != oo) & (abs(lm) == oo):\n",
    "            print('Горизонтальная асимптота при х -> +oo, у = ', lp)\n",
    "        elif (abs(lp) == oo) & (abs(lm) != oo):\n",
    "            print('Горизонтальная асимптота при х -> -oo, у =', lm)\n",
    "        \n",
    "        ''' Поиск наклонных асимптот '''\n",
    "        kp = limit(y/x, x, oo, '+')\n",
    "        km = limit(y/x, х, oo, '-')\n",
    "        if (кр != 0) & (кт != 0):\n",
    "            if (кр != oo) & (кт != oo):\n",
    "                b = limit(y-kp*x, х, oo)\n",
    "                if b != oo:\n",
    "                    print('Наклонная асимптота: у =', kp * x + b)\n",
    "            elif (kp != oo) & (km == oo):\n",
    "                b = limit(y-kp*x, x, oo, '+')\n",
    "                if b != oo:\n",
    "                    print('Наклонная асимптота при х -> +oo: у=', kp*x+b)    \n",
    "    ''' Производные '''\n",
    "    у_ = diff(y,x)\n",
    "    \n",
    "    print(\"у': \", y_.simplify())\n",
    "    у2_ = diff(y, х, 2)\n",
    "    \n",
    "    print('у\": ', у2_.simplify())\n",
    "    уЗ_ = diff(y, х, 3)\n",
    "    \n",
    "    ''' Поиск критических точек '''\n",
    "    roots_diff = solve(y_,x)\n",
    "    k = len(roots_diff)\n",
    "    if k > 0:\n",
    "        for i in range(0, k):\n",
    "            ''' Проверка второй производной '''\n",
    "            ri = roots_diff[i]\n",
    "            y2_0 = y2_.subs(x, ri)\n",
    "            if y2_0 > 0:\n",
    "                print('x = %s - точка минимума, y_min = Xs' % (ri, y.subs(x,ri)))\n",
    "            elif y2_0 < 0:\n",
    "                print('x = %s - точка максимума, y_max = %s' % (ri, y.subs(x,ri)))\n",
    "            else:\n",
    "                ''' Проверка, не является ли критическая точка, точкой перегиба '''\n",
    "                у3_0 = y3_.subs(x,ri)\n",
    "                if у3_0 != 0:\n",
    "                    print('x = %s - точка перегиба, у(х) = %s' % (ri, y.subs(x,ri)))\n",
    "                else:\n",
    "                    print('B критической точке %s требуется дополнительное исследование' % ri)\n",
    "    \n",
    "    ''' Поиск точек перегиба '''\n",
    "    roots_2diff = solve(y2_)\n",
    "    k = len(roots_2diff)\n",
    "    if k > 0:\n",
    "        for i in range(0, k):\n",
    "            ri = roots_2diff[i]\n",
    "            y3_0 = y3_.subs(x, ri)\n",
    "            y_0 = y_.subs(x, ri);\n",
    "            if (y3_0 != 0) & (y_0 != 0):\n",
    "                print('x = %s - точка перегиба, y(x) = %s' % (ri, y.subs(x,ri)))"
   ]
  },
  {
   "cell_type": "markdown",
   "id": "29b1b9b6",
   "metadata": {
    "heading_collapsed": true
   },
   "source": [
    "## Функция diff_direct()"
   ]
  },
  {
   "cell_type": "markdown",
   "id": "ea3e6b5e",
   "metadata": {
    "hidden": true
   },
   "source": [
    "Возвращает координаты (в виде символьных выражений и числовые) производной по направлению функции двух или трех переменных."
   ]
  },
  {
   "cell_type": "code",
   "execution_count": 42,
   "id": "003ac2dc",
   "metadata": {
    "ExecuteTime": {
     "end_time": "2023-05-13T22:08:08.089231Z",
     "start_time": "2023-05-13T22:08:08.021996Z"
    },
    "code_folding": [],
    "hidden": true
   },
   "outputs": [
    {
     "ename": "SyntaxError",
     "evalue": "invalid syntax (3830617977.py, line 28)",
     "output_type": "error",
     "traceback": [
      "\u001b[0;36m  Cell \u001b[0;32mIn[42], line 28\u001b[0;36m\u001b[0m\n\u001b[0;31m    elif len(l.direction) == 3:\u001b[0m\n\u001b[0m    ^\u001b[0m\n\u001b[0;31mSyntaxError\u001b[0m\u001b[0;31m:\u001b[0m invalid syntax\n"
     ]
    }
   ],
   "source": [
    "def diff_direct(u, l, M=0):\n",
    "    ''' Производная по направлению функции двух или\n",
    "    трех переменных. Если задана точка М,\n",
    "    вычисляется значение производной в точке,\n",
    "    f - функция,\n",
    "    1 - направление (задается как уравнение прямой Line)\n",
    "    М - точка (в виде объекта Point)'''\n",
    "    x, y, z = symbols('x y z')\n",
    "\n",
    "    ''' Функция двух переменных '''\n",
    "    if len(l.direction) == 2:\n",
    "        u_x = diff(u,x)\n",
    "        u_y = diff(u,y)\n",
    "        Ox = Line((0,O), (1,0))\n",
    "        Oy = Line((0,0), (0,1))\n",
    "\n",
    "        ''' Направляющие косинусы '''\n",
    "        cos_a = cos(Ox.angle_between(l))\n",
    "        cos_b = cos(Oy.angle_betweel(l))\n",
    "        u_l = u_x*cos_a + u_y*cos_b\n",
    "        if M:\n",
    "            u_x_M = diff(u,x).subs({x:M.x, y:M.y})\n",
    "            u_y_M = diff(u,y).subs({x:M.x, y:M.y})\n",
    "            u_l_m = u_x_M*cos_a + u_y_M*cos_b\n",
    "            return u_l, u_l_m\n",
    "        else:\n",
    "            return u_l\n",
    "\n",
    "    ''' Функция трех переменных '''\n",
    "    elif len(l.direction) == 3:\n",
    "        u_x = diff(u,x)\n",
    "        u_y = diff(u,y)\n",
    "        u_z = diff(u,z)\n",
    "        Ox = Line((O,0,0), (1,0,0))\n",
    "        Oy = Line((0,0,0), (0,1,0))\n",
    "        Oz = Line((O,0,0), (0,0,1))\n",
    "\n",
    "        ''' Направляющие косинусы '''\n",
    "        cos_a = cos(Ox.angle_between(l))\n",
    "        cos_b = cos(Oy.angle_between(l))\n",
    "        cosg = cos(Oz.angle_between(l))\n",
    "        u_l = u_x*cos_a + u_y*cos_b + u_y*cos_g\n",
    "        if M:\n",
    "            u_x_M = diff(u,x).subs({x:M.x, y:M.y, z:M.z})\n",
    "            u_y_M = diff(u,y).subs({x:M.x, y:M.y, z:M.z})\n",
    "            u_z_M = diff(u,z).subs({x:M.x, y:M.y, z:M.z})\n",
    "            u_l_M = u_x_M*cos_a + u_y_M*cos_b + u_z_M*cos_g\n",
    "\n",
    "            return u_l, u_l_M"
   ]
  },
  {
   "cell_type": "markdown",
   "id": "8cbaaf4b",
   "metadata": {
    "heading_collapsed": true
   },
   "source": [
    "## Функция tangent_plane()"
   ]
  },
  {
   "cell_type": "markdown",
   "id": "a95bbf40",
   "metadata": {
    "hidden": true
   },
   "source": [
    "Возвращает уравнение касательной плоскости (в виде общего уравнения плоскости) и уравнения нормали (в параметрическом виде) к поверхности, заданной в виде функции трех переменных."
   ]
  },
  {
   "cell_type": "code",
   "execution_count": 45,
   "id": "ce057b14",
   "metadata": {
    "ExecuteTime": {
     "end_time": "2023-05-13T22:10:46.264964Z",
     "start_time": "2023-05-13T22:10:46.225609Z"
    },
    "hidden": true
   },
   "outputs": [],
   "source": [
    "def tangent_plane(F,M):\n",
    "    ''' Находит уравнение касательной плоскости\n",
    "    и нормали к поверхности F(x,y,z) в точке M '''\n",
    "    \n",
    "    ''' Частные производные в точке М '''\n",
    "    F_diff_x = diff(F,x).subs({x:M.x, y:M.y, z:M.z})\n",
    "    F_diff_y = diff(F,y).subs({x:M.x, y:M.y, z:M.z})\n",
    "    F_diff_z = diff(F,z).subs({x:M.x, y:M.y, z:M.z})\n",
    "    \n",
    "    ''' Нормальный вектор плоскости '''\n",
    "    n = Point(F_diff_x, F_diff_y, F_diff_z)\n",
    "    \n",
    "    ''' Касательная плоскость проходит через точку M с нормальным вектором n '''\n",
    "    p = Plane(M, normal_vector=n).equation()\n",
    "    \n",
    "    ''' Нормаль проходит через точку M и точку K = M + n '''\n",
    "    K = Point(M.x+n.x, M.y+n.y, M.z+n.z)\n",
    "    l_n = Line(M, K).arbitrary_point()\n",
    "    return p, l_n"
   ]
  },
  {
   "cell_type": "markdown",
   "id": "e6ceeb10",
   "metadata": {},
   "source": [
    "## Функция critical_points()"
   ]
  },
  {
   "cell_type": "markdown",
   "id": "21d99d40",
   "metadata": {},
   "source": [
    "Возвращает:\\\n",
    "    1) критические точки заданной функции двух переменных;\\\n",
    "    2) выражения (символьные) для признаков $А$ и $\\Delta$\n",
    "    \n",
    "  ### $\\left( A = f_{xx}^{''}; \\Delta = f_{xx}^{''} \\cdot f_{yy}^{''} - \\left (f_{yy}^{''} \\right )^{2} \\right )$ ###"
   ]
  },
  {
   "cell_type": "code",
   "execution_count": null,
   "id": "a03c8c42",
   "metadata": {
    "ExecuteTime": {
     "start_time": "2023-05-16T20:18:04.476Z"
    }
   },
   "outputs": [],
   "source": [
    "def critical_points(z):\n",
    "    ''' Нахождение критических точек\n",
    "    функции двух переменных z\n",
    "    и величин А и Delta '''\n",
    "    ''' Производные 1-го порядка '''\n",
    "    z_x = diff(z,x)\n",
    "    z_y = diff(z,y)\n",
    "    \n",
    "    ''' Ищем критические точки,\n",
    "    приравнивая производные к нулю '''\n",
    "    cr_point = solve([z_x, z_y], [x, y], dict=True)\n",
    "    \n",
    "    ''' Производные 2-го порядка '''\n",
    "    A = diff(z,x,2)\n",
    "    B = diff(z,x,y)\n",
    "    C = diff(z,y,2)\n",
    "    \n",
    "    ''' Delta '''\n",
    "    D = A*C - B**2\n",
    "    \n",
    "    return cr_point, A, D"
   ]
  },
  {
   "cell_type": "markdown",
   "id": "bf35d351",
   "metadata": {},
   "source": [
    "## Функция suff_indic()"
   ]
  },
  {
   "cell_type": "markdown",
   "id": "25a4f89a",
   "metadata": {},
   "source": [
    "Используя имеющиеся символьные выражения для признаков $ A = f_{xx}^{''} $ и $\\Delta = f^{''}_{xx} \\cdot f^{''}_{yy} - \\left (f_{yy}^{''} \\right )^{2} $ , возвращает значения этих признаков в заданной критической точке.\n"
   ]
  },
  {
   "cell_type": "code",
   "execution_count": 47,
   "id": "4163e66a",
   "metadata": {
    "ExecuteTime": {
     "end_time": "2023-05-13T22:12:12.584758Z",
     "start_time": "2023-05-13T22:12:12.564756Z"
    }
   },
   "outputs": [],
   "source": [
    "def suff_indic(A, D, cr_point):\n",
    "    ''' А и D - функции двух переменных, cr_point - словарь '''\n",
    "    A0 = A.subs(cr_point)\n",
    "    D0 = D.subs(cr_point)\n",
    "    return D0, A0"
   ]
  },
  {
   "cell_type": "markdown",
   "id": "7e43aed5",
   "metadata": {
    "heading_collapsed": true
   },
   "source": [
    "## Функция ctitical_points_conditional()"
   ]
  },
  {
   "cell_type": "markdown",
   "id": "9adf2fed",
   "metadata": {
    "hidden": true
   },
   "source": [
    "Используется для поиска условного экстемума.\\\n",
    "Возвращает:\\\n",
    "1) критические точки функции Лагранжа\\\n",
    "$L\\left ( x, y \\right )=f\\left ( x,y \\right )+ \\lambda g\\left ( x,y \\right )$;\\\n",
    "2) выражение (символьное) для определителя\\\n",
    "$\\Delta =-\\begin{vmatrix} \n",
    "0 & g^{'}_{x} & g^{'}_{y} \\\\\n",
    "g^{'}_{x} & g^{''}_{xx} & g^{''}_{xy} \\\\\n",
    "g^{'}_{y} & g^{''}_{xy} & g^{''}_{yy} \\\\\n",
    "\\end{vmatrix}$"
   ]
  },
  {
   "cell_type": "code",
   "execution_count": null,
   "id": "d129b20e",
   "metadata": {
    "ExecuteTime": {
     "end_time": "2023-05-13T22:14:32.562485Z",
     "start_time": "2023-05-13T22:14:32.562361Z"
    },
    "hidden": true
   },
   "outputs": [],
   "source": [
    "def critical_points_conditional(f, g):\n",
    "    ''' Нахождение критических точек\n",
    "    функции Лагранжа L\n",
    "    и определителя Delta\n",
    "    f - целевая функция, g - условие '''\n",
    "    \n",
    "    ''' Функция Лагранжа '''\n",
    "    lam = symbols('lam')\n",
    "    L = f + lam*g\n",
    "    \n",
    "    ''' Производные 1-го порядка '''\n",
    "    gradL = [diff(L,c) for c in [x,y]]\n",
    "    \n",
    "    ''' Производная no lam совпадает eg '''\n",
    "    ''' Набор производных '''\n",
    "    eqs = gradL + [g]\n",
    "    \n",
    "    ''' Ищем критические точки, приравнивая производные к нулю '''\n",
    "    cr_point = solve(eqs, [x, y, lam], dict=True)\n",
    "    \n",
    "    ''' Производные функции g '''\n",
    "    g_x = diff(g,x)\n",
    "    g_y = diff(g,y)\n",
    "    \n",
    "    ''' Производные 2-го порядка '''\n",
    "    L_xx = diff(L,x,2)\n",
    "    L_xy = diff(L,x,y)\n",
    "    L_yy = diff(L,y,2)\n",
    "    \n",
    "    ''' Определитель D '''\n",
    "    M = Matrix([[0,g_x,g_y], [g_x,L_xx, L_xy], [g_y,L_xy,L_yy]])\n",
    "    D = -det(M)\n",
    "    \n",
    "    return cr_point, D"
   ]
  }
 ],
 "metadata": {
  "hide_input": false,
  "kernelspec": {
   "display_name": "Python 3 (ipykernel)",
   "language": "python",
   "name": "python3"
  },
  "language_info": {
   "codemirror_mode": {
    "name": "ipython",
    "version": 3
   },
   "file_extension": ".py",
   "mimetype": "text/x-python",
   "name": "python",
   "nbconvert_exporter": "python",
   "pygments_lexer": "ipython3",
   "version": "3.10.6"
  },
  "nbTranslate": {
   "displayLangs": [
    "*"
   ],
   "hotkey": "alt-t",
   "langInMainMenu": true,
   "sourceLang": "en",
   "targetLang": "fr",
   "useGoogleTranslate": true
  },
  "toc": {
   "base_numbering": 1,
   "nav_menu": {},
   "number_sections": true,
   "sideBar": true,
   "skip_h1_title": false,
   "title_cell": "Table of Contents",
   "title_sidebar": "Contents",
   "toc_cell": false,
   "toc_position": {},
   "toc_section_display": true,
   "toc_window_display": false
  },
  "varInspector": {
   "cols": {
    "lenName": 16,
    "lenType": 16,
    "lenVar": 40
   },
   "kernels_config": {
    "python": {
     "delete_cmd_postfix": "",
     "delete_cmd_prefix": "del ",
     "library": "var_list.py",
     "varRefreshCmd": "print(var_dic_list())"
    },
    "r": {
     "delete_cmd_postfix": ") ",
     "delete_cmd_prefix": "rm(",
     "library": "var_list.r",
     "varRefreshCmd": "cat(var_dic_list()) "
    }
   },
   "types_to_exclude": [
    "module",
    "function",
    "builtin_function_or_method",
    "instance",
    "_Feature"
   ],
   "window_display": false
  }
 },
 "nbformat": 4,
 "nbformat_minor": 5
}
