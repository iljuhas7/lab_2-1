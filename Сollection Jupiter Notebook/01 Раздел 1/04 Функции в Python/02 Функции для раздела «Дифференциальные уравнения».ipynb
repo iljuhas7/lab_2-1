{
 "cells": [
  {
   "cell_type": "markdown",
   "id": "718ca929",
   "metadata": {},
   "source": [
    "# Python функции для раздела «Дифференциальные уравнения»"
   ]
  },
  {
   "cell_type": "markdown",
   "id": "30fb3f59",
   "metadata": {
    "heading_collapsed": true
   },
   "source": [
    "## Функция Cauchy()"
   ]
  },
  {
   "cell_type": "markdown",
   "id": "36600c14",
   "metadata": {
    "hidden": true
   },
   "source": [
    "Находит значение произвольной постоянной в задаче Коши для дифференциального уравнения первого порядка"
   ]
  },
  {
   "cell_type": "code",
   "execution_count": null,
   "id": "26506375",
   "metadata": {
    "hidden": true
   },
   "outputs": [],
   "source": [
    "def Cauchy(des, x0, y0):\n",
    "    ''' des - решение дифференциального уравнения\n",
    "    в виде функции от х,\n",
    "    x0, y0 - начальные условия в виде: y(x0)=y0 '''\n",
    "    x,C1,x00 = symbols('x Cl x00')\n",
    "    \n",
    "    if x0==оо: # если начальное условие задано\n",
    "        # для х = оо\n",
    "        des0 = limit(des,x,oo)\n",
    "    else:\n",
    "        des0 = des.subs(x,x0)\n",
    "        \n",
    "    ''' Возвращает решение для константы Cl '''\n",
    "    return solve(des0-y0,Cl)"
   ]
  },
  {
   "cell_type": "markdown",
   "id": "43411f69",
   "metadata": {
    "heading_collapsed": true
   },
   "source": [
    "## Функция Cauchy_k()"
   ]
  },
  {
   "cell_type": "markdown",
   "id": "0bb5f3e4",
   "metadata": {
    "hidden": true
   },
   "source": [
    "Находит значения произвольных постоянных в задаче Коши для дифференциального уравнения /с-го порядка."
   ]
  },
  {
   "cell_type": "code",
   "execution_count": null,
   "id": "3191269f",
   "metadata": {
    "hidden": true
   },
   "outputs": [],
   "source": [
    "def Cauchy_k(des, Ci, x, x0, y0):\n",
    "    ''' des - решение дифференциального уравнения,\n",
    "    в виде функции от переменной х,\n",
    "    Ci - постоянные в записи решения д.у.\n",
    "    x0, y0 - начальные условия в виде:\n",
    "    y^(i)(x0)=y0[i] '''\n",
    "    k = len(y0)\n",
    "    \n",
    "    ''' В массиве des©: правые части выражений\n",
    "    для у(х), у'(х),...,у^(к-1)(х) '''\n",
    "    des0 = zeros(k)\n",
    "    des0[0] = des.subs(x, x0)\n",
    "    \n",
    "    for i in range(1, k):\n",
    "        des0[i] = diff(des, x4i).subs(x, x0)\n",
    "    \n",
    "    return solve([des0[i]-y0[i] for i in range(0, k)], \\\n",
    "            [Ci[i] for i in range(0, k)])"
   ]
  },
  {
   "cell_type": "markdown",
   "id": "385d38b6",
   "metadata": {
    "heading_collapsed": true
   },
   "source": [
    "## Функция Cauchy_s()"
   ]
  },
  {
   "cell_type": "markdown",
   "id": "4edc254a",
   "metadata": {
    "hidden": true
   },
   "source": [
    "Находит значения произвольных постоянных в задаче Коши для системы дифференциальных уравнений первого порядка."
   ]
  },
  {
   "cell_type": "code",
   "execution_count": 1,
   "id": "462953a7",
   "metadata": {
    "ExecuteTime": {
     "end_time": "2023-05-13T22:35:21.203019Z",
     "start_time": "2023-05-13T22:35:21.168358Z"
    },
    "hidden": true
   },
   "outputs": [],
   "source": [
    "def Cauchy_s(des,Ci,x,x0,y0):\n",
    "    ''' des - решение дифференциального уравнения,\n",
    "    в виде списка функций от переменной х,\n",
    "    Ci - постоянные в записи решения д.у.\n",
    "    х0,у0 - начальные условия в виде:\n",
    "    y_i(x0)=y0[i] ''' \n",
    "    k = len(y0)\n",
    "    \n",
    "    ''' В массиве eq: правые части выражений для y_i(x) '''\n",
    "    eq = zeros(k)\n",
    "    for i in range(0,k):\n",
    "        eq[i] = des[i].subs(x,x0)\n",
    "        \n",
    "    return solve([eq[i]-y0[i] for i in range(0,k)], \\\n",
    "            [Ci[i] for i in range(0,k)])\n"
   ]
  },
  {
   "cell_type": "markdown",
   "id": "2bb6e293",
   "metadata": {
    "heading_collapsed": true
   },
   "source": [
    "## Функция Lin_homogen_2()"
   ]
  },
  {
   "cell_type": "markdown",
   "id": "d276182b",
   "metadata": {
    "hidden": true
   },
   "source": [
    "Осуществляет поиск общего решения линейного дифференциального уравнения второго порядка по известному частному решению данного уравнения."
   ]
  },
  {
   "cell_type": "code",
   "execution_count": 5,
   "id": "d95bfaaf",
   "metadata": {
    "ExecuteTime": {
     "end_time": "2023-05-13T22:43:31.301608Z",
     "start_time": "2023-05-13T22:43:31.265126Z"
    },
    "hidden": true
   },
   "outputs": [],
   "source": [
    "def Lin_homogen_2(a,y1):\n",
    "    х = symbols('х')\n",
    "    u = Function('u')\n",
    "    z = Function('z')\n",
    "                 \n",
    "    \"\"\" Производная y1 \"\"\"\n",
    "    yld = diff(y1,x)\n",
    "    \n",
    "    ''' Решение уравнения для функции u(x) '''\n",
    "    eq = y1*diff(u(x),x)+(2*yld+a*y1)*u(x)\n",
    "    u0 = dsolve(eq,u(x))\n",
    "    \n",
    "    ''' Решение уравнения для функции z(x) '''\n",
    "    eq = diff(z(x),x)-u0.rhs\n",
    "    z0 = dsolve(eq,z(x))\n",
    "    \n",
    "    ''' Решение исходного уравнения '''\n",
    "    y = y1*z0.rhs\n",
    "    \n",
    "    return y.simplify()"
   ]
  },
  {
   "cell_type": "markdown",
   "id": "136264d1",
   "metadata": {
    "heading_collapsed": true
   },
   "source": [
    "## Функция Lin_inhomogen()"
   ]
  },
  {
   "cell_type": "markdown",
   "id": "1738837f",
   "metadata": {
    "hidden": true
   },
   "source": [
    "Осуществляет поиск частного решения линейного неоднородного дифференциального уравнения с постоянными коэффициентами методом вариации постоянных. Находит значения $C^{l}_{i}$ функций $C_{i}(x)$ ($C_{i}$ - произвольные постоянные общего решения однородного уравнения)."
   ]
  },
  {
   "cell_type": "code",
   "execution_count": 4,
   "id": "8ebd8f7a",
   "metadata": {
    "ExecuteTime": {
     "end_time": "2023-05-13T22:43:29.041251Z",
     "start_time": "2023-05-13T22:43:28.783056Z"
    },
    "hidden": true
   },
   "outputs": [],
   "source": [
    "def Lin_inhomogen(Y, yr, Cd):\n",
    "    ''' Y - массив функций фундаментальной\n",
    "    системы решений; уг - правая часть\n",
    "    неоднородного уравнения; Cd - массив\n",
    "    символов произвольных постоянных '''\n",
    "    x = symbols('х')\n",
    "    k = len(Y)\n",
    "    \n",
    "    ''' Двумерный массив производных y_iA(j) '''\n",
    "    Yd = zeros(k)\n",
    "    \n",
    "    \"\"\" Массив из левых частей уравнений системы, \n",
    "        для определения производных С(х) \"\"\"\n",
    "    eq = zeros(1,k)\n",
    "    \n",
    "    ''' Первое уравнение системы '''\n",
    "    for j in range(0,k):\n",
    "        eq[0] = eq[0] + Cd[j]*Y[j]\n",
    "    \n",
    "    ''' Формирование уравнений с 2-го по к-е '''\n",
    "    for i in range(1,k):\n",
    "        for j in range(1,k):\n",
    "            Yd[i,j] = diff(Y[j],x,i)\n",
    "            eq[i] = eq[i] + Cd[j]*Yd[i,j]\n",
    "\n",
    "    ''' Массив правых частей уравнений (все нули, кроме последнего - уг) '''\n",
    "    Yr = zeros(1,k)\n",
    "    Yr[k-1] = yr\n",
    "    res = solve([eq[i]-Yr[i] for i in range(0,k)],\\\n",
    "            [Cd[i] for i in range(0,k)])\n",
    "    \n",
    "    return res"
   ]
  }
 ],
 "metadata": {
  "hide_input": false,
  "kernelspec": {
   "display_name": "Python 3 (ipykernel)",
   "language": "python",
   "name": "python3"
  },
  "language_info": {
   "codemirror_mode": {
    "name": "ipython",
    "version": 3
   },
   "file_extension": ".py",
   "mimetype": "text/x-python",
   "name": "python",
   "nbconvert_exporter": "python",
   "pygments_lexer": "ipython3",
   "version": "3.10.6"
  },
  "nbTranslate": {
   "displayLangs": [
    "*"
   ],
   "hotkey": "alt-t",
   "langInMainMenu": true,
   "sourceLang": "en",
   "targetLang": "fr",
   "useGoogleTranslate": true
  },
  "toc": {
   "base_numbering": 1,
   "nav_menu": {},
   "number_sections": true,
   "sideBar": true,
   "skip_h1_title": false,
   "title_cell": "Table of Contents",
   "title_sidebar": "Contents",
   "toc_cell": false,
   "toc_position": {},
   "toc_section_display": true,
   "toc_window_display": false
  },
  "varInspector": {
   "cols": {
    "lenName": 16,
    "lenType": 16,
    "lenVar": 40
   },
   "kernels_config": {
    "python": {
     "delete_cmd_postfix": "",
     "delete_cmd_prefix": "del ",
     "library": "var_list.py",
     "varRefreshCmd": "print(var_dic_list())"
    },
    "r": {
     "delete_cmd_postfix": ") ",
     "delete_cmd_prefix": "rm(",
     "library": "var_list.r",
     "varRefreshCmd": "cat(var_dic_list()) "
    }
   },
   "types_to_exclude": [
    "module",
    "function",
    "builtin_function_or_method",
    "instance",
    "_Feature"
   ],
   "window_display": false
  }
 },
 "nbformat": 4,
 "nbformat_minor": 5
}
