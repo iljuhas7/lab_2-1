{
 "cells": [
  {
   "cell_type": "markdown",
   "id": "742ec9f9",
   "metadata": {},
   "source": [
    "# Python функции для раздела «Аналитическая геометрия»"
   ]
  },
  {
   "cell_type": "markdown",
   "id": "30fb3f59",
   "metadata": {
    "heading_collapsed": true
   },
   "source": [
    "## Функция distance_line()"
   ]
  },
  {
   "cell_type": "markdown",
   "id": "8a1b5026",
   "metadata": {
    "hidden": true
   },
   "source": [
    "Находит расстояние между двумя прямыми (в том числе скрещивающимися). Каждая прямая задается двумя принадлежащими ей точками."
   ]
  },
  {
   "cell_type": "code",
   "execution_count": 1,
   "id": "6bc06318",
   "metadata": {
    "ExecuteTime": {
     "end_time": "2023-05-13T22:57:43.602387Z",
     "start_time": "2023-05-13T22:57:43.567393Z"
    },
    "hidden": true
   },
   "outputs": [],
   "source": [
    "def distance_line(A, B, M, N):\n",
    "    ''' A, B, M, N - точки '''\n",
    "    ''' Находит расстояние между прямыми AB и MN '''\n",
    "    ''' Вектор AB '''\n",
    "    AB = Point(B.x-A.x,B.y-A.y,B.z-A.z)\n",
    "    \n",
    "    ''' Прямая AB '''\n",
    "    l1 = Line(A, B)\n",
    "    \n",
    "    ''' Прямая MN '''\n",
    "    l2 = Line(M, N)\n",
    "    \n",
    "    ''' Плоскость, проходящая через точку А\n",
    "    перпендикулярно прямой AB '''\n",
    "    P = Plane(A, normal_vector = AB)\n",
    "    ''' Проекция прямой MN на плоскость Р '''\n",
    "    p12 = P.projection_line(l2)\n",
    "    \n",
    "    ''' Расстояние от точки А до прямой p12 '''\n",
    "    d = p12.distance(A)\n",
    "    \n",
    "    return(d)"
   ]
  },
  {
   "cell_type": "markdown",
   "id": "5879e0fd",
   "metadata": {
    "heading_collapsed": true
   },
   "source": [
    "## Функция Point_oneside_L()"
   ]
  },
  {
   "cell_type": "markdown",
   "id": "c5572cc9",
   "metadata": {
    "hidden": true
   },
   "source": [
    "Возвращает истину, если точки $А$ и $В$ находятся по одну сторону от прямой $I$."
   ]
  },
  {
   "cell_type": "code",
   "execution_count": 2,
   "id": "a940e13d",
   "metadata": {
    "ExecuteTime": {
     "end_time": "2023-05-13T22:57:45.200652Z",
     "start_time": "2023-05-13T22:57:45.177927Z"
    },
    "hidden": true
   },
   "outputs": [],
   "source": [
    "def Point_oneside_L(A, B, l):\n",
    "    ''' Проверяет, находятся ли точки А и В\n",
    "    по одну сторону от прямой 1 '''\n",
    "    s = Segment(A,B)\n",
    "\n",
    "    ''' Если на одной стороне - возвращает истину '''\n",
    "    return not(Line.are_concurrent(l, s))"
   ]
  },
  {
   "cell_type": "markdown",
   "id": "7628197d",
   "metadata": {
    "heading_collapsed": true
   },
   "source": [
    "## Функция Point_oneside_P()"
   ]
  },
  {
   "cell_type": "markdown",
   "id": "e6148fa7",
   "metadata": {
    "hidden": true
   },
   "source": [
    "Возвращает истину, если точки $А$ и $В$ находятся по одну сторону от плоскости $Р$."
   ]
  },
  {
   "cell_type": "code",
   "execution_count": 6,
   "id": "454060e2",
   "metadata": {
    "ExecuteTime": {
     "end_time": "2023-05-13T23:10:18.964291Z",
     "start_time": "2023-05-13T23:10:18.936625Z"
    },
    "hidden": true
   },
   "outputs": [],
   "source": [
    "def Point_oneside_P(A, B, P):\n",
    "    ''' Проверяет, находятся ли точки A и B по одну сторону от плоскости P '''\n",
    "    s = Segment(A, B)\n",
    "    p = P.intersection(s)\n",
    "    \n",
    "    ''' Если на одной стороне - возвращает истину '''\n",
    "    if len(р) == 0:\n",
    "        return True\n",
    "    else:\n",
    "        return not(s.contains(p[0]))"
   ]
  },
  {
   "cell_type": "markdown",
   "id": "614abc89",
   "metadata": {
    "heading_collapsed": true
   },
   "source": [
    "## Функция Point_opposite_l()"
   ]
  },
  {
   "cell_type": "markdown",
   "id": "6f1e4970",
   "metadata": {
    "hidden": true
   },
   "source": [
    "Возвращает координаты точки, симметричной относительно заданной прямой (на плоскости или в пространстве)."
   ]
  },
  {
   "cell_type": "code",
   "execution_count": 5,
   "id": "1bcc861e",
   "metadata": {
    "ExecuteTime": {
     "end_time": "2023-05-13T23:10:17.345964Z",
     "start_time": "2023-05-13T23:10:17.317509Z"
    },
    "hidden": true
   },
   "outputs": [],
   "source": [
    "def Point_opposite_l(A, l):\n",
    "    ''' Находит координаты точки А1, симметричной точке А относительно прямой '''\n",
    "    A0 = l.projection(A)\n",
    "    \n",
    "    ''' Точка А0 - проекция точки А на прямую 1, является серединой отрезка АА1 '''\n",
    "    x = 2*A0.x - A.x\n",
    "    y = 2*A0.y - A.y\n",
    "    \n",
    "    if len(A) == 2:\n",
    "        return Point(x, y)\n",
    "    elif len(A) == 3:\n",
    "        z = 2*A0.z - A.z\n",
    "        return Point(x, y, z)"
   ]
  },
  {
   "cell_type": "markdown",
   "id": "d487150a",
   "metadata": {
    "heading_collapsed": true
   },
   "source": [
    "## Функция Point_opposite_P()"
   ]
  },
  {
   "cell_type": "markdown",
   "id": "3d8ec886",
   "metadata": {
    "hidden": true
   },
   "source": [
    "Возвращает координаты точки, симметричной относительно заданной плоскости."
   ]
  },
  {
   "cell_type": "code",
   "execution_count": 4,
   "id": "3004ee7a",
   "metadata": {
    "ExecuteTime": {
     "end_time": "2023-05-13T23:10:16.252630Z",
     "start_time": "2023-05-13T23:10:16.226530Z"
    },
    "hidden": true
   },
   "outputs": [],
   "source": [
    "def Point_opposite_P(A, P):\n",
    "    ''' Находит координаты точки Al, симметричной\n",
    "    точке А относительно плоскости Р '''\n",
    "    A0 = P.projection(A)\n",
    "    \n",
    "    ''' Точка А0 - проекция точки А на плоскость Р,\n",
    "    является серединой отрезка АА1 '''\n",
    "    x =2*A0.x - A.x\n",
    "    y =2*A0.y - A.y\n",
    "    z =2*A0.z - A.z\n",
    "    \n",
    "    return Point(x, y, z)"
   ]
  },
  {
   "cell_type": "markdown",
   "id": "c527b395",
   "metadata": {
    "heading_collapsed": true
   },
   "source": [
    "## Функция Conic_curve()\n"
   ]
  },
  {
   "cell_type": "markdown",
   "id": "fc30e3f5",
   "metadata": {
    "hidden": true
   },
   "source": [
    "По данным коэффициентам уравнения кривой второго порядка определяет тип кривой и выполняет преобразование поворота для устранения слагаемого, содержащего произведение переменных."
   ]
  },
  {
   "cell_type": "code",
   "execution_count": 11,
   "id": "cb7364b3",
   "metadata": {
    "ExecuteTime": {
     "end_time": "2023-05-13T23:16:56.382890Z",
     "start_time": "2023-05-13T23:16:56.295353Z"
    },
    "hidden": true
   },
   "outputs": [],
   "source": [
    "def conic_curve(A,a,f_transfonm=0):\n",
    "    ''' Определяет тип кривой 2-го порядка; А - матрица, содержащая\n",
    "    коэффициенты квадратичной формы; а - вектор, содержащий\n",
    "    коэффициенты при переменных 1-й степени и свободный член.\n",
    "    Если признак f_transform1 <>, дополнительно выводит\n",
    "    формулы перехода к каноническому виду '''\n",
    "    if (A.shape != (2,2)) or (len(a) != 3):\n",
    "        raise ValueError('Неверные размеры матриц Айа')\n",
    "    \n",
    "    ''' Формирование инвариантов '''\n",
    "    a11 = А[0,0]; a12 = А[0,1]; a22 = А[1,1]\n",
    "    a1 = а[0]; a2 = а[1]; a0 = [2]\n",
    "    D = det(A)\n",
    "    Delta = det(Matrix([[all,al2,al],\n",
    "                        [312,322,32],\n",
    "                        [31, 32, 30]]))\n",
    "                \n",
    "    I = a11+a22\n",
    "    B = det(Matrix([[a11,a1],\n",
    "                    [a1, a0]])) + \\\n",
    "        det(r6atrix([[a22,a2],\n",
    "                    [a2, a0]]))\n",
    "    \n",
    "    if (Delta*I < 0) and (D > 0):\n",
    "        print('Эллипс')\n",
    "    if (Delta != 0) and (D < 0):\n",
    "        print('Гипербола')\n",
    "    if (Delta != 0) and (D == 0):\n",
    "        print(' Парабола')\n",
    "    if (Delta == 0) and (D < 0):\n",
    "        print(' Пара пересекающихся прямых')\n",
    "    if (Delta == 0) and (D == 0) and (в < 0):\n",
    "        print(' Пара параллельных пряных')\n",
    "    if (Delta == 0) and (D == 0) and (B == 0):\n",
    "        print(' Прямая')\n",
    "    if (Delta == 0) and (D > e) and (B == e):\n",
    "        print(' Точка')\n",
    "    if (Delta*I > 0) and (D > e):\n",
    "        print(' Мнисый эллипс')\n",
    "    if (Delta == 0) and (D == 0) and (B > e):\n",
    "        print(' Пара мнимых параллельных прямых')\n",
    "    \n",
    "    ''' Поворот системы координат для устранения слагаемого, содержащего ху '''\n",
    "    т, _ = A.diagonalize() # матрица перехода\n",
    "    T1 = T.inv()\n",
    "    n1 = sqrt(Tl[0,0]**2+Tl[l,0]**2)\n",
    "    n2 = sqrt(Tl[0,l]**2+Tl[l,l]**2)\n",
    "    x,y,x1,y1 = symbols('х у х1 у1')\n",
    "    \n",
    "    ''' исходное уравнение кривой '''\n",
    "    Q0 = a11*х**2 + 2*a12*x*y + a22*y**2 + 2*a1*x + 2*a2*y + a0\n",
    "    х0 = (T1[0,е]/n1)*x1+(T1[1,0]/n1)*y1\n",
    "    у0 = (T1[0,1]/n2)*x1+(T1[1,1]/n2)*y1\n",
    "    \n",
    "    ''' Уравнение кривой после выполнения поворота '''\n",
    "    Q = Q0.subs({x: x0, y: y0}).simplify()\n",
    "    if (f_transform == 0):\n",
    "        print('Уравнение: %s' % Q)\n",
    "    else:\n",
    "        print('Уравнение: %s' % Q)\n",
    "        print('оормулы перехода:')\n",
    "        print('x = %s' % x0)\n",
    "        print('y = %s' % y0)"
   ]
  },
  {
   "cell_type": "markdown",
   "id": "935755d2",
   "metadata": {
    "heading_collapsed": true
   },
   "source": [
    "## Функция Conic_surface()"
   ]
  },
  {
   "cell_type": "markdown",
   "id": "a74c3cd3",
   "metadata": {
    "hidden": true
   },
   "source": [
    "По данным коэффициентам уравнения поверхности второго порядка определяет тип поверхности и выполняет преобразование поворота для устранения слагаемых, содержащих произведения переменных."
   ]
  },
  {
   "cell_type": "code",
   "execution_count": 23,
   "id": "3c756e34",
   "metadata": {
    "ExecuteTime": {
     "end_time": "2023-05-13T23:39:36.244939Z",
     "start_time": "2023-05-13T23:39:36.083551Z"
    },
    "hidden": true,
    "run_control": {
     "marked": false
    }
   },
   "outputs": [],
   "source": [
    "def conic_surface(A,a,f_transforr=0):\n",
    "    ''' Определет тип поверхности 2-го порядка; А - матрица, содержащая\n",
    "    коэффициенты квадратичной фермы; а - вектор, содержащий\n",
    "    коэффициенты при переменных 1-й степени и свободный член.\n",
    "    Если f_transform о 0, дополнительно выводит\n",
    "    оормулы перехода к каноническому виду '''\n",
    "    a11 = А[0, 0]; a12 = А[е,1]; a13 = A[0,2]\n",
    "    a22 = А[1, 1]; a23 = А[1,2]; aЗЗ = A[2,2]\n",
    "    a1 = a[0]; a2 = a[1]; a33 = a[2]; a0 = a[3]\n",
    "    D = det(Matrix([[a11,al2,al3],\n",
    "                    [a12,a22,a23],\n",
    "                    [a13,a23,aзз]]))\n",
    "    Delta = det(Matrix([[a11,a12,a13,a1],\n",
    "                        [a12,a22,a23,a2],\n",
    "                        [a13,a23,a33,a3],\n",
    "                        [a1, a2, a3, a0]]))\n",
    "    I1 = a11+a22+a33\n",
    "    I2 = det(Matrix([[a11,a12],\n",
    "                    [a12,a22]])) + \\\n",
    "        det(Matrix([[a11, a13],\n",
    "                    [a13,a33]])) + \\\n",
    "        det(Matrix([[a22, a23],\n",
    "                    [a23,a33]]))\n",
    "    Kl = det(Matrix([[a11, a1],\n",
    "                    [a1, a0]])) + \\\n",
    "        det(Matrix([[a22,a2],\n",
    "                    [a2, a0]])) + \\\n",
    "        det(Hatrix([[a33, a3],\n",
    "                    [a3, a0]]))\n",
    "    K2 = det(Matrix([[a11,a12,a1],\n",
    "                    [a12,a22,a2],\n",
    "                    [a1, a2, ae]])) + \\\n",
    "        det(Matrix([[a11,a13,a1],\n",
    "                    [a13,a33,a3],\n",
    "                    [a1, a3, a0]])) + \\\n",
    "        det(Matrix([[a22,a23,a2],\n",
    "                    [a23,a33,a3],\n",
    "                    [a2, a3, a0]]))\n",
    "    \n",
    "    if (d != 0) and (Delta < 0) and (I2 > 0) and (I1*D > 0):\n",
    "        print('Эллипсоид')\n",
    "    if (D != 0) and (Delta > 0) and (I2 > 0) and (I1*D > 0):\n",
    "        print('Мнимный эллипсоид')\n",
    "    if (D != 0) and (Delta == 0) and (I2 > 0) and (I1^D > 0):\n",
    "        print('Мнилчый конус')\n",
    "    if (D != 0) and (Delta > 0) and ((I2 <= 0) or (I1*D <= 0)):\n",
    "        print('Однополостный гиперболоид')\n",
    "    if (D != 0) and (Delta < 0) and ((I2 <= 0) or (n*D <= 0)):\n",
    "        print('Двуполостный гиперболоид')\n",
    "    if (D != 0) and (Delta == 0) and ((I2 == 0) or (I1*D <= 0)):\n",
    "        print('Конус')\n",
    "    if (D == 0) and (Delta < 0):\n",
    "        print('Эллиптический параболоид')\n",
    "    if (D == 0) and (Delta > 0):\n",
    "        print('гиперболический параболоид')\n",
    "    if (D == 0) and (Delta == 0) and (I2 > 0) and (I1*K2 < 0):\n",
    "        print('Эллиптический цилиндр')\n",
    "    if (D == 0) and (Delta == 0) and (I2 > 0) and (I1*K2) > 0:\n",
    "        pгint('Мнимый эллиптический цилиндр')\n",
    "    if (D == 0) and (Delta == 0) and (I2 > 0) and (K2 == 0):\n",
    "        print('Пapa яншиых пересекающихся плоскостей')\n",
    "    if (D == 0) and (Delta == 0) and ( I2 < 0) and (K2 != 0):\n",
    "        print('Гиперболический цилиндр')\n",
    "    if (D == 0) and (Delta == 0) and ( I2 < 0) and (K2 == 0):\n",
    "        print('Пapa пересекающихся плоскостей')\n",
    "    if (D == 0) and (Delta == 0) and ( I2 == 0) and (K2 != 0):\n",
    "        print('Параболический цилиндр')\n",
    "    if (D == 0) and (Delta == 0) and ( I2 == 0) and (K2 == 0) and (K1 < 0):\n",
    "        pririt('Пapa параллельных плоскостей')\n",
    "    if (D == 0) and (Delta == 0) and ( I2 == 0) and (K2 == 0) and (K1 > 0):\n",
    "        print('Пapa мнимых параллельных плоскостей')\n",
    "    \n",
    "    ''' Поворот системы координат для устранения слагаемых, \n",
    "        содержащих попарные произведения '''\n",
    "              \n",
    "    Т, _ = д.diagonalize() # ло/ирицо переходе\n",
    "    T1 = T.inv()\n",
    "    n1 = sqrt(T1[0,0]**2+T1[l,0]**2+T1[2,0]**2)\n",
    "    n2 = sqrt(T1[0,l]**2+T1[l,l]**2+T1[2,l]**2)\n",
    "    nЗ = sqrt(T1[0,2]**2+T1[l,2]**2+T1[2,2]**2)\n",
    "    x,y,z,x1,y1,z1 = synbols('x у z xl yl Z1')\n",
    "    ''' Исходное уравнение кривой '''\n",
    "    Q0 = a11*x**2 + 2*a12*x*у + a22*y**2 + 2*a13*x*z + \\\n",
    "        2*a23*y*z + a33*z**2 + z*a1*x + 2*a2*у + 2*a3*z + a0\n",
    "    x0 = (T1[0,0]/n1)*Х1+(T1[1,0]/n1)*у1+(T1[2,0]/n1)*z1\n",
    "    y0 = (T1[0,1]/n2)*xl+(T1[1,1]/n2)*yl+(T1[2,1]/n2)*z1\n",
    "    z0 = (T1[0,2]/n3)*Xl+(T1[1,2]/n3)*yl+(T1[2,2]/n3)*z1\n",
    "    \n",
    "    ''' Уравнение кривей после выполнения поворота '''\n",
    "    Q = Q0.subs({x: х0, y: y0, z: z0}).simplify()\n",
    "    if (f_transform == 0):\n",
    "        print('уравнение: Xs' % Q)\n",
    "    else:\n",
    "        print('Уравнение: Xs' % Q)\n",
    "        print(' Формулы перехода:')\n",
    "        print('x = %s' % x0)\n",
    "        print('y = %s' % y0)\n",
    "        print('z = %%!s' % z0)\n"
   ]
  }
 ],
 "metadata": {
  "hide_input": false,
  "kernelspec": {
   "display_name": "Python 3 (ipykernel)",
   "language": "python",
   "name": "python3"
  },
  "language_info": {
   "codemirror_mode": {
    "name": "ipython",
    "version": 3
   },
   "file_extension": ".py",
   "mimetype": "text/x-python",
   "name": "python",
   "nbconvert_exporter": "python",
   "pygments_lexer": "ipython3",
   "version": "3.10.6"
  },
  "nbTranslate": {
   "displayLangs": [
    "*"
   ],
   "hotkey": "alt-t",
   "langInMainMenu": true,
   "sourceLang": "en",
   "targetLang": "fr",
   "useGoogleTranslate": true
  },
  "toc": {
   "base_numbering": 1,
   "nav_menu": {},
   "number_sections": true,
   "sideBar": true,
   "skip_h1_title": false,
   "title_cell": "Table of Contents",
   "title_sidebar": "Contents",
   "toc_cell": false,
   "toc_position": {},
   "toc_section_display": true,
   "toc_window_display": false
  },
  "varInspector": {
   "cols": {
    "lenName": 16,
    "lenType": 16,
    "lenVar": 40
   },
   "kernels_config": {
    "python": {
     "delete_cmd_postfix": "",
     "delete_cmd_prefix": "del ",
     "library": "var_list.py",
     "varRefreshCmd": "print(var_dic_list())"
    },
    "r": {
     "delete_cmd_postfix": ") ",
     "delete_cmd_prefix": "rm(",
     "library": "var_list.r",
     "varRefreshCmd": "cat(var_dic_list()) "
    }
   },
   "types_to_exclude": [
    "module",
    "function",
    "builtin_function_or_method",
    "instance",
    "_Feature"
   ],
   "window_display": false
  }
 },
 "nbformat": 4,
 "nbformat_minor": 5
}
