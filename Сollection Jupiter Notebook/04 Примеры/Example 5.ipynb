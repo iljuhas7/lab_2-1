{
 "cells": [
  {
   "cell_type": "markdown",
   "metadata": {},
   "source": [
    "# Пример 5"
   ]
  },
  {
   "cell_type": "code",
   "execution_count": 2,
   "metadata": {},
   "outputs": [
    {
     "name": "stdout",
     "output_type": "stream",
     "text": [
      "4\n",
      "5\n",
      "45\n"
     ]
    }
   ],
   "source": [
    "# Для того чтобы ввести данные с клавиатуры в программу используют\n",
    "# функцию input. Считаем два числа и сохраним их в переменные а и Ь,\n",
    "# пользуясь оператором присваивания =. Затем найдем сумму этих чисел.\n",
    "\n",
    "а = input()\n",
    "b = input()\n",
    "\n",
    "s = а + b\n",
    "\n",
    "print(s)"
   ]
  },
  {
   "cell_type": "code",
   "execution_count": 3,
   "metadata": {},
   "outputs": [
    {
     "name": "stdout",
     "output_type": "stream",
     "text": [
      "4\n",
      "5\n",
      "9\n"
     ]
    }
   ],
   "source": [
    "# Для того чтобы посчитать сумму чисел 4 и 5\n",
    "# нужно использовать функцию преобразования\n",
    "# типов int, которая «делает» из строки число\n",
    "\n",
    "а = int(input())\n",
    "b = int(input())\n",
    "\n",
    "s = а + b\n",
    "\n",
    "print(s)"
   ]
  }
 ],
 "metadata": {
  "kernelspec": {
   "display_name": "Python 3 (ipykernel)",
   "language": "python",
   "name": "python3"
  },
  "language_info": {
   "codemirror_mode": {
    "name": "ipython",
    "version": 3
   },
   "file_extension": ".py",
   "mimetype": "text/x-python",
   "name": "python",
   "nbconvert_exporter": "python",
   "pygments_lexer": "ipython3",
   "version": "3.10.6"
  }
 },
 "nbformat": 4,
 "nbformat_minor": 4
}
