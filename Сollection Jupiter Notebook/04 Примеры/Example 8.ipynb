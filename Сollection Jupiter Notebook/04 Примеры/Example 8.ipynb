{
 "cells": [
  {
   "cell_type": "markdown",
   "id": "3f6b53f2",
   "metadata": {},
   "source": [
    "# Пример 8"
   ]
  },
  {
   "cell_type": "code",
   "execution_count": 5,
   "id": "772847eb",
   "metadata": {},
   "outputs": [],
   "source": [
    "import cmath as cm # библиотека: cmath как cm "
   ]
  },
  {
   "cell_type": "code",
   "execution_count": 99,
   "id": "ac18ec80",
   "metadata": {},
   "outputs": [],
   "source": [
    "x = 12.6 # x\n",
    "y = 8.97 # y\n",
    "n = 2 # степень\n",
    "lbase = 2 #  "
   ]
  },
  {
   "cell_type": "code",
   "execution_count": 43,
   "id": "8c68f717",
   "metadata": {},
   "outputs": [
    {
     "data": {
      "text/plain": [
       "<function float.conjugate()>"
      ]
     },
     "execution_count": 43,
     "metadata": {},
     "output_type": "execute_result"
    }
   ],
   "source": [
    "x.conjugate # комплексно сопряженное"
   ]
  },
  {
   "cell_type": "code",
   "execution_count": 44,
   "id": "9425fe90",
   "metadata": {},
   "outputs": [
    {
     "data": {
      "text/plain": [
       "0.0"
      ]
     },
     "execution_count": 44,
     "metadata": {},
     "output_type": "execute_result"
    }
   ],
   "source": [
    "x.imag # мнимая часть числа"
   ]
  },
  {
   "cell_type": "code",
   "execution_count": 45,
   "id": "f375d04f",
   "metadata": {},
   "outputs": [
    {
     "data": {
      "text/plain": [
       "12.6"
      ]
     },
     "execution_count": 45,
     "metadata": {},
     "output_type": "execute_result"
    }
   ],
   "source": [
    "x = 12.6 # x\n",
    "x.real # действительная часть."
   ]
  },
  {
   "cell_type": "code",
   "execution_count": 66,
   "id": "c5763f94",
   "metadata": {},
   "outputs": [
    {
     "data": {
      "text/plain": [
       "158.76"
      ]
     },
     "execution_count": 66,
     "metadata": {},
     "output_type": "execute_result"
    }
   ],
   "source": [
    "pow(x,n) # возведение в степень."
   ]
  },
  {
   "cell_type": "code",
   "execution_count": 67,
   "id": "e5bfdcc6",
   "metadata": {},
   "outputs": [
    {
     "data": {
      "text/plain": [
       "12.6"
      ]
     },
     "execution_count": 67,
     "metadata": {},
     "output_type": "execute_result"
    }
   ],
   "source": [
    "abs(x) # модуль комплексного числа."
   ]
  },
  {
   "cell_type": "code",
   "execution_count": 96,
   "id": "71a41aa6",
   "metadata": {},
   "outputs": [
    {
     "data": {
      "text/plain": [
       "0.0"
      ]
     },
     "execution_count": 96,
     "metadata": {},
     "output_type": "execute_result"
    }
   ],
   "source": [
    "cm.phase(x) # возвращает фазу комплексного числа (её ещё называют аргументом). \n",
    "# cm.atan2(x.imag, x.real) # Результат лежит в промежутке [-л, л]."
   ]
  },
  {
   "cell_type": "code",
   "execution_count": 69,
   "id": "e1936c28",
   "metadata": {},
   "outputs": [
    {
     "data": {
      "text/plain": [
       "(12.6, 0.0)"
      ]
     },
     "execution_count": 69,
     "metadata": {},
     "output_type": "execute_result"
    }
   ],
   "source": [
    "cm.polar(x) # преобразование к полярным координатам. Возвращает пару (г,(р)."
   ]
  },
  {
   "cell_type": "code",
   "execution_count": 102,
   "id": "78ac22dc",
   "metadata": {},
   "outputs": [
    {
     "data": {
      "text/plain": [
       "(1.0791812460476247+0j)"
      ]
     },
     "execution_count": 102,
     "metadata": {},
     "output_type": "execute_result"
    }
   ],
   "source": [
    "cm.log10(12) # десятичный логарифм."
   ]
  },
  {
   "cell_type": "code",
   "execution_count": 76,
   "id": "7a2edc8e",
   "metadata": {},
   "outputs": [
    {
     "data": {
      "text/plain": [
       "(3.5496478698597698+0j)"
      ]
     },
     "execution_count": 76,
     "metadata": {},
     "output_type": "execute_result"
    }
   ],
   "source": [
    "cm.sqrt(x) # квадратный корень из х."
   ]
  },
  {
   "cell_type": "code",
   "execution_count": 77,
   "id": "18940020",
   "metadata": {},
   "outputs": [
    {
     "data": {
      "text/plain": [
       "-3.2252655579529126j"
      ]
     },
     "execution_count": 77,
     "metadata": {},
     "output_type": "execute_result"
    }
   ],
   "source": [
    "cm.acos(x) # арккосинус х."
   ]
  },
  {
   "cell_type": "code",
   "execution_count": 78,
   "id": "76012676",
   "metadata": {},
   "outputs": [
    {
     "data": {
      "text/plain": [
       "(1.5707963267948966+3.2252655579529126j)"
      ]
     },
     "execution_count": 78,
     "metadata": {},
     "output_type": "execute_result"
    }
   ],
   "source": [
    "cm.asin(x) # арксинус х."
   ]
  },
  {
   "cell_type": "code",
   "execution_count": 94,
   "id": "6fed42de",
   "metadata": {},
   "outputs": [
    {
     "data": {
      "text/plain": [
       "(1.4915972558254451+0j)"
      ]
     },
     "execution_count": 94,
     "metadata": {},
     "output_type": "execute_result"
    }
   ],
   "source": [
    "cm.atan(x) # арктангенс х."
   ]
  },
  {
   "cell_type": "code",
   "execution_count": 80,
   "id": "56903083",
   "metadata": {},
   "outputs": [
    {
     "data": {
      "text/plain": [
       "(0.9994345855010047-0j)"
      ]
     },
     "execution_count": 80,
     "metadata": {},
     "output_type": "execute_result"
    }
   ],
   "source": [
    "cm.cos(x) # косинус х."
   ]
  },
  {
   "cell_type": "code",
   "execution_count": 81,
   "id": "34ecf01e",
   "metadata": {},
   "outputs": [
    {
     "data": {
      "text/plain": [
       "(0.033623047221136695+0j)"
      ]
     },
     "execution_count": 81,
     "metadata": {},
     "output_type": "execute_result"
    }
   ],
   "source": [
    "cm.sin(x) # синус x."
   ]
  },
  {
   "cell_type": "code",
   "execution_count": 82,
   "id": "8fb62b38",
   "metadata": {},
   "outputs": [
    {
     "data": {
      "text/plain": [
       "(0.03364206893468857+0j)"
      ]
     },
     "execution_count": 82,
     "metadata": {},
     "output_type": "execute_result"
    }
   ],
   "source": [
    "cm.tan(x) # тангенс x."
   ]
  },
  {
   "cell_type": "code",
   "execution_count": 83,
   "id": "a0544cea",
   "metadata": {},
   "outputs": [
    {
     "data": {
      "text/plain": [
       "(3.2252655579529126+0j)"
      ]
     },
     "execution_count": 83,
     "metadata": {},
     "output_type": "execute_result"
    }
   ],
   "source": [
    "cm.acosh(x) # гиперболический арккосинус x."
   ]
  },
  {
   "cell_type": "code",
   "execution_count": 84,
   "id": "936e6c6f",
   "metadata": {},
   "outputs": [
    {
     "data": {
      "text/plain": [
       "(3.228414991896591+0j)"
      ]
     },
     "execution_count": 84,
     "metadata": {},
     "output_type": "execute_result"
    }
   ],
   "source": [
    "cm.asinh(x) # гиперболический арксинус x."
   ]
  },
  {
   "cell_type": "code",
   "execution_count": 85,
   "id": "26038acb",
   "metadata": {},
   "outputs": [
    {
     "data": {
      "text/plain": [
       "(0.07953234731484368+1.5707963267948966j)"
      ]
     },
     "execution_count": 85,
     "metadata": {},
     "output_type": "execute_result"
    }
   ],
   "source": [
    "cm.atanh(x) # гиперболический арктангенс x."
   ]
  },
  {
   "cell_type": "code",
   "execution_count": 86,
   "id": "44142aa3",
   "metadata": {},
   "outputs": [
    {
     "data": {
      "text/plain": [
       "(148279.2826507874+0j)"
      ]
     },
     "execution_count": 86,
     "metadata": {},
     "output_type": "execute_result"
    }
   ],
   "source": [
    "cm.cosh(x) # гиперболический косинус x."
   ]
  },
  {
   "cell_type": "code",
   "execution_count": 87,
   "id": "fb9ae79f",
   "metadata": {},
   "outputs": [
    {
     "data": {
      "text/plain": [
       "(148279.28264741538+0j)"
      ]
     },
     "execution_count": 87,
     "metadata": {},
     "output_type": "execute_result"
    }
   ],
   "source": [
    "cm.sinh(x) # гиперболический синус x."
   ]
  },
  {
   "cell_type": "code",
   "execution_count": 88,
   "id": "8b4af8ad",
   "metadata": {},
   "outputs": [
    {
     "data": {
      "text/plain": [
       "(0.9999999999772591+0j)"
      ]
     },
     "execution_count": 88,
     "metadata": {},
     "output_type": "execute_result"
    }
   ],
   "source": [
    "cm.tanh(x) # гиперболический тангенс x."
   ]
  },
  {
   "cell_type": "code",
   "execution_count": 89,
   "id": "00f6856e",
   "metadata": {},
   "outputs": [
    {
     "data": {
      "text/plain": [
       "True"
      ]
     },
     "execution_count": 89,
     "metadata": {},
     "output_type": "execute_result"
    }
   ],
   "source": [
    "cm.isfinite(x) # True, если действительная и мнимая части конечны."
   ]
  },
  {
   "cell_type": "code",
   "execution_count": 90,
   "id": "1dd98532",
   "metadata": {},
   "outputs": [
    {
     "data": {
      "text/plain": [
       "False"
      ]
     },
     "execution_count": 90,
     "metadata": {},
     "output_type": "execute_result"
    }
   ],
   "source": [
    "cm.isinf(x) # True, если либо действительная, либо мнимая часть бесконечна."
   ]
  },
  {
   "cell_type": "code",
   "execution_count": 91,
   "id": "16a04c28",
   "metadata": {},
   "outputs": [
    {
     "data": {
      "text/plain": [
       "False"
      ]
     },
     "execution_count": 91,
     "metadata": {},
     "output_type": "execute_result"
    }
   ],
   "source": [
    "cm.isnan(x) # True, если либо действительная, либо мнимая часть NaN."
   ]
  },
  {
   "cell_type": "code",
   "execution_count": 92,
   "id": "ea6c668a",
   "metadata": {},
   "outputs": [
    {
     "data": {
      "text/plain": [
       "3.141592653589793"
      ]
     },
     "execution_count": 92,
     "metadata": {},
     "output_type": "execute_result"
    }
   ],
   "source": [
    "cm.pi # Пи."
   ]
  },
  {
   "cell_type": "code",
   "execution_count": 93,
   "id": "cdea3fa1",
   "metadata": {},
   "outputs": [
    {
     "data": {
      "text/plain": [
       "2.718281828459045"
      ]
     },
     "execution_count": 93,
     "metadata": {},
     "output_type": "execute_result"
    }
   ],
   "source": [
    "cm.e # e."
   ]
  }
 ],
 "metadata": {
  "kernelspec": {
   "display_name": "Python 3 (ipykernel)",
   "language": "python",
   "name": "python3"
  },
  "language_info": {
   "codemirror_mode": {
    "name": "ipython",
    "version": 3
   },
   "file_extension": ".py",
   "mimetype": "text/x-python",
   "name": "python",
   "nbconvert_exporter": "python",
   "pygments_lexer": "ipython3",
   "version": "3.10.6"
  }
 },
 "nbformat": 4,
 "nbformat_minor": 5
}
