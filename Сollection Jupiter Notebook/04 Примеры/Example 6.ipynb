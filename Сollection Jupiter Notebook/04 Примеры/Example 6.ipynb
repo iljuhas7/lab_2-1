{
 "cells": [
  {
   "cell_type": "markdown",
   "metadata": {},
   "source": [
    "# Пример 6"
   ]
  },
  {
   "cell_type": "code",
   "execution_count": 5,
   "metadata": {},
   "outputs": [
    {
     "name": "stdout",
     "output_type": "stream",
     "text": [
      "5\n",
      "-7\n",
      "Четвертая четверть\n"
     ]
    }
   ],
   "source": [
    "х = int(input())\n",
    "у = int(input())\n",
    "\n",
    "if х > 0 and у > 0:\n",
    "    print(\"Первая четверть\")\n",
    "    \n",
    "elif х > 0 and у < 0:\n",
    "    print(\"Четвертая четверть\")\n",
    "          \n",
    "elif у > 0:\n",
    "    print(\"Вторая четверть\")\n",
    "          \n",
    "else:\n",
    "    print(\"TpeTbB четверть\")\n"
   ]
  },
  {
   "cell_type": "code",
   "execution_count": 7,
   "metadata": {},
   "outputs": [
    {
     "name": "stdout",
     "output_type": "stream",
     "text": [
      "8\n",
      "16 75\n",
      "9\n",
      "7.6\n",
      "11\n",
      "2\n"
     ]
    }
   ],
   "source": [
    "print(3 + 5)\n",
    "print(2 * 8, (16 - 1) * 5)\n",
    "print(3 ** 2) # ** -- означают возведение в степень\n",
    "print(38 /5) # /- это деление с ответом-дробью\n",
    "print(33 // 3) # // считает частное от деления нацело\n",
    "print(47 % 5) # процент считает остаток от деления нацело"
   ]
  },
  {
   "cell_type": "code",
   "execution_count": 8,
   "metadata": {},
   "outputs": [
    {
     "name": "stdout",
     "output_type": "stream",
     "text": [
      "0\n",
      "1\n",
      "2\n",
      "3\n",
      "4\n"
     ]
    }
   ],
   "source": [
    "for i in range(5):\n",
    "    print(i)"
   ]
  }
 ],
 "metadata": {
  "kernelspec": {
   "display_name": "Python 3 (ipykernel)",
   "language": "python",
   "name": "python3"
  },
  "language_info": {
   "codemirror_mode": {
    "name": "ipython",
    "version": 3
   },
   "file_extension": ".py",
   "mimetype": "text/x-python",
   "name": "python",
   "nbconvert_exporter": "python",
   "pygments_lexer": "ipython3",
   "version": "3.10.6"
  }
 },
 "nbformat": 4,
 "nbformat_minor": 4
}
