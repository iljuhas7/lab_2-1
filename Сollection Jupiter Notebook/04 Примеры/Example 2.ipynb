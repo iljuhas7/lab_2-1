{
 "cells": [
  {
   "cell_type": "markdown",
   "metadata": {},
   "source": [
    "# Пример 2"
   ]
  },
  {
   "cell_type": "code",
   "execution_count": 6,
   "metadata": {},
   "outputs": [
    {
     "name": "stdout",
     "output_type": "stream",
     "text": [
      "5 больше чем 2\n"
     ]
    }
   ],
   "source": [
    "# if- условный оператор\n",
    "if 5 > 2:\n",
    "    print(\"5 больше чем 2\")\n",
    "\n",
    "# Else - последовательность действий которая выполняется если условие в блоке ifложно\n",
    "else:\n",
    "    print(\"5 меньше чем 2\")"
   ]
  },
  {
   "cell_type": "code",
   "execution_count": 22,
   "metadata": {},
   "outputs": [
    {
     "name": "stdout",
     "output_type": "stream",
     "text": [
      "while(5): 0; 1; 2; 3; 4; \n",
      "for(5): 0; 1; 2; 3; 4; "
     ]
    }
   ],
   "source": [
    "# while, for - операторы цикла\n",
    "print(\"while(5): \", end=\"\")\n",
    "x = 0\n",
    "while x < 5:\n",
    "    print(str(x), end=\"; \")\n",
    "    x = x + 1\n",
    "\n",
    "x = 5\n",
    "print(\"\\nfor(5): \", end=\"\")\n",
    "for x in range(0, 5):\n",
    "    print(str(x), end=\"; \")\n",
    "    x = x - 1"
   ]
  },
  {
   "cell_type": "code",
   "execution_count": 23,
   "metadata": {},
   "outputs": [],
   "source": [
    "# def- оператор определения функции\n",
    "def math_add(x, y):\n",
    "    # return - возврат функции\n",
    "    return x + y\n",
    "\n",
    "# pass - оператор ничего не делает. Используется для пустых блоков кода\n",
    "def fun_null():\n",
    "    pass"
   ]
  }
 ],
 "metadata": {
  "kernelspec": {
   "display_name": "Python 3 (ipykernel)",
   "language": "python",
   "name": "python3"
  },
  "language_info": {
   "codemirror_mode": {
    "name": "ipython",
    "version": 3
   },
   "file_extension": ".py",
   "mimetype": "text/x-python",
   "name": "python",
   "nbconvert_exporter": "python",
   "pygments_lexer": "ipython3",
   "version": "3.10.6"
  }
 },
 "nbformat": 4,
 "nbformat_minor": 4
}
